{
 "cells": [
  {
   "cell_type": "markdown",
   "metadata": {},
   "source": [
    "# Example notebook continuous calibration"
   ]
  },
  {
   "cell_type": "markdown",
   "metadata": {},
   "source": [
    "In this notebook, the use of the CP classes for continuous calibration are demonstrated. As example dataset, the ChEMBL dataset used in the manuscript for endpoint \"CHEMBL228\" is loaded. You can also exchange it with your own data."
   ]
  },
  {
   "cell_type": "markdown",
   "metadata": {},
   "source": [
    "### Import packages and modules"
   ]
  },
  {
   "cell_type": "code",
   "execution_count": 1,
   "metadata": {},
   "outputs": [],
   "source": [
    "import pandas as pd\n",
    "import numpy as np\n",
    "import sys\n",
    "import tarfile"
   ]
  },
  {
   "cell_type": "code",
   "execution_count": 2,
   "metadata": {},
   "outputs": [],
   "source": [
    "from sklearn.ensemble import RandomForestClassifier\n",
    "from sklearn.neighbors import KNeighborsRegressor"
   ]
  },
  {
   "cell_type": "code",
   "execution_count": 3,
   "metadata": {},
   "outputs": [],
   "source": [
    "from nonconformist.nc import InverseProbabilityErrFunc, NcFactory"
   ]
  },
  {
   "cell_type": "code",
   "execution_count": 4,
   "metadata": {},
   "outputs": [],
   "source": [
    "from continuous_calibration import (\n",
    "StratifiedRatioSampler, BalancedStratifiedRatioSampler, CrossValidationSampler, InductiveConformalPredictor, \n",
    "    ContinuousCalibrationAggregatedConformalPredictor, CrossValidator\n",
    ")\n",
    "from continuous_calibration_helper_functions import draw_scatter_plot_one_endpoint, create_umap_data, plot_umap"
   ]
  },
  {
   "cell_type": "markdown",
   "metadata": {},
   "source": [
    "### Define paths and parameters"
   ]
  },
  {
   "cell_type": "code",
   "execution_count": 5,
   "metadata": {},
   "outputs": [],
   "source": [
    "data_path = \"../data/chembl_chembio_descriptors.tar.bz2\"\n",
    "data_path = \"../data/CHEMBL228_chembio_normalizedDesc.csv.tar.bz2\"\n",
    "time_split_threshold_path = \"../data/data_size_chembio_chembl.csv\""
   ]
  },
  {
   "cell_type": "code",
   "execution_count": 6,
   "metadata": {},
   "outputs": [],
   "source": [
    "# Choose an endpoint. Note that due to the size of the datasets, \n",
    "# only one dataset for ChEMBL228 endpoint is available from GitHub.\n",
    "# Data for other ChEMBL endpoints can be downloaded from Zenodo.\n",
    "endpoint = \"CHEMBL228\""
   ]
  },
  {
   "cell_type": "code",
   "execution_count": 7,
   "metadata": {},
   "outputs": [],
   "source": [
    "# Define parameters for machine learning and conformal prediction\n",
    "ntrees = 50  # 500\n",
    "n_folds_acp = 3  # 20\n",
    "ratio_sampler = StratifiedRatioSampler(n_folds=n_folds_acp)"
   ]
  },
  {
   "cell_type": "code",
   "execution_count": 8,
   "metadata": {},
   "outputs": [],
   "source": [
    "# Define UMAP parameters\n",
    "descriptors = \"chembio\"\n",
    "n_neighbors = 100\n",
    "min_distances = 0.8\n",
    "distance_metric = \"euclidean\"\n",
    "umap_colours = [\"navy\", \"magenta\", \"orangered\", \"green\"]"
   ]
  },
  {
   "cell_type": "markdown",
   "metadata": {},
   "source": [
    "### Load data"
   ]
  },
  {
   "cell_type": "markdown",
   "metadata": {},
   "source": [
    "Due to the size of the datasets containing the chembio descriptors, only one dataset was uploaded to GitHub, i.e. compressed and for CHEMBL228 endpoint. "
   ]
  },
  {
   "cell_type": "code",
   "execution_count": 9,
   "metadata": {},
   "outputs": [
    {
     "data": {
      "text/html": [
       "<div>\n",
       "<style scoped>\n",
       "    .dataframe tbody tr th:only-of-type {\n",
       "        vertical-align: middle;\n",
       "    }\n",
       "\n",
       "    .dataframe tbody tr th {\n",
       "        vertical-align: top;\n",
       "    }\n",
       "\n",
       "    .dataframe thead th {\n",
       "        text-align: right;\n",
       "    }\n",
       "</style>\n",
       "<table border=\"1\" class=\"dataframe\">\n",
       "  <thead>\n",
       "    <tr style=\"text-align: right;\">\n",
       "      <th></th>\n",
       "      <th>CHEMBL228_bioactivity</th>\n",
       "      <th>molecule_chembl_id</th>\n",
       "      <th>year</th>\n",
       "      <th>Strongest ACIDIC pKa 1</th>\n",
       "      <th>Strongest ACIDIC pKa 2</th>\n",
       "      <th>Strongest BASIC pKa 1</th>\n",
       "      <th>Strongest BASIC pKa 2</th>\n",
       "      <th>SlogP</th>\n",
       "      <th>SMR</th>\n",
       "      <th>LabuteASA</th>\n",
       "      <th>...</th>\n",
       "      <th>p0-ToxCast_TOX21_p53_BLA_p5_ratio_InVitro</th>\n",
       "      <th>p1-ToxCast_TOX21_p53_BLA_p5_ratio_InVitro</th>\n",
       "      <th>p0-ToxCast_UPITT_HCI_U2OS_AR_TIF2_Nucleoli_Agonist_InVitro</th>\n",
       "      <th>p1-ToxCast_UPITT_HCI_U2OS_AR_TIF2_Nucleoli_Agonist_InVitro</th>\n",
       "      <th>p0-ToxCast_UPITT_HCI_U2OS_AR_TIF2_Nucleoli_Antagonist_InVitro</th>\n",
       "      <th>p1-ToxCast_UPITT_HCI_U2OS_AR_TIF2_Nucleoli_Antagonist_InVitro</th>\n",
       "      <th>p0-ToxCast_UPITT_HCI_U2OS_AR_TIF2_Nucleoli_Cytoplasm_Ratio_Antagonist_InVitro</th>\n",
       "      <th>p1-ToxCast_UPITT_HCI_U2OS_AR_TIF2_Nucleoli_Cytoplasm_Ratio_Antagonist_InVitro</th>\n",
       "      <th>p0-ToxCast_NCCT_HEK293T_CellTiterGLO_InVitro</th>\n",
       "      <th>p1-ToxCast_NCCT_HEK293T_CellTiterGLO_InVitro</th>\n",
       "    </tr>\n",
       "    <tr>\n",
       "      <th>CHEMBL228_chembio_normalizedDesc.csv</th>\n",
       "      <th></th>\n",
       "      <th></th>\n",
       "      <th></th>\n",
       "      <th></th>\n",
       "      <th></th>\n",
       "      <th></th>\n",
       "      <th></th>\n",
       "      <th></th>\n",
       "      <th></th>\n",
       "      <th></th>\n",
       "      <th></th>\n",
       "      <th></th>\n",
       "      <th></th>\n",
       "      <th></th>\n",
       "      <th></th>\n",
       "      <th></th>\n",
       "      <th></th>\n",
       "      <th></th>\n",
       "      <th></th>\n",
       "      <th></th>\n",
       "      <th></th>\n",
       "    </tr>\n",
       "  </thead>\n",
       "  <tbody>\n",
       "    <tr>\n",
       "      <th>Brc1cc(O[C@H]2C[C@@H]3CC[C@H](C2)N3)cc(-c2ccccc2)c1</th>\n",
       "      <td>0.0</td>\n",
       "      <td>CHEMBL1644601</td>\n",
       "      <td>2011.0</td>\n",
       "      <td>-2.809112e-15</td>\n",
       "      <td>5.939682e-15</td>\n",
       "      <td>1.302647</td>\n",
       "      <td>-3.673721e-16</td>\n",
       "      <td>0.559000</td>\n",
       "      <td>-0.269953</td>\n",
       "      <td>-0.311607</td>\n",
       "      <td>...</td>\n",
       "      <td>-0.271379</td>\n",
       "      <td>-0.124748</td>\n",
       "      <td>-0.817191</td>\n",
       "      <td>0.782127</td>\n",
       "      <td>-0.588356</td>\n",
       "      <td>0.537403</td>\n",
       "      <td>-0.234571</td>\n",
       "      <td>0.169539</td>\n",
       "      <td>-0.779707</td>\n",
       "      <td>0.794822</td>\n",
       "    </tr>\n",
       "    <tr>\n",
       "      <th>Brc1ccc(N2CCN(CCCCOc3ccc4ccccc4c3)CC2)cc1</th>\n",
       "      <td>0.0</td>\n",
       "      <td>CHEMBL4294090</td>\n",
       "      <td>2018.0</td>\n",
       "      <td>-2.809112e-15</td>\n",
       "      <td>5.939682e-15</td>\n",
       "      <td>-0.469983</td>\n",
       "      <td>-1.712712e+00</td>\n",
       "      <td>1.195275</td>\n",
       "      <td>0.840088</td>\n",
       "      <td>0.625818</td>\n",
       "      <td>...</td>\n",
       "      <td>-0.748681</td>\n",
       "      <td>0.594661</td>\n",
       "      <td>0.508205</td>\n",
       "      <td>-0.604907</td>\n",
       "      <td>-0.131702</td>\n",
       "      <td>-0.073389</td>\n",
       "      <td>-0.288971</td>\n",
       "      <td>0.227672</td>\n",
       "      <td>-0.884506</td>\n",
       "      <td>1.350940</td>\n",
       "    </tr>\n",
       "    <tr>\n",
       "      <th>Brc1ccc(N2CCN(CCCN3CCC(Cc4ccccc4)CC3)CC2)cc1</th>\n",
       "      <td>0.0</td>\n",
       "      <td>CHEMBL3775012</td>\n",
       "      <td>2016.0</td>\n",
       "      <td>-2.809112e-15</td>\n",
       "      <td>5.939682e-15</td>\n",
       "      <td>0.383832</td>\n",
       "      <td>2.511407e+00</td>\n",
       "      <td>0.667995</td>\n",
       "      <td>1.046026</td>\n",
       "      <td>0.854395</td>\n",
       "      <td>...</td>\n",
       "      <td>-0.505029</td>\n",
       "      <td>0.078336</td>\n",
       "      <td>-0.605172</td>\n",
       "      <td>0.579285</td>\n",
       "      <td>-0.321704</td>\n",
       "      <td>0.146703</td>\n",
       "      <td>-1.160155</td>\n",
       "      <td>1.278064</td>\n",
       "      <td>-0.884357</td>\n",
       "      <td>1.210984</td>\n",
       "    </tr>\n",
       "    <tr>\n",
       "      <th>Brc1ccc(N2CCN(CCCOc3ccc4ccccc4c3)CC2)cc1</th>\n",
       "      <td>1.0</td>\n",
       "      <td>CHEMBL4283496</td>\n",
       "      <td>2018.0</td>\n",
       "      <td>-2.809112e-15</td>\n",
       "      <td>5.939682e-15</td>\n",
       "      <td>-0.790863</td>\n",
       "      <td>-1.698674e+00</td>\n",
       "      <td>0.887168</td>\n",
       "      <td>0.658979</td>\n",
       "      <td>0.460180</td>\n",
       "      <td>...</td>\n",
       "      <td>-0.540919</td>\n",
       "      <td>0.204206</td>\n",
       "      <td>0.713899</td>\n",
       "      <td>-0.785441</td>\n",
       "      <td>-0.086008</td>\n",
       "      <td>-0.127980</td>\n",
       "      <td>-0.187862</td>\n",
       "      <td>0.127924</td>\n",
       "      <td>-0.907245</td>\n",
       "      <td>1.275077</td>\n",
       "    </tr>\n",
       "    <tr>\n",
       "      <th>Brc1ccc(N2CCN(CCN3CCC(Cc4ccccc4)CC3)CC2)cc1</th>\n",
       "      <td>0.0</td>\n",
       "      <td>CHEMBL3775085</td>\n",
       "      <td>2016.0</td>\n",
       "      <td>-2.809112e-15</td>\n",
       "      <td>5.939682e-15</td>\n",
       "      <td>0.102462</td>\n",
       "      <td>1.316044e+00</td>\n",
       "      <td>0.359888</td>\n",
       "      <td>0.864918</td>\n",
       "      <td>0.688757</td>\n",
       "      <td>...</td>\n",
       "      <td>-0.228433</td>\n",
       "      <td>-0.201849</td>\n",
       "      <td>-0.564613</td>\n",
       "      <td>0.373680</td>\n",
       "      <td>-0.233987</td>\n",
       "      <td>-0.000591</td>\n",
       "      <td>-1.045112</td>\n",
       "      <td>1.088714</td>\n",
       "      <td>-0.886296</td>\n",
       "      <td>1.230637</td>\n",
       "    </tr>\n",
       "  </tbody>\n",
       "</table>\n",
       "<p>5 rows × 2347 columns</p>\n",
       "</div>"
      ],
      "text/plain": [
       "                                                    CHEMBL228_bioactivity  \\\n",
       "CHEMBL228_chembio_normalizedDesc.csv                                        \n",
       "Brc1cc(O[C@H]2C[C@@H]3CC[C@H](C2)N3)cc(-c2ccccc...                    0.0   \n",
       "Brc1ccc(N2CCN(CCCCOc3ccc4ccccc4c3)CC2)cc1                             0.0   \n",
       "Brc1ccc(N2CCN(CCCN3CCC(Cc4ccccc4)CC3)CC2)cc1                          0.0   \n",
       "Brc1ccc(N2CCN(CCCOc3ccc4ccccc4c3)CC2)cc1                              1.0   \n",
       "Brc1ccc(N2CCN(CCN3CCC(Cc4ccccc4)CC3)CC2)cc1                           0.0   \n",
       "\n",
       "                                                   molecule_chembl_id    year  \\\n",
       "CHEMBL228_chembio_normalizedDesc.csv                                            \n",
       "Brc1cc(O[C@H]2C[C@@H]3CC[C@H](C2)N3)cc(-c2ccccc...      CHEMBL1644601  2011.0   \n",
       "Brc1ccc(N2CCN(CCCCOc3ccc4ccccc4c3)CC2)cc1               CHEMBL4294090  2018.0   \n",
       "Brc1ccc(N2CCN(CCCN3CCC(Cc4ccccc4)CC3)CC2)cc1            CHEMBL3775012  2016.0   \n",
       "Brc1ccc(N2CCN(CCCOc3ccc4ccccc4c3)CC2)cc1                CHEMBL4283496  2018.0   \n",
       "Brc1ccc(N2CCN(CCN3CCC(Cc4ccccc4)CC3)CC2)cc1             CHEMBL3775085  2016.0   \n",
       "\n",
       "                                                    Strongest ACIDIC pKa 1  \\\n",
       "CHEMBL228_chembio_normalizedDesc.csv                                         \n",
       "Brc1cc(O[C@H]2C[C@@H]3CC[C@H](C2)N3)cc(-c2ccccc...           -2.809112e-15   \n",
       "Brc1ccc(N2CCN(CCCCOc3ccc4ccccc4c3)CC2)cc1                    -2.809112e-15   \n",
       "Brc1ccc(N2CCN(CCCN3CCC(Cc4ccccc4)CC3)CC2)cc1                 -2.809112e-15   \n",
       "Brc1ccc(N2CCN(CCCOc3ccc4ccccc4c3)CC2)cc1                     -2.809112e-15   \n",
       "Brc1ccc(N2CCN(CCN3CCC(Cc4ccccc4)CC3)CC2)cc1                  -2.809112e-15   \n",
       "\n",
       "                                                    Strongest ACIDIC pKa 2  \\\n",
       "CHEMBL228_chembio_normalizedDesc.csv                                         \n",
       "Brc1cc(O[C@H]2C[C@@H]3CC[C@H](C2)N3)cc(-c2ccccc...            5.939682e-15   \n",
       "Brc1ccc(N2CCN(CCCCOc3ccc4ccccc4c3)CC2)cc1                     5.939682e-15   \n",
       "Brc1ccc(N2CCN(CCCN3CCC(Cc4ccccc4)CC3)CC2)cc1                  5.939682e-15   \n",
       "Brc1ccc(N2CCN(CCCOc3ccc4ccccc4c3)CC2)cc1                      5.939682e-15   \n",
       "Brc1ccc(N2CCN(CCN3CCC(Cc4ccccc4)CC3)CC2)cc1                   5.939682e-15   \n",
       "\n",
       "                                                    Strongest BASIC pKa 1  \\\n",
       "CHEMBL228_chembio_normalizedDesc.csv                                        \n",
       "Brc1cc(O[C@H]2C[C@@H]3CC[C@H](C2)N3)cc(-c2ccccc...               1.302647   \n",
       "Brc1ccc(N2CCN(CCCCOc3ccc4ccccc4c3)CC2)cc1                       -0.469983   \n",
       "Brc1ccc(N2CCN(CCCN3CCC(Cc4ccccc4)CC3)CC2)cc1                     0.383832   \n",
       "Brc1ccc(N2CCN(CCCOc3ccc4ccccc4c3)CC2)cc1                        -0.790863   \n",
       "Brc1ccc(N2CCN(CCN3CCC(Cc4ccccc4)CC3)CC2)cc1                      0.102462   \n",
       "\n",
       "                                                    Strongest BASIC pKa 2  \\\n",
       "CHEMBL228_chembio_normalizedDesc.csv                                        \n",
       "Brc1cc(O[C@H]2C[C@@H]3CC[C@H](C2)N3)cc(-c2ccccc...          -3.673721e-16   \n",
       "Brc1ccc(N2CCN(CCCCOc3ccc4ccccc4c3)CC2)cc1                   -1.712712e+00   \n",
       "Brc1ccc(N2CCN(CCCN3CCC(Cc4ccccc4)CC3)CC2)cc1                 2.511407e+00   \n",
       "Brc1ccc(N2CCN(CCCOc3ccc4ccccc4c3)CC2)cc1                    -1.698674e+00   \n",
       "Brc1ccc(N2CCN(CCN3CCC(Cc4ccccc4)CC3)CC2)cc1                  1.316044e+00   \n",
       "\n",
       "                                                       SlogP       SMR  \\\n",
       "CHEMBL228_chembio_normalizedDesc.csv                                     \n",
       "Brc1cc(O[C@H]2C[C@@H]3CC[C@H](C2)N3)cc(-c2ccccc...  0.559000 -0.269953   \n",
       "Brc1ccc(N2CCN(CCCCOc3ccc4ccccc4c3)CC2)cc1           1.195275  0.840088   \n",
       "Brc1ccc(N2CCN(CCCN3CCC(Cc4ccccc4)CC3)CC2)cc1        0.667995  1.046026   \n",
       "Brc1ccc(N2CCN(CCCOc3ccc4ccccc4c3)CC2)cc1            0.887168  0.658979   \n",
       "Brc1ccc(N2CCN(CCN3CCC(Cc4ccccc4)CC3)CC2)cc1         0.359888  0.864918   \n",
       "\n",
       "                                                    LabuteASA  ...  \\\n",
       "CHEMBL228_chembio_normalizedDesc.csv                           ...   \n",
       "Brc1cc(O[C@H]2C[C@@H]3CC[C@H](C2)N3)cc(-c2ccccc...  -0.311607  ...   \n",
       "Brc1ccc(N2CCN(CCCCOc3ccc4ccccc4c3)CC2)cc1            0.625818  ...   \n",
       "Brc1ccc(N2CCN(CCCN3CCC(Cc4ccccc4)CC3)CC2)cc1         0.854395  ...   \n",
       "Brc1ccc(N2CCN(CCCOc3ccc4ccccc4c3)CC2)cc1             0.460180  ...   \n",
       "Brc1ccc(N2CCN(CCN3CCC(Cc4ccccc4)CC3)CC2)cc1          0.688757  ...   \n",
       "\n",
       "                                                    p0-ToxCast_TOX21_p53_BLA_p5_ratio_InVitro  \\\n",
       "CHEMBL228_chembio_normalizedDesc.csv                                                            \n",
       "Brc1cc(O[C@H]2C[C@@H]3CC[C@H](C2)N3)cc(-c2ccccc...                                  -0.271379   \n",
       "Brc1ccc(N2CCN(CCCCOc3ccc4ccccc4c3)CC2)cc1                                           -0.748681   \n",
       "Brc1ccc(N2CCN(CCCN3CCC(Cc4ccccc4)CC3)CC2)cc1                                        -0.505029   \n",
       "Brc1ccc(N2CCN(CCCOc3ccc4ccccc4c3)CC2)cc1                                            -0.540919   \n",
       "Brc1ccc(N2CCN(CCN3CCC(Cc4ccccc4)CC3)CC2)cc1                                         -0.228433   \n",
       "\n",
       "                                                    p1-ToxCast_TOX21_p53_BLA_p5_ratio_InVitro  \\\n",
       "CHEMBL228_chembio_normalizedDesc.csv                                                            \n",
       "Brc1cc(O[C@H]2C[C@@H]3CC[C@H](C2)N3)cc(-c2ccccc...                                  -0.124748   \n",
       "Brc1ccc(N2CCN(CCCCOc3ccc4ccccc4c3)CC2)cc1                                            0.594661   \n",
       "Brc1ccc(N2CCN(CCCN3CCC(Cc4ccccc4)CC3)CC2)cc1                                         0.078336   \n",
       "Brc1ccc(N2CCN(CCCOc3ccc4ccccc4c3)CC2)cc1                                             0.204206   \n",
       "Brc1ccc(N2CCN(CCN3CCC(Cc4ccccc4)CC3)CC2)cc1                                         -0.201849   \n",
       "\n",
       "                                                    p0-ToxCast_UPITT_HCI_U2OS_AR_TIF2_Nucleoli_Agonist_InVitro  \\\n",
       "CHEMBL228_chembio_normalizedDesc.csv                                                                             \n",
       "Brc1cc(O[C@H]2C[C@@H]3CC[C@H](C2)N3)cc(-c2ccccc...                                          -0.817191            \n",
       "Brc1ccc(N2CCN(CCCCOc3ccc4ccccc4c3)CC2)cc1                                                    0.508205            \n",
       "Brc1ccc(N2CCN(CCCN3CCC(Cc4ccccc4)CC3)CC2)cc1                                                -0.605172            \n",
       "Brc1ccc(N2CCN(CCCOc3ccc4ccccc4c3)CC2)cc1                                                     0.713899            \n",
       "Brc1ccc(N2CCN(CCN3CCC(Cc4ccccc4)CC3)CC2)cc1                                                 -0.564613            \n",
       "\n",
       "                                                    p1-ToxCast_UPITT_HCI_U2OS_AR_TIF2_Nucleoli_Agonist_InVitro  \\\n",
       "CHEMBL228_chembio_normalizedDesc.csv                                                                             \n",
       "Brc1cc(O[C@H]2C[C@@H]3CC[C@H](C2)N3)cc(-c2ccccc...                                           0.782127            \n",
       "Brc1ccc(N2CCN(CCCCOc3ccc4ccccc4c3)CC2)cc1                                                   -0.604907            \n",
       "Brc1ccc(N2CCN(CCCN3CCC(Cc4ccccc4)CC3)CC2)cc1                                                 0.579285            \n",
       "Brc1ccc(N2CCN(CCCOc3ccc4ccccc4c3)CC2)cc1                                                    -0.785441            \n",
       "Brc1ccc(N2CCN(CCN3CCC(Cc4ccccc4)CC3)CC2)cc1                                                  0.373680            \n",
       "\n",
       "                                                    p0-ToxCast_UPITT_HCI_U2OS_AR_TIF2_Nucleoli_Antagonist_InVitro  \\\n",
       "CHEMBL228_chembio_normalizedDesc.csv                                                                                \n",
       "Brc1cc(O[C@H]2C[C@@H]3CC[C@H](C2)N3)cc(-c2ccccc...                                          -0.588356               \n",
       "Brc1ccc(N2CCN(CCCCOc3ccc4ccccc4c3)CC2)cc1                                                   -0.131702               \n",
       "Brc1ccc(N2CCN(CCCN3CCC(Cc4ccccc4)CC3)CC2)cc1                                                -0.321704               \n",
       "Brc1ccc(N2CCN(CCCOc3ccc4ccccc4c3)CC2)cc1                                                    -0.086008               \n",
       "Brc1ccc(N2CCN(CCN3CCC(Cc4ccccc4)CC3)CC2)cc1                                                 -0.233987               \n",
       "\n",
       "                                                    p1-ToxCast_UPITT_HCI_U2OS_AR_TIF2_Nucleoli_Antagonist_InVitro  \\\n",
       "CHEMBL228_chembio_normalizedDesc.csv                                                                                \n",
       "Brc1cc(O[C@H]2C[C@@H]3CC[C@H](C2)N3)cc(-c2ccccc...                                           0.537403               \n",
       "Brc1ccc(N2CCN(CCCCOc3ccc4ccccc4c3)CC2)cc1                                                   -0.073389               \n",
       "Brc1ccc(N2CCN(CCCN3CCC(Cc4ccccc4)CC3)CC2)cc1                                                 0.146703               \n",
       "Brc1ccc(N2CCN(CCCOc3ccc4ccccc4c3)CC2)cc1                                                    -0.127980               \n",
       "Brc1ccc(N2CCN(CCN3CCC(Cc4ccccc4)CC3)CC2)cc1                                                 -0.000591               \n",
       "\n",
       "                                                    p0-ToxCast_UPITT_HCI_U2OS_AR_TIF2_Nucleoli_Cytoplasm_Ratio_Antagonist_InVitro  \\\n",
       "CHEMBL228_chembio_normalizedDesc.csv                                                                                                \n",
       "Brc1cc(O[C@H]2C[C@@H]3CC[C@H](C2)N3)cc(-c2ccccc...                                          -0.234571                               \n",
       "Brc1ccc(N2CCN(CCCCOc3ccc4ccccc4c3)CC2)cc1                                                   -0.288971                               \n",
       "Brc1ccc(N2CCN(CCCN3CCC(Cc4ccccc4)CC3)CC2)cc1                                                -1.160155                               \n",
       "Brc1ccc(N2CCN(CCCOc3ccc4ccccc4c3)CC2)cc1                                                    -0.187862                               \n",
       "Brc1ccc(N2CCN(CCN3CCC(Cc4ccccc4)CC3)CC2)cc1                                                 -1.045112                               \n",
       "\n",
       "                                                    p1-ToxCast_UPITT_HCI_U2OS_AR_TIF2_Nucleoli_Cytoplasm_Ratio_Antagonist_InVitro  \\\n",
       "CHEMBL228_chembio_normalizedDesc.csv                                                                                                \n",
       "Brc1cc(O[C@H]2C[C@@H]3CC[C@H](C2)N3)cc(-c2ccccc...                                           0.169539                               \n",
       "Brc1ccc(N2CCN(CCCCOc3ccc4ccccc4c3)CC2)cc1                                                    0.227672                               \n",
       "Brc1ccc(N2CCN(CCCN3CCC(Cc4ccccc4)CC3)CC2)cc1                                                 1.278064                               \n",
       "Brc1ccc(N2CCN(CCCOc3ccc4ccccc4c3)CC2)cc1                                                     0.127924                               \n",
       "Brc1ccc(N2CCN(CCN3CCC(Cc4ccccc4)CC3)CC2)cc1                                                  1.088714                               \n",
       "\n",
       "                                                    p0-ToxCast_NCCT_HEK293T_CellTiterGLO_InVitro  \\\n",
       "CHEMBL228_chembio_normalizedDesc.csv                                                               \n",
       "Brc1cc(O[C@H]2C[C@@H]3CC[C@H](C2)N3)cc(-c2ccccc...                                     -0.779707   \n",
       "Brc1ccc(N2CCN(CCCCOc3ccc4ccccc4c3)CC2)cc1                                              -0.884506   \n",
       "Brc1ccc(N2CCN(CCCN3CCC(Cc4ccccc4)CC3)CC2)cc1                                           -0.884357   \n",
       "Brc1ccc(N2CCN(CCCOc3ccc4ccccc4c3)CC2)cc1                                               -0.907245   \n",
       "Brc1ccc(N2CCN(CCN3CCC(Cc4ccccc4)CC3)CC2)cc1                                            -0.886296   \n",
       "\n",
       "                                                    p1-ToxCast_NCCT_HEK293T_CellTiterGLO_InVitro  \n",
       "CHEMBL228_chembio_normalizedDesc.csv                                                              \n",
       "Brc1cc(O[C@H]2C[C@@H]3CC[C@H](C2)N3)cc(-c2ccccc...                                      0.794822  \n",
       "Brc1ccc(N2CCN(CCCCOc3ccc4ccccc4c3)CC2)cc1                                               1.350940  \n",
       "Brc1ccc(N2CCN(CCCN3CCC(Cc4ccccc4)CC3)CC2)cc1                                            1.210984  \n",
       "Brc1ccc(N2CCN(CCCOc3ccc4ccccc4c3)CC2)cc1                                                1.275077  \n",
       "Brc1ccc(N2CCN(CCN3CCC(Cc4ccccc4)CC3)CC2)cc1                                             1.230637  \n",
       "\n",
       "[5 rows x 2347 columns]"
      ]
     },
     "execution_count": 9,
     "metadata": {},
     "output_type": "execute_result"
    }
   ],
   "source": [
    "data = pd.read_csv(data_path, compression='bz2', index_col=0)\n",
    "data.head()"
   ]
  },
  {
   "cell_type": "markdown",
   "metadata": {},
   "source": [
    "If you want to run the example notebook for any other ChEMBL endpoint, a compressed file with all ChEMBL datasets used in this work can be downloaded from Zenodo as tar.bz2 files. Change the `endpoint` in Cell 6 and uncomment the following three cells."
   ]
  },
  {
   "cell_type": "code",
   "execution_count": 10,
   "metadata": {},
   "outputs": [],
   "source": [
    "# Due to the size of the datasets containing the chembio descriptors, \n",
    "# they were uploaded to GitHub as tar.bz2 files and need to be unpacked first\n",
    "# tar = tarfile.open(data_path)"
   ]
  },
  {
   "cell_type": "code",
   "execution_count": 11,
   "metadata": {},
   "outputs": [],
   "source": [
    "# The data is collected in the `files` dict, containing as keys the ChEMBL endpoint name and as value the dataframe\n",
    "# files = {}\n",
    "# for i, name in zip(tar, tar.getnames()):\n",
    "#     file = tar.extractfile(i)\n",
    "#     print(file)\n",
    "#     if file:  # Extraction also yields an empty folder (?) which will be ignored\n",
    "#         n = name.split(\"/\")[1].split('_')[0]  # Get ChEMBL endpoint name from filename\n",
    "#         if n == endpoint:\n",
    "#             print(n)\n",
    "#             df = pd.read_csv(file)  # Read df\n",
    "#             files[n] = df  # Store in dict"
   ]
  },
  {
   "cell_type": "code",
   "execution_count": 12,
   "metadata": {},
   "outputs": [],
   "source": [
    "# Select a specific example dataset\n",
    "# data = files[endpoint]"
   ]
  },
  {
   "cell_type": "code",
   "execution_count": 13,
   "metadata": {},
   "outputs": [],
   "source": [
    "# Drop rows without any information on the publication date. \n",
    "# The publication date is required for temporal data splitting.\n",
    "data.dropna(subset=[\"year\"], inplace=True)"
   ]
  },
  {
   "cell_type": "code",
   "execution_count": 14,
   "metadata": {},
   "outputs": [
    {
     "data": {
      "text/plain": [
       "array([0., 0., 0., ..., 1., 1., 1.])"
      ]
     },
     "execution_count": 14,
     "metadata": {},
     "output_type": "execute_result"
    }
   ],
   "source": [
    "# Define labels\n",
    "y = data[f\"{endpoint}_bioactivity\"].values\n",
    "y"
   ]
  },
  {
   "cell_type": "code",
   "execution_count": 15,
   "metadata": {
    "scrolled": true
   },
   "outputs": [
    {
     "data": {
      "text/plain": [
       "array([[-0.20278679, -0.8864429 , -0.64854513, ...,  0.16953868,\n",
       "        -0.77970748,  0.79482231],\n",
       "       [-0.28295224,  0.26077434, -0.64854513, ...,  0.22767178,\n",
       "        -0.88450568,  1.35093976],\n",
       "       [-0.25159849,  0.26077434, -0.64854513, ...,  1.27806444,\n",
       "        -0.8843573 ,  1.21098428],\n",
       "       ...,\n",
       "       [-1.11368145, -0.8864429 , -0.64854513, ..., -0.77273345,\n",
       "         1.32371173, -1.3983778 ],\n",
       "       [-0.17143304, -0.8864429 ,  2.04678629, ..., -2.01146873,\n",
       "         0.25305191, -0.58964739],\n",
       "       [-0.17143304,  0.28045739, -0.64854513, ..., -1.4576498 ,\n",
       "         1.71728142, -1.53578739]])"
      ]
     },
     "execution_count": 15,
     "metadata": {},
     "output_type": "execute_result"
    }
   ],
   "source": [
    "# Define features (p-values and chemical descriptors)\n",
    "columns = [col for col in data.columns if col.startswith('p') or col.startswith('byte')]\n",
    "X = data[columns].values\n",
    "X"
   ]
  },
  {
   "cell_type": "code",
   "execution_count": 16,
   "metadata": {},
   "outputs": [
    {
     "data": {
      "text/plain": [
       "array([2011., 2018., 2016., ..., 2018., 2009., 2014.])"
      ]
     },
     "execution_count": 16,
     "metadata": {},
     "output_type": "execute_result"
    }
   ],
   "source": [
    "# Get an array with the publication years. This information will be used for temporal data splitting.\n",
    "years = data[\"year\"].values\n",
    "years"
   ]
  },
  {
   "cell_type": "markdown",
   "metadata": {},
   "source": [
    "### Split data"
   ]
  },
  {
   "cell_type": "markdown",
   "metadata": {},
   "source": [
    "#### Load dataframe defining time-split thresholds per endpoint"
   ]
  },
  {
   "cell_type": "code",
   "execution_count": 17,
   "metadata": {},
   "outputs": [
    {
     "data": {
      "text/html": [
       "<div>\n",
       "<style scoped>\n",
       "    .dataframe tbody tr th:only-of-type {\n",
       "        vertical-align: middle;\n",
       "    }\n",
       "\n",
       "    .dataframe tbody tr th {\n",
       "        vertical-align: top;\n",
       "    }\n",
       "\n",
       "    .dataframe thead th {\n",
       "        text-align: right;\n",
       "    }\n",
       "</style>\n",
       "<table border=\"1\" class=\"dataframe\">\n",
       "  <thead>\n",
       "    <tr style=\"text-align: right;\">\n",
       "      <th></th>\n",
       "      <th>train_thresh</th>\n",
       "      <th>update1_thresh</th>\n",
       "      <th>update2_thresh</th>\n",
       "    </tr>\n",
       "    <tr>\n",
       "      <th>chembl_id</th>\n",
       "      <th></th>\n",
       "      <th></th>\n",
       "      <th></th>\n",
       "    </tr>\n",
       "  </thead>\n",
       "  <tbody>\n",
       "    <tr>\n",
       "      <th>CHEMBL220</th>\n",
       "      <td>2014</td>\n",
       "      <td>2016</td>\n",
       "      <td>2017</td>\n",
       "    </tr>\n",
       "    <tr>\n",
       "      <th>CHEMBL4078</th>\n",
       "      <td>2014</td>\n",
       "      <td>2015</td>\n",
       "      <td>2016</td>\n",
       "    </tr>\n",
       "    <tr>\n",
       "      <th>CHEMBL5763</th>\n",
       "      <td>2015</td>\n",
       "      <td>2016</td>\n",
       "      <td>2017</td>\n",
       "    </tr>\n",
       "    <tr>\n",
       "      <th>CHEMBL203</th>\n",
       "      <td>2012</td>\n",
       "      <td>2014</td>\n",
       "      <td>2016</td>\n",
       "    </tr>\n",
       "    <tr>\n",
       "      <th>CHEMBL206</th>\n",
       "      <td>2006</td>\n",
       "      <td>2012</td>\n",
       "      <td>2016</td>\n",
       "    </tr>\n",
       "    <tr>\n",
       "      <th>CHEMBL279</th>\n",
       "      <td>2010</td>\n",
       "      <td>2013</td>\n",
       "      <td>2014</td>\n",
       "    </tr>\n",
       "    <tr>\n",
       "      <th>CHEMBL230</th>\n",
       "      <td>2010</td>\n",
       "      <td>2013</td>\n",
       "      <td>2015</td>\n",
       "    </tr>\n",
       "    <tr>\n",
       "      <th>CHEMBL340</th>\n",
       "      <td>2012</td>\n",
       "      <td>2014</td>\n",
       "      <td>2015</td>\n",
       "    </tr>\n",
       "    <tr>\n",
       "      <th>CHEMBL240</th>\n",
       "      <td>2012</td>\n",
       "      <td>2014</td>\n",
       "      <td>2016</td>\n",
       "    </tr>\n",
       "    <tr>\n",
       "      <th>CHEMBL2039</th>\n",
       "      <td>2014</td>\n",
       "      <td>2015</td>\n",
       "      <td>2017</td>\n",
       "    </tr>\n",
       "    <tr>\n",
       "      <th>CHEMBL222</th>\n",
       "      <td>2009</td>\n",
       "      <td>2011</td>\n",
       "      <td>2015</td>\n",
       "    </tr>\n",
       "    <tr>\n",
       "      <th>CHEMBL228</th>\n",
       "      <td>2009</td>\n",
       "      <td>2011</td>\n",
       "      <td>2014</td>\n",
       "    </tr>\n",
       "  </tbody>\n",
       "</table>\n",
       "</div>"
      ],
      "text/plain": [
       "            train_thresh  update1_thresh  update2_thresh\n",
       "chembl_id                                               \n",
       "CHEMBL220           2014            2016            2017\n",
       "CHEMBL4078          2014            2015            2016\n",
       "CHEMBL5763          2015            2016            2017\n",
       "CHEMBL203           2012            2014            2016\n",
       "CHEMBL206           2006            2012            2016\n",
       "CHEMBL279           2010            2013            2014\n",
       "CHEMBL230           2010            2013            2015\n",
       "CHEMBL340           2012            2014            2015\n",
       "CHEMBL240           2012            2014            2016\n",
       "CHEMBL2039          2014            2015            2017\n",
       "CHEMBL222           2009            2011            2015\n",
       "CHEMBL228           2009            2011            2014"
      ]
     },
     "execution_count": 17,
     "metadata": {},
     "output_type": "execute_result"
    }
   ],
   "source": [
    "splits_df = pd.read_csv(time_split_threshold_path, index_col=0, \n",
    "                        usecols=[\"chembl_id\", \"train_thresh\", \"update1_thresh\", \"update2_thresh\"])\n",
    "splits_df"
   ]
  },
  {
   "cell_type": "code",
   "execution_count": 18,
   "metadata": {},
   "outputs": [
    {
     "data": {
      "text/plain": [
       "Index(['CHEMBL220', 'CHEMBL4078', 'CHEMBL5763', 'CHEMBL203', 'CHEMBL206',\n",
       "       'CHEMBL279', 'CHEMBL230', 'CHEMBL340', 'CHEMBL240', 'CHEMBL2039',\n",
       "       'CHEMBL222', 'CHEMBL228'],\n",
       "      dtype='object', name='chembl_id')"
      ]
     },
     "execution_count": 18,
     "metadata": {},
     "output_type": "execute_result"
    }
   ],
   "source": [
    "splits_df.index"
   ]
  },
  {
   "cell_type": "code",
   "execution_count": 19,
   "metadata": {},
   "outputs": [
    {
     "data": {
      "text/plain": [
       "(2009, 2011, 2014)"
      ]
     },
     "execution_count": 19,
     "metadata": {},
     "output_type": "execute_result"
    }
   ],
   "source": [
    "# Get year thresholds for selected endpoint\n",
    "thresholds = splits_df[\"train_thresh\"][endpoint], splits_df[\"update1_thresh\"][endpoint], splits_df[\"update2_thresh\"][endpoint]\n",
    "thresholds"
   ]
  },
  {
   "cell_type": "code",
   "execution_count": 20,
   "metadata": {},
   "outputs": [],
   "source": [
    "mask_train = years <= thresholds[0]\n",
    "mask_update1 = (years > thresholds[0]) & (years <= thresholds[1])\n",
    "mask_update2 = (years > thresholds[1]) & (years <= thresholds[2])\n",
    "mask_holdout = years > thresholds[2]\n",
    "\n",
    "X_train, y_train = X[mask_train], y[mask_train]\n",
    "X_update1, y_update1 = X[mask_update1], y[mask_update1]\n",
    "X_update2, y_update2 = X[mask_update2], y[mask_update2]\n",
    "X_holdout, y_holdout = X[mask_holdout], y[mask_holdout]"
   ]
  },
  {
   "cell_type": "code",
   "execution_count": 21,
   "metadata": {},
   "outputs": [
    {
     "name": "stdout",
     "output_type": "stream",
     "text": [
      "Training set shape: y=(1100,), X=(1100, 2241)\n",
      "Update1 set shape: y=(470,), X=(470, 2241)\n",
      "Update2 set shape: y=(266,), X=(266, 2241)\n",
      "Holdout set shape: y=(275,), X=(275, 2241)\n",
      "# Active compounds training set: 858.0,\n",
      "update1 set: 373.0, update2 set: 235.0, holdout set: 196.0\n"
     ]
    }
   ],
   "source": [
    "# Check len of arrays\n",
    "print(f\"Training set shape: y={y_train.shape}, X={X_train.shape}\")\n",
    "print(f\"Update1 set shape: y={y_update1.shape}, X={X_update1.shape}\")\n",
    "print(f\"Update2 set shape: y={y_update2.shape}, X={X_update2.shape}\")\n",
    "print(f\"Holdout set shape: y={y_holdout.shape}, X={X_holdout.shape}\")\n",
    "\n",
    "# Check if we have actives and inactives in all datasets\n",
    "print(f\"# Active compounds training set: {y_train.sum()},\")\n",
    "print(f\"update1 set: {y_update1.sum()}, update2 set: {y_update2.sum()}, holdout set: {y_holdout.sum()}\")"
   ]
  },
  {
   "cell_type": "markdown",
   "metadata": {},
   "source": [
    "### Prepare the ACP"
   ]
  },
  {
   "cell_type": "code",
   "execution_count": 22,
   "metadata": {},
   "outputs": [],
   "source": [
    "clf = RandomForestClassifier(n_estimators=ntrees)\n",
    "error_function = InverseProbabilityErrFunc()\n",
    "nc = NcFactory.create_nc(\n",
    "        clf, err_func=error_function, normalizer_model=None\n",
    "    )\n",
    "icp = InductiveConformalPredictor(\n",
    "        nc_function=nc, smoothing=False, condition=(lambda instance: instance[1])\n",
    "    )  # Mondrian as (default) condition)"
   ]
  },
  {
   "cell_type": "code",
   "execution_count": 23,
   "metadata": {},
   "outputs": [],
   "source": [
    "acp = ContinuousCalibrationAggregatedConformalPredictor(predictor=icp, sampler=ratio_sampler,\n",
    "        aggregation_func=np.median\n",
    "    )"
   ]
  },
  {
   "cell_type": "markdown",
   "metadata": {},
   "source": [
    "### Fit and calibrate the model, make predictions\n",
    "Calibrate with the `original` calibration set, which is a split from X_train/y_train"
   ]
  },
  {
   "cell_type": "code",
   "execution_count": 24,
   "metadata": {},
   "outputs": [],
   "source": [
    "acp.fit_calibrate(X_train=X_train, y_train=y_train)"
   ]
  },
  {
   "cell_type": "code",
   "execution_count": 25,
   "metadata": {},
   "outputs": [
    {
     "data": {
      "text/plain": [
       "array([[0.35135135, 0.03488372],\n",
       "       [0.37837838, 0.03875969],\n",
       "       [0.37837838, 0.03875969],\n",
       "       [0.40540541, 0.03100775],\n",
       "       [0.16216216, 0.12403101]])"
      ]
     },
     "execution_count": 25,
     "metadata": {},
     "output_type": "execute_result"
    }
   ],
   "source": [
    "original_prediction = acp.predict(X_score=X_holdout)\n",
    "\n",
    "original_prediction[:5]"
   ]
  },
  {
   "cell_type": "markdown",
   "metadata": {},
   "source": [
    "### Update calibration set\n",
    "Calibrate the fitted (not yet calibrated) predictors with a 'new' dataset"
   ]
  },
  {
   "cell_type": "code",
   "execution_count": 26,
   "metadata": {},
   "outputs": [
    {
     "name": "stdout",
     "output_type": "stream",
     "text": [
      "{}\n"
     ]
    }
   ],
   "source": [
    "# Check that there is no `calibrated update` predictor yet\n",
    "print(acp.predictors_calibrated_update)"
   ]
  },
  {
   "cell_type": "code",
   "execution_count": 27,
   "metadata": {},
   "outputs": [
    {
     "data": {
      "text/plain": [
       "1"
      ]
     },
     "execution_count": 27,
     "metadata": {},
     "output_type": "execute_result"
    }
   ],
   "source": [
    "acp.calibrate_update(X_update=X_update1, y_update=y_update1)"
   ]
  },
  {
   "cell_type": "code",
   "execution_count": 28,
   "metadata": {},
   "outputs": [
    {
     "data": {
      "text/plain": [
       "array([[0.89795918, 0.03475936],\n",
       "       [0.90816327, 0.02406417],\n",
       "       [0.85714286, 0.03743316],\n",
       "       [0.8877551 , 0.02406417],\n",
       "       [0.46938776, 0.19518717]])"
      ]
     },
     "execution_count": 28,
     "metadata": {},
     "output_type": "execute_result"
    }
   ],
   "source": [
    "# Make predictions with the model and the updated calibration set\n",
    "calibrate_update_prediction = acp.predict_calibrate_update(updated_number=1, X_score=X_holdout)\n",
    "calibrate_update_prediction[:5]"
   ]
  },
  {
   "cell_type": "markdown",
   "metadata": {},
   "source": [
    "### New calibration\n",
    "We can update with an even 'newer' calibration set (as often as we want). The model with the updated calibration set will be saved in the acp object."
   ]
  },
  {
   "cell_type": "code",
   "execution_count": 29,
   "metadata": {},
   "outputs": [
    {
     "name": "stdout",
     "output_type": "stream",
     "text": [
      "dict_keys(['update_1'])\n"
     ]
    }
   ],
   "source": [
    "# Check how many updated calibration sets we already have. Here, this should be 1\n",
    "print(acp.predictors_calibrated_update.keys())"
   ]
  },
  {
   "cell_type": "code",
   "execution_count": 30,
   "metadata": {},
   "outputs": [
    {
     "data": {
      "text/plain": [
       "2"
      ]
     },
     "execution_count": 30,
     "metadata": {},
     "output_type": "execute_result"
    }
   ],
   "source": [
    "acp.calibrate_update(X_update=X_update2, y_update=y_update2)"
   ]
  },
  {
   "cell_type": "code",
   "execution_count": 31,
   "metadata": {},
   "outputs": [
    {
     "data": {
      "text/plain": [
       "array([[0.9375    , 0.03389831],\n",
       "       [0.9375    , 0.02542373],\n",
       "       [0.9375    , 0.02542373],\n",
       "       [0.9375    , 0.02542373],\n",
       "       [0.59375   , 0.11440678]])"
      ]
     },
     "execution_count": 31,
     "metadata": {},
     "output_type": "execute_result"
    }
   ],
   "source": [
    "calibrate_update_2_predcition = acp.predict_calibrate_update(updated_number=2, X_score=X_holdout)\n",
    "calibrate_update_2_predcition[:5]"
   ]
  },
  {
   "cell_type": "markdown",
   "metadata": {},
   "source": [
    "### Perform continuous calibration within crossvalidation\n",
    "Instead of using the individual acp's, we might want to include everything into a crossvalidator. \n",
    "Advantages: \n",
    "* Splitting of cv into test and train set are handled\n",
    "* Fixed and reproducible pipeline (except for random splitting and random forest)\n",
    "* We can automatically create a calibration plot\n",
    "* Updating of the same trained models possible\n",
    "\n",
    "Note that we use fivefold cv by default"
   ]
  },
  {
   "cell_type": "code",
   "execution_count": 32,
   "metadata": {},
   "outputs": [],
   "source": [
    "cv_acp = ContinuousCalibrationAggregatedConformalPredictor(predictor=icp, sampler=ratio_sampler,\n",
    "        aggregation_func=np.median\n",
    "    )\n",
    "cross_validator = CrossValidator(predictor=cv_acp, cv_splitter=CrossValidationSampler())"
   ]
  },
  {
   "cell_type": "code",
   "execution_count": 33,
   "metadata": {},
   "outputs": [],
   "source": [
    "# Crossvalidate with the \"original\" training set (no update calibration set)\n",
    "cv_eval_df = cross_validator.cross_validate(X_train=X_train, y_train=y_train, X_score=X_holdout, y_score=y_holdout, steps=10, endpoint=endpoint)"
   ]
  },
  {
   "cell_type": "code",
   "execution_count": 34,
   "metadata": {},
   "outputs": [
    {
     "data": {
      "text/html": [
       "<div>\n",
       "<style scoped>\n",
       "    .dataframe tbody tr th:only-of-type {\n",
       "        vertical-align: middle;\n",
       "    }\n",
       "\n",
       "    .dataframe tbody tr th {\n",
       "        vertical-align: top;\n",
       "    }\n",
       "\n",
       "    .dataframe thead th {\n",
       "        text-align: right;\n",
       "    }\n",
       "</style>\n",
       "<table border=\"1\" class=\"dataframe\">\n",
       "  <thead>\n",
       "    <tr style=\"text-align: right;\">\n",
       "      <th></th>\n",
       "      <th>validity</th>\n",
       "      <th>efficiency</th>\n",
       "      <th>accuracy</th>\n",
       "      <th>significance_level</th>\n",
       "    </tr>\n",
       "    <tr>\n",
       "      <th>fold</th>\n",
       "      <th></th>\n",
       "      <th></th>\n",
       "      <th></th>\n",
       "      <th></th>\n",
       "    </tr>\n",
       "  </thead>\n",
       "  <tbody>\n",
       "    <tr>\n",
       "      <th>0</th>\n",
       "      <td>1.000</td>\n",
       "      <td>0.000</td>\n",
       "      <td>0.000</td>\n",
       "      <td>0.0</td>\n",
       "    </tr>\n",
       "    <tr>\n",
       "      <th>0</th>\n",
       "      <td>0.932</td>\n",
       "      <td>0.859</td>\n",
       "      <td>0.921</td>\n",
       "      <td>0.1</td>\n",
       "    </tr>\n",
       "    <tr>\n",
       "      <th>0</th>\n",
       "      <td>0.809</td>\n",
       "      <td>0.886</td>\n",
       "      <td>0.913</td>\n",
       "      <td>0.2</td>\n",
       "    </tr>\n",
       "    <tr>\n",
       "      <th>0</th>\n",
       "      <td>0.741</td>\n",
       "      <td>0.809</td>\n",
       "      <td>0.916</td>\n",
       "      <td>0.3</td>\n",
       "    </tr>\n",
       "    <tr>\n",
       "      <th>0</th>\n",
       "      <td>0.673</td>\n",
       "      <td>0.723</td>\n",
       "      <td>0.931</td>\n",
       "      <td>0.4</td>\n",
       "    </tr>\n",
       "  </tbody>\n",
       "</table>\n",
       "</div>"
      ],
      "text/plain": [
       "      validity  efficiency  accuracy  significance_level\n",
       "fold                                                    \n",
       "0        1.000       0.000     0.000                 0.0\n",
       "0        0.932       0.859     0.921                 0.1\n",
       "0        0.809       0.886     0.913                 0.2\n",
       "0        0.741       0.809     0.916                 0.3\n",
       "0        0.673       0.723     0.931                 0.4"
      ]
     },
     "execution_count": 34,
     "metadata": {},
     "output_type": "execute_result"
    }
   ],
   "source": [
    "# Look at evaluation per cv fold\n",
    "cv_eval_df[[\"validity\", \"efficiency\", \"accuracy\", \"significance_level\", \"fold\"]].set_index(\"fold\").head()"
   ]
  },
  {
   "cell_type": "code",
   "execution_count": 35,
   "metadata": {},
   "outputs": [
    {
     "data": {
      "text/html": [
       "<div>\n",
       "<style scoped>\n",
       "    .dataframe tbody tr th:only-of-type {\n",
       "        vertical-align: middle;\n",
       "    }\n",
       "\n",
       "    .dataframe tbody tr th {\n",
       "        vertical-align: top;\n",
       "    }\n",
       "\n",
       "    .dataframe thead th {\n",
       "        text-align: right;\n",
       "    }\n",
       "</style>\n",
       "<table border=\"1\" class=\"dataframe\">\n",
       "  <thead>\n",
       "    <tr style=\"text-align: right;\">\n",
       "      <th></th>\n",
       "      <th>validity mean</th>\n",
       "      <th>efficiency mean</th>\n",
       "      <th>accuracy mean</th>\n",
       "      <th>significance_level</th>\n",
       "    </tr>\n",
       "    <tr>\n",
       "      <th>significance_level</th>\n",
       "      <th></th>\n",
       "      <th></th>\n",
       "      <th></th>\n",
       "      <th></th>\n",
       "    </tr>\n",
       "  </thead>\n",
       "  <tbody>\n",
       "    <tr>\n",
       "      <th>0.0</th>\n",
       "      <td>1.0000</td>\n",
       "      <td>0.0000</td>\n",
       "      <td>0.0000</td>\n",
       "      <td>0.0</td>\n",
       "    </tr>\n",
       "    <tr>\n",
       "      <th>0.1</th>\n",
       "      <td>0.9126</td>\n",
       "      <td>0.8764</td>\n",
       "      <td>0.9008</td>\n",
       "      <td>0.1</td>\n",
       "    </tr>\n",
       "    <tr>\n",
       "      <th>0.2</th>\n",
       "      <td>0.8208</td>\n",
       "      <td>0.9272</td>\n",
       "      <td>0.8858</td>\n",
       "      <td>0.2</td>\n",
       "    </tr>\n",
       "    <tr>\n",
       "      <th>0.3</th>\n",
       "      <td>0.7398</td>\n",
       "      <td>0.8118</td>\n",
       "      <td>0.9116</td>\n",
       "      <td>0.3</td>\n",
       "    </tr>\n",
       "    <tr>\n",
       "      <th>0.4</th>\n",
       "      <td>0.6554</td>\n",
       "      <td>0.7020</td>\n",
       "      <td>0.9350</td>\n",
       "      <td>0.4</td>\n",
       "    </tr>\n",
       "    <tr>\n",
       "      <th>0.5</th>\n",
       "      <td>0.5546</td>\n",
       "      <td>0.5790</td>\n",
       "      <td>0.9580</td>\n",
       "      <td>0.5</td>\n",
       "    </tr>\n",
       "    <tr>\n",
       "      <th>0.6</th>\n",
       "      <td>0.4680</td>\n",
       "      <td>0.4836</td>\n",
       "      <td>0.9692</td>\n",
       "      <td>0.6</td>\n",
       "    </tr>\n",
       "    <tr>\n",
       "      <th>0.7</th>\n",
       "      <td>0.3682</td>\n",
       "      <td>0.3774</td>\n",
       "      <td>0.9772</td>\n",
       "      <td>0.7</td>\n",
       "    </tr>\n",
       "    <tr>\n",
       "      <th>0.8</th>\n",
       "      <td>0.2402</td>\n",
       "      <td>0.2474</td>\n",
       "      <td>0.9706</td>\n",
       "      <td>0.8</td>\n",
       "    </tr>\n",
       "    <tr>\n",
       "      <th>0.9</th>\n",
       "      <td>0.1262</td>\n",
       "      <td>0.1282</td>\n",
       "      <td>0.9866</td>\n",
       "      <td>0.9</td>\n",
       "    </tr>\n",
       "    <tr>\n",
       "      <th>1.0</th>\n",
       "      <td>0.0792</td>\n",
       "      <td>0.0792</td>\n",
       "      <td>1.0000</td>\n",
       "      <td>1.0</td>\n",
       "    </tr>\n",
       "  </tbody>\n",
       "</table>\n",
       "</div>"
      ],
      "text/plain": [
       "                    validity mean  efficiency mean  accuracy mean  \\\n",
       "significance_level                                                  \n",
       "0.0                        1.0000           0.0000         0.0000   \n",
       "0.1                        0.9126           0.8764         0.9008   \n",
       "0.2                        0.8208           0.9272         0.8858   \n",
       "0.3                        0.7398           0.8118         0.9116   \n",
       "0.4                        0.6554           0.7020         0.9350   \n",
       "0.5                        0.5546           0.5790         0.9580   \n",
       "0.6                        0.4680           0.4836         0.9692   \n",
       "0.7                        0.3682           0.3774         0.9772   \n",
       "0.8                        0.2402           0.2474         0.9706   \n",
       "0.9                        0.1262           0.1282         0.9866   \n",
       "1.0                        0.0792           0.0792         1.0000   \n",
       "\n",
       "                    significance_level  \n",
       "significance_level                      \n",
       "0.0                                0.0  \n",
       "0.1                                0.1  \n",
       "0.2                                0.2  \n",
       "0.3                                0.3  \n",
       "0.4                                0.4  \n",
       "0.5                                0.5  \n",
       "0.6                                0.6  \n",
       "0.7                                0.7  \n",
       "0.8                                0.8  \n",
       "0.9                                0.9  \n",
       "1.0                                1.0  "
      ]
     },
     "execution_count": 35,
     "metadata": {},
     "output_type": "execute_result"
    }
   ],
   "source": [
    "# Look at averaged (all folds) evaluations\n",
    "cross_validator.averaged_evaluation_df_cv[[\"validity mean\", \"efficiency mean\", \"accuracy mean\", \"significance_level\"]]"
   ]
  },
  {
   "cell_type": "code",
   "execution_count": 36,
   "metadata": {},
   "outputs": [
    {
     "data": {
      "text/html": [
       "<div>\n",
       "<style scoped>\n",
       "    .dataframe tbody tr th:only-of-type {\n",
       "        vertical-align: middle;\n",
       "    }\n",
       "\n",
       "    .dataframe tbody tr th {\n",
       "        vertical-align: top;\n",
       "    }\n",
       "\n",
       "    .dataframe thead th {\n",
       "        text-align: right;\n",
       "    }\n",
       "</style>\n",
       "<table border=\"1\" class=\"dataframe\">\n",
       "  <thead>\n",
       "    <tr style=\"text-align: right;\">\n",
       "      <th></th>\n",
       "      <th>validity_bal mean</th>\n",
       "      <th>efficiency_bal mean</th>\n",
       "      <th>accuracy_bal mean</th>\n",
       "      <th>significance_level</th>\n",
       "    </tr>\n",
       "    <tr>\n",
       "      <th>significance_level</th>\n",
       "      <th></th>\n",
       "      <th></th>\n",
       "      <th></th>\n",
       "      <th></th>\n",
       "    </tr>\n",
       "  </thead>\n",
       "  <tbody>\n",
       "    <tr>\n",
       "      <th>0.0</th>\n",
       "      <td>1.0000</td>\n",
       "      <td>0.0000</td>\n",
       "      <td>0.0000</td>\n",
       "      <td>0.0</td>\n",
       "    </tr>\n",
       "    <tr>\n",
       "      <th>0.1</th>\n",
       "      <td>0.9201</td>\n",
       "      <td>0.8793</td>\n",
       "      <td>0.9094</td>\n",
       "      <td>0.1</td>\n",
       "    </tr>\n",
       "    <tr>\n",
       "      <th>0.2</th>\n",
       "      <td>0.8257</td>\n",
       "      <td>0.9269</td>\n",
       "      <td>0.8909</td>\n",
       "      <td>0.2</td>\n",
       "    </tr>\n",
       "    <tr>\n",
       "      <th>0.3</th>\n",
       "      <td>0.7501</td>\n",
       "      <td>0.8126</td>\n",
       "      <td>0.9232</td>\n",
       "      <td>0.3</td>\n",
       "    </tr>\n",
       "    <tr>\n",
       "      <th>0.4</th>\n",
       "      <td>0.6591</td>\n",
       "      <td>0.6962</td>\n",
       "      <td>0.9477</td>\n",
       "      <td>0.4</td>\n",
       "    </tr>\n",
       "    <tr>\n",
       "      <th>0.5</th>\n",
       "      <td>0.5557</td>\n",
       "      <td>0.5746</td>\n",
       "      <td>0.9674</td>\n",
       "      <td>0.5</td>\n",
       "    </tr>\n",
       "    <tr>\n",
       "      <th>0.6</th>\n",
       "      <td>0.4724</td>\n",
       "      <td>0.4853</td>\n",
       "      <td>0.9738</td>\n",
       "      <td>0.6</td>\n",
       "    </tr>\n",
       "    <tr>\n",
       "      <th>0.7</th>\n",
       "      <td>0.3605</td>\n",
       "      <td>0.3678</td>\n",
       "      <td>0.9816</td>\n",
       "      <td>0.7</td>\n",
       "    </tr>\n",
       "    <tr>\n",
       "      <th>0.8</th>\n",
       "      <td>0.2249</td>\n",
       "      <td>0.2310</td>\n",
       "      <td>0.9762</td>\n",
       "      <td>0.8</td>\n",
       "    </tr>\n",
       "    <tr>\n",
       "      <th>0.9</th>\n",
       "      <td>0.1208</td>\n",
       "      <td>0.1220</td>\n",
       "      <td>0.9921</td>\n",
       "      <td>0.9</td>\n",
       "    </tr>\n",
       "    <tr>\n",
       "      <th>1.0</th>\n",
       "      <td>0.0551</td>\n",
       "      <td>0.0551</td>\n",
       "      <td>0.7000</td>\n",
       "      <td>1.0</td>\n",
       "    </tr>\n",
       "  </tbody>\n",
       "</table>\n",
       "</div>"
      ],
      "text/plain": [
       "                    validity_bal mean  efficiency_bal mean  accuracy_bal mean  \\\n",
       "significance_level                                                              \n",
       "0.0                            1.0000               0.0000             0.0000   \n",
       "0.1                            0.9201               0.8793             0.9094   \n",
       "0.2                            0.8257               0.9269             0.8909   \n",
       "0.3                            0.7501               0.8126             0.9232   \n",
       "0.4                            0.6591               0.6962             0.9477   \n",
       "0.5                            0.5557               0.5746             0.9674   \n",
       "0.6                            0.4724               0.4853             0.9738   \n",
       "0.7                            0.3605               0.3678             0.9816   \n",
       "0.8                            0.2249               0.2310             0.9762   \n",
       "0.9                            0.1208               0.1220             0.9921   \n",
       "1.0                            0.0551               0.0551             0.7000   \n",
       "\n",
       "                    significance_level  \n",
       "significance_level                      \n",
       "0.0                                0.0  \n",
       "0.1                                0.1  \n",
       "0.2                                0.2  \n",
       "0.3                                0.3  \n",
       "0.4                                0.4  \n",
       "0.5                                0.5  \n",
       "0.6                                0.6  \n",
       "0.7                                0.7  \n",
       "0.8                                0.8  \n",
       "0.9                                0.9  \n",
       "1.0                                1.0  "
      ]
     },
     "execution_count": 36,
     "metadata": {},
     "output_type": "execute_result"
    }
   ],
   "source": [
    "cross_validator.averaged_evaluation_df_cv[[\"validity_bal mean\", \"efficiency_bal mean\", \"accuracy_bal mean\", \"significance_level\"]]"
   ]
  },
  {
   "cell_type": "markdown",
   "metadata": {},
   "source": [
    "The predictions are saved in a dictionary that contains the information for the predictions within the crossvalidation and the predictions for the score set. The predictions (values) are in the form of a list, list elements are the predicted p-values and the known labels. "
   ]
  },
  {
   "cell_type": "code",
   "execution_count": 37,
   "metadata": {},
   "outputs": [
    {
     "name": "stdout",
     "output_type": "stream",
     "text": [
      "keys:  dict_keys(['cv', 'pred_score']) \n",
      "\n",
      "p-values:  [[0.42372881 0.07729469]\n",
      " [0.37288136 0.06763285]\n",
      " [0.49152542 0.06763285]\n",
      " [0.33898305 0.06763285]\n",
      " [0.15254237 0.10628019]] \n",
      "\n",
      "labels:  [[0. 0. 1. ... 0. 0. 1.]\n",
      " [0. 0. 1. ... 0. 0. 1.]\n",
      " [0. 0. 1. ... 0. 0. 1.]\n",
      " [0. 0. 1. ... 0. 0. 1.]\n",
      " [0. 0. 1. ... 0. 0. 1.]]\n"
     ]
    }
   ],
   "source": [
    "print(\"keys: \", cross_validator._predictions.keys(), \"\\n\")\n",
    "print(\"p-values: \", cross_validator._predictions[\"pred_score\"][0][0][:5], \"\\n\")\n",
    "# [0]: predictions, [0]: first loop of cv, [:5]: first five p-values\n",
    "print(\"labels: \", cross_validator._predictions[\"pred_score\"][1])\n",
    "# [1]: labels"
   ]
  },
  {
   "cell_type": "code",
   "execution_count": 38,
   "metadata": {},
   "outputs": [
    {
     "data": {
      "text/html": [
       "<div>\n",
       "<style scoped>\n",
       "    .dataframe tbody tr th:only-of-type {\n",
       "        vertical-align: middle;\n",
       "    }\n",
       "\n",
       "    .dataframe tbody tr th {\n",
       "        vertical-align: top;\n",
       "    }\n",
       "\n",
       "    .dataframe thead th {\n",
       "        text-align: right;\n",
       "    }\n",
       "</style>\n",
       "<table border=\"1\" class=\"dataframe\">\n",
       "  <thead>\n",
       "    <tr style=\"text-align: right;\">\n",
       "      <th></th>\n",
       "      <th>validity mean</th>\n",
       "      <th>validity std</th>\n",
       "      <th>validity_0 mean</th>\n",
       "      <th>validity_0 std</th>\n",
       "      <th>validity_1 mean</th>\n",
       "      <th>validity_1 std</th>\n",
       "      <th>validity_bal mean</th>\n",
       "      <th>validity_bal std</th>\n",
       "      <th>error_rate mean</th>\n",
       "      <th>error_rate std</th>\n",
       "      <th>...</th>\n",
       "      <th>accuracy std</th>\n",
       "      <th>accuracy_0 mean</th>\n",
       "      <th>accuracy_0 std</th>\n",
       "      <th>accuracy_1 mean</th>\n",
       "      <th>accuracy_1 std</th>\n",
       "      <th>accuracy_bal mean</th>\n",
       "      <th>accuracy_bal std</th>\n",
       "      <th>significance_level</th>\n",
       "      <th>num_actives</th>\n",
       "      <th>num_inactives</th>\n",
       "    </tr>\n",
       "    <tr>\n",
       "      <th>significance_level</th>\n",
       "      <th></th>\n",
       "      <th></th>\n",
       "      <th></th>\n",
       "      <th></th>\n",
       "      <th></th>\n",
       "      <th></th>\n",
       "      <th></th>\n",
       "      <th></th>\n",
       "      <th></th>\n",
       "      <th></th>\n",
       "      <th></th>\n",
       "      <th></th>\n",
       "      <th></th>\n",
       "      <th></th>\n",
       "      <th></th>\n",
       "      <th></th>\n",
       "      <th></th>\n",
       "      <th></th>\n",
       "      <th></th>\n",
       "      <th></th>\n",
       "      <th></th>\n",
       "    </tr>\n",
       "  </thead>\n",
       "  <tbody>\n",
       "    <tr>\n",
       "      <th>0.0</th>\n",
       "      <td>1.0000</td>\n",
       "      <td>0.000000</td>\n",
       "      <td>1.0000</td>\n",
       "      <td>0.000000</td>\n",
       "      <td>1.0000</td>\n",
       "      <td>0.000000</td>\n",
       "      <td>1.0000</td>\n",
       "      <td>0.000000</td>\n",
       "      <td>0.0000</td>\n",
       "      <td>0.000000</td>\n",
       "      <td>...</td>\n",
       "      <td>0.000000</td>\n",
       "      <td>0.0000</td>\n",
       "      <td>0.000000</td>\n",
       "      <td>0.0000</td>\n",
       "      <td>0.000000</td>\n",
       "      <td>0.0000</td>\n",
       "      <td>0.000000</td>\n",
       "      <td>0.0</td>\n",
       "      <td>858.0</td>\n",
       "      <td>242.0</td>\n",
       "    </tr>\n",
       "    <tr>\n",
       "      <th>0.1</th>\n",
       "      <td>0.9126</td>\n",
       "      <td>0.016994</td>\n",
       "      <td>0.9336</td>\n",
       "      <td>0.045391</td>\n",
       "      <td>0.9066</td>\n",
       "      <td>0.014293</td>\n",
       "      <td>0.9201</td>\n",
       "      <td>0.025631</td>\n",
       "      <td>0.0874</td>\n",
       "      <td>0.016994</td>\n",
       "      <td>...</td>\n",
       "      <td>0.016843</td>\n",
       "      <td>0.9256</td>\n",
       "      <td>0.048464</td>\n",
       "      <td>0.8932</td>\n",
       "      <td>0.016754</td>\n",
       "      <td>0.9094</td>\n",
       "      <td>0.025924</td>\n",
       "      <td>0.1</td>\n",
       "      <td>858.0</td>\n",
       "      <td>242.0</td>\n",
       "    </tr>\n",
       "    <tr>\n",
       "      <th>0.2</th>\n",
       "      <td>0.8208</td>\n",
       "      <td>0.017456</td>\n",
       "      <td>0.8346</td>\n",
       "      <td>0.069920</td>\n",
       "      <td>0.8168</td>\n",
       "      <td>0.036107</td>\n",
       "      <td>0.8257</td>\n",
       "      <td>0.022107</td>\n",
       "      <td>0.1792</td>\n",
       "      <td>0.017456</td>\n",
       "      <td>...</td>\n",
       "      <td>0.025014</td>\n",
       "      <td>0.9006</td>\n",
       "      <td>0.041464</td>\n",
       "      <td>0.8812</td>\n",
       "      <td>0.039105</td>\n",
       "      <td>0.8909</td>\n",
       "      <td>0.015974</td>\n",
       "      <td>0.2</td>\n",
       "      <td>858.0</td>\n",
       "      <td>242.0</td>\n",
       "    </tr>\n",
       "    <tr>\n",
       "      <th>0.3</th>\n",
       "      <td>0.7398</td>\n",
       "      <td>0.018033</td>\n",
       "      <td>0.7682</td>\n",
       "      <td>0.071678</td>\n",
       "      <td>0.7320</td>\n",
       "      <td>0.036104</td>\n",
       "      <td>0.7501</td>\n",
       "      <td>0.024058</td>\n",
       "      <td>0.2602</td>\n",
       "      <td>0.018033</td>\n",
       "      <td>...</td>\n",
       "      <td>0.016380</td>\n",
       "      <td>0.9440</td>\n",
       "      <td>0.032496</td>\n",
       "      <td>0.9024</td>\n",
       "      <td>0.026736</td>\n",
       "      <td>0.9232</td>\n",
       "      <td>0.010878</td>\n",
       "      <td>0.3</td>\n",
       "      <td>858.0</td>\n",
       "      <td>242.0</td>\n",
       "    </tr>\n",
       "    <tr>\n",
       "      <th>0.4</th>\n",
       "      <td>0.6554</td>\n",
       "      <td>0.024664</td>\n",
       "      <td>0.6656</td>\n",
       "      <td>0.098261</td>\n",
       "      <td>0.6526</td>\n",
       "      <td>0.035529</td>\n",
       "      <td>0.6591</td>\n",
       "      <td>0.042495</td>\n",
       "      <td>0.3446</td>\n",
       "      <td>0.024664</td>\n",
       "      <td>...</td>\n",
       "      <td>0.025189</td>\n",
       "      <td>0.9710</td>\n",
       "      <td>0.030050</td>\n",
       "      <td>0.9244</td>\n",
       "      <td>0.030924</td>\n",
       "      <td>0.9477</td>\n",
       "      <td>0.022811</td>\n",
       "      <td>0.4</td>\n",
       "      <td>858.0</td>\n",
       "      <td>242.0</td>\n",
       "    </tr>\n",
       "    <tr>\n",
       "      <th>0.5</th>\n",
       "      <td>0.5546</td>\n",
       "      <td>0.016196</td>\n",
       "      <td>0.5578</td>\n",
       "      <td>0.070091</td>\n",
       "      <td>0.5536</td>\n",
       "      <td>0.039183</td>\n",
       "      <td>0.5557</td>\n",
       "      <td>0.017054</td>\n",
       "      <td>0.4454</td>\n",
       "      <td>0.016196</td>\n",
       "      <td>...</td>\n",
       "      <td>0.022394</td>\n",
       "      <td>0.9852</td>\n",
       "      <td>0.020376</td>\n",
       "      <td>0.9496</td>\n",
       "      <td>0.027364</td>\n",
       "      <td>0.9674</td>\n",
       "      <td>0.018209</td>\n",
       "      <td>0.5</td>\n",
       "      <td>858.0</td>\n",
       "      <td>242.0</td>\n",
       "    </tr>\n",
       "    <tr>\n",
       "      <th>0.6</th>\n",
       "      <td>0.4680</td>\n",
       "      <td>0.029300</td>\n",
       "      <td>0.4796</td>\n",
       "      <td>0.058722</td>\n",
       "      <td>0.4652</td>\n",
       "      <td>0.042476</td>\n",
       "      <td>0.4724</td>\n",
       "      <td>0.027003</td>\n",
       "      <td>0.5320</td>\n",
       "      <td>0.029300</td>\n",
       "      <td>...</td>\n",
       "      <td>0.020897</td>\n",
       "      <td>0.9824</td>\n",
       "      <td>0.024265</td>\n",
       "      <td>0.9652</td>\n",
       "      <td>0.023774</td>\n",
       "      <td>0.9738</td>\n",
       "      <td>0.020290</td>\n",
       "      <td>0.6</td>\n",
       "      <td>858.0</td>\n",
       "      <td>242.0</td>\n",
       "    </tr>\n",
       "    <tr>\n",
       "      <th>0.7</th>\n",
       "      <td>0.3682</td>\n",
       "      <td>0.032330</td>\n",
       "      <td>0.3470</td>\n",
       "      <td>0.036810</td>\n",
       "      <td>0.3740</td>\n",
       "      <td>0.051054</td>\n",
       "      <td>0.3605</td>\n",
       "      <td>0.012605</td>\n",
       "      <td>0.6318</td>\n",
       "      <td>0.032330</td>\n",
       "      <td>...</td>\n",
       "      <td>0.017570</td>\n",
       "      <td>0.9888</td>\n",
       "      <td>0.025044</td>\n",
       "      <td>0.9744</td>\n",
       "      <td>0.018229</td>\n",
       "      <td>0.9816</td>\n",
       "      <td>0.019018</td>\n",
       "      <td>0.7</td>\n",
       "      <td>858.0</td>\n",
       "      <td>242.0</td>\n",
       "    </tr>\n",
       "    <tr>\n",
       "      <th>0.8</th>\n",
       "      <td>0.2402</td>\n",
       "      <td>0.022993</td>\n",
       "      <td>0.1980</td>\n",
       "      <td>0.057905</td>\n",
       "      <td>0.2518</td>\n",
       "      <td>0.025411</td>\n",
       "      <td>0.2249</td>\n",
       "      <td>0.031055</td>\n",
       "      <td>0.7598</td>\n",
       "      <td>0.022993</td>\n",
       "      <td>...</td>\n",
       "      <td>0.026931</td>\n",
       "      <td>0.9834</td>\n",
       "      <td>0.037119</td>\n",
       "      <td>0.9690</td>\n",
       "      <td>0.025797</td>\n",
       "      <td>0.9762</td>\n",
       "      <td>0.029387</td>\n",
       "      <td>0.8</td>\n",
       "      <td>858.0</td>\n",
       "      <td>242.0</td>\n",
       "    </tr>\n",
       "    <tr>\n",
       "      <th>0.9</th>\n",
       "      <td>0.1262</td>\n",
       "      <td>0.017456</td>\n",
       "      <td>0.1110</td>\n",
       "      <td>0.087141</td>\n",
       "      <td>0.1306</td>\n",
       "      <td>0.031651</td>\n",
       "      <td>0.1208</td>\n",
       "      <td>0.034303</td>\n",
       "      <td>0.8738</td>\n",
       "      <td>0.017456</td>\n",
       "      <td>...</td>\n",
       "      <td>0.018515</td>\n",
       "      <td>1.0000</td>\n",
       "      <td>0.000000</td>\n",
       "      <td>0.9842</td>\n",
       "      <td>0.022454</td>\n",
       "      <td>0.9921</td>\n",
       "      <td>0.011227</td>\n",
       "      <td>0.9</td>\n",
       "      <td>858.0</td>\n",
       "      <td>242.0</td>\n",
       "    </tr>\n",
       "    <tr>\n",
       "      <th>1.0</th>\n",
       "      <td>0.0792</td>\n",
       "      <td>0.021159</td>\n",
       "      <td>0.0122</td>\n",
       "      <td>0.018281</td>\n",
       "      <td>0.0980</td>\n",
       "      <td>0.027267</td>\n",
       "      <td>0.0551</td>\n",
       "      <td>0.015303</td>\n",
       "      <td>0.9208</td>\n",
       "      <td>0.021159</td>\n",
       "      <td>...</td>\n",
       "      <td>0.000000</td>\n",
       "      <td>0.4000</td>\n",
       "      <td>0.547723</td>\n",
       "      <td>1.0000</td>\n",
       "      <td>0.000000</td>\n",
       "      <td>0.7000</td>\n",
       "      <td>0.273861</td>\n",
       "      <td>1.0</td>\n",
       "      <td>858.0</td>\n",
       "      <td>242.0</td>\n",
       "    </tr>\n",
       "  </tbody>\n",
       "</table>\n",
       "<p>11 rows × 35 columns</p>\n",
       "</div>"
      ],
      "text/plain": [
       "                    validity mean  validity std  validity_0 mean  \\\n",
       "significance_level                                                 \n",
       "0.0                        1.0000      0.000000           1.0000   \n",
       "0.1                        0.9126      0.016994           0.9336   \n",
       "0.2                        0.8208      0.017456           0.8346   \n",
       "0.3                        0.7398      0.018033           0.7682   \n",
       "0.4                        0.6554      0.024664           0.6656   \n",
       "0.5                        0.5546      0.016196           0.5578   \n",
       "0.6                        0.4680      0.029300           0.4796   \n",
       "0.7                        0.3682      0.032330           0.3470   \n",
       "0.8                        0.2402      0.022993           0.1980   \n",
       "0.9                        0.1262      0.017456           0.1110   \n",
       "1.0                        0.0792      0.021159           0.0122   \n",
       "\n",
       "                    validity_0 std  validity_1 mean  validity_1 std  \\\n",
       "significance_level                                                    \n",
       "0.0                       0.000000           1.0000        0.000000   \n",
       "0.1                       0.045391           0.9066        0.014293   \n",
       "0.2                       0.069920           0.8168        0.036107   \n",
       "0.3                       0.071678           0.7320        0.036104   \n",
       "0.4                       0.098261           0.6526        0.035529   \n",
       "0.5                       0.070091           0.5536        0.039183   \n",
       "0.6                       0.058722           0.4652        0.042476   \n",
       "0.7                       0.036810           0.3740        0.051054   \n",
       "0.8                       0.057905           0.2518        0.025411   \n",
       "0.9                       0.087141           0.1306        0.031651   \n",
       "1.0                       0.018281           0.0980        0.027267   \n",
       "\n",
       "                    validity_bal mean  validity_bal std  error_rate mean  \\\n",
       "significance_level                                                         \n",
       "0.0                            1.0000          0.000000           0.0000   \n",
       "0.1                            0.9201          0.025631           0.0874   \n",
       "0.2                            0.8257          0.022107           0.1792   \n",
       "0.3                            0.7501          0.024058           0.2602   \n",
       "0.4                            0.6591          0.042495           0.3446   \n",
       "0.5                            0.5557          0.017054           0.4454   \n",
       "0.6                            0.4724          0.027003           0.5320   \n",
       "0.7                            0.3605          0.012605           0.6318   \n",
       "0.8                            0.2249          0.031055           0.7598   \n",
       "0.9                            0.1208          0.034303           0.8738   \n",
       "1.0                            0.0551          0.015303           0.9208   \n",
       "\n",
       "                    error_rate std  ...  accuracy std  accuracy_0 mean  \\\n",
       "significance_level                  ...                                  \n",
       "0.0                       0.000000  ...      0.000000           0.0000   \n",
       "0.1                       0.016994  ...      0.016843           0.9256   \n",
       "0.2                       0.017456  ...      0.025014           0.9006   \n",
       "0.3                       0.018033  ...      0.016380           0.9440   \n",
       "0.4                       0.024664  ...      0.025189           0.9710   \n",
       "0.5                       0.016196  ...      0.022394           0.9852   \n",
       "0.6                       0.029300  ...      0.020897           0.9824   \n",
       "0.7                       0.032330  ...      0.017570           0.9888   \n",
       "0.8                       0.022993  ...      0.026931           0.9834   \n",
       "0.9                       0.017456  ...      0.018515           1.0000   \n",
       "1.0                       0.021159  ...      0.000000           0.4000   \n",
       "\n",
       "                    accuracy_0 std  accuracy_1 mean  accuracy_1 std  \\\n",
       "significance_level                                                    \n",
       "0.0                       0.000000           0.0000        0.000000   \n",
       "0.1                       0.048464           0.8932        0.016754   \n",
       "0.2                       0.041464           0.8812        0.039105   \n",
       "0.3                       0.032496           0.9024        0.026736   \n",
       "0.4                       0.030050           0.9244        0.030924   \n",
       "0.5                       0.020376           0.9496        0.027364   \n",
       "0.6                       0.024265           0.9652        0.023774   \n",
       "0.7                       0.025044           0.9744        0.018229   \n",
       "0.8                       0.037119           0.9690        0.025797   \n",
       "0.9                       0.000000           0.9842        0.022454   \n",
       "1.0                       0.547723           1.0000        0.000000   \n",
       "\n",
       "                    accuracy_bal mean  accuracy_bal std  significance_level  \\\n",
       "significance_level                                                            \n",
       "0.0                            0.0000          0.000000                 0.0   \n",
       "0.1                            0.9094          0.025924                 0.1   \n",
       "0.2                            0.8909          0.015974                 0.2   \n",
       "0.3                            0.9232          0.010878                 0.3   \n",
       "0.4                            0.9477          0.022811                 0.4   \n",
       "0.5                            0.9674          0.018209                 0.5   \n",
       "0.6                            0.9738          0.020290                 0.6   \n",
       "0.7                            0.9816          0.019018                 0.7   \n",
       "0.8                            0.9762          0.029387                 0.8   \n",
       "0.9                            0.9921          0.011227                 0.9   \n",
       "1.0                            0.7000          0.273861                 1.0   \n",
       "\n",
       "                    num_actives  num_inactives  \n",
       "significance_level                              \n",
       "0.0                       858.0          242.0  \n",
       "0.1                       858.0          242.0  \n",
       "0.2                       858.0          242.0  \n",
       "0.3                       858.0          242.0  \n",
       "0.4                       858.0          242.0  \n",
       "0.5                       858.0          242.0  \n",
       "0.6                       858.0          242.0  \n",
       "0.7                       858.0          242.0  \n",
       "0.8                       858.0          242.0  \n",
       "0.9                       858.0          242.0  \n",
       "1.0                       858.0          242.0  \n",
       "\n",
       "[11 rows x 35 columns]"
      ]
     },
     "execution_count": 38,
     "metadata": {},
     "output_type": "execute_result"
    }
   ],
   "source": [
    "# Look at evaluation df for cross validation (averaged over all folds)\n",
    "cross_validator.averaged_evaluation_df_cv"
   ]
  },
  {
   "cell_type": "code",
   "execution_count": 39,
   "metadata": {},
   "outputs": [
    {
     "data": {
      "text/html": [
       "<div>\n",
       "<style scoped>\n",
       "    .dataframe tbody tr th:only-of-type {\n",
       "        vertical-align: middle;\n",
       "    }\n",
       "\n",
       "    .dataframe tbody tr th {\n",
       "        vertical-align: top;\n",
       "    }\n",
       "\n",
       "    .dataframe thead th {\n",
       "        text-align: right;\n",
       "    }\n",
       "</style>\n",
       "<table border=\"1\" class=\"dataframe\">\n",
       "  <thead>\n",
       "    <tr style=\"text-align: right;\">\n",
       "      <th></th>\n",
       "      <th>validity mean</th>\n",
       "      <th>efficiency mean</th>\n",
       "      <th>accuracy mean</th>\n",
       "      <th>significance_level</th>\n",
       "    </tr>\n",
       "    <tr>\n",
       "      <th>significance_level</th>\n",
       "      <th></th>\n",
       "      <th></th>\n",
       "      <th></th>\n",
       "      <th></th>\n",
       "    </tr>\n",
       "  </thead>\n",
       "  <tbody>\n",
       "    <tr>\n",
       "      <th>0.0</th>\n",
       "      <td>1.0000</td>\n",
       "      <td>0.0000</td>\n",
       "      <td>0.0000</td>\n",
       "      <td>0.0</td>\n",
       "    </tr>\n",
       "    <tr>\n",
       "      <th>0.1</th>\n",
       "      <td>0.8088</td>\n",
       "      <td>0.5724</td>\n",
       "      <td>0.6774</td>\n",
       "      <td>0.1</td>\n",
       "    </tr>\n",
       "    <tr>\n",
       "      <th>0.2</th>\n",
       "      <td>0.4610</td>\n",
       "      <td>0.7178</td>\n",
       "      <td>0.6548</td>\n",
       "      <td>0.2</td>\n",
       "    </tr>\n",
       "    <tr>\n",
       "      <th>0.3</th>\n",
       "      <td>0.2822</td>\n",
       "      <td>0.4082</td>\n",
       "      <td>0.7018</td>\n",
       "      <td>0.3</td>\n",
       "    </tr>\n",
       "    <tr>\n",
       "      <th>0.4</th>\n",
       "      <td>0.1658</td>\n",
       "      <td>0.2300</td>\n",
       "      <td>0.7298</td>\n",
       "      <td>0.4</td>\n",
       "    </tr>\n",
       "    <tr>\n",
       "      <th>0.5</th>\n",
       "      <td>0.0874</td>\n",
       "      <td>0.1070</td>\n",
       "      <td>0.8252</td>\n",
       "      <td>0.5</td>\n",
       "    </tr>\n",
       "    <tr>\n",
       "      <th>0.6</th>\n",
       "      <td>0.0430</td>\n",
       "      <td>0.0502</td>\n",
       "      <td>0.8628</td>\n",
       "      <td>0.6</td>\n",
       "    </tr>\n",
       "    <tr>\n",
       "      <th>0.7</th>\n",
       "      <td>0.0268</td>\n",
       "      <td>0.0276</td>\n",
       "      <td>0.9778</td>\n",
       "      <td>0.7</td>\n",
       "    </tr>\n",
       "    <tr>\n",
       "      <th>0.8</th>\n",
       "      <td>0.0096</td>\n",
       "      <td>0.0096</td>\n",
       "      <td>0.8000</td>\n",
       "      <td>0.8</td>\n",
       "    </tr>\n",
       "    <tr>\n",
       "      <th>0.9</th>\n",
       "      <td>0.0030</td>\n",
       "      <td>0.0030</td>\n",
       "      <td>0.6000</td>\n",
       "      <td>0.9</td>\n",
       "    </tr>\n",
       "    <tr>\n",
       "      <th>1.0</th>\n",
       "      <td>0.0016</td>\n",
       "      <td>0.0016</td>\n",
       "      <td>0.4000</td>\n",
       "      <td>1.0</td>\n",
       "    </tr>\n",
       "  </tbody>\n",
       "</table>\n",
       "</div>"
      ],
      "text/plain": [
       "                    validity mean  efficiency mean  accuracy mean  \\\n",
       "significance_level                                                  \n",
       "0.0                        1.0000           0.0000         0.0000   \n",
       "0.1                        0.8088           0.5724         0.6774   \n",
       "0.2                        0.4610           0.7178         0.6548   \n",
       "0.3                        0.2822           0.4082         0.7018   \n",
       "0.4                        0.1658           0.2300         0.7298   \n",
       "0.5                        0.0874           0.1070         0.8252   \n",
       "0.6                        0.0430           0.0502         0.8628   \n",
       "0.7                        0.0268           0.0276         0.9778   \n",
       "0.8                        0.0096           0.0096         0.8000   \n",
       "0.9                        0.0030           0.0030         0.6000   \n",
       "1.0                        0.0016           0.0016         0.4000   \n",
       "\n",
       "                    significance_level  \n",
       "significance_level                      \n",
       "0.0                                0.0  \n",
       "0.1                                0.1  \n",
       "0.2                                0.2  \n",
       "0.3                                0.3  \n",
       "0.4                                0.4  \n",
       "0.5                                0.5  \n",
       "0.6                                0.6  \n",
       "0.7                                0.7  \n",
       "0.8                                0.8  \n",
       "0.9                                0.9  \n",
       "1.0                                1.0  "
      ]
     },
     "execution_count": 39,
     "metadata": {},
     "output_type": "execute_result"
    }
   ],
   "source": [
    "# Look at evaluation df predicting the score set (averaged over all folds)\n",
    "cross_validator.averaged_evaluation_df_pred_score[[\"validity mean\", \"efficiency mean\", \"accuracy mean\", \"significance_level\"]]"
   ]
  },
  {
   "cell_type": "markdown",
   "metadata": {},
   "source": [
    "### Calibration plots of CV and prediction of score set, using the 'original' calibration set"
   ]
  },
  {
   "cell_type": "markdown",
   "metadata": {},
   "source": [
    "The plot shows the mean (line) and standard deviation (area) of the evaluation measures indicated in the legend (expected_error_rate excluded) over the fivefold crossvalidation. "
   ]
  },
  {
   "cell_type": "code",
   "execution_count": 40,
   "metadata": {},
   "outputs": [
    {
     "data": {
      "text/plain": [
       "<module 'matplotlib.pyplot' from '/home/andrea/anaconda2/envs/recalibration_si/lib/python3.8/site-packages/matplotlib/pyplot.py'>"
      ]
     },
     "execution_count": 40,
     "metadata": {},
     "output_type": "execute_result"
    },
    {
     "data": {
      "image/png": "[encoded data removed]",
      "text/plain": [
       "<Figure size 432x288 with 1 Axes>"
      ]
     },
     "metadata": {
      "needs_background": "light"
     },
     "output_type": "display_data"
    }
   ],
   "source": [
    "cross_validator.calibration_plot(endpoint=endpoint, averaged_evaluation_df=cross_validator.averaged_evaluation_df_cv)"
   ]
  },
  {
   "cell_type": "code",
   "execution_count": 41,
   "metadata": {},
   "outputs": [
    {
     "data": {
      "text/plain": [
       "<module 'matplotlib.pyplot' from '/home/andrea/anaconda2/envs/recalibration_si/lib/python3.8/site-packages/matplotlib/pyplot.py'>"
      ]
     },
     "execution_count": 41,
     "metadata": {},
     "output_type": "execute_result"
    },
    {
     "data": {
      "image/png": "[encoded data removed]",
      "text/plain": [
       "<Figure size 432x288 with 1 Axes>"
      ]
     },
     "metadata": {
      "needs_background": "light"
     },
     "output_type": "display_data"
    }
   ],
   "source": [
    "cross_validator.calibration_plot(endpoint=endpoint, averaged_evaluation_df=cross_validator.averaged_evaluation_df_pred_score)"
   ]
  },
  {
   "cell_type": "code",
   "execution_count": 42,
   "metadata": {},
   "outputs": [],
   "source": [
    "# We would get an assertion error, if we try to plot the calibration plot using the updated calibration set, \n",
    "# since we have not updated it yet.\n",
    "# cross_validator.calibration_plot(endpoint=endpoint, averaged_evaluation_df=cross_validator.averaged_evaluation_df_cal_update_1)"
   ]
  },
  {
   "cell_type": "code",
   "execution_count": 43,
   "metadata": {},
   "outputs": [
    {
     "name": "stdout",
     "output_type": "stream",
     "text": [
      "880\n"
     ]
    }
   ],
   "source": [
    "print(len(cross_validator.train_indices[0]))"
   ]
  },
  {
   "cell_type": "markdown",
   "metadata": {},
   "source": [
    "### Update the calibration set within the crossvalidator\n",
    "Note: here we show the first update step with X_update1/y_update1. We could add one more update step with X_update2/y_update2."
   ]
  },
  {
   "cell_type": "code",
   "execution_count": 44,
   "metadata": {},
   "outputs": [],
   "source": [
    "# For control, the 'updated number' is printed, which is the number under which the updated \n",
    "# model/predictions are saved. This is important since the number will be incremented\n",
    "# automatically when another number is already used.\n",
    "cross_validator.cross_validate_calibrate_update(X_update=X_update1, y_update=y_update1, X_score=X_holdout, y_score=y_holdout, steps=10, endpoint=endpoint)"
   ]
  },
  {
   "cell_type": "code",
   "execution_count": 45,
   "metadata": {},
   "outputs": [
    {
     "data": {
      "text/plain": [
       "dict_keys(['cv', 'pred_score', 'cal_update_1'])"
      ]
     },
     "execution_count": 45,
     "metadata": {},
     "output_type": "execute_result"
    }
   ],
   "source": [
    "cross_validator._evaluation_dfs.keys()"
   ]
  },
  {
   "cell_type": "code",
   "execution_count": 46,
   "metadata": {},
   "outputs": [
    {
     "data": {
      "text/plain": [
       "dict_keys(['cv', 'pred_score', 'cal_update_1'])"
      ]
     },
     "execution_count": 46,
     "metadata": {},
     "output_type": "execute_result"
    }
   ],
   "source": [
    "cross_validator._predictions.keys()"
   ]
  },
  {
   "cell_type": "code",
   "execution_count": 47,
   "metadata": {},
   "outputs": [
    {
     "name": "stdout",
     "output_type": "stream",
     "text": [
      "5\n"
     ]
    }
   ],
   "source": [
    "print(len(cross_validator.predictors))"
   ]
  },
  {
   "cell_type": "code",
   "execution_count": 48,
   "metadata": {},
   "outputs": [
    {
     "data": {
      "text/html": [
       "<div>\n",
       "<style scoped>\n",
       "    .dataframe tbody tr th:only-of-type {\n",
       "        vertical-align: middle;\n",
       "    }\n",
       "\n",
       "    .dataframe tbody tr th {\n",
       "        vertical-align: top;\n",
       "    }\n",
       "\n",
       "    .dataframe thead th {\n",
       "        text-align: right;\n",
       "    }\n",
       "</style>\n",
       "<table border=\"1\" class=\"dataframe\">\n",
       "  <thead>\n",
       "    <tr style=\"text-align: right;\">\n",
       "      <th></th>\n",
       "      <th>validity mean</th>\n",
       "      <th>efficiency mean</th>\n",
       "      <th>accuracy mean</th>\n",
       "      <th>significance_level</th>\n",
       "    </tr>\n",
       "    <tr>\n",
       "      <th>significance_level</th>\n",
       "      <th></th>\n",
       "      <th></th>\n",
       "      <th></th>\n",
       "      <th></th>\n",
       "    </tr>\n",
       "  </thead>\n",
       "  <tbody>\n",
       "    <tr>\n",
       "      <th>0.0</th>\n",
       "      <td>1.0000</td>\n",
       "      <td>0.0000</td>\n",
       "      <td>0.0000</td>\n",
       "      <td>0.0</td>\n",
       "    </tr>\n",
       "    <tr>\n",
       "      <th>0.1</th>\n",
       "      <td>0.8792</td>\n",
       "      <td>0.4256</td>\n",
       "      <td>0.7220</td>\n",
       "      <td>0.1</td>\n",
       "    </tr>\n",
       "    <tr>\n",
       "      <th>0.2</th>\n",
       "      <td>0.7862</td>\n",
       "      <td>0.6662</td>\n",
       "      <td>0.6832</td>\n",
       "      <td>0.2</td>\n",
       "    </tr>\n",
       "    <tr>\n",
       "      <th>0.3</th>\n",
       "      <td>0.7006</td>\n",
       "      <td>0.8626</td>\n",
       "      <td>0.6658</td>\n",
       "      <td>0.3</td>\n",
       "    </tr>\n",
       "    <tr>\n",
       "      <th>0.4</th>\n",
       "      <td>0.5978</td>\n",
       "      <td>0.8734</td>\n",
       "      <td>0.6624</td>\n",
       "      <td>0.4</td>\n",
       "    </tr>\n",
       "    <tr>\n",
       "      <th>0.5</th>\n",
       "      <td>0.5040</td>\n",
       "      <td>0.7382</td>\n",
       "      <td>0.6836</td>\n",
       "      <td>0.5</td>\n",
       "    </tr>\n",
       "    <tr>\n",
       "      <th>0.6</th>\n",
       "      <td>0.4038</td>\n",
       "      <td>0.5644</td>\n",
       "      <td>0.7176</td>\n",
       "      <td>0.6</td>\n",
       "    </tr>\n",
       "    <tr>\n",
       "      <th>0.7</th>\n",
       "      <td>0.3010</td>\n",
       "      <td>0.4056</td>\n",
       "      <td>0.7462</td>\n",
       "      <td>0.7</td>\n",
       "    </tr>\n",
       "    <tr>\n",
       "      <th>0.8</th>\n",
       "      <td>0.2038</td>\n",
       "      <td>0.2700</td>\n",
       "      <td>0.7580</td>\n",
       "      <td>0.8</td>\n",
       "    </tr>\n",
       "    <tr>\n",
       "      <th>0.9</th>\n",
       "      <td>0.0860</td>\n",
       "      <td>0.1142</td>\n",
       "      <td>0.7604</td>\n",
       "      <td>0.9</td>\n",
       "    </tr>\n",
       "    <tr>\n",
       "      <th>1.0</th>\n",
       "      <td>0.0036</td>\n",
       "      <td>0.0036</td>\n",
       "      <td>0.6000</td>\n",
       "      <td>1.0</td>\n",
       "    </tr>\n",
       "  </tbody>\n",
       "</table>\n",
       "</div>"
      ],
      "text/plain": [
       "                    validity mean  efficiency mean  accuracy mean  \\\n",
       "significance_level                                                  \n",
       "0.0                        1.0000           0.0000         0.0000   \n",
       "0.1                        0.8792           0.4256         0.7220   \n",
       "0.2                        0.7862           0.6662         0.6832   \n",
       "0.3                        0.7006           0.8626         0.6658   \n",
       "0.4                        0.5978           0.8734         0.6624   \n",
       "0.5                        0.5040           0.7382         0.6836   \n",
       "0.6                        0.4038           0.5644         0.7176   \n",
       "0.7                        0.3010           0.4056         0.7462   \n",
       "0.8                        0.2038           0.2700         0.7580   \n",
       "0.9                        0.0860           0.1142         0.7604   \n",
       "1.0                        0.0036           0.0036         0.6000   \n",
       "\n",
       "                    significance_level  \n",
       "significance_level                      \n",
       "0.0                                0.0  \n",
       "0.1                                0.1  \n",
       "0.2                                0.2  \n",
       "0.3                                0.3  \n",
       "0.4                                0.4  \n",
       "0.5                                0.5  \n",
       "0.6                                0.6  \n",
       "0.7                                0.7  \n",
       "0.8                                0.8  \n",
       "0.9                                0.9  \n",
       "1.0                                1.0  "
      ]
     },
     "execution_count": 48,
     "metadata": {},
     "output_type": "execute_result"
    }
   ],
   "source": [
    "# Look at evaluation df predicting the score set using the updated calibration set (averaged over all folds)\n",
    "cross_validator.averaged_evaluation_df_cal_update_1[[\"validity mean\", \"efficiency mean\", \"accuracy mean\", \"significance_level\"]]"
   ]
  },
  {
   "cell_type": "markdown",
   "metadata": {},
   "source": [
    "### Calibration plot for the score set using the updated calibration set"
   ]
  },
  {
   "cell_type": "code",
   "execution_count": 49,
   "metadata": {},
   "outputs": [
    {
     "data": {
      "text/plain": [
       "<module 'matplotlib.pyplot' from '/home/andrea/anaconda2/envs/recalibration_si/lib/python3.8/site-packages/matplotlib/pyplot.py'>"
      ]
     },
     "execution_count": 49,
     "metadata": {},
     "output_type": "execute_result"
    },
    {
     "data": {
      "image/png": "[encoded data removed]",
      "text/plain": [
       "<Figure size 432x288 with 1 Axes>"
      ]
     },
     "metadata": {
      "needs_background": "light"
     },
     "output_type": "display_data"
    }
   ],
   "source": [
    "cross_validator.calibration_plot(endpoint=endpoint, averaged_evaluation_df=cross_validator.averaged_evaluation_df_cal_update_1)"
   ]
  },
  {
   "cell_type": "code",
   "execution_count": 50,
   "metadata": {},
   "outputs": [],
   "source": [
    "strategies = [\"cv_original\", \"original\", \"update1\"]\n",
    "eval_df_columns = [\"validity_bal mean\", \"efficiency_bal mean\", \"accuracy_bal mean\", \"significance_level\"]"
   ]
  },
  {
   "cell_type": "code",
   "execution_count": 51,
   "metadata": {},
   "outputs": [
    {
     "name": "stdout",
     "output_type": "stream",
     "text": [
      "['validity_bal', 'efficiency_bal', 'accuracy_bal']\n"
     ]
    }
   ],
   "source": [
    "evaluation_measures = [m.split(\" \")[0] for m in eval_df_columns[:-1]]\n",
    "print(evaluation_measures)"
   ]
  },
  {
   "cell_type": "code",
   "execution_count": 52,
   "metadata": {},
   "outputs": [],
   "source": [
    "evaluation_dfs_dict = {}\n",
    "evaluation_dfs_dict[\"cv_original\"] = cross_validator.averaged_evaluation_df_cv[eval_df_columns]\n",
    "evaluation_dfs_dict[\"original\"] = cross_validator.averaged_evaluation_df_pred_score[eval_df_columns]\n",
    "evaluation_dfs_dict[\"update1\"] = cross_validator.averaged_evaluation_df_cal_update_1[eval_df_columns]"
   ]
  },
  {
   "cell_type": "code",
   "execution_count": 53,
   "metadata": {},
   "outputs": [],
   "source": [
    "from continuous_calibration_helper_functions import draw_scatter_plot_one_endpoint"
   ]
  },
  {
   "cell_type": "code",
   "execution_count": 54,
   "metadata": {},
   "outputs": [],
   "source": [
    "import matplotlib.pyplot as plt"
   ]
  },
  {
   "cell_type": "markdown",
   "metadata": {},
   "source": [
    "### Scatter plot to compare different strategies"
   ]
  },
  {
   "cell_type": "markdown",
   "metadata": {},
   "source": [
    "To compare balanced validity, balanced efficiency and balanced accuracy for the three strategies, they are plotted in a scatter plot"
   ]
  },
  {
   "cell_type": "code",
   "execution_count": 55,
   "metadata": {},
   "outputs": [
    {
     "data": {
      "text/plain": [
       "(<module 'matplotlib.pyplot' from '/home/andrea/anaconda2/envs/recalibration_si/lib/python3.8/site-packages/matplotlib/pyplot.py'>,\n",
       " <matplotlib.legend.Legend at 0x7f16c40e0e50>)"
      ]
     },
     "execution_count": 55,
     "metadata": {},
     "output_type": "execute_result"
    },
    {
     "data": {
      "image/png": "[encoded data removed]",
      "text/plain": [
       "<Figure size 432x288 with 1 Axes>"
      ]
     },
     "metadata": {
      "needs_background": "light"
     },
     "output_type": "display_data"
    }
   ],
   "source": [
    "draw_scatter_plot_one_endpoint(endpoint, evaluation_dfs_dict, evaluation_measures=evaluation_measures)"
   ]
  },
  {
   "cell_type": "markdown",
   "metadata": {},
   "source": [
    "### UMAP to analyse chemical space of subsets"
   ]
  },
  {
   "cell_type": "markdown",
   "metadata": {},
   "source": [
    "A UMAP can be helpful to analyse the chemical space of the subsets. Ideally, the update and holdout sets cover a similar descriptor space.\n",
    "In the first step, we create an embedding, in a second step, this will be plotted.\n",
    "\n",
    "Note that, in this notebook, we only showed one step of updating with the update1 set. For our study, we updated the calibration set again, i.e. with update2 set and with the combined update1_and_2_set. Hence, the UMAP shows the descriptor space of all four subsets: training set, update1 set, update2 set, and holdout set."
   ]
  },
  {
   "cell_type": "code",
   "execution_count": 56,
   "metadata": {},
   "outputs": [
    {
     "name": "stdout",
     "output_type": "stream",
     "text": [
      "desc chembio\n"
     ]
    }
   ],
   "source": [
    "embedding, colours_numbers = create_umap_data(\n",
    "    chembl_id=endpoint, descriptors_df=data, thresholds=thresholds, n_neighbors=n_neighbors,\n",
    "    min_distances=min_distances, distance_metric=distance_metric, dataset_colours=umap_colours)"
   ]
  },
  {
   "cell_type": "code",
   "execution_count": 57,
   "metadata": {},
   "outputs": [
    {
     "name": "stdout",
     "output_type": "stream",
     "text": [
      "2111\n"
     ]
    },
    {
     "data": {
      "image/png": "[encoded data removed]",
      "text/plain": [
       "<Figure size 481.89x481.89 with 1 Axes>"
      ]
     },
     "metadata": {
      "needs_background": "light"
     },
     "output_type": "display_data"
    }
   ],
   "source": [
    "umap_plot = plot_umap(embedding, endpoint, colours_datasets=colours_numbers, umap_colours=umap_colours, n_neighbor=n_neighbors, min_distance=min_distances, distance_metric=distance_metric)"
   ]
  }
 ],
 "metadata": {
  "kernelspec": {
   "display_name": "Python 3",
   "language": "python",
   "name": "python3"
  },
  "language_info": {
   "codemirror_mode": {
    "name": "ipython",
    "version": 3
   },
   "file_extension": ".py",
   "mimetype": "text/x-python",
   "name": "python",
   "nbconvert_exporter": "python",
   "pygments_lexer": "ipython3",
   "version": "3.8.10"
  }
 },
 "nbformat": 4,
 "nbformat_minor": 4
}
