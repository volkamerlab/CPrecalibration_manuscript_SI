{
 "cells": [
  {
   "cell_type": "markdown",
   "metadata": {},
   "source": [
    "# Example notebook continuous calibration"
   ]
  },
  {
   "cell_type": "markdown",
   "metadata": {},
   "source": [
    "In this notebook, the use of the CP classes for continuous calibration are demonstrated. Note that no 'suitable' dataset is available yet. The dataset used and split is just there to illustrate the workflow, but no results can be interpreted yet"
   ]
  },
  {
   "cell_type": "markdown",
   "metadata": {},
   "source": [
    "### Import packages and modules"
   ]
  },
  {
   "cell_type": "code",
   "execution_count": 1,
   "metadata": {},
   "outputs": [],
   "source": [
    "import pandas as pd\n",
    "import numpy as np\n",
    "import sys\n",
    "import tarfile"
   ]
  },
  {
   "cell_type": "code",
   "execution_count": 2,
   "metadata": {},
   "outputs": [],
   "source": [
    "from sklearn.ensemble import RandomForestClassifier\n",
    "from sklearn.neighbors import KNeighborsRegressor"
   ]
  },
  {
   "cell_type": "code",
   "execution_count": 3,
   "metadata": {},
   "outputs": [],
   "source": [
    "from nonconformist.nc import InverseProbabilityErrFunc, NcFactory"
   ]
  },
  {
   "cell_type": "code",
   "execution_count": 4,
   "metadata": {},
   "outputs": [],
   "source": [
    "from continuous_calibration import (\n",
    "StratifiedRatioSampler, BalancedStratifiedRatioSampler, CrossValidationSampler, InductiveConformalPredictor, \n",
    "    ContinuousCalibrationAggregatedConformalPredictor, CrossValidator\n",
    ")"
   ]
  },
  {
   "cell_type": "markdown",
   "metadata": {},
   "source": [
    "### Define paths and parameters"
   ]
  },
  {
   "cell_type": "code",
   "execution_count": 5,
   "metadata": {},
   "outputs": [],
   "source": [
    "data_path = \"../data/chembl_chembio_descriptors.tar.bz2\"\n",
    "time_split_threshold_path = \"../data/data_size_chembio_chembl.csv\""
   ]
  },
  {
   "cell_type": "code",
   "execution_count": 6,
   "metadata": {},
   "outputs": [],
   "source": [
    "endpoint = \"CHEMBL228\""
   ]
  },
  {
   "cell_type": "code",
   "execution_count": 7,
   "metadata": {},
   "outputs": [],
   "source": [
    "ntrees = 500 #100  # 500\n",
    "n_folds_acp = 20 #3  # 20\n",
    "\n",
    "ratio_sampler = StratifiedRatioSampler(n_folds=n_folds_acp)"
   ]
  },
  {
   "cell_type": "markdown",
   "metadata": {},
   "source": [
    "### Load data"
   ]
  },
  {
   "cell_type": "code",
   "execution_count": 8,
   "metadata": {},
   "outputs": [],
   "source": [
    "# Due to the size of the datasets containing the chembio descriptors, \n",
    "# they were uploaded to GitHub as tar.bz2 files and need to be unpacked first\n",
    "tar = tarfile.open(data_path)"
   ]
  },
  {
   "cell_type": "code",
   "execution_count": 9,
   "metadata": {},
   "outputs": [
    {
     "name": "stdout",
     "output_type": "stream",
     "text": [
      "CHEMBL228\n"
     ]
    }
   ],
   "source": [
    "# The data is collected in the `files` dict, containing as keys the ChEMBL endpoint name and as value the dataframe\n",
    "files = {}\n",
    "for i, name in zip(tar, tar.getnames()):\n",
    "    file = tar.extractfile(i)\n",
    "    if file:  # Extraction also yields an empty folder (?) which will be ignored\n",
    "        n = name.split(\"/\")[1].split('_')[0]  # Get ChEMBL endpoint name from filename\n",
    "        if n == endpoint:\n",
    "            print(n)\n",
    "            df = pd.read_csv(file)  # Read df\n",
    "            files[n] = df  # Store in dict"
   ]
  },
  {
   "cell_type": "code",
   "execution_count": 10,
   "metadata": {},
   "outputs": [],
   "source": [
    "# Select a specific example dataset\n",
    "data = files[endpoint]\n",
    "data.dropna(subset=[\"year\"], inplace=True)"
   ]
  },
  {
   "cell_type": "code",
   "execution_count": 11,
   "metadata": {},
   "outputs": [
    {
     "data": {
      "text/plain": [
       "array([0, 0, 0, ..., 1, 1, 1])"
      ]
     },
     "execution_count": 11,
     "metadata": {},
     "output_type": "execute_result"
    }
   ],
   "source": [
    "# Define labels\n",
    "y = data[f\"{endpoint}_bioactivity\"].values\n",
    "y"
   ]
  },
  {
   "cell_type": "code",
   "execution_count": 12,
   "metadata": {
    "scrolled": true
   },
   "outputs": [
    {
     "data": {
      "text/plain": [
       "array([[-0.20278679, -0.8864429 , -0.64854513, ...,  0.16953868,\n",
       "        -0.77970748,  0.79482231],\n",
       "       [-0.28295224,  0.26077434, -0.64854513, ...,  0.22767178,\n",
       "        -0.88450568,  1.35093976],\n",
       "       [-0.25159849,  0.26077434, -0.64854513, ...,  1.27806444,\n",
       "        -0.8843573 ,  1.21098428],\n",
       "       ...,\n",
       "       [-1.11368145, -0.8864429 , -0.64854513, ..., -0.77273345,\n",
       "         1.32371173, -1.3983778 ],\n",
       "       [-0.17143304, -0.8864429 ,  2.04678629, ..., -2.01146873,\n",
       "         0.25305191, -0.58964739],\n",
       "       [-0.17143304,  0.28045739, -0.64854513, ..., -1.4576498 ,\n",
       "         1.71728142, -1.53578739]])"
      ]
     },
     "execution_count": 12,
     "metadata": {},
     "output_type": "execute_result"
    }
   ],
   "source": [
    "# Define features (p-values and chemical descriptors)\n",
    "columns = [col for col in data.columns if col.startswith('p') or col.startswith('byte')]\n",
    "X = data[columns].values\n",
    "X"
   ]
  },
  {
   "cell_type": "code",
   "execution_count": 13,
   "metadata": {},
   "outputs": [
    {
     "data": {
      "text/plain": [
       "array([2011., 2018., 2016., ..., 2018., 2009., 2014.])"
      ]
     },
     "execution_count": 13,
     "metadata": {},
     "output_type": "execute_result"
    }
   ],
   "source": [
    "years = data[\"year\"].values\n",
    "years"
   ]
  },
  {
   "cell_type": "markdown",
   "metadata": {},
   "source": [
    "### Split data"
   ]
  },
  {
   "cell_type": "markdown",
   "metadata": {},
   "source": [
    "#### Load dataframe defining time-split thresholds per endpoint"
   ]
  },
  {
   "cell_type": "code",
   "execution_count": 14,
   "metadata": {},
   "outputs": [
    {
     "data": {
      "text/html": [
       "<div>\n",
       "<style scoped>\n",
       "    .dataframe tbody tr th:only-of-type {\n",
       "        vertical-align: middle;\n",
       "    }\n",
       "\n",
       "    .dataframe tbody tr th {\n",
       "        vertical-align: top;\n",
       "    }\n",
       "\n",
       "    .dataframe thead th {\n",
       "        text-align: right;\n",
       "    }\n",
       "</style>\n",
       "<table border=\"1\" class=\"dataframe\">\n",
       "  <thead>\n",
       "    <tr style=\"text-align: right;\">\n",
       "      <th></th>\n",
       "      <th>train_thresh</th>\n",
       "      <th>update1_thresh</th>\n",
       "      <th>update2_thresh</th>\n",
       "    </tr>\n",
       "    <tr>\n",
       "      <th>chembl_id</th>\n",
       "      <th></th>\n",
       "      <th></th>\n",
       "      <th></th>\n",
       "    </tr>\n",
       "  </thead>\n",
       "  <tbody>\n",
       "    <tr>\n",
       "      <th>CHEMBL220</th>\n",
       "      <td>2014</td>\n",
       "      <td>2016</td>\n",
       "      <td>2017</td>\n",
       "    </tr>\n",
       "    <tr>\n",
       "      <th>CHEMBL4078</th>\n",
       "      <td>2014</td>\n",
       "      <td>2015</td>\n",
       "      <td>2016</td>\n",
       "    </tr>\n",
       "    <tr>\n",
       "      <th>CHEMBL5763</th>\n",
       "      <td>2015</td>\n",
       "      <td>2016</td>\n",
       "      <td>2017</td>\n",
       "    </tr>\n",
       "    <tr>\n",
       "      <th>CHEMBL203</th>\n",
       "      <td>2012</td>\n",
       "      <td>2014</td>\n",
       "      <td>2016</td>\n",
       "    </tr>\n",
       "    <tr>\n",
       "      <th>CHEMBL206</th>\n",
       "      <td>2006</td>\n",
       "      <td>2012</td>\n",
       "      <td>2016</td>\n",
       "    </tr>\n",
       "    <tr>\n",
       "      <th>CHEMBL279</th>\n",
       "      <td>2010</td>\n",
       "      <td>2013</td>\n",
       "      <td>2014</td>\n",
       "    </tr>\n",
       "    <tr>\n",
       "      <th>CHEMBL230</th>\n",
       "      <td>2010</td>\n",
       "      <td>2013</td>\n",
       "      <td>2015</td>\n",
       "    </tr>\n",
       "    <tr>\n",
       "      <th>CHEMBL340</th>\n",
       "      <td>2012</td>\n",
       "      <td>2014</td>\n",
       "      <td>2015</td>\n",
       "    </tr>\n",
       "    <tr>\n",
       "      <th>CHEMBL240</th>\n",
       "      <td>2012</td>\n",
       "      <td>2014</td>\n",
       "      <td>2016</td>\n",
       "    </tr>\n",
       "    <tr>\n",
       "      <th>CHEMBL2039</th>\n",
       "      <td>2014</td>\n",
       "      <td>2015</td>\n",
       "      <td>2017</td>\n",
       "    </tr>\n",
       "    <tr>\n",
       "      <th>CHEMBL222</th>\n",
       "      <td>2009</td>\n",
       "      <td>2011</td>\n",
       "      <td>2015</td>\n",
       "    </tr>\n",
       "    <tr>\n",
       "      <th>CHEMBL228</th>\n",
       "      <td>2009</td>\n",
       "      <td>2011</td>\n",
       "      <td>2014</td>\n",
       "    </tr>\n",
       "  </tbody>\n",
       "</table>\n",
       "</div>"
      ],
      "text/plain": [
       "            train_thresh  update1_thresh  update2_thresh\n",
       "chembl_id                                               \n",
       "CHEMBL220           2014            2016            2017\n",
       "CHEMBL4078          2014            2015            2016\n",
       "CHEMBL5763          2015            2016            2017\n",
       "CHEMBL203           2012            2014            2016\n",
       "CHEMBL206           2006            2012            2016\n",
       "CHEMBL279           2010            2013            2014\n",
       "CHEMBL230           2010            2013            2015\n",
       "CHEMBL340           2012            2014            2015\n",
       "CHEMBL240           2012            2014            2016\n",
       "CHEMBL2039          2014            2015            2017\n",
       "CHEMBL222           2009            2011            2015\n",
       "CHEMBL228           2009            2011            2014"
      ]
     },
     "execution_count": 14,
     "metadata": {},
     "output_type": "execute_result"
    }
   ],
   "source": [
    "splits_df = pd.read_csv(time_split_threshold_path, index_col=0, \n",
    "                        usecols=[\"chembl_id\", \"train_thresh\", \"update1_thresh\", \"update2_thresh\"])\n",
    "splits_df"
   ]
  },
  {
   "cell_type": "code",
   "execution_count": 15,
   "metadata": {},
   "outputs": [
    {
     "data": {
      "text/plain": [
       "Index(['CHEMBL220', 'CHEMBL4078', 'CHEMBL5763', 'CHEMBL203', 'CHEMBL206',\n",
       "       'CHEMBL279', 'CHEMBL230', 'CHEMBL340', 'CHEMBL240', 'CHEMBL2039',\n",
       "       'CHEMBL222', 'CHEMBL228'],\n",
       "      dtype='object', name='chembl_id')"
      ]
     },
     "execution_count": 15,
     "metadata": {},
     "output_type": "execute_result"
    }
   ],
   "source": [
    "splits_df.index"
   ]
  },
  {
   "cell_type": "code",
   "execution_count": 16,
   "metadata": {},
   "outputs": [
    {
     "data": {
      "text/plain": [
       "(2009, 2011, 2014)"
      ]
     },
     "execution_count": 16,
     "metadata": {},
     "output_type": "execute_result"
    }
   ],
   "source": [
    "# Get year thresholds for selected endpoint\n",
    "thresholds = splits_df[\"train_thresh\"][endpoint], splits_df[\"update1_thresh\"][endpoint], splits_df[\"update2_thresh\"][endpoint]\n",
    "thresholds"
   ]
  },
  {
   "cell_type": "code",
   "execution_count": 17,
   "metadata": {},
   "outputs": [],
   "source": [
    "mask_train = years <= thresholds[0]\n",
    "mask_update1 = (years > thresholds[0]) & (years <= thresholds[1])\n",
    "mask_update2 = (years > thresholds[1]) & (years <= thresholds[2])\n",
    "mask_holdout = years > thresholds[2]\n",
    "\n",
    "X_train, y_train = X[mask_train], y[mask_train]\n",
    "X_update1, y_update1 = X[mask_update1], y[mask_update1]\n",
    "X_update2, y_update2 = X[mask_update2], y[mask_update2]\n",
    "X_holdout, y_holdout = X[mask_holdout], y[mask_holdout]"
   ]
  },
  {
   "cell_type": "code",
   "execution_count": 18,
   "metadata": {},
   "outputs": [
    {
     "name": "stdout",
     "output_type": "stream",
     "text": [
      "(1100,) (1100, 2241)\n",
      "(470,) (470, 2241)\n",
      "(266,) (266, 2241)\n",
      "(275,) (275, 2241)\n",
      "858 373 235 196\n"
     ]
    }
   ],
   "source": [
    "# Check len of arrays\n",
    "print(y_train.shape, X_train.shape)\n",
    "print(y_update1.shape, X_update1.shape)\n",
    "print(y_update2.shape, X_update2.shape)\n",
    "print(y_holdout.shape, X_holdout.shape)\n",
    "# Check if we have actives and inactives in all datasets\n",
    "print(y_train.sum(), y_update1.sum(), y_update2.sum(), y_holdout.sum())"
   ]
  },
  {
   "cell_type": "markdown",
   "metadata": {},
   "source": [
    "### Prepare the ACP"
   ]
  },
  {
   "cell_type": "code",
   "execution_count": 19,
   "metadata": {},
   "outputs": [],
   "source": [
    "clf = RandomForestClassifier(n_estimators=ntrees)\n",
    "error_function = InverseProbabilityErrFunc()\n",
    "nc = NcFactory.create_nc(\n",
    "        clf, err_func=error_function, normalizer_model=None\n",
    "    )\n",
    "icp = InductiveConformalPredictor(\n",
    "        nc_function=nc, smoothing=False, condition=(lambda instance: instance[1])\n",
    "    )  # Mondrian as (default) condition)"
   ]
  },
  {
   "cell_type": "code",
   "execution_count": 20,
   "metadata": {},
   "outputs": [],
   "source": [
    "acp = ContinuousCalibrationAggregatedConformalPredictor(predictor=icp, sampler=ratio_sampler,\n",
    "        aggregation_func=np.median\n",
    "    )"
   ]
  },
  {
   "cell_type": "markdown",
   "metadata": {},
   "source": [
    "### Fit and calibrate the model, make predictions\n",
    "Calibrate with the `original` calibration set, which is a split from X_train/y_train"
   ]
  },
  {
   "cell_type": "code",
   "execution_count": 21,
   "metadata": {},
   "outputs": [],
   "source": [
    "acp.fit_calibrate(X_train=X_train, y_train=y_train)"
   ]
  },
  {
   "cell_type": "code",
   "execution_count": 22,
   "metadata": {},
   "outputs": [
    {
     "data": {
      "text/plain": [
       "array([[0.41891892, 0.04069767],\n",
       "       [0.37162162, 0.04651163],\n",
       "       [0.35135135, 0.04844961],\n",
       "       [0.31081081, 0.05232558],\n",
       "       [0.18243243, 0.09108527]])"
      ]
     },
     "execution_count": 22,
     "metadata": {},
     "output_type": "execute_result"
    }
   ],
   "source": [
    "original_prediction = acp.predict(X_score=X_holdout)\n",
    "\n",
    "original_prediction[:5]"
   ]
  },
  {
   "cell_type": "markdown",
   "metadata": {},
   "source": [
    "### Update calibration set\n",
    "Calibrate the fitted (not yet calibrated) predictors with a 'new' dataset"
   ]
  },
  {
   "cell_type": "code",
   "execution_count": 23,
   "metadata": {},
   "outputs": [
    {
     "name": "stdout",
     "output_type": "stream",
     "text": [
      "{}\n"
     ]
    }
   ],
   "source": [
    "# Check that no `calibrated update` predictor yet\n",
    "print(acp.predictors_calibrated_update)"
   ]
  },
  {
   "cell_type": "code",
   "execution_count": 24,
   "metadata": {},
   "outputs": [
    {
     "name": "stdout",
     "output_type": "stream",
     "text": [
      "final n:  1\n"
     ]
    },
    {
     "data": {
      "text/plain": [
       "1"
      ]
     },
     "execution_count": 24,
     "metadata": {},
     "output_type": "execute_result"
    }
   ],
   "source": [
    "acp.calibrate_update(X_update=X_update1, y_update=y_update1)"
   ]
  },
  {
   "cell_type": "code",
   "execution_count": 25,
   "metadata": {},
   "outputs": [
    {
     "name": "stdout",
     "output_type": "stream",
     "text": [
      "updated_number:  1\n"
     ]
    },
    {
     "data": {
      "text/plain": [
       "array([[0.90816327, 0.01871658],\n",
       "       [0.88265306, 0.02673797],\n",
       "       [0.8622449 , 0.02673797],\n",
       "       [0.83163265, 0.03342246],\n",
       "       [0.41836735, 0.17112299]])"
      ]
     },
     "execution_count": 25,
     "metadata": {},
     "output_type": "execute_result"
    }
   ],
   "source": [
    "# Make predictions with the model and the updated calibration set\n",
    "calibrate_update_prediction = acp.predict_calibrate_update(updated_number=1, X_score=X_holdout)\n",
    "calibrate_update_prediction[:5]"
   ]
  },
  {
   "cell_type": "markdown",
   "metadata": {},
   "source": [
    "### New calibration\n",
    "We can update with an even 'newer' calibration set (as often as we want). The model with the updated calibration set will be saved in the acp object."
   ]
  },
  {
   "cell_type": "code",
   "execution_count": 26,
   "metadata": {},
   "outputs": [
    {
     "name": "stdout",
     "output_type": "stream",
     "text": [
      "dict_keys(['update_1'])\n"
     ]
    }
   ],
   "source": [
    "# Check how many updated calibration sets we already have. Here, this should be 1\n",
    "print(acp.predictors_calibrated_update.keys())"
   ]
  },
  {
   "cell_type": "code",
   "execution_count": 27,
   "metadata": {},
   "outputs": [
    {
     "name": "stdout",
     "output_type": "stream",
     "text": [
      "n 1\n",
      "final n:  2\n"
     ]
    },
    {
     "data": {
      "text/plain": [
       "2"
      ]
     },
     "execution_count": 27,
     "metadata": {},
     "output_type": "execute_result"
    }
   ],
   "source": [
    "acp.calibrate_update(X_update=X_update2, y_update=y_update2)"
   ]
  },
  {
   "cell_type": "code",
   "execution_count": 28,
   "metadata": {},
   "outputs": [
    {
     "name": "stdout",
     "output_type": "stream",
     "text": [
      "updated_number:  2\n"
     ]
    },
    {
     "data": {
      "text/plain": [
       "array([[0.9375    , 0.00847458],\n",
       "       [0.9375    , 0.01271186],\n",
       "       [0.9375    , 0.01271186],\n",
       "       [0.9375    , 0.01694915],\n",
       "       [0.53125   , 0.08050847]])"
      ]
     },
     "execution_count": 28,
     "metadata": {},
     "output_type": "execute_result"
    }
   ],
   "source": [
    "calibrate_update_2_predcition = acp.predict_calibrate_update(updated_number=2, X_score=X_holdout)\n",
    "calibrate_update_2_predcition[:5]"
   ]
  },
  {
   "cell_type": "markdown",
   "metadata": {},
   "source": [
    "### Perform continuous calibration within crossvalidation\n",
    "Instead of using the individual acp's, we might want to include everything into a crossvalidator. \n",
    "Advantages: \n",
    "* Splitting of cv into test and train set are handled\n",
    "* Fixed and reproducible pipeline (except for random splitting and random forest)\n",
    "* We can automatically create a calibration plot\n",
    "* Updating of the same trained models possible\n",
    "\n",
    "Note that we use fivefold cv by default"
   ]
  },
  {
   "cell_type": "code",
   "execution_count": 29,
   "metadata": {},
   "outputs": [],
   "source": [
    "cv_acp = ContinuousCalibrationAggregatedConformalPredictor(predictor=icp, sampler=ratio_sampler,\n",
    "        aggregation_func=np.median\n",
    "    )\n",
    "cross_validator = CrossValidator(predictor=cv_acp, cv_splitter=CrossValidationSampler())"
   ]
  },
  {
   "cell_type": "code",
   "execution_count": 30,
   "metadata": {},
   "outputs": [
    {
     "name": "stdout",
     "output_type": "stream",
     "text": [
      "fold:  0\n",
      "fold:  1\n",
      "fold:  2\n",
      "fold:  3\n",
      "fold:  4\n",
      "YSCORE <class 'numpy.ndarray'> ++++++++++++++++++++++++++++++++\n",
      "<class 'numpy.ndarray'>\n",
      "<class 'numpy.ndarray'>\n",
      "[[0 0 1 ... 0 0 1]\n",
      " [0 0 1 ... 0 0 1]\n",
      " [0 0 1 ... 0 0 1]\n",
      " [0 0 1 ... 0 0 1]\n",
      " [0 0 1 ... 0 0 1]]\n"
     ]
    }
   ],
   "source": [
    "# Crossvalidate with the \"original\" training set (no update calibration set)\n",
    "cv_eval_df = cross_validator.cross_validate(X_train=X_train, y_train=y_train, X_score=X_holdout, y_score=y_holdout, steps=10, endpoint=endpoint)"
   ]
  },
  {
   "cell_type": "code",
   "execution_count": 31,
   "metadata": {},
   "outputs": [
    {
     "data": {
      "text/html": [
       "<div>\n",
       "<style scoped>\n",
       "    .dataframe tbody tr th:only-of-type {\n",
       "        vertical-align: middle;\n",
       "    }\n",
       "\n",
       "    .dataframe tbody tr th {\n",
       "        vertical-align: top;\n",
       "    }\n",
       "\n",
       "    .dataframe thead th {\n",
       "        text-align: right;\n",
       "    }\n",
       "</style>\n",
       "<table border=\"1\" class=\"dataframe\">\n",
       "  <thead>\n",
       "    <tr style=\"text-align: right;\">\n",
       "      <th></th>\n",
       "      <th>validity</th>\n",
       "      <th>efficiency</th>\n",
       "      <th>accuracy</th>\n",
       "      <th>significance_level</th>\n",
       "    </tr>\n",
       "    <tr>\n",
       "      <th>fold</th>\n",
       "      <th></th>\n",
       "      <th></th>\n",
       "      <th></th>\n",
       "      <th></th>\n",
       "    </tr>\n",
       "  </thead>\n",
       "  <tbody>\n",
       "    <tr>\n",
       "      <th>0</th>\n",
       "      <td>1.000</td>\n",
       "      <td>0.000</td>\n",
       "      <td>0.000</td>\n",
       "      <td>0.0</td>\n",
       "    </tr>\n",
       "    <tr>\n",
       "      <th>0</th>\n",
       "      <td>0.909</td>\n",
       "      <td>0.905</td>\n",
       "      <td>0.899</td>\n",
       "      <td>0.1</td>\n",
       "    </tr>\n",
       "    <tr>\n",
       "      <th>0</th>\n",
       "      <td>0.814</td>\n",
       "      <td>0.895</td>\n",
       "      <td>0.909</td>\n",
       "      <td>0.2</td>\n",
       "    </tr>\n",
       "    <tr>\n",
       "      <th>0</th>\n",
       "      <td>0.714</td>\n",
       "      <td>0.759</td>\n",
       "      <td>0.940</td>\n",
       "      <td>0.3</td>\n",
       "    </tr>\n",
       "    <tr>\n",
       "      <th>0</th>\n",
       "      <td>0.650</td>\n",
       "      <td>0.686</td>\n",
       "      <td>0.947</td>\n",
       "      <td>0.4</td>\n",
       "    </tr>\n",
       "  </tbody>\n",
       "</table>\n",
       "</div>"
      ],
      "text/plain": [
       "      validity  efficiency  accuracy  significance_level\n",
       "fold                                                    \n",
       "0        1.000       0.000     0.000                 0.0\n",
       "0        0.909       0.905     0.899                 0.1\n",
       "0        0.814       0.895     0.909                 0.2\n",
       "0        0.714       0.759     0.940                 0.3\n",
       "0        0.650       0.686     0.947                 0.4"
      ]
     },
     "execution_count": 31,
     "metadata": {},
     "output_type": "execute_result"
    }
   ],
   "source": [
    "# Look at evaluation per cv fold\n",
    "cv_eval_df[[\"validity\", \"efficiency\", \"accuracy\", \"significance_level\", \"fold\"]].set_index(\"fold\").head()"
   ]
  },
  {
   "cell_type": "code",
   "execution_count": 32,
   "metadata": {},
   "outputs": [
    {
     "data": {
      "text/html": [
       "<div>\n",
       "<style scoped>\n",
       "    .dataframe tbody tr th:only-of-type {\n",
       "        vertical-align: middle;\n",
       "    }\n",
       "\n",
       "    .dataframe tbody tr th {\n",
       "        vertical-align: top;\n",
       "    }\n",
       "\n",
       "    .dataframe thead th {\n",
       "        text-align: right;\n",
       "    }\n",
       "</style>\n",
       "<table border=\"1\" class=\"dataframe\">\n",
       "  <thead>\n",
       "    <tr style=\"text-align: right;\">\n",
       "      <th></th>\n",
       "      <th>validity mean</th>\n",
       "      <th>efficiency mean</th>\n",
       "      <th>accuracy mean</th>\n",
       "      <th>significance_level</th>\n",
       "    </tr>\n",
       "    <tr>\n",
       "      <th>significance_level</th>\n",
       "      <th></th>\n",
       "      <th></th>\n",
       "      <th></th>\n",
       "      <th></th>\n",
       "    </tr>\n",
       "  </thead>\n",
       "  <tbody>\n",
       "    <tr>\n",
       "      <th>0.0</th>\n",
       "      <td>1.0000</td>\n",
       "      <td>0.0000</td>\n",
       "      <td>0.0000</td>\n",
       "      <td>0.0</td>\n",
       "    </tr>\n",
       "    <tr>\n",
       "      <th>0.1</th>\n",
       "      <td>0.9090</td>\n",
       "      <td>0.8920</td>\n",
       "      <td>0.8984</td>\n",
       "      <td>0.1</td>\n",
       "    </tr>\n",
       "    <tr>\n",
       "      <th>0.2</th>\n",
       "      <td>0.8174</td>\n",
       "      <td>0.9100</td>\n",
       "      <td>0.8980</td>\n",
       "      <td>0.2</td>\n",
       "    </tr>\n",
       "    <tr>\n",
       "      <th>0.3</th>\n",
       "      <td>0.7194</td>\n",
       "      <td>0.7692</td>\n",
       "      <td>0.9348</td>\n",
       "      <td>0.3</td>\n",
       "    </tr>\n",
       "    <tr>\n",
       "      <th>0.4</th>\n",
       "      <td>0.6200</td>\n",
       "      <td>0.6536</td>\n",
       "      <td>0.9480</td>\n",
       "      <td>0.4</td>\n",
       "    </tr>\n",
       "    <tr>\n",
       "      <th>0.5</th>\n",
       "      <td>0.5136</td>\n",
       "      <td>0.5354</td>\n",
       "      <td>0.9586</td>\n",
       "      <td>0.5</td>\n",
       "    </tr>\n",
       "    <tr>\n",
       "      <th>0.6</th>\n",
       "      <td>0.4174</td>\n",
       "      <td>0.4328</td>\n",
       "      <td>0.9634</td>\n",
       "      <td>0.6</td>\n",
       "    </tr>\n",
       "    <tr>\n",
       "      <th>0.7</th>\n",
       "      <td>0.3100</td>\n",
       "      <td>0.3192</td>\n",
       "      <td>0.9726</td>\n",
       "      <td>0.7</td>\n",
       "    </tr>\n",
       "    <tr>\n",
       "      <th>0.8</th>\n",
       "      <td>0.2036</td>\n",
       "      <td>0.2102</td>\n",
       "      <td>0.9698</td>\n",
       "      <td>0.8</td>\n",
       "    </tr>\n",
       "    <tr>\n",
       "      <th>0.9</th>\n",
       "      <td>0.1034</td>\n",
       "      <td>0.1062</td>\n",
       "      <td>0.9802</td>\n",
       "      <td>0.9</td>\n",
       "    </tr>\n",
       "    <tr>\n",
       "      <th>1.0</th>\n",
       "      <td>0.0000</td>\n",
       "      <td>0.0000</td>\n",
       "      <td>0.0000</td>\n",
       "      <td>1.0</td>\n",
       "    </tr>\n",
       "  </tbody>\n",
       "</table>\n",
       "</div>"
      ],
      "text/plain": [
       "                    validity mean  efficiency mean  accuracy mean  \\\n",
       "significance_level                                                  \n",
       "0.0                        1.0000           0.0000         0.0000   \n",
       "0.1                        0.9090           0.8920         0.8984   \n",
       "0.2                        0.8174           0.9100         0.8980   \n",
       "0.3                        0.7194           0.7692         0.9348   \n",
       "0.4                        0.6200           0.6536         0.9480   \n",
       "0.5                        0.5136           0.5354         0.9586   \n",
       "0.6                        0.4174           0.4328         0.9634   \n",
       "0.7                        0.3100           0.3192         0.9726   \n",
       "0.8                        0.2036           0.2102         0.9698   \n",
       "0.9                        0.1034           0.1062         0.9802   \n",
       "1.0                        0.0000           0.0000         0.0000   \n",
       "\n",
       "                    significance_level  \n",
       "significance_level                      \n",
       "0.0                                0.0  \n",
       "0.1                                0.1  \n",
       "0.2                                0.2  \n",
       "0.3                                0.3  \n",
       "0.4                                0.4  \n",
       "0.5                                0.5  \n",
       "0.6                                0.6  \n",
       "0.7                                0.7  \n",
       "0.8                                0.8  \n",
       "0.9                                0.9  \n",
       "1.0                                1.0  "
      ]
     },
     "execution_count": 32,
     "metadata": {},
     "output_type": "execute_result"
    }
   ],
   "source": [
    "# Look at averaged (all folds) evaluations\n",
    "cross_validator.averaged_evaluation_df_cv[[\"validity mean\", \"efficiency mean\", \"accuracy mean\", \"significance_level\"]]"
   ]
  },
  {
   "cell_type": "markdown",
   "metadata": {},
   "source": [
    "The predictions are saved in a dictionary that contains the information for the predictions within the crossvalidation and the predictions for the score set. The predictions (values) are in the form of a list, list elements are the predicted p-values and the known labels. "
   ]
  },
  {
   "cell_type": "code",
   "execution_count": 33,
   "metadata": {},
   "outputs": [
    {
     "name": "stdout",
     "output_type": "stream",
     "text": [
      "keys:  dict_keys(['cv', 'pred_score']) \n",
      "\n",
      "p-values:  [[0.40677966 0.03381643]\n",
      " [0.36440678 0.0410628 ]\n",
      " [0.3559322  0.04347826]\n",
      " [0.33050847 0.04830918]\n",
      " [0.18644068 0.10869565]] \n",
      "\n",
      "labels:  [[0 0 1 ... 0 0 1]\n",
      " [0 0 1 ... 0 0 1]\n",
      " [0 0 1 ... 0 0 1]\n",
      " [0 0 1 ... 0 0 1]\n",
      " [0 0 1 ... 0 0 1]]\n"
     ]
    }
   ],
   "source": [
    "print(\"keys: \", cross_validator._predictions.keys(), \"\\n\")\n",
    "print(\"p-values: \", cross_validator._predictions[\"pred_score\"][0][0][:5], \"\\n\")\n",
    "# [0]: predictions, [0]: first loop of cv, [:5]: first five p-values\n",
    "print(\"labels: \", cross_validator._predictions[\"pred_score\"][1])\n",
    "# [1]: labels"
   ]
  },
  {
   "cell_type": "code",
   "execution_count": 34,
   "metadata": {},
   "outputs": [
    {
     "data": {
      "text/html": [
       "<div>\n",
       "<style scoped>\n",
       "    .dataframe tbody tr th:only-of-type {\n",
       "        vertical-align: middle;\n",
       "    }\n",
       "\n",
       "    .dataframe tbody tr th {\n",
       "        vertical-align: top;\n",
       "    }\n",
       "\n",
       "    .dataframe thead th {\n",
       "        text-align: right;\n",
       "    }\n",
       "</style>\n",
       "<table border=\"1\" class=\"dataframe\">\n",
       "  <thead>\n",
       "    <tr style=\"text-align: right;\">\n",
       "      <th></th>\n",
       "      <th>validity mean</th>\n",
       "      <th>validity std</th>\n",
       "      <th>validity_0 mean</th>\n",
       "      <th>validity_0 std</th>\n",
       "      <th>validity_1 mean</th>\n",
       "      <th>validity_1 std</th>\n",
       "      <th>validity_bal mean</th>\n",
       "      <th>validity_bal std</th>\n",
       "      <th>error_rate mean</th>\n",
       "      <th>error_rate std</th>\n",
       "      <th>...</th>\n",
       "      <th>accuracy std</th>\n",
       "      <th>accuracy_0 mean</th>\n",
       "      <th>accuracy_0 std</th>\n",
       "      <th>accuracy_1 mean</th>\n",
       "      <th>accuracy_1 std</th>\n",
       "      <th>accuracy_bal mean</th>\n",
       "      <th>accuracy_bal std</th>\n",
       "      <th>significance_level</th>\n",
       "      <th>num_actives</th>\n",
       "      <th>num_inactives</th>\n",
       "    </tr>\n",
       "    <tr>\n",
       "      <th>significance_level</th>\n",
       "      <th></th>\n",
       "      <th></th>\n",
       "      <th></th>\n",
       "      <th></th>\n",
       "      <th></th>\n",
       "      <th></th>\n",
       "      <th></th>\n",
       "      <th></th>\n",
       "      <th></th>\n",
       "      <th></th>\n",
       "      <th></th>\n",
       "      <th></th>\n",
       "      <th></th>\n",
       "      <th></th>\n",
       "      <th></th>\n",
       "      <th></th>\n",
       "      <th></th>\n",
       "      <th></th>\n",
       "      <th></th>\n",
       "      <th></th>\n",
       "      <th></th>\n",
       "    </tr>\n",
       "  </thead>\n",
       "  <tbody>\n",
       "    <tr>\n",
       "      <th>0.0</th>\n",
       "      <td>1.0000</td>\n",
       "      <td>0.000000</td>\n",
       "      <td>1.0000</td>\n",
       "      <td>0.000000</td>\n",
       "      <td>1.0000</td>\n",
       "      <td>0.000000</td>\n",
       "      <td>1.0000</td>\n",
       "      <td>0.000000</td>\n",
       "      <td>0.0000</td>\n",
       "      <td>0.000000</td>\n",
       "      <td>...</td>\n",
       "      <td>0.000000</td>\n",
       "      <td>0.0000</td>\n",
       "      <td>0.000000</td>\n",
       "      <td>0.0000</td>\n",
       "      <td>0.000000</td>\n",
       "      <td>0.0000</td>\n",
       "      <td>0.000000</td>\n",
       "      <td>0.0</td>\n",
       "      <td>858</td>\n",
       "      <td>242</td>\n",
       "    </tr>\n",
       "    <tr>\n",
       "      <th>0.1</th>\n",
       "      <td>0.9090</td>\n",
       "      <td>0.023885</td>\n",
       "      <td>0.9054</td>\n",
       "      <td>0.042111</td>\n",
       "      <td>0.9102</td>\n",
       "      <td>0.019892</td>\n",
       "      <td>0.9078</td>\n",
       "      <td>0.029916</td>\n",
       "      <td>0.0910</td>\n",
       "      <td>0.023885</td>\n",
       "      <td>...</td>\n",
       "      <td>0.024623</td>\n",
       "      <td>0.8966</td>\n",
       "      <td>0.042365</td>\n",
       "      <td>0.8986</td>\n",
       "      <td>0.021007</td>\n",
       "      <td>0.8976</td>\n",
       "      <td>0.029888</td>\n",
       "      <td>0.1</td>\n",
       "      <td>858</td>\n",
       "      <td>242</td>\n",
       "    </tr>\n",
       "    <tr>\n",
       "      <th>0.2</th>\n",
       "      <td>0.8174</td>\n",
       "      <td>0.030876</td>\n",
       "      <td>0.8140</td>\n",
       "      <td>0.072440</td>\n",
       "      <td>0.8184</td>\n",
       "      <td>0.035879</td>\n",
       "      <td>0.8162</td>\n",
       "      <td>0.038810</td>\n",
       "      <td>0.1826</td>\n",
       "      <td>0.030876</td>\n",
       "      <td>...</td>\n",
       "      <td>0.018235</td>\n",
       "      <td>0.8942</td>\n",
       "      <td>0.031076</td>\n",
       "      <td>0.8984</td>\n",
       "      <td>0.024521</td>\n",
       "      <td>0.8963</td>\n",
       "      <td>0.017068</td>\n",
       "      <td>0.2</td>\n",
       "      <td>858</td>\n",
       "      <td>242</td>\n",
       "    </tr>\n",
       "    <tr>\n",
       "      <th>0.3</th>\n",
       "      <td>0.7194</td>\n",
       "      <td>0.042253</td>\n",
       "      <td>0.7186</td>\n",
       "      <td>0.060102</td>\n",
       "      <td>0.7192</td>\n",
       "      <td>0.054141</td>\n",
       "      <td>0.7189</td>\n",
       "      <td>0.036952</td>\n",
       "      <td>0.2806</td>\n",
       "      <td>0.042253</td>\n",
       "      <td>...</td>\n",
       "      <td>0.008438</td>\n",
       "      <td>0.9562</td>\n",
       "      <td>0.013971</td>\n",
       "      <td>0.9288</td>\n",
       "      <td>0.010521</td>\n",
       "      <td>0.9425</td>\n",
       "      <td>0.009131</td>\n",
       "      <td>0.3</td>\n",
       "      <td>858</td>\n",
       "      <td>242</td>\n",
       "    </tr>\n",
       "    <tr>\n",
       "      <th>0.4</th>\n",
       "      <td>0.6200</td>\n",
       "      <td>0.042755</td>\n",
       "      <td>0.6152</td>\n",
       "      <td>0.083110</td>\n",
       "      <td>0.6210</td>\n",
       "      <td>0.063384</td>\n",
       "      <td>0.6181</td>\n",
       "      <td>0.036740</td>\n",
       "      <td>0.3800</td>\n",
       "      <td>0.042755</td>\n",
       "      <td>...</td>\n",
       "      <td>0.011811</td>\n",
       "      <td>0.9742</td>\n",
       "      <td>0.028569</td>\n",
       "      <td>0.9410</td>\n",
       "      <td>0.012649</td>\n",
       "      <td>0.9576</td>\n",
       "      <td>0.016887</td>\n",
       "      <td>0.4</td>\n",
       "      <td>858</td>\n",
       "      <td>242</td>\n",
       "    </tr>\n",
       "    <tr>\n",
       "      <th>0.5</th>\n",
       "      <td>0.5136</td>\n",
       "      <td>0.042389</td>\n",
       "      <td>0.5284</td>\n",
       "      <td>0.080538</td>\n",
       "      <td>0.5092</td>\n",
       "      <td>0.060500</td>\n",
       "      <td>0.5188</td>\n",
       "      <td>0.038196</td>\n",
       "      <td>0.4864</td>\n",
       "      <td>0.042389</td>\n",
       "      <td>...</td>\n",
       "      <td>0.012012</td>\n",
       "      <td>0.9856</td>\n",
       "      <td>0.020169</td>\n",
       "      <td>0.9512</td>\n",
       "      <td>0.011476</td>\n",
       "      <td>0.9684</td>\n",
       "      <td>0.015490</td>\n",
       "      <td>0.5</td>\n",
       "      <td>858</td>\n",
       "      <td>242</td>\n",
       "    </tr>\n",
       "    <tr>\n",
       "      <th>0.6</th>\n",
       "      <td>0.4174</td>\n",
       "      <td>0.048402</td>\n",
       "      <td>0.4546</td>\n",
       "      <td>0.038760</td>\n",
       "      <td>0.4066</td>\n",
       "      <td>0.066666</td>\n",
       "      <td>0.4306</td>\n",
       "      <td>0.029882</td>\n",
       "      <td>0.5826</td>\n",
       "      <td>0.048402</td>\n",
       "      <td>...</td>\n",
       "      <td>0.015388</td>\n",
       "      <td>0.9924</td>\n",
       "      <td>0.016994</td>\n",
       "      <td>0.9546</td>\n",
       "      <td>0.017473</td>\n",
       "      <td>0.9735</td>\n",
       "      <td>0.016290</td>\n",
       "      <td>0.6</td>\n",
       "      <td>858</td>\n",
       "      <td>242</td>\n",
       "    </tr>\n",
       "    <tr>\n",
       "      <th>0.7</th>\n",
       "      <td>0.3100</td>\n",
       "      <td>0.041994</td>\n",
       "      <td>0.3302</td>\n",
       "      <td>0.029304</td>\n",
       "      <td>0.3040</td>\n",
       "      <td>0.060125</td>\n",
       "      <td>0.3171</td>\n",
       "      <td>0.021724</td>\n",
       "      <td>0.6900</td>\n",
       "      <td>0.041994</td>\n",
       "      <td>...</td>\n",
       "      <td>0.010807</td>\n",
       "      <td>1.0000</td>\n",
       "      <td>0.000000</td>\n",
       "      <td>0.9648</td>\n",
       "      <td>0.012755</td>\n",
       "      <td>0.9824</td>\n",
       "      <td>0.006378</td>\n",
       "      <td>0.7</td>\n",
       "      <td>858</td>\n",
       "      <td>242</td>\n",
       "    </tr>\n",
       "    <tr>\n",
       "      <th>0.8</th>\n",
       "      <td>0.2036</td>\n",
       "      <td>0.042647</td>\n",
       "      <td>0.2190</td>\n",
       "      <td>0.046417</td>\n",
       "      <td>0.1990</td>\n",
       "      <td>0.048739</td>\n",
       "      <td>0.2090</td>\n",
       "      <td>0.039254</td>\n",
       "      <td>0.7964</td>\n",
       "      <td>0.042647</td>\n",
       "      <td>...</td>\n",
       "      <td>0.022287</td>\n",
       "      <td>1.0000</td>\n",
       "      <td>0.000000</td>\n",
       "      <td>0.9594</td>\n",
       "      <td>0.029117</td>\n",
       "      <td>0.9797</td>\n",
       "      <td>0.014559</td>\n",
       "      <td>0.8</td>\n",
       "      <td>858</td>\n",
       "      <td>242</td>\n",
       "    </tr>\n",
       "    <tr>\n",
       "      <th>0.9</th>\n",
       "      <td>0.1034</td>\n",
       "      <td>0.030303</td>\n",
       "      <td>0.1156</td>\n",
       "      <td>0.071637</td>\n",
       "      <td>0.1002</td>\n",
       "      <td>0.027797</td>\n",
       "      <td>0.1079</td>\n",
       "      <td>0.042492</td>\n",
       "      <td>0.8966</td>\n",
       "      <td>0.030303</td>\n",
       "      <td>...</td>\n",
       "      <td>0.029803</td>\n",
       "      <td>1.0000</td>\n",
       "      <td>0.000000</td>\n",
       "      <td>0.9706</td>\n",
       "      <td>0.046009</td>\n",
       "      <td>0.9853</td>\n",
       "      <td>0.023004</td>\n",
       "      <td>0.9</td>\n",
       "      <td>858</td>\n",
       "      <td>242</td>\n",
       "    </tr>\n",
       "    <tr>\n",
       "      <th>1.0</th>\n",
       "      <td>0.0000</td>\n",
       "      <td>0.000000</td>\n",
       "      <td>0.0000</td>\n",
       "      <td>0.000000</td>\n",
       "      <td>0.0000</td>\n",
       "      <td>0.000000</td>\n",
       "      <td>0.0000</td>\n",
       "      <td>0.000000</td>\n",
       "      <td>1.0000</td>\n",
       "      <td>0.000000</td>\n",
       "      <td>...</td>\n",
       "      <td>0.000000</td>\n",
       "      <td>0.0000</td>\n",
       "      <td>0.000000</td>\n",
       "      <td>0.0000</td>\n",
       "      <td>0.000000</td>\n",
       "      <td>0.0000</td>\n",
       "      <td>0.000000</td>\n",
       "      <td>1.0</td>\n",
       "      <td>858</td>\n",
       "      <td>242</td>\n",
       "    </tr>\n",
       "  </tbody>\n",
       "</table>\n",
       "<p>11 rows × 35 columns</p>\n",
       "</div>"
      ],
      "text/plain": [
       "                    validity mean  validity std  validity_0 mean  \\\n",
       "significance_level                                                 \n",
       "0.0                        1.0000      0.000000           1.0000   \n",
       "0.1                        0.9090      0.023885           0.9054   \n",
       "0.2                        0.8174      0.030876           0.8140   \n",
       "0.3                        0.7194      0.042253           0.7186   \n",
       "0.4                        0.6200      0.042755           0.6152   \n",
       "0.5                        0.5136      0.042389           0.5284   \n",
       "0.6                        0.4174      0.048402           0.4546   \n",
       "0.7                        0.3100      0.041994           0.3302   \n",
       "0.8                        0.2036      0.042647           0.2190   \n",
       "0.9                        0.1034      0.030303           0.1156   \n",
       "1.0                        0.0000      0.000000           0.0000   \n",
       "\n",
       "                    validity_0 std  validity_1 mean  validity_1 std  \\\n",
       "significance_level                                                    \n",
       "0.0                       0.000000           1.0000        0.000000   \n",
       "0.1                       0.042111           0.9102        0.019892   \n",
       "0.2                       0.072440           0.8184        0.035879   \n",
       "0.3                       0.060102           0.7192        0.054141   \n",
       "0.4                       0.083110           0.6210        0.063384   \n",
       "0.5                       0.080538           0.5092        0.060500   \n",
       "0.6                       0.038760           0.4066        0.066666   \n",
       "0.7                       0.029304           0.3040        0.060125   \n",
       "0.8                       0.046417           0.1990        0.048739   \n",
       "0.9                       0.071637           0.1002        0.027797   \n",
       "1.0                       0.000000           0.0000        0.000000   \n",
       "\n",
       "                    validity_bal mean  validity_bal std  error_rate mean  \\\n",
       "significance_level                                                         \n",
       "0.0                            1.0000          0.000000           0.0000   \n",
       "0.1                            0.9078          0.029916           0.0910   \n",
       "0.2                            0.8162          0.038810           0.1826   \n",
       "0.3                            0.7189          0.036952           0.2806   \n",
       "0.4                            0.6181          0.036740           0.3800   \n",
       "0.5                            0.5188          0.038196           0.4864   \n",
       "0.6                            0.4306          0.029882           0.5826   \n",
       "0.7                            0.3171          0.021724           0.6900   \n",
       "0.8                            0.2090          0.039254           0.7964   \n",
       "0.9                            0.1079          0.042492           0.8966   \n",
       "1.0                            0.0000          0.000000           1.0000   \n",
       "\n",
       "                    error_rate std  ...  accuracy std  accuracy_0 mean  \\\n",
       "significance_level                  ...                                  \n",
       "0.0                       0.000000  ...      0.000000           0.0000   \n",
       "0.1                       0.023885  ...      0.024623           0.8966   \n",
       "0.2                       0.030876  ...      0.018235           0.8942   \n",
       "0.3                       0.042253  ...      0.008438           0.9562   \n",
       "0.4                       0.042755  ...      0.011811           0.9742   \n",
       "0.5                       0.042389  ...      0.012012           0.9856   \n",
       "0.6                       0.048402  ...      0.015388           0.9924   \n",
       "0.7                       0.041994  ...      0.010807           1.0000   \n",
       "0.8                       0.042647  ...      0.022287           1.0000   \n",
       "0.9                       0.030303  ...      0.029803           1.0000   \n",
       "1.0                       0.000000  ...      0.000000           0.0000   \n",
       "\n",
       "                    accuracy_0 std  accuracy_1 mean  accuracy_1 std  \\\n",
       "significance_level                                                    \n",
       "0.0                       0.000000           0.0000        0.000000   \n",
       "0.1                       0.042365           0.8986        0.021007   \n",
       "0.2                       0.031076           0.8984        0.024521   \n",
       "0.3                       0.013971           0.9288        0.010521   \n",
       "0.4                       0.028569           0.9410        0.012649   \n",
       "0.5                       0.020169           0.9512        0.011476   \n",
       "0.6                       0.016994           0.9546        0.017473   \n",
       "0.7                       0.000000           0.9648        0.012755   \n",
       "0.8                       0.000000           0.9594        0.029117   \n",
       "0.9                       0.000000           0.9706        0.046009   \n",
       "1.0                       0.000000           0.0000        0.000000   \n",
       "\n",
       "                    accuracy_bal mean  accuracy_bal std  significance_level  \\\n",
       "significance_level                                                            \n",
       "0.0                            0.0000          0.000000                 0.0   \n",
       "0.1                            0.8976          0.029888                 0.1   \n",
       "0.2                            0.8963          0.017068                 0.2   \n",
       "0.3                            0.9425          0.009131                 0.3   \n",
       "0.4                            0.9576          0.016887                 0.4   \n",
       "0.5                            0.9684          0.015490                 0.5   \n",
       "0.6                            0.9735          0.016290                 0.6   \n",
       "0.7                            0.9824          0.006378                 0.7   \n",
       "0.8                            0.9797          0.014559                 0.8   \n",
       "0.9                            0.9853          0.023004                 0.9   \n",
       "1.0                            0.0000          0.000000                 1.0   \n",
       "\n",
       "                    num_actives  num_inactives  \n",
       "significance_level                              \n",
       "0.0                         858            242  \n",
       "0.1                         858            242  \n",
       "0.2                         858            242  \n",
       "0.3                         858            242  \n",
       "0.4                         858            242  \n",
       "0.5                         858            242  \n",
       "0.6                         858            242  \n",
       "0.7                         858            242  \n",
       "0.8                         858            242  \n",
       "0.9                         858            242  \n",
       "1.0                         858            242  \n",
       "\n",
       "[11 rows x 35 columns]"
      ]
     },
     "execution_count": 34,
     "metadata": {},
     "output_type": "execute_result"
    }
   ],
   "source": [
    "# Look at evaluation df for cross validation (averaged over all folds)\n",
    "cross_validator.averaged_evaluation_df_cv"
   ]
  },
  {
   "cell_type": "code",
   "execution_count": 35,
   "metadata": {},
   "outputs": [
    {
     "data": {
      "text/html": [
       "<div>\n",
       "<style scoped>\n",
       "    .dataframe tbody tr th:only-of-type {\n",
       "        vertical-align: middle;\n",
       "    }\n",
       "\n",
       "    .dataframe tbody tr th {\n",
       "        vertical-align: top;\n",
       "    }\n",
       "\n",
       "    .dataframe thead th {\n",
       "        text-align: right;\n",
       "    }\n",
       "</style>\n",
       "<table border=\"1\" class=\"dataframe\">\n",
       "  <thead>\n",
       "    <tr style=\"text-align: right;\">\n",
       "      <th></th>\n",
       "      <th>validity mean</th>\n",
       "      <th>efficiency mean</th>\n",
       "      <th>accuracy mean</th>\n",
       "      <th>significance_level</th>\n",
       "    </tr>\n",
       "    <tr>\n",
       "      <th>significance_level</th>\n",
       "      <th></th>\n",
       "      <th></th>\n",
       "      <th></th>\n",
       "      <th></th>\n",
       "    </tr>\n",
       "  </thead>\n",
       "  <tbody>\n",
       "    <tr>\n",
       "      <th>0.0</th>\n",
       "      <td>1.0000</td>\n",
       "      <td>0.0000</td>\n",
       "      <td>0.0000</td>\n",
       "      <td>0.0</td>\n",
       "    </tr>\n",
       "    <tr>\n",
       "      <th>0.1</th>\n",
       "      <td>0.7884</td>\n",
       "      <td>0.6180</td>\n",
       "      <td>0.6578</td>\n",
       "      <td>0.1</td>\n",
       "    </tr>\n",
       "    <tr>\n",
       "      <th>0.2</th>\n",
       "      <td>0.4596</td>\n",
       "      <td>0.6820</td>\n",
       "      <td>0.6752</td>\n",
       "      <td>0.2</td>\n",
       "    </tr>\n",
       "    <tr>\n",
       "      <th>0.3</th>\n",
       "      <td>0.2248</td>\n",
       "      <td>0.2924</td>\n",
       "      <td>0.7720</td>\n",
       "      <td>0.3</td>\n",
       "    </tr>\n",
       "    <tr>\n",
       "      <th>0.4</th>\n",
       "      <td>0.1134</td>\n",
       "      <td>0.1438</td>\n",
       "      <td>0.7926</td>\n",
       "      <td>0.4</td>\n",
       "    </tr>\n",
       "    <tr>\n",
       "      <th>0.5</th>\n",
       "      <td>0.0560</td>\n",
       "      <td>0.0670</td>\n",
       "      <td>0.8446</td>\n",
       "      <td>0.5</td>\n",
       "    </tr>\n",
       "    <tr>\n",
       "      <th>0.6</th>\n",
       "      <td>0.0284</td>\n",
       "      <td>0.0318</td>\n",
       "      <td>0.8818</td>\n",
       "      <td>0.6</td>\n",
       "    </tr>\n",
       "    <tr>\n",
       "      <th>0.7</th>\n",
       "      <td>0.0110</td>\n",
       "      <td>0.0118</td>\n",
       "      <td>0.9334</td>\n",
       "      <td>0.7</td>\n",
       "    </tr>\n",
       "    <tr>\n",
       "      <th>0.8</th>\n",
       "      <td>0.0052</td>\n",
       "      <td>0.0052</td>\n",
       "      <td>1.0000</td>\n",
       "      <td>0.8</td>\n",
       "    </tr>\n",
       "    <tr>\n",
       "      <th>0.9</th>\n",
       "      <td>0.0000</td>\n",
       "      <td>0.0000</td>\n",
       "      <td>0.0000</td>\n",
       "      <td>0.9</td>\n",
       "    </tr>\n",
       "    <tr>\n",
       "      <th>1.0</th>\n",
       "      <td>0.0000</td>\n",
       "      <td>0.0000</td>\n",
       "      <td>0.0000</td>\n",
       "      <td>1.0</td>\n",
       "    </tr>\n",
       "  </tbody>\n",
       "</table>\n",
       "</div>"
      ],
      "text/plain": [
       "                    validity mean  efficiency mean  accuracy mean  \\\n",
       "significance_level                                                  \n",
       "0.0                        1.0000           0.0000         0.0000   \n",
       "0.1                        0.7884           0.6180         0.6578   \n",
       "0.2                        0.4596           0.6820         0.6752   \n",
       "0.3                        0.2248           0.2924         0.7720   \n",
       "0.4                        0.1134           0.1438         0.7926   \n",
       "0.5                        0.0560           0.0670         0.8446   \n",
       "0.6                        0.0284           0.0318         0.8818   \n",
       "0.7                        0.0110           0.0118         0.9334   \n",
       "0.8                        0.0052           0.0052         1.0000   \n",
       "0.9                        0.0000           0.0000         0.0000   \n",
       "1.0                        0.0000           0.0000         0.0000   \n",
       "\n",
       "                    significance_level  \n",
       "significance_level                      \n",
       "0.0                                0.0  \n",
       "0.1                                0.1  \n",
       "0.2                                0.2  \n",
       "0.3                                0.3  \n",
       "0.4                                0.4  \n",
       "0.5                                0.5  \n",
       "0.6                                0.6  \n",
       "0.7                                0.7  \n",
       "0.8                                0.8  \n",
       "0.9                                0.9  \n",
       "1.0                                1.0  "
      ]
     },
     "execution_count": 35,
     "metadata": {},
     "output_type": "execute_result"
    }
   ],
   "source": [
    "# Look at evaluation df predicting the score set (averaged over all folds)\n",
    "cross_validator.averaged_evaluation_df_pred_score[[\"validity mean\", \"efficiency mean\", \"accuracy mean\", \"significance_level\"]]"
   ]
  },
  {
   "cell_type": "markdown",
   "metadata": {},
   "source": [
    "### Calibration plots of CV and prediction of score set, using the 'original' calibration set\n",
    "Note that we can not interpret these plots as results yet as the underlying data is based on just an arbitrary split of one dataset."
   ]
  },
  {
   "cell_type": "markdown",
   "metadata": {},
   "source": [
    "The plot shows the mean (line) and standard deviation (area) of the evaluation measures indicated in the legend (expected_error_rate excluded) over the fivefold crossvalidation. "
   ]
  },
  {
   "cell_type": "code",
   "execution_count": 36,
   "metadata": {},
   "outputs": [
    {
     "data": {
      "text/plain": [
       "<module 'matplotlib.pyplot' from '/home/andrea/anaconda2/envs/chembio-py38/lib/python3.8/site-packages/matplotlib/pyplot.py'>"
      ]
     },
     "execution_count": 36,
     "metadata": {},
     "output_type": "execute_result"
    },
    {
     "data": {
      "image/png": "[encoded data removed]",
      "text/plain": [
       "<Figure size 432x288 with 1 Axes>"
      ]
     },
     "metadata": {
      "needs_background": "light"
     },
     "output_type": "display_data"
    }
   ],
   "source": [
    "cross_validator.calibration_plot(endpoint=endpoint, averaged_evaluation_df=cross_validator.averaged_evaluation_df_cv)"
   ]
  },
  {
   "cell_type": "code",
   "execution_count": 37,
   "metadata": {},
   "outputs": [
    {
     "data": {
      "text/plain": [
       "<module 'matplotlib.pyplot' from '/home/andrea/anaconda2/envs/chembio-py38/lib/python3.8/site-packages/matplotlib/pyplot.py'>"
      ]
     },
     "execution_count": 37,
     "metadata": {},
     "output_type": "execute_result"
    },
    {
     "data": {
      "image/png": "[encoded data removed]",
      "text/plain": [
       "<Figure size 432x288 with 1 Axes>"
      ]
     },
     "metadata": {
      "needs_background": "light"
     },
     "output_type": "display_data"
    }
   ],
   "source": [
    "cross_validator.calibration_plot(endpoint=endpoint, averaged_evaluation_df=cross_validator.averaged_evaluation_df_pred_score)"
   ]
  },
  {
   "cell_type": "code",
   "execution_count": 38,
   "metadata": {},
   "outputs": [],
   "source": [
    "# We would get an assertion error, if we try to plot the calibration plot using the updated calibration set, \n",
    "# since we have not updated it yet.\n",
    "# cross_validator.calibration_plot(endpoint=endpoint, averaged_evaluation_df=cross_validator.averaged_evaluation_df_cal_update_1)"
   ]
  },
  {
   "cell_type": "code",
   "execution_count": 39,
   "metadata": {},
   "outputs": [
    {
     "name": "stdout",
     "output_type": "stream",
     "text": [
      "880\n"
     ]
    }
   ],
   "source": [
    "print(len(cross_validator.train_indices[0]))"
   ]
  },
  {
   "cell_type": "markdown",
   "metadata": {},
   "source": [
    "### Update the calibration set within the crossvalidator\n",
    "Note: here we show the first update step with X_update1/y_update1. We could add one more update step with X_update2/y_update2."
   ]
  },
  {
   "cell_type": "code",
   "execution_count": null,
   "metadata": {},
   "outputs": [
    {
     "name": "stdout",
     "output_type": "stream",
     "text": [
      "fold:  0\n",
      "final n:  1\n",
      "updated_number:  1\n",
      "fold:  1\n",
      "final n:  1\n"
     ]
    }
   ],
   "source": [
    "# For control, the 'updated number' is printed, which is the number under which the updated \n",
    "# model/predictions are saved. This is important since the number will be incremented\n",
    "# automatically when another number is already used.\n",
    "cross_validator.cross_validate_calibrate_update(X_update=X_update1, y_update=y_update1, X_score=X_holdout, y_score=y_holdout, steps=10, endpoint=endpoint)"
   ]
  },
  {
   "cell_type": "code",
   "execution_count": null,
   "metadata": {},
   "outputs": [],
   "source": [
    "cross_validator._evaluation_dfs.keys()"
   ]
  },
  {
   "cell_type": "code",
   "execution_count": null,
   "metadata": {},
   "outputs": [],
   "source": [
    "cross_validator._predictions.keys()"
   ]
  },
  {
   "cell_type": "code",
   "execution_count": null,
   "metadata": {},
   "outputs": [],
   "source": [
    "print(len(cross_validator.predictors))"
   ]
  },
  {
   "cell_type": "code",
   "execution_count": null,
   "metadata": {},
   "outputs": [],
   "source": [
    "# Look at evaluation df predicting the score set using the updated calibration set (averaged over all folds)\n",
    "cross_validator.averaged_evaluation_df_cal_update_1[[\"validity mean\", \"efficiency mean\", \"accuracy mean\", \"significance_level\"]]"
   ]
  },
  {
   "cell_type": "markdown",
   "metadata": {},
   "source": [
    "### Calibration plot for the score set using the updated calibration set"
   ]
  },
  {
   "cell_type": "code",
   "execution_count": null,
   "metadata": {},
   "outputs": [],
   "source": [
    "cross_validator.calibration_plot(endpoint=endpoint, averaged_evaluation_df=cross_validator.averaged_evaluation_df_cal_update_1)"
   ]
  }
 ],
 "metadata": {
  "kernelspec": {
   "display_name": "Python 3",
   "language": "python",
   "name": "python3"
  },
  "language_info": {
   "codemirror_mode": {
    "name": "ipython",
    "version": 3
   },
   "file_extension": ".py",
   "mimetype": "text/x-python",
   "name": "python",
   "nbconvert_exporter": "python",
   "pygments_lexer": "ipython3",
   "version": "3.8.2"
  }
 },
 "nbformat": 4,
 "nbformat_minor": 4
}
