{
 "cells": [
  {
   "cell_type": "markdown",
   "metadata": {},
   "source": [
    "# Example notebook continuous calibration"
   ]
  },
  {
   "cell_type": "markdown",
   "metadata": {},
   "source": [
    "In this notebook, the use of the CP classes for continuous calibration are demonstrated. Note that no 'suitable' dataset is available yet. The dataset used and split is just there to illustrate the workflow, but no results can be interpreted yet"
   ]
  },
  {
   "cell_type": "markdown",
   "metadata": {},
   "source": [
    "### Import packages and modules"
   ]
  },
  {
   "cell_type": "code",
   "execution_count": 1,
   "metadata": {},
   "outputs": [],
   "source": [
    "import pandas as pd\n",
    "import numpy as np\n",
    "import sys\n",
    "import tarfile"
   ]
  },
  {
   "cell_type": "code",
   "execution_count": 2,
   "metadata": {},
   "outputs": [],
   "source": [
    "from sklearn.ensemble import RandomForestClassifier\n",
    "from sklearn.neighbors import KNeighborsRegressor"
   ]
  },
  {
   "cell_type": "code",
   "execution_count": 3,
   "metadata": {},
   "outputs": [],
   "source": [
    "from nonconformist.nc import InverseProbabilityErrFunc, NcFactory"
   ]
  },
  {
   "cell_type": "code",
   "execution_count": 4,
   "metadata": {},
   "outputs": [],
   "source": [
    "from continuous_calibration import (\n",
    "StratifiedRatioSampler, BalancedStratifiedRatioSampler, CrossValidationSampler, InductiveConformalPredictor, \n",
    "    ContinuousCalibrationAggregatedConformalPredictor, CrossValidator\n",
    ")"
   ]
  },
  {
   "cell_type": "markdown",
   "metadata": {},
   "source": [
    "### Define paths and parameters"
   ]
  },
  {
   "cell_type": "code",
   "execution_count": 5,
   "metadata": {},
   "outputs": [],
   "source": [
    "data_path = \"../data/chembl_chembio_descriptors.tar.bz2\"\n",
    "time_split_threshold_path = \"../data/data_size_chembio_chembl.csv\""
   ]
  },
  {
   "cell_type": "code",
   "execution_count": 6,
   "metadata": {},
   "outputs": [],
   "source": [
    "endpoint = \"CHEMBL228\""
   ]
  },
  {
   "cell_type": "code",
   "execution_count": 7,
   "metadata": {},
   "outputs": [],
   "source": [
    "ntrees = 50  # 500\n",
    "n_folds_acp = 3  # 20\n",
    "\n",
    "ratio_sampler = StratifiedRatioSampler(n_folds=n_folds_acp)"
   ]
  },
  {
   "cell_type": "markdown",
   "metadata": {},
   "source": [
    "### Load data"
   ]
  },
  {
   "cell_type": "code",
   "execution_count": 8,
   "metadata": {},
   "outputs": [],
   "source": [
    "# Due to the size of the datasets containing the chembio descriptors, \n",
    "# they were uploaded to GitHub as tar.bz2 files and need to be unpacked first\n",
    "tar = tarfile.open(data_path)"
   ]
  },
  {
   "cell_type": "code",
   "execution_count": 9,
   "metadata": {},
   "outputs": [
    {
     "name": "stdout",
     "output_type": "stream",
     "text": [
      "CHEMBL228\n"
     ]
    }
   ],
   "source": [
    "# The data is collected in the `files` dict, containing as keys the ChEMBL endpoint name and as value the dataframe\n",
    "files = {}\n",
    "for i, name in zip(tar, tar.getnames()):\n",
    "    file = tar.extractfile(i)\n",
    "    if file:  # Extraction also yields an empty folder (?) which will be ignored\n",
    "        n = name.split(\"/\")[1].split('_')[0]  # Get ChEMBL endpoint name from filename\n",
    "        if n == endpoint:\n",
    "            print(n)\n",
    "            df = pd.read_csv(file)  # Read df\n",
    "            files[n] = df  # Store in dict"
   ]
  },
  {
   "cell_type": "code",
   "execution_count": 10,
   "metadata": {},
   "outputs": [],
   "source": [
    "# Select a specific example dataset\n",
    "data = files[endpoint]\n",
    "data.dropna(subset=[\"year\"], inplace=True)"
   ]
  },
  {
   "cell_type": "code",
   "execution_count": 11,
   "metadata": {},
   "outputs": [
    {
     "data": {
      "text/plain": [
       "array([0, 0, 0, ..., 1, 1, 1])"
      ]
     },
     "execution_count": 11,
     "metadata": {},
     "output_type": "execute_result"
    }
   ],
   "source": [
    "# Define labels\n",
    "y = data[f\"{endpoint}_bioactivity\"].values\n",
    "y"
   ]
  },
  {
   "cell_type": "code",
   "execution_count": 12,
   "metadata": {
    "scrolled": true
   },
   "outputs": [
    {
     "data": {
      "text/plain": [
       "array([[-0.20278679, -0.8864429 , -0.64854513, ...,  0.16953868,\n",
       "        -0.77970748,  0.79482231],\n",
       "       [-0.28295224,  0.26077434, -0.64854513, ...,  0.22767178,\n",
       "        -0.88450568,  1.35093976],\n",
       "       [-0.25159849,  0.26077434, -0.64854513, ...,  1.27806444,\n",
       "        -0.8843573 ,  1.21098428],\n",
       "       ...,\n",
       "       [-1.11368145, -0.8864429 , -0.64854513, ..., -0.77273345,\n",
       "         1.32371173, -1.3983778 ],\n",
       "       [-0.17143304, -0.8864429 ,  2.04678629, ..., -2.01146873,\n",
       "         0.25305191, -0.58964739],\n",
       "       [-0.17143304,  0.28045739, -0.64854513, ..., -1.4576498 ,\n",
       "         1.71728142, -1.53578739]])"
      ]
     },
     "execution_count": 12,
     "metadata": {},
     "output_type": "execute_result"
    }
   ],
   "source": [
    "# Define features (p-values and chemical descriptors)\n",
    "columns = [col for col in data.columns if col.startswith('p') or col.startswith('byte')]\n",
    "X = data[columns].values\n",
    "X"
   ]
  },
  {
   "cell_type": "code",
   "execution_count": 13,
   "metadata": {},
   "outputs": [
    {
     "data": {
      "text/plain": [
       "array([2011., 2018., 2016., ..., 2018., 2009., 2014.])"
      ]
     },
     "execution_count": 13,
     "metadata": {},
     "output_type": "execute_result"
    }
   ],
   "source": [
    "years = data[\"year\"].values\n",
    "years"
   ]
  },
  {
   "cell_type": "markdown",
   "metadata": {},
   "source": [
    "### Split data"
   ]
  },
  {
   "cell_type": "markdown",
   "metadata": {},
   "source": [
    "#### Load dataframe defining time-split thresholds per endpoint"
   ]
  },
  {
   "cell_type": "code",
   "execution_count": 14,
   "metadata": {},
   "outputs": [
    {
     "data": {
      "text/html": [
       "<div>\n",
       "<style scoped>\n",
       "    .dataframe tbody tr th:only-of-type {\n",
       "        vertical-align: middle;\n",
       "    }\n",
       "\n",
       "    .dataframe tbody tr th {\n",
       "        vertical-align: top;\n",
       "    }\n",
       "\n",
       "    .dataframe thead th {\n",
       "        text-align: right;\n",
       "    }\n",
       "</style>\n",
       "<table border=\"1\" class=\"dataframe\">\n",
       "  <thead>\n",
       "    <tr style=\"text-align: right;\">\n",
       "      <th></th>\n",
       "      <th>train_thresh</th>\n",
       "      <th>update1_thresh</th>\n",
       "      <th>update2_thresh</th>\n",
       "    </tr>\n",
       "    <tr>\n",
       "      <th>chembl_id</th>\n",
       "      <th></th>\n",
       "      <th></th>\n",
       "      <th></th>\n",
       "    </tr>\n",
       "  </thead>\n",
       "  <tbody>\n",
       "    <tr>\n",
       "      <th>CHEMBL220</th>\n",
       "      <td>2014</td>\n",
       "      <td>2016</td>\n",
       "      <td>2017</td>\n",
       "    </tr>\n",
       "    <tr>\n",
       "      <th>CHEMBL4078</th>\n",
       "      <td>2014</td>\n",
       "      <td>2015</td>\n",
       "      <td>2016</td>\n",
       "    </tr>\n",
       "    <tr>\n",
       "      <th>CHEMBL5763</th>\n",
       "      <td>2015</td>\n",
       "      <td>2016</td>\n",
       "      <td>2017</td>\n",
       "    </tr>\n",
       "    <tr>\n",
       "      <th>CHEMBL203</th>\n",
       "      <td>2012</td>\n",
       "      <td>2014</td>\n",
       "      <td>2016</td>\n",
       "    </tr>\n",
       "    <tr>\n",
       "      <th>CHEMBL206</th>\n",
       "      <td>2006</td>\n",
       "      <td>2012</td>\n",
       "      <td>2016</td>\n",
       "    </tr>\n",
       "    <tr>\n",
       "      <th>CHEMBL279</th>\n",
       "      <td>2010</td>\n",
       "      <td>2013</td>\n",
       "      <td>2014</td>\n",
       "    </tr>\n",
       "    <tr>\n",
       "      <th>CHEMBL230</th>\n",
       "      <td>2010</td>\n",
       "      <td>2013</td>\n",
       "      <td>2015</td>\n",
       "    </tr>\n",
       "    <tr>\n",
       "      <th>CHEMBL340</th>\n",
       "      <td>2012</td>\n",
       "      <td>2014</td>\n",
       "      <td>2015</td>\n",
       "    </tr>\n",
       "    <tr>\n",
       "      <th>CHEMBL240</th>\n",
       "      <td>2012</td>\n",
       "      <td>2014</td>\n",
       "      <td>2016</td>\n",
       "    </tr>\n",
       "    <tr>\n",
       "      <th>CHEMBL2039</th>\n",
       "      <td>2014</td>\n",
       "      <td>2015</td>\n",
       "      <td>2017</td>\n",
       "    </tr>\n",
       "    <tr>\n",
       "      <th>CHEMBL222</th>\n",
       "      <td>2009</td>\n",
       "      <td>2011</td>\n",
       "      <td>2015</td>\n",
       "    </tr>\n",
       "    <tr>\n",
       "      <th>CHEMBL228</th>\n",
       "      <td>2009</td>\n",
       "      <td>2011</td>\n",
       "      <td>2014</td>\n",
       "    </tr>\n",
       "  </tbody>\n",
       "</table>\n",
       "</div>"
      ],
      "text/plain": [
       "            train_thresh  update1_thresh  update2_thresh\n",
       "chembl_id                                               \n",
       "CHEMBL220           2014            2016            2017\n",
       "CHEMBL4078          2014            2015            2016\n",
       "CHEMBL5763          2015            2016            2017\n",
       "CHEMBL203           2012            2014            2016\n",
       "CHEMBL206           2006            2012            2016\n",
       "CHEMBL279           2010            2013            2014\n",
       "CHEMBL230           2010            2013            2015\n",
       "CHEMBL340           2012            2014            2015\n",
       "CHEMBL240           2012            2014            2016\n",
       "CHEMBL2039          2014            2015            2017\n",
       "CHEMBL222           2009            2011            2015\n",
       "CHEMBL228           2009            2011            2014"
      ]
     },
     "execution_count": 14,
     "metadata": {},
     "output_type": "execute_result"
    }
   ],
   "source": [
    "splits_df = pd.read_csv(time_split_threshold_path, index_col=0, \n",
    "                        usecols=[\"chembl_id\", \"train_thresh\", \"update1_thresh\", \"update2_thresh\"])\n",
    "splits_df"
   ]
  },
  {
   "cell_type": "code",
   "execution_count": 15,
   "metadata": {},
   "outputs": [
    {
     "data": {
      "text/plain": [
       "Index(['CHEMBL220', 'CHEMBL4078', 'CHEMBL5763', 'CHEMBL203', 'CHEMBL206',\n",
       "       'CHEMBL279', 'CHEMBL230', 'CHEMBL340', 'CHEMBL240', 'CHEMBL2039',\n",
       "       'CHEMBL222', 'CHEMBL228'],\n",
       "      dtype='object', name='chembl_id')"
      ]
     },
     "execution_count": 15,
     "metadata": {},
     "output_type": "execute_result"
    }
   ],
   "source": [
    "splits_df.index"
   ]
  },
  {
   "cell_type": "code",
   "execution_count": 16,
   "metadata": {},
   "outputs": [
    {
     "data": {
      "text/plain": [
       "(2009, 2011, 2014)"
      ]
     },
     "execution_count": 16,
     "metadata": {},
     "output_type": "execute_result"
    }
   ],
   "source": [
    "# Get year thresholds for selected endpoint\n",
    "thresholds = splits_df[\"train_thresh\"][endpoint], splits_df[\"update1_thresh\"][endpoint], splits_df[\"update2_thresh\"][endpoint]\n",
    "thresholds"
   ]
  },
  {
   "cell_type": "code",
   "execution_count": 17,
   "metadata": {},
   "outputs": [],
   "source": [
    "mask_train = years <= thresholds[0]\n",
    "mask_update1 = (years > thresholds[0]) & (years <= thresholds[1])\n",
    "mask_update2 = (years > thresholds[1]) & (years <= thresholds[2])\n",
    "mask_holdout = years > thresholds[2]\n",
    "\n",
    "X_train, y_train = X[mask_train], y[mask_train]\n",
    "X_update1, y_update1 = X[mask_update1], y[mask_update1]\n",
    "X_update2, y_update2 = X[mask_update2], y[mask_update2]\n",
    "X_holdout, y_holdout = X[mask_holdout], y[mask_holdout]"
   ]
  },
  {
   "cell_type": "code",
   "execution_count": 18,
   "metadata": {},
   "outputs": [
    {
     "name": "stdout",
     "output_type": "stream",
     "text": [
      "(1100,) (1100, 2241)\n",
      "(470,) (470, 2241)\n",
      "(266,) (266, 2241)\n",
      "(275,) (275, 2241)\n",
      "858 373 235 196\n"
     ]
    }
   ],
   "source": [
    "# Check len of arrays\n",
    "print(y_train.shape, X_train.shape)\n",
    "print(y_update1.shape, X_update1.shape)\n",
    "print(y_update2.shape, X_update2.shape)\n",
    "print(y_holdout.shape, X_holdout.shape)\n",
    "# Check if we have actives and inactives in all datasets\n",
    "print(y_train.sum(), y_update1.sum(), y_update2.sum(), y_holdout.sum())"
   ]
  },
  {
   "cell_type": "markdown",
   "metadata": {},
   "source": [
    "### Prepare the ACP"
   ]
  },
  {
   "cell_type": "code",
   "execution_count": 19,
   "metadata": {},
   "outputs": [],
   "source": [
    "clf = RandomForestClassifier(n_estimators=ntrees)\n",
    "error_function = InverseProbabilityErrFunc()\n",
    "nc = NcFactory.create_nc(\n",
    "        clf, err_func=error_function, normalizer_model=None\n",
    "    )\n",
    "icp = InductiveConformalPredictor(\n",
    "        nc_function=nc, smoothing=False, condition=(lambda instance: instance[1])\n",
    "    )  # Mondrian as (default) condition)"
   ]
  },
  {
   "cell_type": "code",
   "execution_count": 20,
   "metadata": {},
   "outputs": [],
   "source": [
    "acp = ContinuousCalibrationAggregatedConformalPredictor(predictor=icp, sampler=ratio_sampler,\n",
    "        aggregation_func=np.median\n",
    "    )"
   ]
  },
  {
   "cell_type": "markdown",
   "metadata": {},
   "source": [
    "### Fit and calibrate the model, make predictions\n",
    "Calibrate with the `original` calibration set, which is a split from X_train/y_train"
   ]
  },
  {
   "cell_type": "code",
   "execution_count": 21,
   "metadata": {},
   "outputs": [],
   "source": [
    "acp.fit_calibrate(X_train=X_train, y_train=y_train)"
   ]
  },
  {
   "cell_type": "code",
   "execution_count": 22,
   "metadata": {},
   "outputs": [
    {
     "data": {
      "text/plain": [
       "array([[0.37837838, 0.04651163],\n",
       "       [0.2972973 , 0.06976744],\n",
       "       [0.33783784, 0.05813953],\n",
       "       [0.28378378, 0.05813953],\n",
       "       [0.18918919, 0.12015504]])"
      ]
     },
     "execution_count": 22,
     "metadata": {},
     "output_type": "execute_result"
    }
   ],
   "source": [
    "original_prediction = acp.predict(X_score=X_holdout)\n",
    "\n",
    "original_prediction[:5]"
   ]
  },
  {
   "cell_type": "markdown",
   "metadata": {},
   "source": [
    "### Update calibration set\n",
    "Calibrate the fitted (not yet calibrated) predictors with a 'new' dataset"
   ]
  },
  {
   "cell_type": "code",
   "execution_count": 23,
   "metadata": {},
   "outputs": [
    {
     "name": "stdout",
     "output_type": "stream",
     "text": [
      "{}\n"
     ]
    }
   ],
   "source": [
    "# Check that no `calibrated update` predictor yet\n",
    "print(acp.predictors_calibrated_update)"
   ]
  },
  {
   "cell_type": "code",
   "execution_count": 24,
   "metadata": {},
   "outputs": [
    {
     "name": "stdout",
     "output_type": "stream",
     "text": [
      "final n:  1\n"
     ]
    },
    {
     "data": {
      "text/plain": [
       "1"
      ]
     },
     "execution_count": 24,
     "metadata": {},
     "output_type": "execute_result"
    }
   ],
   "source": [
    "acp.calibrate_update(X_update=X_update1, y_update=y_update1)"
   ]
  },
  {
   "cell_type": "code",
   "execution_count": 25,
   "metadata": {},
   "outputs": [
    {
     "name": "stdout",
     "output_type": "stream",
     "text": [
      "updated_number:  1\n"
     ]
    },
    {
     "data": {
      "text/plain": [
       "array([[0.79591837, 0.04010695],\n",
       "       [0.7244898 , 0.0855615 ],\n",
       "       [0.81632653, 0.04278075],\n",
       "       [0.69387755, 0.07486631],\n",
       "       [0.58163265, 0.10695187]])"
      ]
     },
     "execution_count": 25,
     "metadata": {},
     "output_type": "execute_result"
    }
   ],
   "source": [
    "# Make predictions with the model and the updated calibration set\n",
    "calibrate_update_prediction = acp.predict_calibrate_update(updated_number=1, X_score=X_holdout)\n",
    "calibrate_update_prediction[:5]"
   ]
  },
  {
   "cell_type": "markdown",
   "metadata": {},
   "source": [
    "### New calibration\n",
    "We can update with an even 'newer' calibration set (as often as we want). The model with the updated calibration set will be saved in the acp object."
   ]
  },
  {
   "cell_type": "code",
   "execution_count": 26,
   "metadata": {},
   "outputs": [
    {
     "name": "stdout",
     "output_type": "stream",
     "text": [
      "dict_keys(['update_1'])\n"
     ]
    }
   ],
   "source": [
    "# Check how many updated calibration sets we already have. Here, this should be 1\n",
    "print(acp.predictors_calibrated_update.keys())"
   ]
  },
  {
   "cell_type": "code",
   "execution_count": 27,
   "metadata": {},
   "outputs": [
    {
     "name": "stdout",
     "output_type": "stream",
     "text": [
      "n 1\n",
      "final n:  2\n"
     ]
    },
    {
     "data": {
      "text/plain": [
       "2"
      ]
     },
     "execution_count": 27,
     "metadata": {},
     "output_type": "execute_result"
    }
   ],
   "source": [
    "acp.calibrate_update(X_update=X_update2, y_update=y_update2)"
   ]
  },
  {
   "cell_type": "code",
   "execution_count": 28,
   "metadata": {},
   "outputs": [
    {
     "name": "stdout",
     "output_type": "stream",
     "text": [
      "updated_number:  2\n"
     ]
    },
    {
     "data": {
      "text/plain": [
       "array([[0.9375    , 0.02542373],\n",
       "       [0.84375   , 0.05508475],\n",
       "       [0.9375    , 0.03813559],\n",
       "       [0.875     , 0.04661017],\n",
       "       [0.78125   , 0.05932203]])"
      ]
     },
     "execution_count": 28,
     "metadata": {},
     "output_type": "execute_result"
    }
   ],
   "source": [
    "calibrate_update_2_predcition = acp.predict_calibrate_update(updated_number=2, X_score=X_holdout)\n",
    "calibrate_update_2_predcition[:5]"
   ]
  },
  {
   "cell_type": "markdown",
   "metadata": {},
   "source": [
    "### Perform continuous calibration within crossvalidation\n",
    "Instead of using the individual acp's, we might want to include everything into a crossvalidator. \n",
    "Advantages: \n",
    "* Splitting of cv into test and train set are handled\n",
    "* Fixed and reproducible pipeline (except for random splitting and random forest)\n",
    "* We can automatically create a calibration plot\n",
    "* Updating of the same trained models possible\n",
    "\n",
    "Note that we use fivefold cv by default"
   ]
  },
  {
   "cell_type": "code",
   "execution_count": 29,
   "metadata": {},
   "outputs": [],
   "source": [
    "cv_acp = ContinuousCalibrationAggregatedConformalPredictor(predictor=icp, sampler=ratio_sampler,\n",
    "        aggregation_func=np.median\n",
    "    )\n",
    "cross_validator = CrossValidator(predictor=cv_acp, cv_splitter=CrossValidationSampler())"
   ]
  },
  {
   "cell_type": "code",
   "execution_count": 30,
   "metadata": {},
   "outputs": [
    {
     "name": "stdout",
     "output_type": "stream",
     "text": [
      "fold:  0\n",
      "fold:  1\n",
      "fold:  2\n",
      "fold:  3\n",
      "fold:  4\n",
      "YSCORE <class 'numpy.ndarray'> ++++++++++++++++++++++++++++++++\n",
      "<class 'numpy.ndarray'>\n",
      "<class 'numpy.ndarray'>\n",
      "[[0 0 1 ... 0 0 1]\n",
      " [0 0 1 ... 0 0 1]\n",
      " [0 0 1 ... 0 0 1]\n",
      " [0 0 1 ... 0 0 1]\n",
      " [0 0 1 ... 0 0 1]]\n"
     ]
    }
   ],
   "source": [
    "# Crossvalidate with the \"original\" training set (no update calibration set)\n",
    "cv_eval_df = cross_validator.cross_validate(X_train=X_train, y_train=y_train, X_score=X_holdout, y_score=y_holdout, steps=10, endpoint=endpoint)"
   ]
  },
  {
   "cell_type": "code",
   "execution_count": 31,
   "metadata": {},
   "outputs": [
    {
     "data": {
      "text/html": [
       "<div>\n",
       "<style scoped>\n",
       "    .dataframe tbody tr th:only-of-type {\n",
       "        vertical-align: middle;\n",
       "    }\n",
       "\n",
       "    .dataframe tbody tr th {\n",
       "        vertical-align: top;\n",
       "    }\n",
       "\n",
       "    .dataframe thead th {\n",
       "        text-align: right;\n",
       "    }\n",
       "</style>\n",
       "<table border=\"1\" class=\"dataframe\">\n",
       "  <thead>\n",
       "    <tr style=\"text-align: right;\">\n",
       "      <th></th>\n",
       "      <th>validity</th>\n",
       "      <th>efficiency</th>\n",
       "      <th>accuracy</th>\n",
       "      <th>significance_level</th>\n",
       "    </tr>\n",
       "    <tr>\n",
       "      <th>fold</th>\n",
       "      <th></th>\n",
       "      <th></th>\n",
       "      <th></th>\n",
       "      <th></th>\n",
       "    </tr>\n",
       "  </thead>\n",
       "  <tbody>\n",
       "    <tr>\n",
       "      <th>0</th>\n",
       "      <td>1.000</td>\n",
       "      <td>0.000</td>\n",
       "      <td>0.000</td>\n",
       "      <td>0.0</td>\n",
       "    </tr>\n",
       "    <tr>\n",
       "      <th>0</th>\n",
       "      <td>0.873</td>\n",
       "      <td>0.936</td>\n",
       "      <td>0.864</td>\n",
       "      <td>0.1</td>\n",
       "    </tr>\n",
       "    <tr>\n",
       "      <th>0</th>\n",
       "      <td>0.764</td>\n",
       "      <td>0.873</td>\n",
       "      <td>0.875</td>\n",
       "      <td>0.2</td>\n",
       "    </tr>\n",
       "    <tr>\n",
       "      <th>0</th>\n",
       "      <td>0.686</td>\n",
       "      <td>0.750</td>\n",
       "      <td>0.915</td>\n",
       "      <td>0.3</td>\n",
       "    </tr>\n",
       "    <tr>\n",
       "      <th>0</th>\n",
       "      <td>0.623</td>\n",
       "      <td>0.673</td>\n",
       "      <td>0.926</td>\n",
       "      <td>0.4</td>\n",
       "    </tr>\n",
       "  </tbody>\n",
       "</table>\n",
       "</div>"
      ],
      "text/plain": [
       "      validity  efficiency  accuracy  significance_level\n",
       "fold                                                    \n",
       "0        1.000       0.000     0.000                 0.0\n",
       "0        0.873       0.936     0.864                 0.1\n",
       "0        0.764       0.873     0.875                 0.2\n",
       "0        0.686       0.750     0.915                 0.3\n",
       "0        0.623       0.673     0.926                 0.4"
      ]
     },
     "execution_count": 31,
     "metadata": {},
     "output_type": "execute_result"
    }
   ],
   "source": [
    "# Look at evaluation per cv fold\n",
    "cv_eval_df[[\"validity\", \"efficiency\", \"accuracy\", \"significance_level\", \"fold\"]].set_index(\"fold\").head()"
   ]
  },
  {
   "cell_type": "code",
   "execution_count": 32,
   "metadata": {},
   "outputs": [
    {
     "data": {
      "text/html": [
       "<div>\n",
       "<style scoped>\n",
       "    .dataframe tbody tr th:only-of-type {\n",
       "        vertical-align: middle;\n",
       "    }\n",
       "\n",
       "    .dataframe tbody tr th {\n",
       "        vertical-align: top;\n",
       "    }\n",
       "\n",
       "    .dataframe thead th {\n",
       "        text-align: right;\n",
       "    }\n",
       "</style>\n",
       "<table border=\"1\" class=\"dataframe\">\n",
       "  <thead>\n",
       "    <tr style=\"text-align: right;\">\n",
       "      <th></th>\n",
       "      <th>validity mean</th>\n",
       "      <th>efficiency mean</th>\n",
       "      <th>accuracy mean</th>\n",
       "      <th>significance_level</th>\n",
       "    </tr>\n",
       "    <tr>\n",
       "      <th>significance_level</th>\n",
       "      <th></th>\n",
       "      <th></th>\n",
       "      <th></th>\n",
       "      <th></th>\n",
       "    </tr>\n",
       "  </thead>\n",
       "  <tbody>\n",
       "    <tr>\n",
       "      <th>0.0</th>\n",
       "      <td>1.0000</td>\n",
       "      <td>0.0000</td>\n",
       "      <td>0.0000</td>\n",
       "      <td>0.0</td>\n",
       "    </tr>\n",
       "    <tr>\n",
       "      <th>0.1</th>\n",
       "      <td>0.9128</td>\n",
       "      <td>0.8700</td>\n",
       "      <td>0.9004</td>\n",
       "      <td>0.1</td>\n",
       "    </tr>\n",
       "    <tr>\n",
       "      <th>0.2</th>\n",
       "      <td>0.8138</td>\n",
       "      <td>0.9182</td>\n",
       "      <td>0.8862</td>\n",
       "      <td>0.2</td>\n",
       "    </tr>\n",
       "    <tr>\n",
       "      <th>0.3</th>\n",
       "      <td>0.7464</td>\n",
       "      <td>0.8028</td>\n",
       "      <td>0.9300</td>\n",
       "      <td>0.3</td>\n",
       "    </tr>\n",
       "    <tr>\n",
       "      <th>0.4</th>\n",
       "      <td>0.6446</td>\n",
       "      <td>0.6782</td>\n",
       "      <td>0.9506</td>\n",
       "      <td>0.4</td>\n",
       "    </tr>\n",
       "    <tr>\n",
       "      <th>0.5</th>\n",
       "      <td>0.5646</td>\n",
       "      <td>0.5866</td>\n",
       "      <td>0.9630</td>\n",
       "      <td>0.5</td>\n",
       "    </tr>\n",
       "    <tr>\n",
       "      <th>0.6</th>\n",
       "      <td>0.4444</td>\n",
       "      <td>0.4608</td>\n",
       "      <td>0.9642</td>\n",
       "      <td>0.6</td>\n",
       "    </tr>\n",
       "    <tr>\n",
       "      <th>0.7</th>\n",
       "      <td>0.3500</td>\n",
       "      <td>0.3600</td>\n",
       "      <td>0.9722</td>\n",
       "      <td>0.7</td>\n",
       "    </tr>\n",
       "    <tr>\n",
       "      <th>0.8</th>\n",
       "      <td>0.2500</td>\n",
       "      <td>0.2546</td>\n",
       "      <td>0.9820</td>\n",
       "      <td>0.8</td>\n",
       "    </tr>\n",
       "    <tr>\n",
       "      <th>0.9</th>\n",
       "      <td>0.1154</td>\n",
       "      <td>0.1162</td>\n",
       "      <td>0.9938</td>\n",
       "      <td>0.9</td>\n",
       "    </tr>\n",
       "    <tr>\n",
       "      <th>1.0</th>\n",
       "      <td>0.0728</td>\n",
       "      <td>0.0728</td>\n",
       "      <td>1.0000</td>\n",
       "      <td>1.0</td>\n",
       "    </tr>\n",
       "  </tbody>\n",
       "</table>\n",
       "</div>"
      ],
      "text/plain": [
       "                    validity mean  efficiency mean  accuracy mean  \\\n",
       "significance_level                                                  \n",
       "0.0                        1.0000           0.0000         0.0000   \n",
       "0.1                        0.9128           0.8700         0.9004   \n",
       "0.2                        0.8138           0.9182         0.8862   \n",
       "0.3                        0.7464           0.8028         0.9300   \n",
       "0.4                        0.6446           0.6782         0.9506   \n",
       "0.5                        0.5646           0.5866         0.9630   \n",
       "0.6                        0.4444           0.4608         0.9642   \n",
       "0.7                        0.3500           0.3600         0.9722   \n",
       "0.8                        0.2500           0.2546         0.9820   \n",
       "0.9                        0.1154           0.1162         0.9938   \n",
       "1.0                        0.0728           0.0728         1.0000   \n",
       "\n",
       "                    significance_level  \n",
       "significance_level                      \n",
       "0.0                                0.0  \n",
       "0.1                                0.1  \n",
       "0.2                                0.2  \n",
       "0.3                                0.3  \n",
       "0.4                                0.4  \n",
       "0.5                                0.5  \n",
       "0.6                                0.6  \n",
       "0.7                                0.7  \n",
       "0.8                                0.8  \n",
       "0.9                                0.9  \n",
       "1.0                                1.0  "
      ]
     },
     "execution_count": 32,
     "metadata": {},
     "output_type": "execute_result"
    }
   ],
   "source": [
    "# Look at averaged (all folds) evaluations\n",
    "cross_validator.averaged_evaluation_df_cv[[\"validity mean\", \"efficiency mean\", \"accuracy mean\", \"significance_level\"]]"
   ]
  },
  {
   "cell_type": "markdown",
   "metadata": {},
   "source": [
    "The predictions are saved in a dictionary that contains the information for the predictions within the crossvalidation and the predictions for the score set. The predictions (values) are in the form of a list, list elements are the predicted p-values and the known labels. "
   ]
  },
  {
   "cell_type": "code",
   "execution_count": 33,
   "metadata": {},
   "outputs": [
    {
     "name": "stdout",
     "output_type": "stream",
     "text": [
      "keys:  dict_keys(['cv', 'pred_score']) \n",
      "\n",
      "p-values:  [[0.40677966 0.04830918]\n",
      " [0.37288136 0.04347826]\n",
      " [0.3220339  0.06280193]\n",
      " [0.30508475 0.0531401 ]\n",
      " [0.10169492 0.14492754]] \n",
      "\n",
      "labels:  [[0 0 1 ... 0 0 1]\n",
      " [0 0 1 ... 0 0 1]\n",
      " [0 0 1 ... 0 0 1]\n",
      " [0 0 1 ... 0 0 1]\n",
      " [0 0 1 ... 0 0 1]]\n"
     ]
    }
   ],
   "source": [
    "print(\"keys: \", cross_validator._predictions.keys(), \"\\n\")\n",
    "print(\"p-values: \", cross_validator._predictions[\"pred_score\"][0][0][:5], \"\\n\")\n",
    "# [0]: predictions, [0]: first loop of cv, [:5]: first five p-values\n",
    "print(\"labels: \", cross_validator._predictions[\"pred_score\"][1])\n",
    "# [1]: labels"
   ]
  },
  {
   "cell_type": "code",
   "execution_count": 34,
   "metadata": {},
   "outputs": [
    {
     "data": {
      "text/html": [
       "<div>\n",
       "<style scoped>\n",
       "    .dataframe tbody tr th:only-of-type {\n",
       "        vertical-align: middle;\n",
       "    }\n",
       "\n",
       "    .dataframe tbody tr th {\n",
       "        vertical-align: top;\n",
       "    }\n",
       "\n",
       "    .dataframe thead th {\n",
       "        text-align: right;\n",
       "    }\n",
       "</style>\n",
       "<table border=\"1\" class=\"dataframe\">\n",
       "  <thead>\n",
       "    <tr style=\"text-align: right;\">\n",
       "      <th></th>\n",
       "      <th>validity mean</th>\n",
       "      <th>validity std</th>\n",
       "      <th>validity_0 mean</th>\n",
       "      <th>validity_0 std</th>\n",
       "      <th>validity_1 mean</th>\n",
       "      <th>validity_1 std</th>\n",
       "      <th>validity_bal mean</th>\n",
       "      <th>validity_bal std</th>\n",
       "      <th>error_rate mean</th>\n",
       "      <th>error_rate std</th>\n",
       "      <th>...</th>\n",
       "      <th>accuracy std</th>\n",
       "      <th>accuracy_0 mean</th>\n",
       "      <th>accuracy_0 std</th>\n",
       "      <th>accuracy_1 mean</th>\n",
       "      <th>accuracy_1 std</th>\n",
       "      <th>accuracy_bal mean</th>\n",
       "      <th>accuracy_bal std</th>\n",
       "      <th>significance_level</th>\n",
       "      <th>num_actives</th>\n",
       "      <th>num_inactives</th>\n",
       "    </tr>\n",
       "    <tr>\n",
       "      <th>significance_level</th>\n",
       "      <th></th>\n",
       "      <th></th>\n",
       "      <th></th>\n",
       "      <th></th>\n",
       "      <th></th>\n",
       "      <th></th>\n",
       "      <th></th>\n",
       "      <th></th>\n",
       "      <th></th>\n",
       "      <th></th>\n",
       "      <th></th>\n",
       "      <th></th>\n",
       "      <th></th>\n",
       "      <th></th>\n",
       "      <th></th>\n",
       "      <th></th>\n",
       "      <th></th>\n",
       "      <th></th>\n",
       "      <th></th>\n",
       "      <th></th>\n",
       "      <th></th>\n",
       "    </tr>\n",
       "  </thead>\n",
       "  <tbody>\n",
       "    <tr>\n",
       "      <th>0.0</th>\n",
       "      <td>1.0000</td>\n",
       "      <td>0.000000</td>\n",
       "      <td>1.0000</td>\n",
       "      <td>0.000000</td>\n",
       "      <td>1.0000</td>\n",
       "      <td>0.000000</td>\n",
       "      <td>1.0000</td>\n",
       "      <td>0.000000</td>\n",
       "      <td>0.0000</td>\n",
       "      <td>0.000000</td>\n",
       "      <td>...</td>\n",
       "      <td>0.000000</td>\n",
       "      <td>0.0000</td>\n",
       "      <td>0.000000</td>\n",
       "      <td>0.0000</td>\n",
       "      <td>0.000000</td>\n",
       "      <td>0.0000</td>\n",
       "      <td>0.000000</td>\n",
       "      <td>0.0</td>\n",
       "      <td>858</td>\n",
       "      <td>242</td>\n",
       "    </tr>\n",
       "    <tr>\n",
       "      <th>0.1</th>\n",
       "      <td>0.9128</td>\n",
       "      <td>0.022477</td>\n",
       "      <td>0.9424</td>\n",
       "      <td>0.048655</td>\n",
       "      <td>0.9048</td>\n",
       "      <td>0.031956</td>\n",
       "      <td>0.9236</td>\n",
       "      <td>0.022642</td>\n",
       "      <td>0.0872</td>\n",
       "      <td>0.022477</td>\n",
       "      <td>...</td>\n",
       "      <td>0.021007</td>\n",
       "      <td>0.9330</td>\n",
       "      <td>0.059804</td>\n",
       "      <td>0.8898</td>\n",
       "      <td>0.033789</td>\n",
       "      <td>0.9114</td>\n",
       "      <td>0.022437</td>\n",
       "      <td>0.1</td>\n",
       "      <td>858</td>\n",
       "      <td>242</td>\n",
       "    </tr>\n",
       "    <tr>\n",
       "      <th>0.2</th>\n",
       "      <td>0.8138</td>\n",
       "      <td>0.029184</td>\n",
       "      <td>0.8182</td>\n",
       "      <td>0.083025</td>\n",
       "      <td>0.8124</td>\n",
       "      <td>0.040796</td>\n",
       "      <td>0.8153</td>\n",
       "      <td>0.037647</td>\n",
       "      <td>0.1862</td>\n",
       "      <td>0.029184</td>\n",
       "      <td>...</td>\n",
       "      <td>0.012872</td>\n",
       "      <td>0.8962</td>\n",
       "      <td>0.076686</td>\n",
       "      <td>0.8832</td>\n",
       "      <td>0.029668</td>\n",
       "      <td>0.8897</td>\n",
       "      <td>0.027294</td>\n",
       "      <td>0.2</td>\n",
       "      <td>858</td>\n",
       "      <td>242</td>\n",
       "    </tr>\n",
       "    <tr>\n",
       "      <th>0.3</th>\n",
       "      <td>0.7464</td>\n",
       "      <td>0.036787</td>\n",
       "      <td>0.7480</td>\n",
       "      <td>0.088566</td>\n",
       "      <td>0.7460</td>\n",
       "      <td>0.053432</td>\n",
       "      <td>0.7470</td>\n",
       "      <td>0.039438</td>\n",
       "      <td>0.2536</td>\n",
       "      <td>0.036787</td>\n",
       "      <td>...</td>\n",
       "      <td>0.016763</td>\n",
       "      <td>0.9364</td>\n",
       "      <td>0.054271</td>\n",
       "      <td>0.9272</td>\n",
       "      <td>0.032206</td>\n",
       "      <td>0.9318</td>\n",
       "      <td>0.017315</td>\n",
       "      <td>0.3</td>\n",
       "      <td>858</td>\n",
       "      <td>242</td>\n",
       "    </tr>\n",
       "    <tr>\n",
       "      <th>0.4</th>\n",
       "      <td>0.6446</td>\n",
       "      <td>0.027916</td>\n",
       "      <td>0.6696</td>\n",
       "      <td>0.104665</td>\n",
       "      <td>0.6374</td>\n",
       "      <td>0.025657</td>\n",
       "      <td>0.6535</td>\n",
       "      <td>0.051881</td>\n",
       "      <td>0.3554</td>\n",
       "      <td>0.027916</td>\n",
       "      <td>...</td>\n",
       "      <td>0.023416</td>\n",
       "      <td>0.9666</td>\n",
       "      <td>0.043798</td>\n",
       "      <td>0.9448</td>\n",
       "      <td>0.031300</td>\n",
       "      <td>0.9557</td>\n",
       "      <td>0.023555</td>\n",
       "      <td>0.4</td>\n",
       "      <td>858</td>\n",
       "      <td>242</td>\n",
       "    </tr>\n",
       "    <tr>\n",
       "      <th>0.5</th>\n",
       "      <td>0.5646</td>\n",
       "      <td>0.034976</td>\n",
       "      <td>0.5748</td>\n",
       "      <td>0.132596</td>\n",
       "      <td>0.5616</td>\n",
       "      <td>0.032731</td>\n",
       "      <td>0.5682</td>\n",
       "      <td>0.065008</td>\n",
       "      <td>0.4354</td>\n",
       "      <td>0.034976</td>\n",
       "      <td>...</td>\n",
       "      <td>0.017536</td>\n",
       "      <td>0.9822</td>\n",
       "      <td>0.025694</td>\n",
       "      <td>0.9558</td>\n",
       "      <td>0.023167</td>\n",
       "      <td>0.9690</td>\n",
       "      <td>0.015100</td>\n",
       "      <td>0.5</td>\n",
       "      <td>858</td>\n",
       "      <td>242</td>\n",
       "    </tr>\n",
       "    <tr>\n",
       "      <th>0.6</th>\n",
       "      <td>0.4444</td>\n",
       "      <td>0.022854</td>\n",
       "      <td>0.4632</td>\n",
       "      <td>0.125796</td>\n",
       "      <td>0.4394</td>\n",
       "      <td>0.030794</td>\n",
       "      <td>0.4513</td>\n",
       "      <td>0.054784</td>\n",
       "      <td>0.5556</td>\n",
       "      <td>0.022854</td>\n",
       "      <td>...</td>\n",
       "      <td>0.017612</td>\n",
       "      <td>0.9794</td>\n",
       "      <td>0.030262</td>\n",
       "      <td>0.9584</td>\n",
       "      <td>0.023201</td>\n",
       "      <td>0.9689</td>\n",
       "      <td>0.018284</td>\n",
       "      <td>0.6</td>\n",
       "      <td>858</td>\n",
       "      <td>242</td>\n",
       "    </tr>\n",
       "    <tr>\n",
       "      <th>0.7</th>\n",
       "      <td>0.3500</td>\n",
       "      <td>0.020652</td>\n",
       "      <td>0.3142</td>\n",
       "      <td>0.109580</td>\n",
       "      <td>0.3600</td>\n",
       "      <td>0.013982</td>\n",
       "      <td>0.3371</td>\n",
       "      <td>0.051238</td>\n",
       "      <td>0.6500</td>\n",
       "      <td>0.020652</td>\n",
       "      <td>...</td>\n",
       "      <td>0.012931</td>\n",
       "      <td>0.9682</td>\n",
       "      <td>0.045893</td>\n",
       "      <td>0.9714</td>\n",
       "      <td>0.021232</td>\n",
       "      <td>0.9698</td>\n",
       "      <td>0.019719</td>\n",
       "      <td>0.7</td>\n",
       "      <td>858</td>\n",
       "      <td>242</td>\n",
       "    </tr>\n",
       "    <tr>\n",
       "      <th>0.8</th>\n",
       "      <td>0.2500</td>\n",
       "      <td>0.027866</td>\n",
       "      <td>0.2234</td>\n",
       "      <td>0.130611</td>\n",
       "      <td>0.2576</td>\n",
       "      <td>0.036032</td>\n",
       "      <td>0.2405</td>\n",
       "      <td>0.057857</td>\n",
       "      <td>0.7500</td>\n",
       "      <td>0.027866</td>\n",
       "      <td>...</td>\n",
       "      <td>0.002000</td>\n",
       "      <td>0.9666</td>\n",
       "      <td>0.074685</td>\n",
       "      <td>0.9822</td>\n",
       "      <td>0.010281</td>\n",
       "      <td>0.9744</td>\n",
       "      <td>0.032393</td>\n",
       "      <td>0.8</td>\n",
       "      <td>858</td>\n",
       "      <td>242</td>\n",
       "    </tr>\n",
       "    <tr>\n",
       "      <th>0.9</th>\n",
       "      <td>0.1154</td>\n",
       "      <td>0.020157</td>\n",
       "      <td>0.1160</td>\n",
       "      <td>0.091739</td>\n",
       "      <td>0.1152</td>\n",
       "      <td>0.008289</td>\n",
       "      <td>0.1156</td>\n",
       "      <td>0.045367</td>\n",
       "      <td>0.8846</td>\n",
       "      <td>0.020157</td>\n",
       "      <td>...</td>\n",
       "      <td>0.013864</td>\n",
       "      <td>0.8000</td>\n",
       "      <td>0.447214</td>\n",
       "      <td>0.9900</td>\n",
       "      <td>0.022361</td>\n",
       "      <td>0.8950</td>\n",
       "      <td>0.221077</td>\n",
       "      <td>0.9</td>\n",
       "      <td>858</td>\n",
       "      <td>242</td>\n",
       "    </tr>\n",
       "    <tr>\n",
       "      <th>1.0</th>\n",
       "      <td>0.0728</td>\n",
       "      <td>0.027271</td>\n",
       "      <td>0.0204</td>\n",
       "      <td>0.025314</td>\n",
       "      <td>0.0874</td>\n",
       "      <td>0.029922</td>\n",
       "      <td>0.0539</td>\n",
       "      <td>0.025193</td>\n",
       "      <td>0.9272</td>\n",
       "      <td>0.027271</td>\n",
       "      <td>...</td>\n",
       "      <td>0.000000</td>\n",
       "      <td>0.6000</td>\n",
       "      <td>0.547723</td>\n",
       "      <td>1.0000</td>\n",
       "      <td>0.000000</td>\n",
       "      <td>0.8000</td>\n",
       "      <td>0.273861</td>\n",
       "      <td>1.0</td>\n",
       "      <td>858</td>\n",
       "      <td>242</td>\n",
       "    </tr>\n",
       "  </tbody>\n",
       "</table>\n",
       "<p>11 rows × 35 columns</p>\n",
       "</div>"
      ],
      "text/plain": [
       "                    validity mean  validity std  validity_0 mean  \\\n",
       "significance_level                                                 \n",
       "0.0                        1.0000      0.000000           1.0000   \n",
       "0.1                        0.9128      0.022477           0.9424   \n",
       "0.2                        0.8138      0.029184           0.8182   \n",
       "0.3                        0.7464      0.036787           0.7480   \n",
       "0.4                        0.6446      0.027916           0.6696   \n",
       "0.5                        0.5646      0.034976           0.5748   \n",
       "0.6                        0.4444      0.022854           0.4632   \n",
       "0.7                        0.3500      0.020652           0.3142   \n",
       "0.8                        0.2500      0.027866           0.2234   \n",
       "0.9                        0.1154      0.020157           0.1160   \n",
       "1.0                        0.0728      0.027271           0.0204   \n",
       "\n",
       "                    validity_0 std  validity_1 mean  validity_1 std  \\\n",
       "significance_level                                                    \n",
       "0.0                       0.000000           1.0000        0.000000   \n",
       "0.1                       0.048655           0.9048        0.031956   \n",
       "0.2                       0.083025           0.8124        0.040796   \n",
       "0.3                       0.088566           0.7460        0.053432   \n",
       "0.4                       0.104665           0.6374        0.025657   \n",
       "0.5                       0.132596           0.5616        0.032731   \n",
       "0.6                       0.125796           0.4394        0.030794   \n",
       "0.7                       0.109580           0.3600        0.013982   \n",
       "0.8                       0.130611           0.2576        0.036032   \n",
       "0.9                       0.091739           0.1152        0.008289   \n",
       "1.0                       0.025314           0.0874        0.029922   \n",
       "\n",
       "                    validity_bal mean  validity_bal std  error_rate mean  \\\n",
       "significance_level                                                         \n",
       "0.0                            1.0000          0.000000           0.0000   \n",
       "0.1                            0.9236          0.022642           0.0872   \n",
       "0.2                            0.8153          0.037647           0.1862   \n",
       "0.3                            0.7470          0.039438           0.2536   \n",
       "0.4                            0.6535          0.051881           0.3554   \n",
       "0.5                            0.5682          0.065008           0.4354   \n",
       "0.6                            0.4513          0.054784           0.5556   \n",
       "0.7                            0.3371          0.051238           0.6500   \n",
       "0.8                            0.2405          0.057857           0.7500   \n",
       "0.9                            0.1156          0.045367           0.8846   \n",
       "1.0                            0.0539          0.025193           0.9272   \n",
       "\n",
       "                    error_rate std  ...  accuracy std  accuracy_0 mean  \\\n",
       "significance_level                  ...                                  \n",
       "0.0                       0.000000  ...      0.000000           0.0000   \n",
       "0.1                       0.022477  ...      0.021007           0.9330   \n",
       "0.2                       0.029184  ...      0.012872           0.8962   \n",
       "0.3                       0.036787  ...      0.016763           0.9364   \n",
       "0.4                       0.027916  ...      0.023416           0.9666   \n",
       "0.5                       0.034976  ...      0.017536           0.9822   \n",
       "0.6                       0.022854  ...      0.017612           0.9794   \n",
       "0.7                       0.020652  ...      0.012931           0.9682   \n",
       "0.8                       0.027866  ...      0.002000           0.9666   \n",
       "0.9                       0.020157  ...      0.013864           0.8000   \n",
       "1.0                       0.027271  ...      0.000000           0.6000   \n",
       "\n",
       "                    accuracy_0 std  accuracy_1 mean  accuracy_1 std  \\\n",
       "significance_level                                                    \n",
       "0.0                       0.000000           0.0000        0.000000   \n",
       "0.1                       0.059804           0.8898        0.033789   \n",
       "0.2                       0.076686           0.8832        0.029668   \n",
       "0.3                       0.054271           0.9272        0.032206   \n",
       "0.4                       0.043798           0.9448        0.031300   \n",
       "0.5                       0.025694           0.9558        0.023167   \n",
       "0.6                       0.030262           0.9584        0.023201   \n",
       "0.7                       0.045893           0.9714        0.021232   \n",
       "0.8                       0.074685           0.9822        0.010281   \n",
       "0.9                       0.447214           0.9900        0.022361   \n",
       "1.0                       0.547723           1.0000        0.000000   \n",
       "\n",
       "                    accuracy_bal mean  accuracy_bal std  significance_level  \\\n",
       "significance_level                                                            \n",
       "0.0                            0.0000          0.000000                 0.0   \n",
       "0.1                            0.9114          0.022437                 0.1   \n",
       "0.2                            0.8897          0.027294                 0.2   \n",
       "0.3                            0.9318          0.017315                 0.3   \n",
       "0.4                            0.9557          0.023555                 0.4   \n",
       "0.5                            0.9690          0.015100                 0.5   \n",
       "0.6                            0.9689          0.018284                 0.6   \n",
       "0.7                            0.9698          0.019719                 0.7   \n",
       "0.8                            0.9744          0.032393                 0.8   \n",
       "0.9                            0.8950          0.221077                 0.9   \n",
       "1.0                            0.8000          0.273861                 1.0   \n",
       "\n",
       "                    num_actives  num_inactives  \n",
       "significance_level                              \n",
       "0.0                         858            242  \n",
       "0.1                         858            242  \n",
       "0.2                         858            242  \n",
       "0.3                         858            242  \n",
       "0.4                         858            242  \n",
       "0.5                         858            242  \n",
       "0.6                         858            242  \n",
       "0.7                         858            242  \n",
       "0.8                         858            242  \n",
       "0.9                         858            242  \n",
       "1.0                         858            242  \n",
       "\n",
       "[11 rows x 35 columns]"
      ]
     },
     "execution_count": 34,
     "metadata": {},
     "output_type": "execute_result"
    }
   ],
   "source": [
    "# Look at evaluation df for cross validation (averaged over all folds)\n",
    "cross_validator.averaged_evaluation_df_cv"
   ]
  },
  {
   "cell_type": "code",
   "execution_count": 35,
   "metadata": {},
   "outputs": [
    {
     "data": {
      "text/html": [
       "<div>\n",
       "<style scoped>\n",
       "    .dataframe tbody tr th:only-of-type {\n",
       "        vertical-align: middle;\n",
       "    }\n",
       "\n",
       "    .dataframe tbody tr th {\n",
       "        vertical-align: top;\n",
       "    }\n",
       "\n",
       "    .dataframe thead th {\n",
       "        text-align: right;\n",
       "    }\n",
       "</style>\n",
       "<table border=\"1\" class=\"dataframe\">\n",
       "  <thead>\n",
       "    <tr style=\"text-align: right;\">\n",
       "      <th></th>\n",
       "      <th>validity mean</th>\n",
       "      <th>efficiency mean</th>\n",
       "      <th>accuracy mean</th>\n",
       "      <th>significance_level</th>\n",
       "    </tr>\n",
       "    <tr>\n",
       "      <th>significance_level</th>\n",
       "      <th></th>\n",
       "      <th></th>\n",
       "      <th></th>\n",
       "      <th></th>\n",
       "    </tr>\n",
       "  </thead>\n",
       "  <tbody>\n",
       "    <tr>\n",
       "      <th>0.0</th>\n",
       "      <td>1.0000</td>\n",
       "      <td>0.0000</td>\n",
       "      <td>0.0000</td>\n",
       "      <td>0.0</td>\n",
       "    </tr>\n",
       "    <tr>\n",
       "      <th>0.1</th>\n",
       "      <td>0.8262</td>\n",
       "      <td>0.5512</td>\n",
       "      <td>0.6846</td>\n",
       "      <td>0.1</td>\n",
       "    </tr>\n",
       "    <tr>\n",
       "      <th>0.2</th>\n",
       "      <td>0.4946</td>\n",
       "      <td>0.7236</td>\n",
       "      <td>0.6842</td>\n",
       "      <td>0.2</td>\n",
       "    </tr>\n",
       "    <tr>\n",
       "      <th>0.3</th>\n",
       "      <td>0.2584</td>\n",
       "      <td>0.3404</td>\n",
       "      <td>0.7638</td>\n",
       "      <td>0.3</td>\n",
       "    </tr>\n",
       "    <tr>\n",
       "      <th>0.4</th>\n",
       "      <td>0.1410</td>\n",
       "      <td>0.1796</td>\n",
       "      <td>0.7840</td>\n",
       "      <td>0.4</td>\n",
       "    </tr>\n",
       "    <tr>\n",
       "      <th>0.5</th>\n",
       "      <td>0.0762</td>\n",
       "      <td>0.0946</td>\n",
       "      <td>0.8110</td>\n",
       "      <td>0.5</td>\n",
       "    </tr>\n",
       "    <tr>\n",
       "      <th>0.6</th>\n",
       "      <td>0.0268</td>\n",
       "      <td>0.0312</td>\n",
       "      <td>0.8572</td>\n",
       "      <td>0.6</td>\n",
       "    </tr>\n",
       "    <tr>\n",
       "      <th>0.7</th>\n",
       "      <td>0.0146</td>\n",
       "      <td>0.0158</td>\n",
       "      <td>0.8600</td>\n",
       "      <td>0.7</td>\n",
       "    </tr>\n",
       "    <tr>\n",
       "      <th>0.8</th>\n",
       "      <td>0.0080</td>\n",
       "      <td>0.0080</td>\n",
       "      <td>1.0000</td>\n",
       "      <td>0.8</td>\n",
       "    </tr>\n",
       "    <tr>\n",
       "      <th>0.9</th>\n",
       "      <td>0.0016</td>\n",
       "      <td>0.0016</td>\n",
       "      <td>0.4000</td>\n",
       "      <td>0.9</td>\n",
       "    </tr>\n",
       "    <tr>\n",
       "      <th>1.0</th>\n",
       "      <td>0.0000</td>\n",
       "      <td>0.0000</td>\n",
       "      <td>0.0000</td>\n",
       "      <td>1.0</td>\n",
       "    </tr>\n",
       "  </tbody>\n",
       "</table>\n",
       "</div>"
      ],
      "text/plain": [
       "                    validity mean  efficiency mean  accuracy mean  \\\n",
       "significance_level                                                  \n",
       "0.0                        1.0000           0.0000         0.0000   \n",
       "0.1                        0.8262           0.5512         0.6846   \n",
       "0.2                        0.4946           0.7236         0.6842   \n",
       "0.3                        0.2584           0.3404         0.7638   \n",
       "0.4                        0.1410           0.1796         0.7840   \n",
       "0.5                        0.0762           0.0946         0.8110   \n",
       "0.6                        0.0268           0.0312         0.8572   \n",
       "0.7                        0.0146           0.0158         0.8600   \n",
       "0.8                        0.0080           0.0080         1.0000   \n",
       "0.9                        0.0016           0.0016         0.4000   \n",
       "1.0                        0.0000           0.0000         0.0000   \n",
       "\n",
       "                    significance_level  \n",
       "significance_level                      \n",
       "0.0                                0.0  \n",
       "0.1                                0.1  \n",
       "0.2                                0.2  \n",
       "0.3                                0.3  \n",
       "0.4                                0.4  \n",
       "0.5                                0.5  \n",
       "0.6                                0.6  \n",
       "0.7                                0.7  \n",
       "0.8                                0.8  \n",
       "0.9                                0.9  \n",
       "1.0                                1.0  "
      ]
     },
     "execution_count": 35,
     "metadata": {},
     "output_type": "execute_result"
    }
   ],
   "source": [
    "# Look at evaluation df predicting the score set (averaged over all folds)\n",
    "cross_validator.averaged_evaluation_df_pred_score[[\"validity mean\", \"efficiency mean\", \"accuracy mean\", \"significance_level\"]]"
   ]
  },
  {
   "cell_type": "markdown",
   "metadata": {},
   "source": [
    "### Calibration plots of CV and prediction of score set, using the 'original' calibration set\n",
    "Note that we can not interpret these plots as results yet as the underlying data is based on just an arbitrary split of one dataset."
   ]
  },
  {
   "cell_type": "markdown",
   "metadata": {},
   "source": [
    "The plot shows the mean (line) and standard deviation (area) of the evaluation measures indicated in the legend (expected_error_rate excluded) over the fivefold crossvalidation. "
   ]
  },
  {
   "cell_type": "code",
   "execution_count": 36,
   "metadata": {},
   "outputs": [
    {
     "data": {
      "text/plain": [
       "<module 'matplotlib.pyplot' from '/home/andrea/anaconda2/envs/recalibration_si/lib/python3.8/site-packages/matplotlib/pyplot.py'>"
      ]
     },
     "execution_count": 36,
     "metadata": {},
     "output_type": "execute_result"
    },
    {
     "data": {
      "image/png": "[encoded data removed]",
      "text/plain": [
       "<Figure size 432x288 with 1 Axes>"
      ]
     },
     "metadata": {
      "needs_background": "light"
     },
     "output_type": "display_data"
    }
   ],
   "source": [
    "cross_validator.calibration_plot(endpoint=endpoint, averaged_evaluation_df=cross_validator.averaged_evaluation_df_cv)"
   ]
  },
  {
   "cell_type": "code",
   "execution_count": 37,
   "metadata": {},
   "outputs": [
    {
     "data": {
      "text/plain": [
       "<module 'matplotlib.pyplot' from '/home/andrea/anaconda2/envs/recalibration_si/lib/python3.8/site-packages/matplotlib/pyplot.py'>"
      ]
     },
     "execution_count": 37,
     "metadata": {},
     "output_type": "execute_result"
    },
    {
     "data": {
      "image/png": "[encoded data removed]",
      "text/plain": [
       "<Figure size 432x288 with 1 Axes>"
      ]
     },
     "metadata": {
      "needs_background": "light"
     },
     "output_type": "display_data"
    }
   ],
   "source": [
    "cross_validator.calibration_plot(endpoint=endpoint, averaged_evaluation_df=cross_validator.averaged_evaluation_df_pred_score)"
   ]
  },
  {
   "cell_type": "code",
   "execution_count": 38,
   "metadata": {},
   "outputs": [],
   "source": [
    "# We would get an assertion error, if we try to plot the calibration plot using the updated calibration set, \n",
    "# since we have not updated it yet.\n",
    "# cross_validator.calibration_plot(endpoint=endpoint, averaged_evaluation_df=cross_validator.averaged_evaluation_df_cal_update_1)"
   ]
  },
  {
   "cell_type": "code",
   "execution_count": 39,
   "metadata": {},
   "outputs": [
    {
     "name": "stdout",
     "output_type": "stream",
     "text": [
      "880\n"
     ]
    }
   ],
   "source": [
    "print(len(cross_validator.train_indices[0]))"
   ]
  },
  {
   "cell_type": "markdown",
   "metadata": {},
   "source": [
    "### Update the calibration set within the crossvalidator\n",
    "Note: here we show the first update step with X_update1/y_update1. We could add one more update step with X_update2/y_update2."
   ]
  },
  {
   "cell_type": "code",
   "execution_count": 40,
   "metadata": {},
   "outputs": [
    {
     "name": "stdout",
     "output_type": "stream",
     "text": [
      "fold:  0\n",
      "final n:  1\n",
      "updated_number:  1\n",
      "fold:  1\n",
      "final n:  1\n",
      "updated_number:  1\n",
      "fold:  2\n",
      "final n:  1\n",
      "updated_number:  1\n",
      "fold:  3\n",
      "final n:  1\n",
      "updated_number:  1\n",
      "fold:  4\n",
      "final n:  1\n",
      "updated_number:  1\n"
     ]
    }
   ],
   "source": [
    "# For control, the 'updated number' is printed, which is the number under which the updated \n",
    "# model/predictions are saved. This is important since the number will be incremented\n",
    "# automatically when another number is already used.\n",
    "cross_validator.cross_validate_calibrate_update(X_update=X_update1, y_update=y_update1, X_score=X_holdout, y_score=y_holdout, steps=10, endpoint=endpoint)"
   ]
  },
  {
   "cell_type": "code",
   "execution_count": 41,
   "metadata": {},
   "outputs": [
    {
     "data": {
      "text/plain": [
       "dict_keys(['cv', 'pred_score', 'cal_update_1'])"
      ]
     },
     "execution_count": 41,
     "metadata": {},
     "output_type": "execute_result"
    }
   ],
   "source": [
    "cross_validator._evaluation_dfs.keys()"
   ]
  },
  {
   "cell_type": "code",
   "execution_count": 42,
   "metadata": {},
   "outputs": [
    {
     "data": {
      "text/plain": [
       "dict_keys(['cv', 'pred_score', 'cal_update_1'])"
      ]
     },
     "execution_count": 42,
     "metadata": {},
     "output_type": "execute_result"
    }
   ],
   "source": [
    "cross_validator._predictions.keys()"
   ]
  },
  {
   "cell_type": "code",
   "execution_count": 43,
   "metadata": {},
   "outputs": [
    {
     "name": "stdout",
     "output_type": "stream",
     "text": [
      "5\n"
     ]
    }
   ],
   "source": [
    "print(len(cross_validator.predictors))"
   ]
  },
  {
   "cell_type": "code",
   "execution_count": 44,
   "metadata": {},
   "outputs": [
    {
     "data": {
      "text/html": [
       "<div>\n",
       "<style scoped>\n",
       "    .dataframe tbody tr th:only-of-type {\n",
       "        vertical-align: middle;\n",
       "    }\n",
       "\n",
       "    .dataframe tbody tr th {\n",
       "        vertical-align: top;\n",
       "    }\n",
       "\n",
       "    .dataframe thead th {\n",
       "        text-align: right;\n",
       "    }\n",
       "</style>\n",
       "<table border=\"1\" class=\"dataframe\">\n",
       "  <thead>\n",
       "    <tr style=\"text-align: right;\">\n",
       "      <th></th>\n",
       "      <th>validity mean</th>\n",
       "      <th>efficiency mean</th>\n",
       "      <th>accuracy mean</th>\n",
       "      <th>significance_level</th>\n",
       "    </tr>\n",
       "    <tr>\n",
       "      <th>significance_level</th>\n",
       "      <th></th>\n",
       "      <th></th>\n",
       "      <th></th>\n",
       "      <th></th>\n",
       "    </tr>\n",
       "  </thead>\n",
       "  <tbody>\n",
       "    <tr>\n",
       "      <th>0.0</th>\n",
       "      <td>1.0000</td>\n",
       "      <td>0.0000</td>\n",
       "      <td>0.0000</td>\n",
       "      <td>0.0</td>\n",
       "    </tr>\n",
       "    <tr>\n",
       "      <th>0.1</th>\n",
       "      <td>0.8918</td>\n",
       "      <td>0.4174</td>\n",
       "      <td>0.7378</td>\n",
       "      <td>0.1</td>\n",
       "    </tr>\n",
       "    <tr>\n",
       "      <th>0.2</th>\n",
       "      <td>0.7700</td>\n",
       "      <td>0.7226</td>\n",
       "      <td>0.6806</td>\n",
       "      <td>0.2</td>\n",
       "    </tr>\n",
       "    <tr>\n",
       "      <th>0.3</th>\n",
       "      <td>0.6638</td>\n",
       "      <td>0.9290</td>\n",
       "      <td>0.6570</td>\n",
       "      <td>0.3</td>\n",
       "    </tr>\n",
       "    <tr>\n",
       "      <th>0.4</th>\n",
       "      <td>0.5608</td>\n",
       "      <td>0.8274</td>\n",
       "      <td>0.6772</td>\n",
       "      <td>0.4</td>\n",
       "    </tr>\n",
       "    <tr>\n",
       "      <th>0.5</th>\n",
       "      <td>0.4726</td>\n",
       "      <td>0.6708</td>\n",
       "      <td>0.7076</td>\n",
       "      <td>0.5</td>\n",
       "    </tr>\n",
       "    <tr>\n",
       "      <th>0.6</th>\n",
       "      <td>0.3782</td>\n",
       "      <td>0.5220</td>\n",
       "      <td>0.7282</td>\n",
       "      <td>0.6</td>\n",
       "    </tr>\n",
       "    <tr>\n",
       "      <th>0.7</th>\n",
       "      <td>0.2830</td>\n",
       "      <td>0.3768</td>\n",
       "      <td>0.7512</td>\n",
       "      <td>0.7</td>\n",
       "    </tr>\n",
       "    <tr>\n",
       "      <th>0.8</th>\n",
       "      <td>0.1768</td>\n",
       "      <td>0.2278</td>\n",
       "      <td>0.7730</td>\n",
       "      <td>0.8</td>\n",
       "    </tr>\n",
       "    <tr>\n",
       "      <th>0.9</th>\n",
       "      <td>0.0764</td>\n",
       "      <td>0.0938</td>\n",
       "      <td>0.8196</td>\n",
       "      <td>0.9</td>\n",
       "    </tr>\n",
       "    <tr>\n",
       "      <th>1.0</th>\n",
       "      <td>0.0046</td>\n",
       "      <td>0.0052</td>\n",
       "      <td>0.7000</td>\n",
       "      <td>1.0</td>\n",
       "    </tr>\n",
       "  </tbody>\n",
       "</table>\n",
       "</div>"
      ],
      "text/plain": [
       "                    validity mean  efficiency mean  accuracy mean  \\\n",
       "significance_level                                                  \n",
       "0.0                        1.0000           0.0000         0.0000   \n",
       "0.1                        0.8918           0.4174         0.7378   \n",
       "0.2                        0.7700           0.7226         0.6806   \n",
       "0.3                        0.6638           0.9290         0.6570   \n",
       "0.4                        0.5608           0.8274         0.6772   \n",
       "0.5                        0.4726           0.6708         0.7076   \n",
       "0.6                        0.3782           0.5220         0.7282   \n",
       "0.7                        0.2830           0.3768         0.7512   \n",
       "0.8                        0.1768           0.2278         0.7730   \n",
       "0.9                        0.0764           0.0938         0.8196   \n",
       "1.0                        0.0046           0.0052         0.7000   \n",
       "\n",
       "                    significance_level  \n",
       "significance_level                      \n",
       "0.0                                0.0  \n",
       "0.1                                0.1  \n",
       "0.2                                0.2  \n",
       "0.3                                0.3  \n",
       "0.4                                0.4  \n",
       "0.5                                0.5  \n",
       "0.6                                0.6  \n",
       "0.7                                0.7  \n",
       "0.8                                0.8  \n",
       "0.9                                0.9  \n",
       "1.0                                1.0  "
      ]
     },
     "execution_count": 44,
     "metadata": {},
     "output_type": "execute_result"
    }
   ],
   "source": [
    "# Look at evaluation df predicting the score set using the updated calibration set (averaged over all folds)\n",
    "cross_validator.averaged_evaluation_df_cal_update_1[[\"validity mean\", \"efficiency mean\", \"accuracy mean\", \"significance_level\"]]"
   ]
  },
  {
   "cell_type": "markdown",
   "metadata": {},
   "source": [
    "### Calibration plot for the score set using the updated calibration set"
   ]
  },
  {
   "cell_type": "code",
   "execution_count": 45,
   "metadata": {},
   "outputs": [
    {
     "data": {
      "text/plain": [
       "<module 'matplotlib.pyplot' from '/home/andrea/anaconda2/envs/recalibration_si/lib/python3.8/site-packages/matplotlib/pyplot.py'>"
      ]
     },
     "execution_count": 45,
     "metadata": {},
     "output_type": "execute_result"
    },
    {
     "data": {
      "image/png": "[encoded data removed]",
      "text/plain": [
       "<Figure size 432x288 with 1 Axes>"
      ]
     },
     "metadata": {
      "needs_background": "light"
     },
     "output_type": "display_data"
    }
   ],
   "source": [
    "cross_validator.calibration_plot(endpoint=endpoint, averaged_evaluation_df=cross_validator.averaged_evaluation_df_cal_update_1)"
   ]
  }
 ],
 "metadata": {
  "kernelspec": {
   "display_name": "Python 3",
   "language": "python",
   "name": "python3"
  },
  "language_info": {
   "codemirror_mode": {
    "name": "ipython",
    "version": 3
   },
   "file_extension": ".py",
   "mimetype": "text/x-python",
   "name": "python",
   "nbconvert_exporter": "python",
   "pygments_lexer": "ipython3",
   "version": "3.8.10"
  }
 },
 "nbformat": 4,
 "nbformat_minor": 4
}
