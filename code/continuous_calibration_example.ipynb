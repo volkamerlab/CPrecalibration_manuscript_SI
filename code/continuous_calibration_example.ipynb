{
 "cells": [
  {
   "cell_type": "markdown",
   "metadata": {},
   "source": [
    "# Example notebook continuous calibration"
   ]
  },
  {
   "cell_type": "markdown",
   "metadata": {},
   "source": [
    "In this notebook, the use of the CP classes for continuous calibration are demonstrated. Note that no 'suitable' dataset is available yet. The dataset used and split is just there to illustrate the workflow, but no results can be interpreted yet"
   ]
  },
  {
   "cell_type": "markdown",
   "metadata": {},
   "source": [
    "### Import packages and modules"
   ]
  },
  {
   "cell_type": "code",
   "execution_count": 1,
   "metadata": {},
   "outputs": [],
   "source": [
    "import pandas as pd\n",
    "import numpy as np\n",
    "import sys"
   ]
  },
  {
   "cell_type": "code",
   "execution_count": 2,
   "metadata": {},
   "outputs": [],
   "source": [
    "from sklearn.ensemble import RandomForestClassifier\n",
    "from sklearn.neighbors import KNeighborsRegressor"
   ]
  },
  {
   "cell_type": "code",
   "execution_count": 3,
   "metadata": {},
   "outputs": [],
   "source": [
    "from nonconformist.nc import InverseProbabilityErrFunc, NcFactory"
   ]
  },
  {
   "cell_type": "code",
   "execution_count": 4,
   "metadata": {},
   "outputs": [],
   "source": [
    "# Define path to import script(s) from\n",
    "scripts_path = \"../scripts/\"\n",
    "sys.path.append(scripts_path)"
   ]
  },
  {
   "cell_type": "code",
   "execution_count": 5,
   "metadata": {},
   "outputs": [],
   "source": [
    "from continuous_calibration import (\n",
    "StratifiedRatioSampler, BalancedStratifiedRatioSampler, CrossValidationSampler, InductiveConformalPredictor, \n",
    "    ContinuousCalibrationAggregatedConformalPredictor, CrossValidator\n",
    ")"
   ]
  },
  {
   "cell_type": "markdown",
   "metadata": {},
   "source": [
    "### Define paths and parameters"
   ]
  },
  {
   "cell_type": "code",
   "execution_count": 6,
   "metadata": {},
   "outputs": [],
   "source": [
    "data_path = \"../data/DesFin_pvalues_complete.csv\" # File in Tresorit"
   ]
  },
  {
   "cell_type": "code",
   "execution_count": 7,
   "metadata": {},
   "outputs": [],
   "source": [
    "endpoint = \"Toxicity_CHR_Lung_InVivo\""
   ]
  },
  {
   "cell_type": "code",
   "execution_count": 8,
   "metadata": {},
   "outputs": [],
   "source": [
    "ntrees = 100  # 500\n",
    "normaliser_model = KNeighborsRegressor()  # None\n",
    "n_folds_acp = 3  # 20\n",
    "if normaliser_model:\n",
    "    ratio_sampler = BalancedStratifiedRatioSampler(n_folds=n_folds_acp)\n",
    "else:\n",
    "    ratio_sampler = StratifiedRatioSampler(n_folds=n_folds_acp)"
   ]
  },
  {
   "cell_type": "markdown",
   "metadata": {},
   "source": [
    "### Load and split data"
   ]
  },
  {
   "cell_type": "code",
   "execution_count": 9,
   "metadata": {},
   "outputs": [
    {
     "name": "stdout",
     "output_type": "stream",
     "text": [
      "(15608, 2275)\n",
      "(494, 2275)\n"
     ]
    },
    {
     "data": {
      "text/html": [
       "<div>\n",
       "<style scoped>\n",
       "    .dataframe tbody tr th:only-of-type {\n",
       "        vertical-align: middle;\n",
       "    }\n",
       "\n",
       "    .dataframe tbody tr th {\n",
       "        vertical-align: top;\n",
       "    }\n",
       "\n",
       "    .dataframe thead th {\n",
       "        text-align: right;\n",
       "    }\n",
       "</style>\n",
       "<table border=\"1\" class=\"dataframe\">\n",
       "  <thead>\n",
       "    <tr style=\"text-align: right;\">\n",
       "      <th></th>\n",
       "      <th>Toxicity_MNT_InVivo</th>\n",
       "      <th>Toxicity_CA_InVivo</th>\n",
       "      <th>Toxicity_Carcinogenicity_InVivo</th>\n",
       "      <th>Toxicity_UDS_InVivo</th>\n",
       "      <th>Toxicity_DILI_Combined_InVivo</th>\n",
       "      <th>Toxicity_Kidney_InVivo</th>\n",
       "      <th>Toxicity_Lung_MolTox_InVivo</th>\n",
       "      <th>Toxicity_MNT_Yoo_InVivo</th>\n",
       "      <th>Toxicity_CHR_Adrenal Gland_InVivo</th>\n",
       "      <th>Toxicity_CHR_Bone Marrow_InVivo</th>\n",
       "      <th>...</th>\n",
       "      <th>p0-CA</th>\n",
       "      <th>p1-CA</th>\n",
       "      <th>p0-UDS</th>\n",
       "      <th>p1-UDS</th>\n",
       "      <th>p0-Caco2</th>\n",
       "      <th>p1-Caco2</th>\n",
       "      <th>p0-PGPinhibition</th>\n",
       "      <th>p1-PGPinhibition</th>\n",
       "      <th>p0-Bioavailability</th>\n",
       "      <th>p1-Bioavailability</th>\n",
       "    </tr>\n",
       "  </thead>\n",
       "  <tbody>\n",
       "    <tr>\n",
       "      <th>14876</th>\n",
       "      <td>-1</td>\n",
       "      <td>-1</td>\n",
       "      <td>1</td>\n",
       "      <td>-1</td>\n",
       "      <td>-1</td>\n",
       "      <td>-1</td>\n",
       "      <td>-1</td>\n",
       "      <td>-1</td>\n",
       "      <td>1</td>\n",
       "      <td>0</td>\n",
       "      <td>...</td>\n",
       "      <td>0.144109</td>\n",
       "      <td>0.342030</td>\n",
       "      <td>0.786943</td>\n",
       "      <td>0.039593</td>\n",
       "      <td>0.019182</td>\n",
       "      <td>0.755698</td>\n",
       "      <td>0.885047</td>\n",
       "      <td>0.005829</td>\n",
       "      <td>0.128986</td>\n",
       "      <td>0.565181</td>\n",
       "    </tr>\n",
       "    <tr>\n",
       "      <th>14877</th>\n",
       "      <td>-1</td>\n",
       "      <td>-1</td>\n",
       "      <td>0</td>\n",
       "      <td>-1</td>\n",
       "      <td>-1</td>\n",
       "      <td>-1</td>\n",
       "      <td>-1</td>\n",
       "      <td>-1</td>\n",
       "      <td>0</td>\n",
       "      <td>0</td>\n",
       "      <td>...</td>\n",
       "      <td>0.168492</td>\n",
       "      <td>0.313395</td>\n",
       "      <td>0.248978</td>\n",
       "      <td>0.311875</td>\n",
       "      <td>0.079630</td>\n",
       "      <td>0.439378</td>\n",
       "      <td>0.340913</td>\n",
       "      <td>0.046257</td>\n",
       "      <td>0.101339</td>\n",
       "      <td>0.629551</td>\n",
       "    </tr>\n",
       "    <tr>\n",
       "      <th>14878</th>\n",
       "      <td>-1</td>\n",
       "      <td>-1</td>\n",
       "      <td>-1</td>\n",
       "      <td>-1</td>\n",
       "      <td>-1</td>\n",
       "      <td>-1</td>\n",
       "      <td>-1</td>\n",
       "      <td>-1</td>\n",
       "      <td>0</td>\n",
       "      <td>1</td>\n",
       "      <td>...</td>\n",
       "      <td>0.189019</td>\n",
       "      <td>0.259787</td>\n",
       "      <td>0.379967</td>\n",
       "      <td>0.228138</td>\n",
       "      <td>0.268806</td>\n",
       "      <td>0.165307</td>\n",
       "      <td>0.552225</td>\n",
       "      <td>0.024225</td>\n",
       "      <td>0.091047</td>\n",
       "      <td>0.640678</td>\n",
       "    </tr>\n",
       "    <tr>\n",
       "      <th>14881</th>\n",
       "      <td>-1</td>\n",
       "      <td>-1</td>\n",
       "      <td>0</td>\n",
       "      <td>-1</td>\n",
       "      <td>-1</td>\n",
       "      <td>-1</td>\n",
       "      <td>-1</td>\n",
       "      <td>-1</td>\n",
       "      <td>1</td>\n",
       "      <td>0</td>\n",
       "      <td>...</td>\n",
       "      <td>0.260047</td>\n",
       "      <td>0.198803</td>\n",
       "      <td>0.898624</td>\n",
       "      <td>0.021212</td>\n",
       "      <td>0.139647</td>\n",
       "      <td>0.312084</td>\n",
       "      <td>0.515495</td>\n",
       "      <td>0.026782</td>\n",
       "      <td>0.083578</td>\n",
       "      <td>0.667163</td>\n",
       "    </tr>\n",
       "    <tr>\n",
       "      <th>14883</th>\n",
       "      <td>0</td>\n",
       "      <td>-1</td>\n",
       "      <td>-1</td>\n",
       "      <td>-1</td>\n",
       "      <td>-1</td>\n",
       "      <td>-1</td>\n",
       "      <td>-1</td>\n",
       "      <td>-1</td>\n",
       "      <td>0</td>\n",
       "      <td>0</td>\n",
       "      <td>...</td>\n",
       "      <td>0.413917</td>\n",
       "      <td>0.071498</td>\n",
       "      <td>0.474303</td>\n",
       "      <td>0.176121</td>\n",
       "      <td>0.239218</td>\n",
       "      <td>0.192956</td>\n",
       "      <td>0.118566</td>\n",
       "      <td>0.108153</td>\n",
       "      <td>0.356092</td>\n",
       "      <td>0.260527</td>\n",
       "    </tr>\n",
       "  </tbody>\n",
       "</table>\n",
       "<p>5 rows × 2275 columns</p>\n",
       "</div>"
      ],
      "text/plain": [
       "       Toxicity_MNT_InVivo  Toxicity_CA_InVivo  \\\n",
       "14876                   -1                  -1   \n",
       "14877                   -1                  -1   \n",
       "14878                   -1                  -1   \n",
       "14881                   -1                  -1   \n",
       "14883                    0                  -1   \n",
       "\n",
       "       Toxicity_Carcinogenicity_InVivo  Toxicity_UDS_InVivo  \\\n",
       "14876                                1                   -1   \n",
       "14877                                0                   -1   \n",
       "14878                               -1                   -1   \n",
       "14881                                0                   -1   \n",
       "14883                               -1                   -1   \n",
       "\n",
       "       Toxicity_DILI_Combined_InVivo  Toxicity_Kidney_InVivo  \\\n",
       "14876                             -1                      -1   \n",
       "14877                             -1                      -1   \n",
       "14878                             -1                      -1   \n",
       "14881                             -1                      -1   \n",
       "14883                             -1                      -1   \n",
       "\n",
       "       Toxicity_Lung_MolTox_InVivo  Toxicity_MNT_Yoo_InVivo  \\\n",
       "14876                           -1                       -1   \n",
       "14877                           -1                       -1   \n",
       "14878                           -1                       -1   \n",
       "14881                           -1                       -1   \n",
       "14883                           -1                       -1   \n",
       "\n",
       "       Toxicity_CHR_Adrenal Gland_InVivo  Toxicity_CHR_Bone Marrow_InVivo  \\\n",
       "14876                                  1                                0   \n",
       "14877                                  0                                0   \n",
       "14878                                  0                                1   \n",
       "14881                                  1                                0   \n",
       "14883                                  0                                0   \n",
       "\n",
       "       ...     p0-CA     p1-CA    p0-UDS    p1-UDS  p0-Caco2  p1-Caco2  \\\n",
       "14876  ...  0.144109  0.342030  0.786943  0.039593  0.019182  0.755698   \n",
       "14877  ...  0.168492  0.313395  0.248978  0.311875  0.079630  0.439378   \n",
       "14878  ...  0.189019  0.259787  0.379967  0.228138  0.268806  0.165307   \n",
       "14881  ...  0.260047  0.198803  0.898624  0.021212  0.139647  0.312084   \n",
       "14883  ...  0.413917  0.071498  0.474303  0.176121  0.239218  0.192956   \n",
       "\n",
       "       p0-PGPinhibition  p1-PGPinhibition  p0-Bioavailability  \\\n",
       "14876          0.885047          0.005829            0.128986   \n",
       "14877          0.340913          0.046257            0.101339   \n",
       "14878          0.552225          0.024225            0.091047   \n",
       "14881          0.515495          0.026782            0.083578   \n",
       "14883          0.118566          0.108153            0.356092   \n",
       "\n",
       "       p1-Bioavailability  \n",
       "14876            0.565181  \n",
       "14877            0.629551  \n",
       "14878            0.640678  \n",
       "14881            0.667163  \n",
       "14883            0.260527  \n",
       "\n",
       "[5 rows x 2275 columns]"
      ]
     },
     "execution_count": 9,
     "metadata": {},
     "output_type": "execute_result"
    }
   ],
   "source": [
    "data = pd.read_csv(data_path, header=0, index_col=0)\n",
    "print(data.shape)\n",
    "data = data[data[endpoint] != -1]\n",
    "print(data.shape)\n",
    "data.head()"
   ]
  },
  {
   "cell_type": "code",
   "execution_count": 10,
   "metadata": {},
   "outputs": [
    {
     "data": {
      "text/plain": [
       "array([0, 0, 0, 0, 0, 0, 0, 0, 1, 0, 0, 0, 0, 0, 1, 1, 0, 0, 0, 0, 0, 1,\n",
       "       0, 0, 0, 0, 1, 1, 0, 0, 0, 0, 0, 0, 1, 0, 1, 1, 0, 1, 0, 1, 0, 0,\n",
       "       1, 0, 0, 1, 0, 1, 0, 1, 1, 0, 1, 1, 1, 1, 0, 0, 1, 0, 0, 0, 0, 1,\n",
       "       1, 1, 0, 0, 0, 0, 0, 1, 0, 0, 0, 0, 0, 1, 0, 0, 0, 0, 0, 0, 1, 1,\n",
       "       0, 0, 1, 1, 1, 0, 1, 0, 0, 0, 0, 0, 0, 1, 0, 1, 1, 1, 0, 1, 0, 1,\n",
       "       0, 1, 0, 1, 1, 0, 0, 1, 0, 0, 0, 0, 0, 0, 1, 0, 1, 1, 1, 0, 1, 0,\n",
       "       0, 0, 1, 1, 1, 0, 1, 0, 0, 0, 1, 0, 0, 1, 1, 0, 0, 1, 1, 0, 0, 0,\n",
       "       1, 0, 0, 0, 0, 1, 0, 1, 1, 1, 0, 1, 0, 0, 0, 0, 1, 1, 1, 0, 1, 1,\n",
       "       1, 0, 0, 1, 0, 0, 1, 1, 0, 0, 0, 0, 0, 1, 0, 0, 0, 0, 0, 0, 0, 1,\n",
       "       0, 0, 1, 1, 0, 0, 0, 0, 0, 0, 0, 0, 0, 0, 1, 1, 0, 0, 1, 1, 0, 0,\n",
       "       1, 0, 0, 0, 0, 0, 0, 1, 0, 0, 0, 1, 0, 1, 0, 0, 0, 1, 0, 0, 0, 0,\n",
       "       0, 1, 0, 0, 0, 0, 0, 0, 0, 0, 0, 0, 0, 0, 0, 0, 0, 1, 0, 0, 0, 0,\n",
       "       0, 1, 0, 0, 0, 0, 0, 0, 0, 1, 0, 0, 0, 1, 0, 0, 1, 0, 1, 1, 0, 0,\n",
       "       1, 0, 1, 1, 0, 1, 0, 0, 0, 0, 0, 1, 0, 0, 0, 1, 1, 1, 0, 0, 0, 0,\n",
       "       1, 0, 1, 0, 1, 1, 1, 1, 0, 0, 0, 0, 0, 0, 1, 0, 0, 0, 0, 0, 1, 1,\n",
       "       1, 1, 0, 0, 1, 1, 0, 1, 0, 1, 1, 1, 0, 1, 0, 0, 0, 0, 0, 1, 0, 0,\n",
       "       0, 0, 1, 0, 0, 1, 0, 1, 0, 0, 1, 0, 1, 0, 0, 0, 0, 1, 0, 1, 1, 0,\n",
       "       1, 0, 0, 0, 0, 0, 1, 0, 0, 0, 1, 0, 1, 0, 1, 0, 0, 0, 1, 1, 0, 0,\n",
       "       0, 0, 0, 0, 1, 0, 0, 0, 1, 0, 0, 0, 0, 0, 0, 1, 1, 0, 0, 0, 0, 1,\n",
       "       1, 0, 0, 1, 1, 0, 0, 0, 0, 0, 1, 1, 1, 0, 1, 1, 0, 0, 1, 1, 0, 0,\n",
       "       0, 0, 0, 0, 0, 1, 0, 1, 0, 0, 0, 0, 1, 0, 0, 1, 1, 1, 0, 1, 0, 0,\n",
       "       0, 1, 0, 0, 1, 0, 0, 1, 0, 1, 0, 0, 0, 0, 1, 0, 0, 0, 0, 0, 0, 0,\n",
       "       0, 0, 0, 0, 0, 1, 1, 1, 1, 1])"
      ]
     },
     "execution_count": 10,
     "metadata": {},
     "output_type": "execute_result"
    }
   ],
   "source": [
    "# Define labels\n",
    "y = data[endpoint].values\n",
    "y"
   ]
  },
  {
   "cell_type": "code",
   "execution_count": 11,
   "metadata": {
    "scrolled": true
   },
   "outputs": [
    {
     "data": {
      "text/plain": [
       "array([[-0.37348114, -0.12391162, -0.58638527, ...,  0.00582925,\n",
       "         0.12898623,  0.56518095],\n",
       "       [-0.41060564,  1.42557556,  1.42087083, ...,  0.04625693,\n",
       "         0.10133935,  0.62955138],\n",
       "       [-0.04658185, -0.1036523 ,  4.55488339, ...,  0.02422519,\n",
       "         0.09104672,  0.64067846],\n",
       "       ...,\n",
       "       [-0.37348114,  1.52664848,  0.49044698, ...,  0.06716482,\n",
       "         0.19273042,  0.44683238],\n",
       "       [-0.38694121,  0.4449987 , -0.58638527, ...,  0.0075982 ,\n",
       "         0.07586459,  0.69414705],\n",
       "       [-0.00567937, -0.1113807 , -0.58638527, ...,  0.00628724,\n",
       "         0.16703627,  0.49837026]])"
      ]
     },
     "execution_count": 11,
     "metadata": {},
     "output_type": "execute_result"
    }
   ],
   "source": [
    "# Define features (p-values and chemical descriptors)\n",
    "columns = [col for col in data.columns if col.startswith('p') or col.startswith('byte')]\n",
    "X = data[columns].values\n",
    "X"
   ]
  },
  {
   "cell_type": "code",
   "execution_count": 12,
   "metadata": {},
   "outputs": [],
   "source": [
    "# Define individual datasets. Note that this is arbitrary splitting.\n",
    "# Later we need to define specific datasets\n",
    "X_train, X_update1, X_update2, X_score = np.split(X, [200, 300, 400])\n",
    "y_train, y_update1, y_update2, y_score = np.split(y, [200, 300, 400])"
   ]
  },
  {
   "cell_type": "code",
   "execution_count": 13,
   "metadata": {},
   "outputs": [
    {
     "name": "stdout",
     "output_type": "stream",
     "text": [
      "(200,) (200, 2078)\n",
      "(100,) (100, 2078)\n",
      "(100,) (100, 2078)\n",
      "(94,) (94, 2078)\n",
      "73 24 37 32\n"
     ]
    }
   ],
   "source": [
    "# Check len of arrays\n",
    "print(y_train.shape, X_train.shape)\n",
    "print(y_update1.shape, X_update1.shape)\n",
    "print(y_update2.shape, X_update2.shape)\n",
    "print(y_score.shape, X_score.shape)\n",
    "# Check if we have actives and inactives in all datasets\n",
    "print(y_train.sum(), y_update1.sum(), y_update2.sum(), y_score.sum())"
   ]
  },
  {
   "cell_type": "markdown",
   "metadata": {},
   "source": [
    "### Prepare the ACP"
   ]
  },
  {
   "cell_type": "code",
   "execution_count": 14,
   "metadata": {},
   "outputs": [],
   "source": [
    "clf = RandomForestClassifier(n_estimators=ntrees)\n",
    "error_function = InverseProbabilityErrFunc()\n",
    "nc = NcFactory.create_nc(\n",
    "        clf, err_func=error_function, normalizer_model=normaliser_model\n",
    "    )\n",
    "icp = InductiveConformalPredictor(\n",
    "        nc_function=nc, smoothing=False, condition=(lambda instance: instance[1])\n",
    "    )  # Mondrian as (default) condition)"
   ]
  },
  {
   "cell_type": "code",
   "execution_count": 15,
   "metadata": {},
   "outputs": [],
   "source": [
    "acp = ContinuousCalibrationAggregatedConformalPredictor(predictor=icp, sampler=ratio_sampler,\n",
    "        aggregation_func=np.median\n",
    "    )"
   ]
  },
  {
   "cell_type": "markdown",
   "metadata": {},
   "source": [
    "### Fit and calibrate the model, make predictions\n",
    "Calibrate with the `original` calibration set, which is a split from X_train/y_train"
   ]
  },
  {
   "cell_type": "code",
   "execution_count": 16,
   "metadata": {},
   "outputs": [],
   "source": [
    "acp.fit_calibrate(X_train=X_train, y_train=y_train)"
   ]
  },
  {
   "cell_type": "code",
   "execution_count": 17,
   "metadata": {},
   "outputs": [
    {
     "data": {
      "text/plain": [
       "array([[0.73913043, 0.43478261],\n",
       "       [0.7826087 , 0.39130435],\n",
       "       [0.47826087, 0.30434783],\n",
       "       [0.95652174, 0.13043478],\n",
       "       [0.47826087, 0.82608696]])"
      ]
     },
     "execution_count": 17,
     "metadata": {},
     "output_type": "execute_result"
    }
   ],
   "source": [
    "original_prediction = acp.predict(X_score=X_score)\n",
    "\n",
    "original_prediction[:5]"
   ]
  },
  {
   "cell_type": "markdown",
   "metadata": {},
   "source": [
    "### Update calibration set\n",
    "Calibrate the fitted (not yet calibrated) predictors with a 'new' dataset"
   ]
  },
  {
   "cell_type": "code",
   "execution_count": 18,
   "metadata": {},
   "outputs": [
    {
     "name": "stdout",
     "output_type": "stream",
     "text": [
      "{}\n"
     ]
    }
   ],
   "source": [
    "# Check that no `calibrated update` predictor yet\n",
    "print(acp.predictors_calibrated_update)"
   ]
  },
  {
   "cell_type": "code",
   "execution_count": 19,
   "metadata": {},
   "outputs": [
    {
     "name": "stdout",
     "output_type": "stream",
     "text": [
      "final n:  1\n"
     ]
    },
    {
     "data": {
      "text/plain": [
       "1"
      ]
     },
     "execution_count": 19,
     "metadata": {},
     "output_type": "execute_result"
    }
   ],
   "source": [
    "acp.calibrate_update(X_update=X_update1, y_update=y_update1)"
   ]
  },
  {
   "cell_type": "code",
   "execution_count": 20,
   "metadata": {},
   "outputs": [
    {
     "name": "stdout",
     "output_type": "stream",
     "text": [
      "updated_number:  1\n"
     ]
    },
    {
     "data": {
      "text/plain": [
       "array([[0.75324675, 0.28      ],\n",
       "       [0.81818182, 0.28      ],\n",
       "       [0.32467532, 0.28      ],\n",
       "       [0.93506494, 0.12      ],\n",
       "       [0.32467532, 0.84      ]])"
      ]
     },
     "execution_count": 20,
     "metadata": {},
     "output_type": "execute_result"
    }
   ],
   "source": [
    "# Make predictions with the model and the updated calibration set\n",
    "calibrate_update_prediction = acp.predict_calibrate_update(updated_number=1, X_score=X_score)\n",
    "calibrate_update_prediction[:5]"
   ]
  },
  {
   "cell_type": "markdown",
   "metadata": {},
   "source": [
    "### New calibration\n",
    "We can update with an even 'newer' calibration set (as often as we want). The model with the updated calibration set will be saved in the acp object."
   ]
  },
  {
   "cell_type": "code",
   "execution_count": 21,
   "metadata": {},
   "outputs": [
    {
     "name": "stdout",
     "output_type": "stream",
     "text": [
      "dict_keys(['update_1'])\n"
     ]
    }
   ],
   "source": [
    "# Check how many updated calibration sets we already have. Here, this should be 1\n",
    "print(acp.predictors_calibrated_update.keys())"
   ]
  },
  {
   "cell_type": "code",
   "execution_count": 22,
   "metadata": {},
   "outputs": [
    {
     "name": "stdout",
     "output_type": "stream",
     "text": [
      "n 1\n",
      "final n:  2\n"
     ]
    },
    {
     "data": {
      "text/plain": [
       "2"
      ]
     },
     "execution_count": 22,
     "metadata": {},
     "output_type": "execute_result"
    }
   ],
   "source": [
    "acp.calibrate_update(X_update=X_update2, y_update=y_update2)"
   ]
  },
  {
   "cell_type": "code",
   "execution_count": 23,
   "metadata": {},
   "outputs": [
    {
     "name": "stdout",
     "output_type": "stream",
     "text": [
      "updated_number:  2\n"
     ]
    },
    {
     "data": {
      "text/plain": [
       "array([[0.703125  , 0.28947368],\n",
       "       [0.796875  , 0.23684211],\n",
       "       [0.28125   , 0.28947368],\n",
       "       [0.921875  , 0.07894737],\n",
       "       [0.28125   , 0.71052632]])"
      ]
     },
     "execution_count": 23,
     "metadata": {},
     "output_type": "execute_result"
    }
   ],
   "source": [
    "calibrate_update_2_predcition = acp.predict_calibrate_update(updated_number=2, X_score=X_score)\n",
    "calibrate_update_2_predcition[:5]"
   ]
  },
  {
   "cell_type": "markdown",
   "metadata": {},
   "source": [
    "### Perform continuous calibration within crossvalidation\n",
    "Instead of using the individual acp's, we might want to include everything into a crossvalidator. \n",
    "Advantages: \n",
    "* Splitting of cv into test and train set are handled\n",
    "* Fixed and reproducible pipeline (except for random splitting and random forest)\n",
    "* We can automatically create a calibration plot\n",
    "* Updating of the same trained models possible\n",
    "\n",
    "Note that we use fivefold cv by default"
   ]
  },
  {
   "cell_type": "code",
   "execution_count": 24,
   "metadata": {},
   "outputs": [],
   "source": [
    "cv_acp = ContinuousCalibrationAggregatedConformalPredictor(predictor=icp, sampler=ratio_sampler,\n",
    "        aggregation_func=np.median\n",
    "    )\n",
    "cross_validator = CrossValidator(predictor=cv_acp, cv_splitter=CrossValidationSampler())"
   ]
  },
  {
   "cell_type": "code",
   "execution_count": 25,
   "metadata": {},
   "outputs": [
    {
     "name": "stdout",
     "output_type": "stream",
     "text": [
      "fold:  0\n",
      "fold:  1\n",
      "fold:  2\n",
      "fold:  3\n",
      "fold:  4\n"
     ]
    }
   ],
   "source": [
    "# Crossvalidate with the \"original\" training set (no update calibration set)\n",
    "cv_eval_df = cross_validator.cross_validate(X_train=X_train, y_train=y_train, X_score=X_score, y_score=y_score, steps=10, endpoint=endpoint)"
   ]
  },
  {
   "cell_type": "code",
   "execution_count": 26,
   "metadata": {},
   "outputs": [
    {
     "data": {
      "text/html": [
       "<div>\n",
       "<style scoped>\n",
       "    .dataframe tbody tr th:only-of-type {\n",
       "        vertical-align: middle;\n",
       "    }\n",
       "\n",
       "    .dataframe tbody tr th {\n",
       "        vertical-align: top;\n",
       "    }\n",
       "\n",
       "    .dataframe thead th {\n",
       "        text-align: right;\n",
       "    }\n",
       "</style>\n",
       "<table border=\"1\" class=\"dataframe\">\n",
       "  <thead>\n",
       "    <tr style=\"text-align: right;\">\n",
       "      <th></th>\n",
       "      <th>validity</th>\n",
       "      <th>efficiency</th>\n",
       "      <th>accuracy</th>\n",
       "      <th>significance_level</th>\n",
       "    </tr>\n",
       "    <tr>\n",
       "      <th>fold</th>\n",
       "      <th></th>\n",
       "      <th></th>\n",
       "      <th></th>\n",
       "      <th></th>\n",
       "    </tr>\n",
       "  </thead>\n",
       "  <tbody>\n",
       "    <tr>\n",
       "      <th>0</th>\n",
       "      <td>1.000</td>\n",
       "      <td>0.000</td>\n",
       "      <td>0.000</td>\n",
       "      <td>0.0</td>\n",
       "    </tr>\n",
       "    <tr>\n",
       "      <th>0</th>\n",
       "      <td>0.975</td>\n",
       "      <td>0.025</td>\n",
       "      <td>0.000</td>\n",
       "      <td>0.1</td>\n",
       "    </tr>\n",
       "    <tr>\n",
       "      <th>0</th>\n",
       "      <td>0.900</td>\n",
       "      <td>0.175</td>\n",
       "      <td>0.429</td>\n",
       "      <td>0.2</td>\n",
       "    </tr>\n",
       "    <tr>\n",
       "      <th>0</th>\n",
       "      <td>0.875</td>\n",
       "      <td>0.275</td>\n",
       "      <td>0.545</td>\n",
       "      <td>0.3</td>\n",
       "    </tr>\n",
       "    <tr>\n",
       "      <th>0</th>\n",
       "      <td>0.800</td>\n",
       "      <td>0.450</td>\n",
       "      <td>0.556</td>\n",
       "      <td>0.4</td>\n",
       "    </tr>\n",
       "  </tbody>\n",
       "</table>\n",
       "</div>"
      ],
      "text/plain": [
       "      validity  efficiency  accuracy  significance_level\n",
       "fold                                                    \n",
       "0        1.000       0.000     0.000                 0.0\n",
       "0        0.975       0.025     0.000                 0.1\n",
       "0        0.900       0.175     0.429                 0.2\n",
       "0        0.875       0.275     0.545                 0.3\n",
       "0        0.800       0.450     0.556                 0.4"
      ]
     },
     "execution_count": 26,
     "metadata": {},
     "output_type": "execute_result"
    }
   ],
   "source": [
    "# Look at evaluation per cv fold\n",
    "cv_eval_df[[\"validity\", \"efficiency\", \"accuracy\", \"significance_level\", \"fold\"]].set_index(\"fold\").head()"
   ]
  },
  {
   "cell_type": "code",
   "execution_count": 27,
   "metadata": {},
   "outputs": [
    {
     "data": {
      "text/html": [
       "<div>\n",
       "<style scoped>\n",
       "    .dataframe tbody tr th:only-of-type {\n",
       "        vertical-align: middle;\n",
       "    }\n",
       "\n",
       "    .dataframe tbody tr th {\n",
       "        vertical-align: top;\n",
       "    }\n",
       "\n",
       "    .dataframe thead th {\n",
       "        text-align: right;\n",
       "    }\n",
       "</style>\n",
       "<table border=\"1\" class=\"dataframe\">\n",
       "  <thead>\n",
       "    <tr style=\"text-align: right;\">\n",
       "      <th></th>\n",
       "      <th>validity mean</th>\n",
       "      <th>efficiency mean</th>\n",
       "      <th>accuracy mean</th>\n",
       "      <th>significance_level</th>\n",
       "    </tr>\n",
       "    <tr>\n",
       "      <th>significance_level</th>\n",
       "      <th></th>\n",
       "      <th></th>\n",
       "      <th></th>\n",
       "      <th></th>\n",
       "    </tr>\n",
       "  </thead>\n",
       "  <tbody>\n",
       "    <tr>\n",
       "      <th>0.0</th>\n",
       "      <td>1.000</td>\n",
       "      <td>0.000</td>\n",
       "      <td>0.0000</td>\n",
       "      <td>0.0</td>\n",
       "    </tr>\n",
       "    <tr>\n",
       "      <th>0.1</th>\n",
       "      <td>0.980</td>\n",
       "      <td>0.040</td>\n",
       "      <td>0.5000</td>\n",
       "      <td>0.1</td>\n",
       "    </tr>\n",
       "    <tr>\n",
       "      <th>0.2</th>\n",
       "      <td>0.890</td>\n",
       "      <td>0.175</td>\n",
       "      <td>0.4042</td>\n",
       "      <td>0.2</td>\n",
       "    </tr>\n",
       "    <tr>\n",
       "      <th>0.3</th>\n",
       "      <td>0.790</td>\n",
       "      <td>0.360</td>\n",
       "      <td>0.4404</td>\n",
       "      <td>0.3</td>\n",
       "    </tr>\n",
       "    <tr>\n",
       "      <th>0.4</th>\n",
       "      <td>0.660</td>\n",
       "      <td>0.565</td>\n",
       "      <td>0.4692</td>\n",
       "      <td>0.4</td>\n",
       "    </tr>\n",
       "    <tr>\n",
       "      <th>0.5</th>\n",
       "      <td>0.530</td>\n",
       "      <td>0.690</td>\n",
       "      <td>0.4390</td>\n",
       "      <td>0.5</td>\n",
       "    </tr>\n",
       "    <tr>\n",
       "      <th>0.6</th>\n",
       "      <td>0.420</td>\n",
       "      <td>0.680</td>\n",
       "      <td>0.4640</td>\n",
       "      <td>0.6</td>\n",
       "    </tr>\n",
       "    <tr>\n",
       "      <th>0.7</th>\n",
       "      <td>0.275</td>\n",
       "      <td>0.515</td>\n",
       "      <td>0.4968</td>\n",
       "      <td>0.7</td>\n",
       "    </tr>\n",
       "    <tr>\n",
       "      <th>0.8</th>\n",
       "      <td>0.155</td>\n",
       "      <td>0.300</td>\n",
       "      <td>0.4934</td>\n",
       "      <td>0.8</td>\n",
       "    </tr>\n",
       "    <tr>\n",
       "      <th>0.9</th>\n",
       "      <td>0.040</td>\n",
       "      <td>0.100</td>\n",
       "      <td>0.3214</td>\n",
       "      <td>0.9</td>\n",
       "    </tr>\n",
       "    <tr>\n",
       "      <th>1.0</th>\n",
       "      <td>0.025</td>\n",
       "      <td>0.035</td>\n",
       "      <td>0.4500</td>\n",
       "      <td>1.0</td>\n",
       "    </tr>\n",
       "  </tbody>\n",
       "</table>\n",
       "</div>"
      ],
      "text/plain": [
       "                    validity mean  efficiency mean  accuracy mean  \\\n",
       "significance_level                                                  \n",
       "0.0                         1.000            0.000         0.0000   \n",
       "0.1                         0.980            0.040         0.5000   \n",
       "0.2                         0.890            0.175         0.4042   \n",
       "0.3                         0.790            0.360         0.4404   \n",
       "0.4                         0.660            0.565         0.4692   \n",
       "0.5                         0.530            0.690         0.4390   \n",
       "0.6                         0.420            0.680         0.4640   \n",
       "0.7                         0.275            0.515         0.4968   \n",
       "0.8                         0.155            0.300         0.4934   \n",
       "0.9                         0.040            0.100         0.3214   \n",
       "1.0                         0.025            0.035         0.4500   \n",
       "\n",
       "                    significance_level  \n",
       "significance_level                      \n",
       "0.0                                0.0  \n",
       "0.1                                0.1  \n",
       "0.2                                0.2  \n",
       "0.3                                0.3  \n",
       "0.4                                0.4  \n",
       "0.5                                0.5  \n",
       "0.6                                0.6  \n",
       "0.7                                0.7  \n",
       "0.8                                0.8  \n",
       "0.9                                0.9  \n",
       "1.0                                1.0  "
      ]
     },
     "execution_count": 27,
     "metadata": {},
     "output_type": "execute_result"
    }
   ],
   "source": [
    "# Look at averaged (all folds) evaluations\n",
    "cross_validator.averaged_evaluation_df_cv[[\"validity mean\", \"efficiency mean\", \"accuracy mean\", \"significance_level\"]]"
   ]
  },
  {
   "cell_type": "markdown",
   "metadata": {},
   "source": [
    "The predictions are saved in a dictionary that contains the information for the predictions within the crossvalidation and the predictions for the score set. The predictions (values) are in the form of a list, list elements are the predicted p-values and the known labels. "
   ]
  },
  {
   "cell_type": "code",
   "execution_count": 28,
   "metadata": {},
   "outputs": [
    {
     "name": "stdout",
     "output_type": "stream",
     "text": [
      "keys:  dict_keys(['cv', 'pred_score']) \n",
      "\n",
      "p-values:  [[0.21052632 1.        ]\n",
      " [0.68421053 0.89473684]\n",
      " [0.78947368 0.26315789]\n",
      " [0.84210526 0.73684211]\n",
      " [0.36842105 0.89473684]] \n",
      "\n",
      "labels:  [1 0 0 0 1 0 0 0 0 0 0 1 1 0 0 0 0 1 1 0 0 1 1 0 0 0 0 0 1 1 1 0 1 1 0 0 1\n",
      " 1 0 0 0 0 0 0 0 1 0 1 0 0 0 0 1 0 0 1 1 1 0 1 0 0 0 1 0 0 1 0 0 1 0 1 0 0\n",
      " 0 0 1 0 0 0 0 0 0 0 0 0 0 0 0 1 1 1 1 1]\n"
     ]
    }
   ],
   "source": [
    "print(\"keys: \", cross_validator._predictions.keys(), \"\\n\")\n",
    "print(\"p-values: \", cross_validator._predictions[\"pred_score\"][0][0][:5], \"\\n\")\n",
    "# [0]: predictions, [0]: first loop of cv, [:5]: first five p-values\n",
    "print(\"labels: \", cross_validator._predictions[\"pred_score\"][1])\n",
    "# [1]: labels"
   ]
  },
  {
   "cell_type": "code",
   "execution_count": 29,
   "metadata": {},
   "outputs": [
    {
     "data": {
      "text/html": [
       "<div>\n",
       "<style scoped>\n",
       "    .dataframe tbody tr th:only-of-type {\n",
       "        vertical-align: middle;\n",
       "    }\n",
       "\n",
       "    .dataframe tbody tr th {\n",
       "        vertical-align: top;\n",
       "    }\n",
       "\n",
       "    .dataframe thead th {\n",
       "        text-align: right;\n",
       "    }\n",
       "</style>\n",
       "<table border=\"1\" class=\"dataframe\">\n",
       "  <thead>\n",
       "    <tr style=\"text-align: right;\">\n",
       "      <th></th>\n",
       "      <th>validity mean</th>\n",
       "      <th>validity std</th>\n",
       "      <th>validity_0 mean</th>\n",
       "      <th>validity_0 std</th>\n",
       "      <th>validity_1 mean</th>\n",
       "      <th>validity_1 std</th>\n",
       "      <th>error_rate mean</th>\n",
       "      <th>error_rate std</th>\n",
       "      <th>error_rate_0 mean</th>\n",
       "      <th>error_rate_0 std</th>\n",
       "      <th>...</th>\n",
       "      <th>efficiency_1 std</th>\n",
       "      <th>accuracy mean</th>\n",
       "      <th>accuracy std</th>\n",
       "      <th>accuracy_0 mean</th>\n",
       "      <th>accuracy_0 std</th>\n",
       "      <th>accuracy_1 mean</th>\n",
       "      <th>accuracy_1 std</th>\n",
       "      <th>significance_level</th>\n",
       "      <th>num_actives</th>\n",
       "      <th>num_inactives</th>\n",
       "    </tr>\n",
       "    <tr>\n",
       "      <th>significance_level</th>\n",
       "      <th></th>\n",
       "      <th></th>\n",
       "      <th></th>\n",
       "      <th></th>\n",
       "      <th></th>\n",
       "      <th></th>\n",
       "      <th></th>\n",
       "      <th></th>\n",
       "      <th></th>\n",
       "      <th></th>\n",
       "      <th></th>\n",
       "      <th></th>\n",
       "      <th></th>\n",
       "      <th></th>\n",
       "      <th></th>\n",
       "      <th></th>\n",
       "      <th></th>\n",
       "      <th></th>\n",
       "      <th></th>\n",
       "      <th></th>\n",
       "      <th></th>\n",
       "    </tr>\n",
       "  </thead>\n",
       "  <tbody>\n",
       "    <tr>\n",
       "      <th>0.0</th>\n",
       "      <td>1.000</td>\n",
       "      <td>0.000000</td>\n",
       "      <td>1.0000</td>\n",
       "      <td>0.000000</td>\n",
       "      <td>1.0000</td>\n",
       "      <td>0.000000</td>\n",
       "      <td>0.000</td>\n",
       "      <td>0.000000</td>\n",
       "      <td>0.0000</td>\n",
       "      <td>0.000000</td>\n",
       "      <td>...</td>\n",
       "      <td>0.000000</td>\n",
       "      <td>0.0000</td>\n",
       "      <td>0.000000</td>\n",
       "      <td>0.0000</td>\n",
       "      <td>0.000000</td>\n",
       "      <td>0.0000</td>\n",
       "      <td>0.000000</td>\n",
       "      <td>0.0</td>\n",
       "      <td>73</td>\n",
       "      <td>127</td>\n",
       "    </tr>\n",
       "    <tr>\n",
       "      <th>0.1</th>\n",
       "      <td>0.980</td>\n",
       "      <td>0.020917</td>\n",
       "      <td>0.9840</td>\n",
       "      <td>0.021909</td>\n",
       "      <td>0.9724</td>\n",
       "      <td>0.037819</td>\n",
       "      <td>0.020</td>\n",
       "      <td>0.020917</td>\n",
       "      <td>0.0160</td>\n",
       "      <td>0.021909</td>\n",
       "      <td>...</td>\n",
       "      <td>0.047062</td>\n",
       "      <td>0.5000</td>\n",
       "      <td>0.500000</td>\n",
       "      <td>0.2000</td>\n",
       "      <td>0.447214</td>\n",
       "      <td>0.4000</td>\n",
       "      <td>0.547723</td>\n",
       "      <td>0.1</td>\n",
       "      <td>73</td>\n",
       "      <td>127</td>\n",
       "    </tr>\n",
       "    <tr>\n",
       "      <th>0.2</th>\n",
       "      <td>0.890</td>\n",
       "      <td>0.054772</td>\n",
       "      <td>0.8970</td>\n",
       "      <td>0.082735</td>\n",
       "      <td>0.8742</td>\n",
       "      <td>0.106413</td>\n",
       "      <td>0.110</td>\n",
       "      <td>0.054772</td>\n",
       "      <td>0.1030</td>\n",
       "      <td>0.082735</td>\n",
       "      <td>...</td>\n",
       "      <td>0.065989</td>\n",
       "      <td>0.4042</td>\n",
       "      <td>0.216891</td>\n",
       "      <td>0.4572</td>\n",
       "      <td>0.366277</td>\n",
       "      <td>0.3666</td>\n",
       "      <td>0.415003</td>\n",
       "      <td>0.2</td>\n",
       "      <td>73</td>\n",
       "      <td>127</td>\n",
       "    </tr>\n",
       "    <tr>\n",
       "      <th>0.3</th>\n",
       "      <td>0.790</td>\n",
       "      <td>0.100933</td>\n",
       "      <td>0.7782</td>\n",
       "      <td>0.161886</td>\n",
       "      <td>0.8076</td>\n",
       "      <td>0.077174</td>\n",
       "      <td>0.210</td>\n",
       "      <td>0.100933</td>\n",
       "      <td>0.2218</td>\n",
       "      <td>0.161886</td>\n",
       "      <td>...</td>\n",
       "      <td>0.109166</td>\n",
       "      <td>0.4404</td>\n",
       "      <td>0.105453</td>\n",
       "      <td>0.4672</td>\n",
       "      <td>0.230715</td>\n",
       "      <td>0.4524</td>\n",
       "      <td>0.139086</td>\n",
       "      <td>0.3</td>\n",
       "      <td>73</td>\n",
       "      <td>127</td>\n",
       "    </tr>\n",
       "    <tr>\n",
       "      <th>0.4</th>\n",
       "      <td>0.660</td>\n",
       "      <td>0.100933</td>\n",
       "      <td>0.6828</td>\n",
       "      <td>0.144488</td>\n",
       "      <td>0.6172</td>\n",
       "      <td>0.023552</td>\n",
       "      <td>0.340</td>\n",
       "      <td>0.100933</td>\n",
       "      <td>0.3172</td>\n",
       "      <td>0.144488</td>\n",
       "      <td>...</td>\n",
       "      <td>0.125849</td>\n",
       "      <td>0.4692</td>\n",
       "      <td>0.098839</td>\n",
       "      <td>0.4944</td>\n",
       "      <td>0.152787</td>\n",
       "      <td>0.4216</td>\n",
       "      <td>0.109674</td>\n",
       "      <td>0.4</td>\n",
       "      <td>73</td>\n",
       "      <td>127</td>\n",
       "    </tr>\n",
       "    <tr>\n",
       "      <th>0.5</th>\n",
       "      <td>0.530</td>\n",
       "      <td>0.020917</td>\n",
       "      <td>0.5350</td>\n",
       "      <td>0.037577</td>\n",
       "      <td>0.5200</td>\n",
       "      <td>0.071169</td>\n",
       "      <td>0.470</td>\n",
       "      <td>0.020917</td>\n",
       "      <td>0.4650</td>\n",
       "      <td>0.037577</td>\n",
       "      <td>...</td>\n",
       "      <td>0.105376</td>\n",
       "      <td>0.4390</td>\n",
       "      <td>0.048831</td>\n",
       "      <td>0.4264</td>\n",
       "      <td>0.100209</td>\n",
       "      <td>0.4516</td>\n",
       "      <td>0.133979</td>\n",
       "      <td>0.5</td>\n",
       "      <td>73</td>\n",
       "      <td>127</td>\n",
       "    </tr>\n",
       "    <tr>\n",
       "      <th>0.6</th>\n",
       "      <td>0.420</td>\n",
       "      <td>0.057009</td>\n",
       "      <td>0.4646</td>\n",
       "      <td>0.051145</td>\n",
       "      <td>0.3448</td>\n",
       "      <td>0.116515</td>\n",
       "      <td>0.580</td>\n",
       "      <td>0.057009</td>\n",
       "      <td>0.5354</td>\n",
       "      <td>0.051145</td>\n",
       "      <td>...</td>\n",
       "      <td>0.049788</td>\n",
       "      <td>0.4640</td>\n",
       "      <td>0.064827</td>\n",
       "      <td>0.4894</td>\n",
       "      <td>0.066010</td>\n",
       "      <td>0.4110</td>\n",
       "      <td>0.134015</td>\n",
       "      <td>0.6</td>\n",
       "      <td>73</td>\n",
       "      <td>127</td>\n",
       "    </tr>\n",
       "    <tr>\n",
       "      <th>0.7</th>\n",
       "      <td>0.275</td>\n",
       "      <td>0.091856</td>\n",
       "      <td>0.3222</td>\n",
       "      <td>0.091007</td>\n",
       "      <td>0.1922</td>\n",
       "      <td>0.099943</td>\n",
       "      <td>0.725</td>\n",
       "      <td>0.091856</td>\n",
       "      <td>0.6778</td>\n",
       "      <td>0.091007</td>\n",
       "      <td>...</td>\n",
       "      <td>0.098010</td>\n",
       "      <td>0.4968</td>\n",
       "      <td>0.113810</td>\n",
       "      <td>0.5390</td>\n",
       "      <td>0.128614</td>\n",
       "      <td>0.4072</td>\n",
       "      <td>0.127707</td>\n",
       "      <td>0.7</td>\n",
       "      <td>73</td>\n",
       "      <td>127</td>\n",
       "    </tr>\n",
       "    <tr>\n",
       "      <th>0.8</th>\n",
       "      <td>0.155</td>\n",
       "      <td>0.067082</td>\n",
       "      <td>0.1812</td>\n",
       "      <td>0.106446</td>\n",
       "      <td>0.1094</td>\n",
       "      <td>0.037132</td>\n",
       "      <td>0.845</td>\n",
       "      <td>0.067082</td>\n",
       "      <td>0.8188</td>\n",
       "      <td>0.106446</td>\n",
       "      <td>...</td>\n",
       "      <td>0.094172</td>\n",
       "      <td>0.4934</td>\n",
       "      <td>0.125506</td>\n",
       "      <td>0.5022</td>\n",
       "      <td>0.217178</td>\n",
       "      <td>0.5500</td>\n",
       "      <td>0.273861</td>\n",
       "      <td>0.8</td>\n",
       "      <td>73</td>\n",
       "      <td>127</td>\n",
       "    </tr>\n",
       "    <tr>\n",
       "      <th>0.9</th>\n",
       "      <td>0.040</td>\n",
       "      <td>0.037914</td>\n",
       "      <td>0.0312</td>\n",
       "      <td>0.033245</td>\n",
       "      <td>0.0542</td>\n",
       "      <td>0.055971</td>\n",
       "      <td>0.960</td>\n",
       "      <td>0.037914</td>\n",
       "      <td>0.9688</td>\n",
       "      <td>0.033245</td>\n",
       "      <td>...</td>\n",
       "      <td>0.057855</td>\n",
       "      <td>0.3214</td>\n",
       "      <td>0.225747</td>\n",
       "      <td>0.3200</td>\n",
       "      <td>0.414729</td>\n",
       "      <td>0.5000</td>\n",
       "      <td>0.500000</td>\n",
       "      <td>0.9</td>\n",
       "      <td>73</td>\n",
       "      <td>127</td>\n",
       "    </tr>\n",
       "    <tr>\n",
       "      <th>1.0</th>\n",
       "      <td>0.025</td>\n",
       "      <td>0.030619</td>\n",
       "      <td>0.0232</td>\n",
       "      <td>0.021194</td>\n",
       "      <td>0.0266</td>\n",
       "      <td>0.059479</td>\n",
       "      <td>0.975</td>\n",
       "      <td>0.030619</td>\n",
       "      <td>0.9768</td>\n",
       "      <td>0.021194</td>\n",
       "      <td>...</td>\n",
       "      <td>0.060014</td>\n",
       "      <td>0.4500</td>\n",
       "      <td>0.447214</td>\n",
       "      <td>0.5000</td>\n",
       "      <td>0.500000</td>\n",
       "      <td>0.2000</td>\n",
       "      <td>0.447214</td>\n",
       "      <td>1.0</td>\n",
       "      <td>73</td>\n",
       "      <td>127</td>\n",
       "    </tr>\n",
       "  </tbody>\n",
       "</table>\n",
       "<p>11 rows × 27 columns</p>\n",
       "</div>"
      ],
      "text/plain": [
       "                    validity mean  validity std  validity_0 mean  \\\n",
       "significance_level                                                 \n",
       "0.0                         1.000      0.000000           1.0000   \n",
       "0.1                         0.980      0.020917           0.9840   \n",
       "0.2                         0.890      0.054772           0.8970   \n",
       "0.3                         0.790      0.100933           0.7782   \n",
       "0.4                         0.660      0.100933           0.6828   \n",
       "0.5                         0.530      0.020917           0.5350   \n",
       "0.6                         0.420      0.057009           0.4646   \n",
       "0.7                         0.275      0.091856           0.3222   \n",
       "0.8                         0.155      0.067082           0.1812   \n",
       "0.9                         0.040      0.037914           0.0312   \n",
       "1.0                         0.025      0.030619           0.0232   \n",
       "\n",
       "                    validity_0 std  validity_1 mean  validity_1 std  \\\n",
       "significance_level                                                    \n",
       "0.0                       0.000000           1.0000        0.000000   \n",
       "0.1                       0.021909           0.9724        0.037819   \n",
       "0.2                       0.082735           0.8742        0.106413   \n",
       "0.3                       0.161886           0.8076        0.077174   \n",
       "0.4                       0.144488           0.6172        0.023552   \n",
       "0.5                       0.037577           0.5200        0.071169   \n",
       "0.6                       0.051145           0.3448        0.116515   \n",
       "0.7                       0.091007           0.1922        0.099943   \n",
       "0.8                       0.106446           0.1094        0.037132   \n",
       "0.9                       0.033245           0.0542        0.055971   \n",
       "1.0                       0.021194           0.0266        0.059479   \n",
       "\n",
       "                    error_rate mean  error_rate std  error_rate_0 mean  \\\n",
       "significance_level                                                       \n",
       "0.0                           0.000        0.000000             0.0000   \n",
       "0.1                           0.020        0.020917             0.0160   \n",
       "0.2                           0.110        0.054772             0.1030   \n",
       "0.3                           0.210        0.100933             0.2218   \n",
       "0.4                           0.340        0.100933             0.3172   \n",
       "0.5                           0.470        0.020917             0.4650   \n",
       "0.6                           0.580        0.057009             0.5354   \n",
       "0.7                           0.725        0.091856             0.6778   \n",
       "0.8                           0.845        0.067082             0.8188   \n",
       "0.9                           0.960        0.037914             0.9688   \n",
       "1.0                           0.975        0.030619             0.9768   \n",
       "\n",
       "                    error_rate_0 std  ...  efficiency_1 std  accuracy mean  \\\n",
       "significance_level                    ...                                    \n",
       "0.0                         0.000000  ...          0.000000         0.0000   \n",
       "0.1                         0.021909  ...          0.047062         0.5000   \n",
       "0.2                         0.082735  ...          0.065989         0.4042   \n",
       "0.3                         0.161886  ...          0.109166         0.4404   \n",
       "0.4                         0.144488  ...          0.125849         0.4692   \n",
       "0.5                         0.037577  ...          0.105376         0.4390   \n",
       "0.6                         0.051145  ...          0.049788         0.4640   \n",
       "0.7                         0.091007  ...          0.098010         0.4968   \n",
       "0.8                         0.106446  ...          0.094172         0.4934   \n",
       "0.9                         0.033245  ...          0.057855         0.3214   \n",
       "1.0                         0.021194  ...          0.060014         0.4500   \n",
       "\n",
       "                    accuracy std  accuracy_0 mean  accuracy_0 std  \\\n",
       "significance_level                                                  \n",
       "0.0                     0.000000           0.0000        0.000000   \n",
       "0.1                     0.500000           0.2000        0.447214   \n",
       "0.2                     0.216891           0.4572        0.366277   \n",
       "0.3                     0.105453           0.4672        0.230715   \n",
       "0.4                     0.098839           0.4944        0.152787   \n",
       "0.5                     0.048831           0.4264        0.100209   \n",
       "0.6                     0.064827           0.4894        0.066010   \n",
       "0.7                     0.113810           0.5390        0.128614   \n",
       "0.8                     0.125506           0.5022        0.217178   \n",
       "0.9                     0.225747           0.3200        0.414729   \n",
       "1.0                     0.447214           0.5000        0.500000   \n",
       "\n",
       "                    accuracy_1 mean  accuracy_1 std  significance_level  \\\n",
       "significance_level                                                        \n",
       "0.0                          0.0000        0.000000                 0.0   \n",
       "0.1                          0.4000        0.547723                 0.1   \n",
       "0.2                          0.3666        0.415003                 0.2   \n",
       "0.3                          0.4524        0.139086                 0.3   \n",
       "0.4                          0.4216        0.109674                 0.4   \n",
       "0.5                          0.4516        0.133979                 0.5   \n",
       "0.6                          0.4110        0.134015                 0.6   \n",
       "0.7                          0.4072        0.127707                 0.7   \n",
       "0.8                          0.5500        0.273861                 0.8   \n",
       "0.9                          0.5000        0.500000                 0.9   \n",
       "1.0                          0.2000        0.447214                 1.0   \n",
       "\n",
       "                    num_actives  num_inactives  \n",
       "significance_level                              \n",
       "0.0                          73            127  \n",
       "0.1                          73            127  \n",
       "0.2                          73            127  \n",
       "0.3                          73            127  \n",
       "0.4                          73            127  \n",
       "0.5                          73            127  \n",
       "0.6                          73            127  \n",
       "0.7                          73            127  \n",
       "0.8                          73            127  \n",
       "0.9                          73            127  \n",
       "1.0                          73            127  \n",
       "\n",
       "[11 rows x 27 columns]"
      ]
     },
     "execution_count": 29,
     "metadata": {},
     "output_type": "execute_result"
    }
   ],
   "source": [
    "# Look at evaluation df for cross validation (averaged over all folds)\n",
    "cross_validator.averaged_evaluation_df_cv"
   ]
  },
  {
   "cell_type": "code",
   "execution_count": 42,
   "metadata": {},
   "outputs": [
    {
     "data": {
      "text/html": [
       "<div>\n",
       "<style scoped>\n",
       "    .dataframe tbody tr th:only-of-type {\n",
       "        vertical-align: middle;\n",
       "    }\n",
       "\n",
       "    .dataframe tbody tr th {\n",
       "        vertical-align: top;\n",
       "    }\n",
       "\n",
       "    .dataframe thead th {\n",
       "        text-align: right;\n",
       "    }\n",
       "</style>\n",
       "<table border=\"1\" class=\"dataframe\">\n",
       "  <thead>\n",
       "    <tr style=\"text-align: right;\">\n",
       "      <th></th>\n",
       "      <th>validity mean</th>\n",
       "      <th>efficiency mean</th>\n",
       "      <th>accuracy mean</th>\n",
       "      <th>significance_level</th>\n",
       "    </tr>\n",
       "    <tr>\n",
       "      <th>significance_level</th>\n",
       "      <th></th>\n",
       "      <th></th>\n",
       "      <th></th>\n",
       "      <th></th>\n",
       "    </tr>\n",
       "  </thead>\n",
       "  <tbody>\n",
       "    <tr>\n",
       "      <th>0.0</th>\n",
       "      <td>1.0000</td>\n",
       "      <td>0.0000</td>\n",
       "      <td>0.0000</td>\n",
       "      <td>0.0</td>\n",
       "    </tr>\n",
       "    <tr>\n",
       "      <th>0.1</th>\n",
       "      <td>0.9912</td>\n",
       "      <td>0.0130</td>\n",
       "      <td>0.3000</td>\n",
       "      <td>0.1</td>\n",
       "    </tr>\n",
       "    <tr>\n",
       "      <th>0.2</th>\n",
       "      <td>0.9128</td>\n",
       "      <td>0.1384</td>\n",
       "      <td>0.3576</td>\n",
       "      <td>0.2</td>\n",
       "    </tr>\n",
       "    <tr>\n",
       "      <th>0.3</th>\n",
       "      <td>0.8490</td>\n",
       "      <td>0.2810</td>\n",
       "      <td>0.4738</td>\n",
       "      <td>0.3</td>\n",
       "    </tr>\n",
       "    <tr>\n",
       "      <th>0.4</th>\n",
       "      <td>0.7360</td>\n",
       "      <td>0.5040</td>\n",
       "      <td>0.5100</td>\n",
       "      <td>0.4</td>\n",
       "    </tr>\n",
       "    <tr>\n",
       "      <th>0.5</th>\n",
       "      <td>0.6320</td>\n",
       "      <td>0.6148</td>\n",
       "      <td>0.4886</td>\n",
       "      <td>0.5</td>\n",
       "    </tr>\n",
       "    <tr>\n",
       "      <th>0.6</th>\n",
       "      <td>0.4660</td>\n",
       "      <td>0.6704</td>\n",
       "      <td>0.5226</td>\n",
       "      <td>0.6</td>\n",
       "    </tr>\n",
       "    <tr>\n",
       "      <th>0.7</th>\n",
       "      <td>0.2828</td>\n",
       "      <td>0.5298</td>\n",
       "      <td>0.5078</td>\n",
       "      <td>0.7</td>\n",
       "    </tr>\n",
       "    <tr>\n",
       "      <th>0.8</th>\n",
       "      <td>0.1596</td>\n",
       "      <td>0.3554</td>\n",
       "      <td>0.4542</td>\n",
       "      <td>0.8</td>\n",
       "    </tr>\n",
       "    <tr>\n",
       "      <th>0.9</th>\n",
       "      <td>0.0406</td>\n",
       "      <td>0.1086</td>\n",
       "      <td>0.3932</td>\n",
       "      <td>0.9</td>\n",
       "    </tr>\n",
       "    <tr>\n",
       "      <th>1.0</th>\n",
       "      <td>0.0086</td>\n",
       "      <td>0.0298</td>\n",
       "      <td>0.1000</td>\n",
       "      <td>1.0</td>\n",
       "    </tr>\n",
       "  </tbody>\n",
       "</table>\n",
       "</div>"
      ],
      "text/plain": [
       "                    validity mean  efficiency mean  accuracy mean  \\\n",
       "significance_level                                                  \n",
       "0.0                        1.0000           0.0000         0.0000   \n",
       "0.1                        0.9912           0.0130         0.3000   \n",
       "0.2                        0.9128           0.1384         0.3576   \n",
       "0.3                        0.8490           0.2810         0.4738   \n",
       "0.4                        0.7360           0.5040         0.5100   \n",
       "0.5                        0.6320           0.6148         0.4886   \n",
       "0.6                        0.4660           0.6704         0.5226   \n",
       "0.7                        0.2828           0.5298         0.5078   \n",
       "0.8                        0.1596           0.3554         0.4542   \n",
       "0.9                        0.0406           0.1086         0.3932   \n",
       "1.0                        0.0086           0.0298         0.1000   \n",
       "\n",
       "                    significance_level  \n",
       "significance_level                      \n",
       "0.0                                0.0  \n",
       "0.1                                0.1  \n",
       "0.2                                0.2  \n",
       "0.3                                0.3  \n",
       "0.4                                0.4  \n",
       "0.5                                0.5  \n",
       "0.6                                0.6  \n",
       "0.7                                0.7  \n",
       "0.8                                0.8  \n",
       "0.9                                0.9  \n",
       "1.0                                1.0  "
      ]
     },
     "execution_count": 42,
     "metadata": {},
     "output_type": "execute_result"
    }
   ],
   "source": [
    "# Look at evaluation df predicting the score set (averaged over all folds)\n",
    "cross_validator.averaged_evaluation_df_pred_score[[\"validity mean\", \"efficiency mean\", \"accuracy mean\", \"significance_level\"]]"
   ]
  },
  {
   "cell_type": "markdown",
   "metadata": {},
   "source": [
    "### Calibration plots of CV and prediction of score set, using the 'original' calibration set\n",
    "Note that we can not interpret these plots as results yet as the underlying data is based on just an arbitrary split of one dataset."
   ]
  },
  {
   "cell_type": "markdown",
   "metadata": {},
   "source": [
    "The plot shows the mean (line) and standard deviation (area) of the evaluation measures indicated in the legend (expected_error_rate excluded) over the fivefold crossvalidation. "
   ]
  },
  {
   "cell_type": "code",
   "execution_count": 30,
   "metadata": {},
   "outputs": [
    {
     "data": {
      "text/plain": [
       "<module 'matplotlib.pyplot' from '/home/andrea/anaconda2/envs/kter-py38/lib/python3.8/site-packages/matplotlib/pyplot.py'>"
      ]
     },
     "execution_count": 30,
     "metadata": {},
     "output_type": "execute_result"
    },
    {
     "data": {
      "image/png": "[encoded data removed]",
      "text/plain": [
       "<Figure size 432x288 with 1 Axes>"
      ]
     },
     "metadata": {
      "needs_background": "light"
     },
     "output_type": "display_data"
    }
   ],
   "source": [
    "cross_validator.calibration_plot(endpoint=endpoint, averaged_evaluation_df=cross_validator.averaged_evaluation_df_cv)"
   ]
  },
  {
   "cell_type": "code",
   "execution_count": 31,
   "metadata": {},
   "outputs": [
    {
     "data": {
      "text/plain": [
       "<module 'matplotlib.pyplot' from '/home/andrea/anaconda2/envs/kter-py38/lib/python3.8/site-packages/matplotlib/pyplot.py'>"
      ]
     },
     "execution_count": 31,
     "metadata": {},
     "output_type": "execute_result"
    },
    {
     "data": {
      "image/png": "[encoded data removed]",
      "text/plain": [
       "<Figure size 432x288 with 1 Axes>"
      ]
     },
     "metadata": {
      "needs_background": "light"
     },
     "output_type": "display_data"
    }
   ],
   "source": [
    "cross_validator.calibration_plot(endpoint=endpoint, averaged_evaluation_df=cross_validator.averaged_evaluation_df_pred_score)"
   ]
  },
  {
   "cell_type": "code",
   "execution_count": 32,
   "metadata": {},
   "outputs": [],
   "source": [
    "# We would get an assertion error, if we try to plot the calibration plot using the updated calibration set, \n",
    "# since we have not updated it yet.\n",
    "# cross_validator.calibration_plot(endpoint=endpoint, averaged_evaluation_df=cross_validator.averaged_evaluation_df_cal_update_1)"
   ]
  },
  {
   "cell_type": "code",
   "execution_count": 33,
   "metadata": {},
   "outputs": [
    {
     "name": "stdout",
     "output_type": "stream",
     "text": [
      "160\n"
     ]
    }
   ],
   "source": [
    "print(len(cross_validator.train_indices[0]))"
   ]
  },
  {
   "cell_type": "markdown",
   "metadata": {},
   "source": [
    "### Update the calibration set within the crossvalidator\n",
    "Note: here we show the first update step with X_update1/y_update1. We could add one more update step with X_update2/y_update2."
   ]
  },
  {
   "cell_type": "code",
   "execution_count": 34,
   "metadata": {},
   "outputs": [
    {
     "name": "stdout",
     "output_type": "stream",
     "text": [
      "fold:  0\n",
      "final n:  1\n",
      "updated_number:  1\n",
      "fold:  1\n",
      "final n:  1\n",
      "updated_number:  1\n",
      "fold:  2\n",
      "final n:  1\n",
      "updated_number:  1\n",
      "fold:  3\n",
      "final n:  1\n",
      "updated_number:  1\n",
      "fold:  4\n",
      "final n:  1\n",
      "updated_number:  1\n"
     ]
    }
   ],
   "source": [
    "# For control, the 'updated number' is printed, which is the number under which the updated \n",
    "# model/predictions are saved. This is important since the number will be incremented\n",
    "# automatically when another number is already used.\n",
    "cross_validator.cross_validate_calibrate_update(X_update=X_update1, y_update=y_update1, X_score=X_score, y_score=y_score, steps=10, endpoint=endpoint)"
   ]
  },
  {
   "cell_type": "code",
   "execution_count": 35,
   "metadata": {},
   "outputs": [
    {
     "data": {
      "text/plain": [
       "dict_keys(['cv', 'pred_score', 'cal_update_1'])"
      ]
     },
     "execution_count": 35,
     "metadata": {},
     "output_type": "execute_result"
    }
   ],
   "source": [
    "cross_validator._evaluation_dfs.keys()"
   ]
  },
  {
   "cell_type": "code",
   "execution_count": 36,
   "metadata": {},
   "outputs": [
    {
     "data": {
      "text/plain": [
       "dict_keys(['cv', 'pred_score', 'cal_update_1'])"
      ]
     },
     "execution_count": 36,
     "metadata": {},
     "output_type": "execute_result"
    }
   ],
   "source": [
    "cross_validator._predictions.keys()"
   ]
  },
  {
   "cell_type": "code",
   "execution_count": 37,
   "metadata": {},
   "outputs": [
    {
     "name": "stdout",
     "output_type": "stream",
     "text": [
      "5\n"
     ]
    }
   ],
   "source": [
    "print(len(cross_validator.predictors))"
   ]
  },
  {
   "cell_type": "code",
   "execution_count": 43,
   "metadata": {},
   "outputs": [
    {
     "data": {
      "text/html": [
       "<div>\n",
       "<style scoped>\n",
       "    .dataframe tbody tr th:only-of-type {\n",
       "        vertical-align: middle;\n",
       "    }\n",
       "\n",
       "    .dataframe tbody tr th {\n",
       "        vertical-align: top;\n",
       "    }\n",
       "\n",
       "    .dataframe thead th {\n",
       "        text-align: right;\n",
       "    }\n",
       "</style>\n",
       "<table border=\"1\" class=\"dataframe\">\n",
       "  <thead>\n",
       "    <tr style=\"text-align: right;\">\n",
       "      <th></th>\n",
       "      <th>validity mean</th>\n",
       "      <th>efficiency mean</th>\n",
       "      <th>accuracy mean</th>\n",
       "      <th>significance_level</th>\n",
       "    </tr>\n",
       "    <tr>\n",
       "      <th>significance_level</th>\n",
       "      <th></th>\n",
       "      <th></th>\n",
       "      <th></th>\n",
       "      <th></th>\n",
       "    </tr>\n",
       "  </thead>\n",
       "  <tbody>\n",
       "    <tr>\n",
       "      <th>0.0</th>\n",
       "      <td>1.0000</td>\n",
       "      <td>0.0000</td>\n",
       "      <td>0.0000</td>\n",
       "      <td>0.0</td>\n",
       "    </tr>\n",
       "    <tr>\n",
       "      <th>0.1</th>\n",
       "      <td>0.9552</td>\n",
       "      <td>0.0702</td>\n",
       "      <td>0.4688</td>\n",
       "      <td>0.1</td>\n",
       "    </tr>\n",
       "    <tr>\n",
       "      <th>0.2</th>\n",
       "      <td>0.9126</td>\n",
       "      <td>0.1660</td>\n",
       "      <td>0.4950</td>\n",
       "      <td>0.2</td>\n",
       "    </tr>\n",
       "    <tr>\n",
       "      <th>0.3</th>\n",
       "      <td>0.8128</td>\n",
       "      <td>0.3660</td>\n",
       "      <td>0.5048</td>\n",
       "      <td>0.3</td>\n",
       "    </tr>\n",
       "    <tr>\n",
       "      <th>0.4</th>\n",
       "      <td>0.7148</td>\n",
       "      <td>0.5088</td>\n",
       "      <td>0.4944</td>\n",
       "      <td>0.4</td>\n",
       "    </tr>\n",
       "    <tr>\n",
       "      <th>0.5</th>\n",
       "      <td>0.5446</td>\n",
       "      <td>0.6658</td>\n",
       "      <td>0.4858</td>\n",
       "      <td>0.5</td>\n",
       "    </tr>\n",
       "    <tr>\n",
       "      <th>0.6</th>\n",
       "      <td>0.3978</td>\n",
       "      <td>0.6810</td>\n",
       "      <td>0.4698</td>\n",
       "      <td>0.6</td>\n",
       "    </tr>\n",
       "    <tr>\n",
       "      <th>0.7</th>\n",
       "      <td>0.2874</td>\n",
       "      <td>0.5702</td>\n",
       "      <td>0.4642</td>\n",
       "      <td>0.7</td>\n",
       "    </tr>\n",
       "    <tr>\n",
       "      <th>0.8</th>\n",
       "      <td>0.2024</td>\n",
       "      <td>0.4044</td>\n",
       "      <td>0.4948</td>\n",
       "      <td>0.8</td>\n",
       "    </tr>\n",
       "    <tr>\n",
       "      <th>0.9</th>\n",
       "      <td>0.0892</td>\n",
       "      <td>0.1724</td>\n",
       "      <td>0.5002</td>\n",
       "      <td>0.9</td>\n",
       "    </tr>\n",
       "    <tr>\n",
       "      <th>1.0</th>\n",
       "      <td>0.0212</td>\n",
       "      <td>0.0406</td>\n",
       "      <td>0.1334</td>\n",
       "      <td>1.0</td>\n",
       "    </tr>\n",
       "  </tbody>\n",
       "</table>\n",
       "</div>"
      ],
      "text/plain": [
       "                    validity mean  efficiency mean  accuracy mean  \\\n",
       "significance_level                                                  \n",
       "0.0                        1.0000           0.0000         0.0000   \n",
       "0.1                        0.9552           0.0702         0.4688   \n",
       "0.2                        0.9126           0.1660         0.4950   \n",
       "0.3                        0.8128           0.3660         0.5048   \n",
       "0.4                        0.7148           0.5088         0.4944   \n",
       "0.5                        0.5446           0.6658         0.4858   \n",
       "0.6                        0.3978           0.6810         0.4698   \n",
       "0.7                        0.2874           0.5702         0.4642   \n",
       "0.8                        0.2024           0.4044         0.4948   \n",
       "0.9                        0.0892           0.1724         0.5002   \n",
       "1.0                        0.0212           0.0406         0.1334   \n",
       "\n",
       "                    significance_level  \n",
       "significance_level                      \n",
       "0.0                                0.0  \n",
       "0.1                                0.1  \n",
       "0.2                                0.2  \n",
       "0.3                                0.3  \n",
       "0.4                                0.4  \n",
       "0.5                                0.5  \n",
       "0.6                                0.6  \n",
       "0.7                                0.7  \n",
       "0.8                                0.8  \n",
       "0.9                                0.9  \n",
       "1.0                                1.0  "
      ]
     },
     "execution_count": 43,
     "metadata": {},
     "output_type": "execute_result"
    }
   ],
   "source": [
    "# Look at evaluation df predicting the score set using the updated calibration set (averaged over all folds)\n",
    "cross_validator.averaged_evaluation_df_cal_update_1[[\"validity mean\", \"efficiency mean\", \"accuracy mean\", \"significance_level\"]]"
   ]
  },
  {
   "cell_type": "code",
   "execution_count": null,
   "metadata": {},
   "outputs": [],
   "source": [
    "# Look at evaluation df for cross validation (averaged over all folds)\n",
    "cross_validator.avera"
   ]
  },
  {
   "cell_type": "markdown",
   "metadata": {},
   "source": [
    "### Calibration plot for the score set using the updated calibration set"
   ]
  },
  {
   "cell_type": "code",
   "execution_count": 38,
   "metadata": {},
   "outputs": [
    {
     "data": {
      "text/plain": [
       "<module 'matplotlib.pyplot' from '/home/andrea/anaconda2/envs/kter-py38/lib/python3.8/site-packages/matplotlib/pyplot.py'>"
      ]
     },
     "execution_count": 38,
     "metadata": {},
     "output_type": "execute_result"
    },
    {
     "data": {
      "image/png": "[encoded data removed]",
      "text/plain": [
       "<Figure size 432x288 with 1 Axes>"
      ]
     },
     "metadata": {
      "needs_background": "light"
     },
     "output_type": "display_data"
    }
   ],
   "source": [
    "cross_validator.calibration_plot(endpoint=endpoint, averaged_evaluation_df=cross_validator.averaged_evaluation_df_cal_update_1)"
   ]
  }
 ],
 "metadata": {
  "kernelspec": {
   "display_name": "Python 3",
   "language": "python",
   "name": "python3"
  },
  "language_info": {
   "codemirror_mode": {
    "name": "ipython",
    "version": 3
   },
   "file_extension": ".py",
   "mimetype": "text/x-python",
   "name": "python",
   "nbconvert_exporter": "python",
   "pygments_lexer": "ipython3",
   "version": "3.8.2"
  }
 },
 "nbformat": 4,
 "nbformat_minor": 4
}
