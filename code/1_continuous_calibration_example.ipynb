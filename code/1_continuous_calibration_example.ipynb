{
 "cells": [
  {
   "cell_type": "markdown",
   "metadata": {},
   "source": [
    "# Example notebook: Studying and mitigating the effects of data drifts on ML model performance"
   ]
  },
  {
   "cell_type": "markdown",
   "metadata": {},
   "source": [
    "This notebook is part of the supporting information to the manuscript entitled: *Studying and mitigating the effects of data drifts on ML model performance at the example of chemical toxicity data*\n",
    "* Authors: A. Morger, M. Garcia de Lomana, U. Norinder, F. Svensson, J. Kirchmair, M. Mathea, and A. Volkamer\n",
    "* Last updated: August 2021"
   ]
  },
  {
   "cell_type": "markdown",
   "metadata": {},
   "source": [
    "In this notebook, the use of the Conformal prediction (CP) classes to study and mitigate the effects of data drifts on model calibration are demonstrated. The ChEMBL dataset, as used in the manuscript, for endpoint \"CHEMBL228\" is loaded as example. You can also exchange it with your own data."
   ]
  },
  {
   "cell_type": "markdown",
   "metadata": {},
   "source": [
    "## Import packages and modules"
   ]
  },
  {
   "cell_type": "code",
   "execution_count": 1,
   "metadata": {},
   "outputs": [],
   "source": [
    "import pandas as pd\n",
    "import numpy as np\n",
    "import sys\n",
    "import tarfile"
   ]
  },
  {
   "cell_type": "code",
   "execution_count": 2,
   "metadata": {},
   "outputs": [],
   "source": [
    "from sklearn.ensemble import RandomForestClassifier\n",
    "from sklearn.neighbors import KNeighborsRegressor"
   ]
  },
  {
   "cell_type": "code",
   "execution_count": 3,
   "metadata": {},
   "outputs": [],
   "source": [
    "from nonconformist.nc import InverseProbabilityErrFunc, NcFactory"
   ]
  },
  {
   "cell_type": "code",
   "execution_count": 4,
   "metadata": {},
   "outputs": [],
   "source": [
    "from continuous_calibration import (\n",
    "StratifiedRatioSampler, BalancedStratifiedRatioSampler, CrossValidationSampler, InductiveConformalPredictor, \n",
    "    ContinuousCalibrationAggregatedConformalPredictor, CrossValidator\n",
    ")\n",
    "from continuous_calibration_helper_functions import draw_scatter_plot_one_endpoint, create_umap_data, plot_umap"
   ]
  },
  {
   "cell_type": "markdown",
   "metadata": {},
   "source": [
    "## Define paths and parameters"
   ]
  },
  {
   "cell_type": "code",
   "execution_count": 5,
   "metadata": {},
   "outputs": [],
   "source": [
    "# Dataset with all 12 ChEMBL endpoints. Note that due to its size \n",
    "# it is not provided in this GitHub repository. Download it from\n",
    "# Zenodo instead and copy it to the `data` folder.\n",
    "data_path = \"../data/chembl_chembio_descriptors.tar.bz2\"\n",
    "# Dataset for ChEMBL228 endpoint\n",
    "data_path = \"../data/CHEMBL228_chembio_normalizedDesc.csv.tar.bz2\"\n",
    "# Dataset defining the splits by publication year into the CP subsets.\n",
    "# Contains information for all 12 endpoints.\n",
    "time_split_threshold_path = \"../data/data_size_chembio_chembl.csv\""
   ]
  },
  {
   "cell_type": "markdown",
   "metadata": {},
   "source": [
    "Choose an endpoint. "
   ]
  },
  {
   "cell_type": "code",
   "execution_count": 6,
   "metadata": {},
   "outputs": [],
   "source": [
    "# Note that due to the size of the datasets, \n",
    "# only one dataset for ChEMBL228 endpoint is available from GitHub.\n",
    "# Data for other ChEMBL endpoints can be downloaded from Zenodo (link_to_zenodo).\n",
    "endpoint = \"CHEMBL228\""
   ]
  },
  {
   "cell_type": "markdown",
   "metadata": {},
   "source": [
    "Define parameters for machine learning and conformal prediction.\n",
    "\n",
    "Note that the calculations take time and computational resources. If you just want to try out the notebook, we recommend using the small values provided. To get the same plots as in the manuscript (maybe small deviations due to random splitting and random forest), replace them by the larger, commented values."
   ]
  },
  {
   "cell_type": "code",
   "execution_count": 7,
   "metadata": {},
   "outputs": [],
   "source": [
    "ntrees = 50  # 500\n",
    "n_folds_acp = 3  # 20\n",
    "# Defines how to split training data into calibration and proper\n",
    "# training set using stratified spliting. Default is test_ratio=0.3,\n",
    "# i.e. allocate 30% of data to calibration set\n",
    "ratio_sampler = StratifiedRatioSampler(n_folds=n_folds_acp)"
   ]
  },
  {
   "cell_type": "markdown",
   "metadata": {},
   "source": [
    "Define UMAP parameters for compound descriptor space analysis."
   ]
  },
  {
   "cell_type": "code",
   "execution_count": 8,
   "metadata": {},
   "outputs": [],
   "source": [
    "descriptors = \"chembio\"\n",
    "n_neighbors = 100\n",
    "min_distances = 0.8\n",
    "distance_metric = \"euclidean\"\n",
    "umap_colours = [\"navy\", \"magenta\", \"orangered\", \"green\"]"
   ]
  },
  {
   "cell_type": "markdown",
   "metadata": {},
   "source": [
    "## Load and preprocess the data"
   ]
  },
  {
   "cell_type": "markdown",
   "metadata": {},
   "source": [
    "### Load data for ChEMBL228 endpoint"
   ]
  },
  {
   "cell_type": "markdown",
   "metadata": {},
   "source": [
    "Due to the size of the datasets, which contain the precalculated chembio descriptors, the example data for ChEMBL228 endpoint was deposited on GitHub as compressed file. \n",
    "\n",
    "The data contains:\n",
    "* Molecule ChEMBL ID\n",
    "* SMILES\n",
    "* Publication date\n",
    "* Binary activity (0 or 1)\n",
    "* Precalculated ChemBio descriptors"
   ]
  },
  {
   "cell_type": "code",
   "execution_count": 9,
   "metadata": {},
   "outputs": [
    {
     "data": {
      "text/html": [
       "<div>\n",
       "<style scoped>\n",
       "    .dataframe tbody tr th:only-of-type {\n",
       "        vertical-align: middle;\n",
       "    }\n",
       "\n",
       "    .dataframe tbody tr th {\n",
       "        vertical-align: top;\n",
       "    }\n",
       "\n",
       "    .dataframe thead th {\n",
       "        text-align: right;\n",
       "    }\n",
       "</style>\n",
       "<table border=\"1\" class=\"dataframe\">\n",
       "  <thead>\n",
       "    <tr style=\"text-align: right;\">\n",
       "      <th></th>\n",
       "      <th>CHEMBL228_bioactivity</th>\n",
       "      <th>molecule_chembl_id</th>\n",
       "      <th>year</th>\n",
       "      <th>Strongest ACIDIC pKa 1</th>\n",
       "      <th>Strongest ACIDIC pKa 2</th>\n",
       "      <th>Strongest BASIC pKa 1</th>\n",
       "      <th>Strongest BASIC pKa 2</th>\n",
       "      <th>SlogP</th>\n",
       "      <th>SMR</th>\n",
       "      <th>LabuteASA</th>\n",
       "      <th>...</th>\n",
       "      <th>p0-ToxCast_TOX21_p53_BLA_p5_ratio_InVitro</th>\n",
       "      <th>p1-ToxCast_TOX21_p53_BLA_p5_ratio_InVitro</th>\n",
       "      <th>p0-ToxCast_UPITT_HCI_U2OS_AR_TIF2_Nucleoli_Agonist_InVitro</th>\n",
       "      <th>p1-ToxCast_UPITT_HCI_U2OS_AR_TIF2_Nucleoli_Agonist_InVitro</th>\n",
       "      <th>p0-ToxCast_UPITT_HCI_U2OS_AR_TIF2_Nucleoli_Antagonist_InVitro</th>\n",
       "      <th>p1-ToxCast_UPITT_HCI_U2OS_AR_TIF2_Nucleoli_Antagonist_InVitro</th>\n",
       "      <th>p0-ToxCast_UPITT_HCI_U2OS_AR_TIF2_Nucleoli_Cytoplasm_Ratio_Antagonist_InVitro</th>\n",
       "      <th>p1-ToxCast_UPITT_HCI_U2OS_AR_TIF2_Nucleoli_Cytoplasm_Ratio_Antagonist_InVitro</th>\n",
       "      <th>p0-ToxCast_NCCT_HEK293T_CellTiterGLO_InVitro</th>\n",
       "      <th>p1-ToxCast_NCCT_HEK293T_CellTiterGLO_InVitro</th>\n",
       "    </tr>\n",
       "    <tr>\n",
       "      <th>CHEMBL228_chembio_normalizedDesc.csv</th>\n",
       "      <th></th>\n",
       "      <th></th>\n",
       "      <th></th>\n",
       "      <th></th>\n",
       "      <th></th>\n",
       "      <th></th>\n",
       "      <th></th>\n",
       "      <th></th>\n",
       "      <th></th>\n",
       "      <th></th>\n",
       "      <th></th>\n",
       "      <th></th>\n",
       "      <th></th>\n",
       "      <th></th>\n",
       "      <th></th>\n",
       "      <th></th>\n",
       "      <th></th>\n",
       "      <th></th>\n",
       "      <th></th>\n",
       "      <th></th>\n",
       "      <th></th>\n",
       "    </tr>\n",
       "  </thead>\n",
       "  <tbody>\n",
       "    <tr>\n",
       "      <th>Brc1cc(O[C@H]2C[C@@H]3CC[C@H](C2)N3)cc(-c2ccccc2)c1</th>\n",
       "      <td>0.0</td>\n",
       "      <td>CHEMBL1644601</td>\n",
       "      <td>2011.0</td>\n",
       "      <td>-2.809112e-15</td>\n",
       "      <td>5.939682e-15</td>\n",
       "      <td>1.302647</td>\n",
       "      <td>-3.673721e-16</td>\n",
       "      <td>0.559000</td>\n",
       "      <td>-0.269953</td>\n",
       "      <td>-0.311607</td>\n",
       "      <td>...</td>\n",
       "      <td>-0.271379</td>\n",
       "      <td>-0.124748</td>\n",
       "      <td>-0.817191</td>\n",
       "      <td>0.782127</td>\n",
       "      <td>-0.588356</td>\n",
       "      <td>0.537403</td>\n",
       "      <td>-0.234571</td>\n",
       "      <td>0.169539</td>\n",
       "      <td>-0.779707</td>\n",
       "      <td>0.794822</td>\n",
       "    </tr>\n",
       "    <tr>\n",
       "      <th>Brc1ccc(N2CCN(CCCCOc3ccc4ccccc4c3)CC2)cc1</th>\n",
       "      <td>0.0</td>\n",
       "      <td>CHEMBL4294090</td>\n",
       "      <td>2018.0</td>\n",
       "      <td>-2.809112e-15</td>\n",
       "      <td>5.939682e-15</td>\n",
       "      <td>-0.469983</td>\n",
       "      <td>-1.712712e+00</td>\n",
       "      <td>1.195275</td>\n",
       "      <td>0.840088</td>\n",
       "      <td>0.625818</td>\n",
       "      <td>...</td>\n",
       "      <td>-0.748681</td>\n",
       "      <td>0.594661</td>\n",
       "      <td>0.508205</td>\n",
       "      <td>-0.604907</td>\n",
       "      <td>-0.131702</td>\n",
       "      <td>-0.073389</td>\n",
       "      <td>-0.288971</td>\n",
       "      <td>0.227672</td>\n",
       "      <td>-0.884506</td>\n",
       "      <td>1.350940</td>\n",
       "    </tr>\n",
       "    <tr>\n",
       "      <th>Brc1ccc(N2CCN(CCCN3CCC(Cc4ccccc4)CC3)CC2)cc1</th>\n",
       "      <td>0.0</td>\n",
       "      <td>CHEMBL3775012</td>\n",
       "      <td>2016.0</td>\n",
       "      <td>-2.809112e-15</td>\n",
       "      <td>5.939682e-15</td>\n",
       "      <td>0.383832</td>\n",
       "      <td>2.511407e+00</td>\n",
       "      <td>0.667995</td>\n",
       "      <td>1.046026</td>\n",
       "      <td>0.854395</td>\n",
       "      <td>...</td>\n",
       "      <td>-0.505029</td>\n",
       "      <td>0.078336</td>\n",
       "      <td>-0.605172</td>\n",
       "      <td>0.579285</td>\n",
       "      <td>-0.321704</td>\n",
       "      <td>0.146703</td>\n",
       "      <td>-1.160155</td>\n",
       "      <td>1.278064</td>\n",
       "      <td>-0.884357</td>\n",
       "      <td>1.210984</td>\n",
       "    </tr>\n",
       "    <tr>\n",
       "      <th>Brc1ccc(N2CCN(CCCOc3ccc4ccccc4c3)CC2)cc1</th>\n",
       "      <td>1.0</td>\n",
       "      <td>CHEMBL4283496</td>\n",
       "      <td>2018.0</td>\n",
       "      <td>-2.809112e-15</td>\n",
       "      <td>5.939682e-15</td>\n",
       "      <td>-0.790863</td>\n",
       "      <td>-1.698674e+00</td>\n",
       "      <td>0.887168</td>\n",
       "      <td>0.658979</td>\n",
       "      <td>0.460180</td>\n",
       "      <td>...</td>\n",
       "      <td>-0.540919</td>\n",
       "      <td>0.204206</td>\n",
       "      <td>0.713899</td>\n",
       "      <td>-0.785441</td>\n",
       "      <td>-0.086008</td>\n",
       "      <td>-0.127980</td>\n",
       "      <td>-0.187862</td>\n",
       "      <td>0.127924</td>\n",
       "      <td>-0.907245</td>\n",
       "      <td>1.275077</td>\n",
       "    </tr>\n",
       "    <tr>\n",
       "      <th>Brc1ccc(N2CCN(CCN3CCC(Cc4ccccc4)CC3)CC2)cc1</th>\n",
       "      <td>0.0</td>\n",
       "      <td>CHEMBL3775085</td>\n",
       "      <td>2016.0</td>\n",
       "      <td>-2.809112e-15</td>\n",
       "      <td>5.939682e-15</td>\n",
       "      <td>0.102462</td>\n",
       "      <td>1.316044e+00</td>\n",
       "      <td>0.359888</td>\n",
       "      <td>0.864918</td>\n",
       "      <td>0.688757</td>\n",
       "      <td>...</td>\n",
       "      <td>-0.228433</td>\n",
       "      <td>-0.201849</td>\n",
       "      <td>-0.564613</td>\n",
       "      <td>0.373680</td>\n",
       "      <td>-0.233987</td>\n",
       "      <td>-0.000591</td>\n",
       "      <td>-1.045112</td>\n",
       "      <td>1.088714</td>\n",
       "      <td>-0.886296</td>\n",
       "      <td>1.230637</td>\n",
       "    </tr>\n",
       "  </tbody>\n",
       "</table>\n",
       "<p>5 rows × 2347 columns</p>\n",
       "</div>"
      ],
      "text/plain": [
       "                                                    CHEMBL228_bioactivity  \\\n",
       "CHEMBL228_chembio_normalizedDesc.csv                                        \n",
       "Brc1cc(O[C@H]2C[C@@H]3CC[C@H](C2)N3)cc(-c2ccccc...                    0.0   \n",
       "Brc1ccc(N2CCN(CCCCOc3ccc4ccccc4c3)CC2)cc1                             0.0   \n",
       "Brc1ccc(N2CCN(CCCN3CCC(Cc4ccccc4)CC3)CC2)cc1                          0.0   \n",
       "Brc1ccc(N2CCN(CCCOc3ccc4ccccc4c3)CC2)cc1                              1.0   \n",
       "Brc1ccc(N2CCN(CCN3CCC(Cc4ccccc4)CC3)CC2)cc1                           0.0   \n",
       "\n",
       "                                                   molecule_chembl_id    year  \\\n",
       "CHEMBL228_chembio_normalizedDesc.csv                                            \n",
       "Brc1cc(O[C@H]2C[C@@H]3CC[C@H](C2)N3)cc(-c2ccccc...      CHEMBL1644601  2011.0   \n",
       "Brc1ccc(N2CCN(CCCCOc3ccc4ccccc4c3)CC2)cc1               CHEMBL4294090  2018.0   \n",
       "Brc1ccc(N2CCN(CCCN3CCC(Cc4ccccc4)CC3)CC2)cc1            CHEMBL3775012  2016.0   \n",
       "Brc1ccc(N2CCN(CCCOc3ccc4ccccc4c3)CC2)cc1                CHEMBL4283496  2018.0   \n",
       "Brc1ccc(N2CCN(CCN3CCC(Cc4ccccc4)CC3)CC2)cc1             CHEMBL3775085  2016.0   \n",
       "\n",
       "                                                    Strongest ACIDIC pKa 1  \\\n",
       "CHEMBL228_chembio_normalizedDesc.csv                                         \n",
       "Brc1cc(O[C@H]2C[C@@H]3CC[C@H](C2)N3)cc(-c2ccccc...           -2.809112e-15   \n",
       "Brc1ccc(N2CCN(CCCCOc3ccc4ccccc4c3)CC2)cc1                    -2.809112e-15   \n",
       "Brc1ccc(N2CCN(CCCN3CCC(Cc4ccccc4)CC3)CC2)cc1                 -2.809112e-15   \n",
       "Brc1ccc(N2CCN(CCCOc3ccc4ccccc4c3)CC2)cc1                     -2.809112e-15   \n",
       "Brc1ccc(N2CCN(CCN3CCC(Cc4ccccc4)CC3)CC2)cc1                  -2.809112e-15   \n",
       "\n",
       "                                                    Strongest ACIDIC pKa 2  \\\n",
       "CHEMBL228_chembio_normalizedDesc.csv                                         \n",
       "Brc1cc(O[C@H]2C[C@@H]3CC[C@H](C2)N3)cc(-c2ccccc...            5.939682e-15   \n",
       "Brc1ccc(N2CCN(CCCCOc3ccc4ccccc4c3)CC2)cc1                     5.939682e-15   \n",
       "Brc1ccc(N2CCN(CCCN3CCC(Cc4ccccc4)CC3)CC2)cc1                  5.939682e-15   \n",
       "Brc1ccc(N2CCN(CCCOc3ccc4ccccc4c3)CC2)cc1                      5.939682e-15   \n",
       "Brc1ccc(N2CCN(CCN3CCC(Cc4ccccc4)CC3)CC2)cc1                   5.939682e-15   \n",
       "\n",
       "                                                    Strongest BASIC pKa 1  \\\n",
       "CHEMBL228_chembio_normalizedDesc.csv                                        \n",
       "Brc1cc(O[C@H]2C[C@@H]3CC[C@H](C2)N3)cc(-c2ccccc...               1.302647   \n",
       "Brc1ccc(N2CCN(CCCCOc3ccc4ccccc4c3)CC2)cc1                       -0.469983   \n",
       "Brc1ccc(N2CCN(CCCN3CCC(Cc4ccccc4)CC3)CC2)cc1                     0.383832   \n",
       "Brc1ccc(N2CCN(CCCOc3ccc4ccccc4c3)CC2)cc1                        -0.790863   \n",
       "Brc1ccc(N2CCN(CCN3CCC(Cc4ccccc4)CC3)CC2)cc1                      0.102462   \n",
       "\n",
       "                                                    Strongest BASIC pKa 2  \\\n",
       "CHEMBL228_chembio_normalizedDesc.csv                                        \n",
       "Brc1cc(O[C@H]2C[C@@H]3CC[C@H](C2)N3)cc(-c2ccccc...          -3.673721e-16   \n",
       "Brc1ccc(N2CCN(CCCCOc3ccc4ccccc4c3)CC2)cc1                   -1.712712e+00   \n",
       "Brc1ccc(N2CCN(CCCN3CCC(Cc4ccccc4)CC3)CC2)cc1                 2.511407e+00   \n",
       "Brc1ccc(N2CCN(CCCOc3ccc4ccccc4c3)CC2)cc1                    -1.698674e+00   \n",
       "Brc1ccc(N2CCN(CCN3CCC(Cc4ccccc4)CC3)CC2)cc1                  1.316044e+00   \n",
       "\n",
       "                                                       SlogP       SMR  \\\n",
       "CHEMBL228_chembio_normalizedDesc.csv                                     \n",
       "Brc1cc(O[C@H]2C[C@@H]3CC[C@H](C2)N3)cc(-c2ccccc...  0.559000 -0.269953   \n",
       "Brc1ccc(N2CCN(CCCCOc3ccc4ccccc4c3)CC2)cc1           1.195275  0.840088   \n",
       "Brc1ccc(N2CCN(CCCN3CCC(Cc4ccccc4)CC3)CC2)cc1        0.667995  1.046026   \n",
       "Brc1ccc(N2CCN(CCCOc3ccc4ccccc4c3)CC2)cc1            0.887168  0.658979   \n",
       "Brc1ccc(N2CCN(CCN3CCC(Cc4ccccc4)CC3)CC2)cc1         0.359888  0.864918   \n",
       "\n",
       "                                                    LabuteASA  ...  \\\n",
       "CHEMBL228_chembio_normalizedDesc.csv                           ...   \n",
       "Brc1cc(O[C@H]2C[C@@H]3CC[C@H](C2)N3)cc(-c2ccccc...  -0.311607  ...   \n",
       "Brc1ccc(N2CCN(CCCCOc3ccc4ccccc4c3)CC2)cc1            0.625818  ...   \n",
       "Brc1ccc(N2CCN(CCCN3CCC(Cc4ccccc4)CC3)CC2)cc1         0.854395  ...   \n",
       "Brc1ccc(N2CCN(CCCOc3ccc4ccccc4c3)CC2)cc1             0.460180  ...   \n",
       "Brc1ccc(N2CCN(CCN3CCC(Cc4ccccc4)CC3)CC2)cc1          0.688757  ...   \n",
       "\n",
       "                                                    p0-ToxCast_TOX21_p53_BLA_p5_ratio_InVitro  \\\n",
       "CHEMBL228_chembio_normalizedDesc.csv                                                            \n",
       "Brc1cc(O[C@H]2C[C@@H]3CC[C@H](C2)N3)cc(-c2ccccc...                                  -0.271379   \n",
       "Brc1ccc(N2CCN(CCCCOc3ccc4ccccc4c3)CC2)cc1                                           -0.748681   \n",
       "Brc1ccc(N2CCN(CCCN3CCC(Cc4ccccc4)CC3)CC2)cc1                                        -0.505029   \n",
       "Brc1ccc(N2CCN(CCCOc3ccc4ccccc4c3)CC2)cc1                                            -0.540919   \n",
       "Brc1ccc(N2CCN(CCN3CCC(Cc4ccccc4)CC3)CC2)cc1                                         -0.228433   \n",
       "\n",
       "                                                    p1-ToxCast_TOX21_p53_BLA_p5_ratio_InVitro  \\\n",
       "CHEMBL228_chembio_normalizedDesc.csv                                                            \n",
       "Brc1cc(O[C@H]2C[C@@H]3CC[C@H](C2)N3)cc(-c2ccccc...                                  -0.124748   \n",
       "Brc1ccc(N2CCN(CCCCOc3ccc4ccccc4c3)CC2)cc1                                            0.594661   \n",
       "Brc1ccc(N2CCN(CCCN3CCC(Cc4ccccc4)CC3)CC2)cc1                                         0.078336   \n",
       "Brc1ccc(N2CCN(CCCOc3ccc4ccccc4c3)CC2)cc1                                             0.204206   \n",
       "Brc1ccc(N2CCN(CCN3CCC(Cc4ccccc4)CC3)CC2)cc1                                         -0.201849   \n",
       "\n",
       "                                                    p0-ToxCast_UPITT_HCI_U2OS_AR_TIF2_Nucleoli_Agonist_InVitro  \\\n",
       "CHEMBL228_chembio_normalizedDesc.csv                                                                             \n",
       "Brc1cc(O[C@H]2C[C@@H]3CC[C@H](C2)N3)cc(-c2ccccc...                                          -0.817191            \n",
       "Brc1ccc(N2CCN(CCCCOc3ccc4ccccc4c3)CC2)cc1                                                    0.508205            \n",
       "Brc1ccc(N2CCN(CCCN3CCC(Cc4ccccc4)CC3)CC2)cc1                                                -0.605172            \n",
       "Brc1ccc(N2CCN(CCCOc3ccc4ccccc4c3)CC2)cc1                                                     0.713899            \n",
       "Brc1ccc(N2CCN(CCN3CCC(Cc4ccccc4)CC3)CC2)cc1                                                 -0.564613            \n",
       "\n",
       "                                                    p1-ToxCast_UPITT_HCI_U2OS_AR_TIF2_Nucleoli_Agonist_InVitro  \\\n",
       "CHEMBL228_chembio_normalizedDesc.csv                                                                             \n",
       "Brc1cc(O[C@H]2C[C@@H]3CC[C@H](C2)N3)cc(-c2ccccc...                                           0.782127            \n",
       "Brc1ccc(N2CCN(CCCCOc3ccc4ccccc4c3)CC2)cc1                                                   -0.604907            \n",
       "Brc1ccc(N2CCN(CCCN3CCC(Cc4ccccc4)CC3)CC2)cc1                                                 0.579285            \n",
       "Brc1ccc(N2CCN(CCCOc3ccc4ccccc4c3)CC2)cc1                                                    -0.785441            \n",
       "Brc1ccc(N2CCN(CCN3CCC(Cc4ccccc4)CC3)CC2)cc1                                                  0.373680            \n",
       "\n",
       "                                                    p0-ToxCast_UPITT_HCI_U2OS_AR_TIF2_Nucleoli_Antagonist_InVitro  \\\n",
       "CHEMBL228_chembio_normalizedDesc.csv                                                                                \n",
       "Brc1cc(O[C@H]2C[C@@H]3CC[C@H](C2)N3)cc(-c2ccccc...                                          -0.588356               \n",
       "Brc1ccc(N2CCN(CCCCOc3ccc4ccccc4c3)CC2)cc1                                                   -0.131702               \n",
       "Brc1ccc(N2CCN(CCCN3CCC(Cc4ccccc4)CC3)CC2)cc1                                                -0.321704               \n",
       "Brc1ccc(N2CCN(CCCOc3ccc4ccccc4c3)CC2)cc1                                                    -0.086008               \n",
       "Brc1ccc(N2CCN(CCN3CCC(Cc4ccccc4)CC3)CC2)cc1                                                 -0.233987               \n",
       "\n",
       "                                                    p1-ToxCast_UPITT_HCI_U2OS_AR_TIF2_Nucleoli_Antagonist_InVitro  \\\n",
       "CHEMBL228_chembio_normalizedDesc.csv                                                                                \n",
       "Brc1cc(O[C@H]2C[C@@H]3CC[C@H](C2)N3)cc(-c2ccccc...                                           0.537403               \n",
       "Brc1ccc(N2CCN(CCCCOc3ccc4ccccc4c3)CC2)cc1                                                   -0.073389               \n",
       "Brc1ccc(N2CCN(CCCN3CCC(Cc4ccccc4)CC3)CC2)cc1                                                 0.146703               \n",
       "Brc1ccc(N2CCN(CCCOc3ccc4ccccc4c3)CC2)cc1                                                    -0.127980               \n",
       "Brc1ccc(N2CCN(CCN3CCC(Cc4ccccc4)CC3)CC2)cc1                                                 -0.000591               \n",
       "\n",
       "                                                    p0-ToxCast_UPITT_HCI_U2OS_AR_TIF2_Nucleoli_Cytoplasm_Ratio_Antagonist_InVitro  \\\n",
       "CHEMBL228_chembio_normalizedDesc.csv                                                                                                \n",
       "Brc1cc(O[C@H]2C[C@@H]3CC[C@H](C2)N3)cc(-c2ccccc...                                          -0.234571                               \n",
       "Brc1ccc(N2CCN(CCCCOc3ccc4ccccc4c3)CC2)cc1                                                   -0.288971                               \n",
       "Brc1ccc(N2CCN(CCCN3CCC(Cc4ccccc4)CC3)CC2)cc1                                                -1.160155                               \n",
       "Brc1ccc(N2CCN(CCCOc3ccc4ccccc4c3)CC2)cc1                                                    -0.187862                               \n",
       "Brc1ccc(N2CCN(CCN3CCC(Cc4ccccc4)CC3)CC2)cc1                                                 -1.045112                               \n",
       "\n",
       "                                                    p1-ToxCast_UPITT_HCI_U2OS_AR_TIF2_Nucleoli_Cytoplasm_Ratio_Antagonist_InVitro  \\\n",
       "CHEMBL228_chembio_normalizedDesc.csv                                                                                                \n",
       "Brc1cc(O[C@H]2C[C@@H]3CC[C@H](C2)N3)cc(-c2ccccc...                                           0.169539                               \n",
       "Brc1ccc(N2CCN(CCCCOc3ccc4ccccc4c3)CC2)cc1                                                    0.227672                               \n",
       "Brc1ccc(N2CCN(CCCN3CCC(Cc4ccccc4)CC3)CC2)cc1                                                 1.278064                               \n",
       "Brc1ccc(N2CCN(CCCOc3ccc4ccccc4c3)CC2)cc1                                                     0.127924                               \n",
       "Brc1ccc(N2CCN(CCN3CCC(Cc4ccccc4)CC3)CC2)cc1                                                  1.088714                               \n",
       "\n",
       "                                                    p0-ToxCast_NCCT_HEK293T_CellTiterGLO_InVitro  \\\n",
       "CHEMBL228_chembio_normalizedDesc.csv                                                               \n",
       "Brc1cc(O[C@H]2C[C@@H]3CC[C@H](C2)N3)cc(-c2ccccc...                                     -0.779707   \n",
       "Brc1ccc(N2CCN(CCCCOc3ccc4ccccc4c3)CC2)cc1                                              -0.884506   \n",
       "Brc1ccc(N2CCN(CCCN3CCC(Cc4ccccc4)CC3)CC2)cc1                                           -0.884357   \n",
       "Brc1ccc(N2CCN(CCCOc3ccc4ccccc4c3)CC2)cc1                                               -0.907245   \n",
       "Brc1ccc(N2CCN(CCN3CCC(Cc4ccccc4)CC3)CC2)cc1                                            -0.886296   \n",
       "\n",
       "                                                    p1-ToxCast_NCCT_HEK293T_CellTiterGLO_InVitro  \n",
       "CHEMBL228_chembio_normalizedDesc.csv                                                              \n",
       "Brc1cc(O[C@H]2C[C@@H]3CC[C@H](C2)N3)cc(-c2ccccc...                                      0.794822  \n",
       "Brc1ccc(N2CCN(CCCCOc3ccc4ccccc4c3)CC2)cc1                                               1.350940  \n",
       "Brc1ccc(N2CCN(CCCN3CCC(Cc4ccccc4)CC3)CC2)cc1                                            1.210984  \n",
       "Brc1ccc(N2CCN(CCCOc3ccc4ccccc4c3)CC2)cc1                                                1.275077  \n",
       "Brc1ccc(N2CCN(CCN3CCC(Cc4ccccc4)CC3)CC2)cc1                                             1.230637  \n",
       "\n",
       "[5 rows x 2347 columns]"
      ]
     },
     "execution_count": 9,
     "metadata": {},
     "output_type": "execute_result"
    }
   ],
   "source": [
    "data = pd.read_csv(data_path, compression='bz2', index_col=0)\n",
    "data.head()"
   ]
  },
  {
   "cell_type": "markdown",
   "metadata": {},
   "source": [
    "### Load data for another endpoint"
   ]
  },
  {
   "cell_type": "markdown",
   "metadata": {},
   "source": [
    "If you want to run the example notebook for any other ChEMBL endpoint, a compressed file with all ChEMBL datasets used in this work can be downloaded from [Zenodo](link_to_zenodo) as tar.bz2 files. Change the `endpoint` in Cell 6 and uncomment the following three cells."
   ]
  },
  {
   "cell_type": "raw",
   "metadata": {},
   "source": [
    "# Due to the size of the datasets containing the chembio descriptors, \n",
    "# they were uploaded to GitHub as tar.bz2 files and need to be unpacked first\n",
    "# tar = tarfile.open(data_path)"
   ]
  },
  {
   "cell_type": "raw",
   "metadata": {},
   "source": [
    "# The data is collected in the `files` dict, containing as keys the ChEMBL endpoint name and as value the dataframe\n",
    "# files = {}\n",
    "# for i, name in zip(tar, tar.getnames()):\n",
    "#     file = tar.extractfile(i)\n",
    "#     print(file)\n",
    "#     if file:  # Extraction also yields an empty folder (?) which will be ignored\n",
    "#         n = name.split(\"/\")[1].split('_')[0]  # Get ChEMBL endpoint name from filename\n",
    "#         if n == endpoint:\n",
    "#             print(n)\n",
    "#             df = pd.read_csv(file)  # Read df\n",
    "#             files[n] = df  # Store in dict"
   ]
  },
  {
   "cell_type": "raw",
   "metadata": {},
   "source": [
    "# Select a specific example dataset\n",
    "# data = files[endpoint]"
   ]
  },
  {
   "cell_type": "markdown",
   "metadata": {},
   "source": [
    "### Define arrays with labels, descriptors and publication years"
   ]
  },
  {
   "cell_type": "markdown",
   "metadata": {},
   "source": [
    "Drop rows without any information on the publication date. "
   ]
  },
  {
   "cell_type": "code",
   "execution_count": 10,
   "metadata": {},
   "outputs": [],
   "source": [
    "# The publication date is required for temporal data splitting.\n",
    "data.dropna(subset=[\"year\"], inplace=True)"
   ]
  },
  {
   "cell_type": "markdown",
   "metadata": {},
   "source": [
    "Define the labels for the ML experiment, i.e., the measured binarized bioactivities."
   ]
  },
  {
   "cell_type": "code",
   "execution_count": 11,
   "metadata": {},
   "outputs": [
    {
     "data": {
      "text/plain": [
       "array([0., 0., 0., ..., 1., 1., 1.])"
      ]
     },
     "execution_count": 11,
     "metadata": {},
     "output_type": "execute_result"
    }
   ],
   "source": [
    "y = data[f\"{endpoint}_bioactivity\"].values\n",
    "y"
   ]
  },
  {
   "cell_type": "markdown",
   "metadata": {},
   "source": [
    "Define feature columns from the ChemBio descriptor, i.e., p-values and chemical descriptors."
   ]
  },
  {
   "cell_type": "code",
   "execution_count": 12,
   "metadata": {
    "scrolled": true
   },
   "outputs": [
    {
     "data": {
      "text/plain": [
       "array([[-2.80911163e-15,  5.93968226e-15,  1.30264678e+00, ...,\n",
       "         1.69538682e-01, -7.79707476e-01,  7.94822309e-01],\n",
       "       [-2.80911163e-15,  5.93968226e-15, -4.69982792e-01, ...,\n",
       "         2.27671782e-01, -8.84505678e-01,  1.35093976e+00],\n",
       "       [-2.80911163e-15,  5.93968226e-15,  3.83831965e-01, ...,\n",
       "         1.27806444e+00, -8.84357296e-01,  1.21098428e+00],\n",
       "       ...,\n",
       "       [-2.80911163e-15,  5.93968226e-15,  1.11010701e+00, ...,\n",
       "        -7.72733450e-01,  1.32371173e+00, -1.39837780e+00],\n",
       "       [-2.80911163e-15,  5.93968226e-15,  7.09563407e-01, ...,\n",
       "        -2.01146873e+00,  2.53051914e-01, -5.89647388e-01],\n",
       "       [-2.80911163e-15,  5.93968226e-15, -1.14389134e-01, ...,\n",
       "        -1.45764980e+00,  1.71728142e+00, -1.53578739e+00]])"
      ]
     },
     "execution_count": 12,
     "metadata": {},
     "output_type": "execute_result"
    }
   ],
   "source": [
    "# Any other columns present in the dataset, but not part of the descriptors, are explicitly excluded.\n",
    "\n",
    "columns = [\n",
    "            col\n",
    "            for col in data.columns\n",
    "            if (not col.startswith(\"Toxicity\"))  # Exclude in vivo labels used for p-values\n",
    "            and (col != f\"{endpoint}_bioactivity\")  # Exclude ChEMBL bioactivity labels\n",
    "            and (col != \"SMILES (Canonical)\")  # Exclude canonical smiles\n",
    "            and (col != \"smiles\")  # Exclude smiles\n",
    "            and (col != \"year\")  # Exclude publication year\n",
    "            and (col != \"molecule_chembl_id\")  # Exclude molecule ChEMBL id\n",
    "        ]\n",
    "\n",
    "X = data[columns].values\n",
    "X"
   ]
  },
  {
   "cell_type": "markdown",
   "metadata": {},
   "source": [
    "Collect the publication years in an arry. This information will be used for temporal data splitting."
   ]
  },
  {
   "cell_type": "code",
   "execution_count": 13,
   "metadata": {},
   "outputs": [
    {
     "data": {
      "text/plain": [
       "array([2011., 2018., 2016., ..., 2018., 2009., 2014.])"
      ]
     },
     "execution_count": 13,
     "metadata": {},
     "output_type": "execute_result"
    }
   ],
   "source": [
    "years = data[\"year\"].values\n",
    "years"
   ]
  },
  {
   "cell_type": "markdown",
   "metadata": {},
   "source": [
    "### Split data"
   ]
  },
  {
   "cell_type": "markdown",
   "metadata": {},
   "source": [
    "Here, we implement a time-split to separate the data in four subsets based on the publication year:\n",
    "* training set\n",
    "* update 1 set\n",
    "* update 2 set\n",
    "* holdout set"
   ]
  },
  {
   "cell_type": "markdown",
   "metadata": {},
   "source": [
    "#### Load dataframe defining time-split thresholds per endpoint\n",
    "The `time_split_threshold_path` variable holds the precalculated information which year is used per data set to create the time split data while retaining specific ratios (see manuscript for more details)."
   ]
  },
  {
   "cell_type": "code",
   "execution_count": 14,
   "metadata": {},
   "outputs": [
    {
     "data": {
      "text/html": [
       "<div>\n",
       "<style scoped>\n",
       "    .dataframe tbody tr th:only-of-type {\n",
       "        vertical-align: middle;\n",
       "    }\n",
       "\n",
       "    .dataframe tbody tr th {\n",
       "        vertical-align: top;\n",
       "    }\n",
       "\n",
       "    .dataframe thead th {\n",
       "        text-align: right;\n",
       "    }\n",
       "</style>\n",
       "<table border=\"1\" class=\"dataframe\">\n",
       "  <thead>\n",
       "    <tr style=\"text-align: right;\">\n",
       "      <th></th>\n",
       "      <th>train_thresh</th>\n",
       "      <th>update1_thresh</th>\n",
       "      <th>update2_thresh</th>\n",
       "    </tr>\n",
       "    <tr>\n",
       "      <th>chembl_id</th>\n",
       "      <th></th>\n",
       "      <th></th>\n",
       "      <th></th>\n",
       "    </tr>\n",
       "  </thead>\n",
       "  <tbody>\n",
       "    <tr>\n",
       "      <th>CHEMBL220</th>\n",
       "      <td>2014</td>\n",
       "      <td>2016</td>\n",
       "      <td>2017</td>\n",
       "    </tr>\n",
       "    <tr>\n",
       "      <th>CHEMBL4078</th>\n",
       "      <td>2014</td>\n",
       "      <td>2015</td>\n",
       "      <td>2016</td>\n",
       "    </tr>\n",
       "    <tr>\n",
       "      <th>CHEMBL5763</th>\n",
       "      <td>2015</td>\n",
       "      <td>2016</td>\n",
       "      <td>2017</td>\n",
       "    </tr>\n",
       "    <tr>\n",
       "      <th>CHEMBL203</th>\n",
       "      <td>2012</td>\n",
       "      <td>2014</td>\n",
       "      <td>2016</td>\n",
       "    </tr>\n",
       "    <tr>\n",
       "      <th>CHEMBL206</th>\n",
       "      <td>2006</td>\n",
       "      <td>2012</td>\n",
       "      <td>2016</td>\n",
       "    </tr>\n",
       "    <tr>\n",
       "      <th>CHEMBL279</th>\n",
       "      <td>2010</td>\n",
       "      <td>2013</td>\n",
       "      <td>2014</td>\n",
       "    </tr>\n",
       "    <tr>\n",
       "      <th>CHEMBL230</th>\n",
       "      <td>2010</td>\n",
       "      <td>2013</td>\n",
       "      <td>2015</td>\n",
       "    </tr>\n",
       "    <tr>\n",
       "      <th>CHEMBL340</th>\n",
       "      <td>2012</td>\n",
       "      <td>2014</td>\n",
       "      <td>2015</td>\n",
       "    </tr>\n",
       "    <tr>\n",
       "      <th>CHEMBL240</th>\n",
       "      <td>2012</td>\n",
       "      <td>2014</td>\n",
       "      <td>2016</td>\n",
       "    </tr>\n",
       "    <tr>\n",
       "      <th>CHEMBL2039</th>\n",
       "      <td>2014</td>\n",
       "      <td>2015</td>\n",
       "      <td>2017</td>\n",
       "    </tr>\n",
       "    <tr>\n",
       "      <th>CHEMBL222</th>\n",
       "      <td>2009</td>\n",
       "      <td>2011</td>\n",
       "      <td>2015</td>\n",
       "    </tr>\n",
       "    <tr>\n",
       "      <th>CHEMBL228</th>\n",
       "      <td>2009</td>\n",
       "      <td>2011</td>\n",
       "      <td>2014</td>\n",
       "    </tr>\n",
       "  </tbody>\n",
       "</table>\n",
       "</div>"
      ],
      "text/plain": [
       "            train_thresh  update1_thresh  update2_thresh\n",
       "chembl_id                                               \n",
       "CHEMBL220           2014            2016            2017\n",
       "CHEMBL4078          2014            2015            2016\n",
       "CHEMBL5763          2015            2016            2017\n",
       "CHEMBL203           2012            2014            2016\n",
       "CHEMBL206           2006            2012            2016\n",
       "CHEMBL279           2010            2013            2014\n",
       "CHEMBL230           2010            2013            2015\n",
       "CHEMBL340           2012            2014            2015\n",
       "CHEMBL240           2012            2014            2016\n",
       "CHEMBL2039          2014            2015            2017\n",
       "CHEMBL222           2009            2011            2015\n",
       "CHEMBL228           2009            2011            2014"
      ]
     },
     "execution_count": 14,
     "metadata": {},
     "output_type": "execute_result"
    }
   ],
   "source": [
    "splits_df = pd.read_csv(time_split_threshold_path, index_col=0, \n",
    "                        usecols=[\"chembl_id\", \"train_thresh\", \"update1_thresh\", \"update2_thresh\"])\n",
    "splits_df"
   ]
  },
  {
   "cell_type": "code",
   "execution_count": 15,
   "metadata": {},
   "outputs": [
    {
     "data": {
      "text/plain": [
       "Index(['CHEMBL220', 'CHEMBL4078', 'CHEMBL5763', 'CHEMBL203', 'CHEMBL206',\n",
       "       'CHEMBL279', 'CHEMBL230', 'CHEMBL340', 'CHEMBL240', 'CHEMBL2039',\n",
       "       'CHEMBL222', 'CHEMBL228'],\n",
       "      dtype='object', name='chembl_id')"
      ]
     },
     "execution_count": 15,
     "metadata": {},
     "output_type": "execute_result"
    }
   ],
   "source": [
    "splits_df.index"
   ]
  },
  {
   "cell_type": "markdown",
   "metadata": {},
   "source": [
    "Get year thresholds to split the data for the selected endpoint."
   ]
  },
  {
   "cell_type": "code",
   "execution_count": 16,
   "metadata": {},
   "outputs": [
    {
     "data": {
      "text/plain": [
       "(2009, 2011, 2014)"
      ]
     },
     "execution_count": 16,
     "metadata": {},
     "output_type": "execute_result"
    }
   ],
   "source": [
    "thresholds = splits_df[\"train_thresh\"][endpoint], splits_df[\"update1_thresh\"][endpoint], splits_df[\"update2_thresh\"][endpoint]\n",
    "thresholds"
   ]
  },
  {
   "cell_type": "markdown",
   "metadata": {},
   "source": [
    "Do the splitting based on the threshold."
   ]
  },
  {
   "cell_type": "code",
   "execution_count": 17,
   "metadata": {},
   "outputs": [],
   "source": [
    "# Collect the respective indices based on the threshold\n",
    "mask_train = years <= thresholds[0]\n",
    "mask_update1 = (years > thresholds[0]) & (years <= thresholds[1])\n",
    "mask_update2 = (years > thresholds[1]) & (years <= thresholds[2])\n",
    "mask_holdout = years > thresholds[2]\n",
    "\n",
    "# Split the data accordingly\n",
    "X_train, y_train = X[mask_train], y[mask_train]\n",
    "X_update1, y_update1 = X[mask_update1], y[mask_update1]\n",
    "X_update2, y_update2 = X[mask_update2], y[mask_update2]\n",
    "X_holdout, y_holdout = X[mask_holdout], y[mask_holdout]"
   ]
  },
  {
   "cell_type": "markdown",
   "metadata": {},
   "source": [
    "Inspect the data subsets."
   ]
  },
  {
   "cell_type": "code",
   "execution_count": 18,
   "metadata": {},
   "outputs": [
    {
     "name": "stdout",
     "output_type": "stream",
     "text": [
      "Training set shape: y=(1100,), X=(1100, 2344)\n",
      "Update1 set shape: y=(470,), X=(470, 2344)\n",
      "Update2 set shape: y=(266,), X=(266, 2344)\n",
      "Holdout set shape: y=(275,), X=(275, 2344)\n"
     ]
    }
   ],
   "source": [
    "# Check shape of the arrays\n",
    "print(f\"Training set shape: y={y_train.shape}, X={X_train.shape}\")\n",
    "print(f\"Update1 set shape: y={y_update1.shape}, X={X_update1.shape}\")\n",
    "print(f\"Update2 set shape: y={y_update2.shape}, X={X_update2.shape}\")\n",
    "print(f\"Holdout set shape: y={y_holdout.shape}, X={X_holdout.shape}\")"
   ]
  },
  {
   "cell_type": "code",
   "execution_count": 19,
   "metadata": {},
   "outputs": [
    {
     "name": "stdout",
     "output_type": "stream",
     "text": [
      "Active compounds training set: 858.0\n",
      " update1 set: 373.0\n",
      " update2 set: 235.0\n",
      " holdout set: 196.0\n"
     ]
    }
   ],
   "source": [
    "# Check if we have actives and inactives in all datasets\n",
    "print(f\"Active compounds training set: {y_train.sum()}\")\n",
    "print(f\" update1 set: {y_update1.sum()}\\n update2 set: {y_update2.sum()}\\n holdout set: {y_holdout.sum()}\")"
   ]
  },
  {
   "cell_type": "markdown",
   "metadata": {},
   "source": [
    "## Conformal prediction recalibration strategy without crossvalidation (CV)"
   ]
  },
  {
   "cell_type": "markdown",
   "metadata": {},
   "source": [
    "The experiments in this work were performed in a fivefold CV. For illustration of the recalibration strategy, it is, first, explained, step by step, without CV, in th next few cells. Note that the analysis of the models and predictions will be presented after the `crossvalidation` part."
   ]
  },
  {
   "cell_type": "markdown",
   "metadata": {},
   "source": [
    "### Prepare Aggregated Conformal Predictor (ACP)"
   ]
  },
  {
   "cell_type": "code",
   "execution_count": 20,
   "metadata": {},
   "outputs": [],
   "source": [
    "clf = RandomForestClassifier(n_estimators=ntrees)\n",
    "error_function = InverseProbabilityErrFunc()\n",
    "nc = NcFactory.create_nc(\n",
    "        clf, err_func=error_function, normalizer_model=None\n",
    "    )\n",
    "icp = InductiveConformalPredictor(\n",
    "        nc_function=nc, smoothing=False, condition=(lambda instance: instance[1])\n",
    "    )  # Mondrian as (default) condition)"
   ]
  },
  {
   "cell_type": "code",
   "execution_count": 21,
   "metadata": {},
   "outputs": [],
   "source": [
    "acp = ContinuousCalibrationAggregatedConformalPredictor(predictor=icp, sampler=ratio_sampler,\n",
    "        aggregation_func=np.median\n",
    "    )"
   ]
  },
  {
   "cell_type": "markdown",
   "metadata": {},
   "source": [
    "### Fit and calibrate the model, make predictions for holdout set"
   ]
  },
  {
   "cell_type": "markdown",
   "metadata": {},
   "source": [
    "Calibrate with the `original` calibration set, which is a split from X_train/y_train."
   ]
  },
  {
   "cell_type": "code",
   "execution_count": 22,
   "metadata": {},
   "outputs": [],
   "source": [
    "acp.fit_calibrate(X_train=X_train, y_train=y_train)"
   ]
  },
  {
   "cell_type": "markdown",
   "metadata": {},
   "source": [
    "Make predictions with the model and original calibration set on the holdout set."
   ]
  },
  {
   "cell_type": "code",
   "execution_count": 23,
   "metadata": {},
   "outputs": [
    {
     "data": {
      "text/plain": [
       "array([[0.37837838, 0.03875969],\n",
       "       [0.34459459, 0.04263566],\n",
       "       [0.31081081, 0.04457364],\n",
       "       [0.30405405, 0.04844961],\n",
       "       [0.17567568, 0.10465116]])"
      ]
     },
     "execution_count": 23,
     "metadata": {},
     "output_type": "execute_result"
    }
   ],
   "source": [
    "original_prediction = acp.predict(X_test=X_holdout)\n",
    "\n",
    "original_prediction[:5]"
   ]
  },
  {
   "cell_type": "markdown",
   "metadata": {},
   "source": [
    "### Update calibration set I"
   ]
  },
  {
   "cell_type": "markdown",
   "metadata": {},
   "source": [
    "Calibrate the fitted (not yet calibrated) predictors with a 'new' dataset"
   ]
  },
  {
   "cell_type": "code",
   "execution_count": 24,
   "metadata": {},
   "outputs": [
    {
     "data": {
      "text/plain": [
       "1"
      ]
     },
     "execution_count": 24,
     "metadata": {},
     "output_type": "execute_result"
    }
   ],
   "source": [
    "acp.calibrate_update(X_update=X_update1, y_update=y_update1)"
   ]
  },
  {
   "cell_type": "markdown",
   "metadata": {},
   "source": [
    "Make predictions with the model and the updated calibration set 1 on the holdout set."
   ]
  },
  {
   "cell_type": "code",
   "execution_count": 25,
   "metadata": {},
   "outputs": [
    {
     "data": {
      "text/plain": [
       "array([[0.89285714, 0.01871658],\n",
       "       [0.87244898, 0.02005348],\n",
       "       [0.84183673, 0.02673797],\n",
       "       [0.83163265, 0.02673797],\n",
       "       [0.39285714, 0.15909091]])"
      ]
     },
     "execution_count": 25,
     "metadata": {},
     "output_type": "execute_result"
    }
   ],
   "source": [
    "calibrate_update_prediction = acp.predict_calibrate_update(updated_number=1, X_test=X_holdout)\n",
    "calibrate_update_prediction[:5]"
   ]
  },
  {
   "cell_type": "markdown",
   "metadata": {},
   "source": [
    "### Update calibration set II"
   ]
  },
  {
   "cell_type": "markdown",
   "metadata": {},
   "source": [
    "We can update with an even 'newer' calibration set (as often as we want). The model with the updated calibration set will be saved in the acp object."
   ]
  },
  {
   "cell_type": "code",
   "execution_count": 26,
   "metadata": {},
   "outputs": [
    {
     "name": "stdout",
     "output_type": "stream",
     "text": [
      "dict_keys(['update_1'])\n"
     ]
    }
   ],
   "source": [
    "# Check how many updated calibration sets we already have. \n",
    "# Here, this should be 1.\n",
    "print(acp.predictors_calibrated_update.keys())"
   ]
  },
  {
   "cell_type": "code",
   "execution_count": 27,
   "metadata": {},
   "outputs": [
    {
     "data": {
      "text/plain": [
       "2"
      ]
     },
     "execution_count": 27,
     "metadata": {},
     "output_type": "execute_result"
    }
   ],
   "source": [
    "acp.calibrate_update(X_update=X_update2, y_update=y_update2)"
   ]
  },
  {
   "cell_type": "markdown",
   "metadata": {},
   "source": [
    "Make predictions with the model and the updated calibration set 2 on the holdout set."
   ]
  },
  {
   "cell_type": "code",
   "execution_count": 28,
   "metadata": {},
   "outputs": [
    {
     "data": {
      "text/plain": [
       "array([[0.9375    , 0.00847458],\n",
       "       [0.9375    , 0.01271186],\n",
       "       [0.9375    , 0.01271186],\n",
       "       [0.90625   , 0.0190678 ],\n",
       "       [0.5625    , 0.08686441]])"
      ]
     },
     "execution_count": 28,
     "metadata": {},
     "output_type": "execute_result"
    }
   ],
   "source": [
    "calibrate_update_2_predcition = acp.predict_calibrate_update(updated_number=2, X_test=X_holdout)\n",
    "calibrate_update_2_predcition[:5]"
   ]
  },
  {
   "cell_type": "markdown",
   "metadata": {},
   "source": [
    "## Conformal prediction recalibration strategy within crossvalidation (CV)"
   ]
  },
  {
   "cell_type": "markdown",
   "metadata": {},
   "source": [
    "Instead of using the individual acp's, we might want to include everything into a crossvalidator. \n",
    "\n",
    "Advantages: \n",
    "* Splitting of CV into test and train set are handled\n",
    "* Fixed and reproducible pipeline (except for random splitting and random forest)\n",
    "* Updating of the same trained models possible\n",
    "\n",
    "Note that we use fivefold CV by default."
   ]
  },
  {
   "cell_type": "markdown",
   "metadata": {},
   "source": [
    "### Prepare ACP and crossvalidator class"
   ]
  },
  {
   "cell_type": "code",
   "execution_count": 29,
   "metadata": {},
   "outputs": [],
   "source": [
    "cv_acp = ContinuousCalibrationAggregatedConformalPredictor(predictor=icp, sampler=ratio_sampler,\n",
    "        aggregation_func=np.median\n",
    "    )\n",
    "cross_validator = CrossValidator(predictor=cv_acp, cv_splitter=CrossValidationSampler())"
   ]
  },
  {
   "cell_type": "markdown",
   "metadata": {},
   "source": [
    "### Fit and calibrate the model, make predictions for holdout set"
   ]
  },
  {
   "cell_type": "markdown",
   "metadata": {},
   "source": [
    "Predictions on the holdout set:\n",
    "\n",
    "Crossvalidate with the \"original\" training set (no update calibration set)"
   ]
  },
  {
   "cell_type": "code",
   "execution_count": 30,
   "metadata": {},
   "outputs": [],
   "source": [
    "cv_eval_df = cross_validator.cross_validate(X_train=X_train, y_train=y_train, X_test=X_holdout, y_test=y_holdout, steps=10, endpoint=endpoint)"
   ]
  },
  {
   "cell_type": "markdown",
   "metadata": {},
   "source": [
    "### Analyse internal crossvalidation (with original calibration set)"
   ]
  },
  {
   "cell_type": "markdown",
   "metadata": {},
   "source": [
    "* Evaluation per CV fold.\n",
    "* Note that the metrics are calculated for significant levels between in the range of [0,1] (stepsize 0.1). Thus, you receive 11 entries per fold."
   ]
  },
  {
   "cell_type": "code",
   "execution_count": 31,
   "metadata": {},
   "outputs": [
    {
     "data": {
      "text/html": [
       "<div>\n",
       "<style scoped>\n",
       "    .dataframe tbody tr th:only-of-type {\n",
       "        vertical-align: middle;\n",
       "    }\n",
       "\n",
       "    .dataframe tbody tr th {\n",
       "        vertical-align: top;\n",
       "    }\n",
       "\n",
       "    .dataframe thead th {\n",
       "        text-align: right;\n",
       "    }\n",
       "</style>\n",
       "<table border=\"1\" class=\"dataframe\">\n",
       "  <thead>\n",
       "    <tr style=\"text-align: right;\">\n",
       "      <th></th>\n",
       "      <th>validity</th>\n",
       "      <th>efficiency</th>\n",
       "      <th>accuracy</th>\n",
       "      <th>significance_level</th>\n",
       "    </tr>\n",
       "    <tr>\n",
       "      <th>fold</th>\n",
       "      <th></th>\n",
       "      <th></th>\n",
       "      <th></th>\n",
       "      <th></th>\n",
       "    </tr>\n",
       "  </thead>\n",
       "  <tbody>\n",
       "    <tr>\n",
       "      <th>0</th>\n",
       "      <td>1.000</td>\n",
       "      <td>0.000</td>\n",
       "      <td>0.000</td>\n",
       "      <td>0.0</td>\n",
       "    </tr>\n",
       "    <tr>\n",
       "      <th>0</th>\n",
       "      <td>0.905</td>\n",
       "      <td>0.895</td>\n",
       "      <td>0.893</td>\n",
       "      <td>0.1</td>\n",
       "    </tr>\n",
       "    <tr>\n",
       "      <th>0</th>\n",
       "      <td>0.814</td>\n",
       "      <td>0.909</td>\n",
       "      <td>0.895</td>\n",
       "      <td>0.2</td>\n",
       "    </tr>\n",
       "    <tr>\n",
       "      <th>0</th>\n",
       "      <td>0.695</td>\n",
       "      <td>0.745</td>\n",
       "      <td>0.933</td>\n",
       "      <td>0.3</td>\n",
       "    </tr>\n",
       "    <tr>\n",
       "      <th>0</th>\n",
       "      <td>0.614</td>\n",
       "      <td>0.632</td>\n",
       "      <td>0.971</td>\n",
       "      <td>0.4</td>\n",
       "    </tr>\n",
       "  </tbody>\n",
       "</table>\n",
       "</div>"
      ],
      "text/plain": [
       "      validity  efficiency  accuracy  significance_level\n",
       "fold                                                    \n",
       "0        1.000       0.000     0.000                 0.0\n",
       "0        0.905       0.895     0.893                 0.1\n",
       "0        0.814       0.909     0.895                 0.2\n",
       "0        0.695       0.745     0.933                 0.3\n",
       "0        0.614       0.632     0.971                 0.4"
      ]
     },
     "execution_count": 31,
     "metadata": {},
     "output_type": "execute_result"
    }
   ],
   "source": [
    "cv_eval_df[[\"validity\", \"efficiency\", \"accuracy\", \"significance_level\", \"fold\"]].set_index(\"fold\").head()"
   ]
  },
  {
   "cell_type": "markdown",
   "metadata": {},
   "source": [
    "Averaged (all folds) evaluations, again per significant level"
   ]
  },
  {
   "cell_type": "code",
   "execution_count": 32,
   "metadata": {},
   "outputs": [
    {
     "data": {
      "text/html": [
       "<div>\n",
       "<style scoped>\n",
       "    .dataframe tbody tr th:only-of-type {\n",
       "        vertical-align: middle;\n",
       "    }\n",
       "\n",
       "    .dataframe tbody tr th {\n",
       "        vertical-align: top;\n",
       "    }\n",
       "\n",
       "    .dataframe thead th {\n",
       "        text-align: right;\n",
       "    }\n",
       "</style>\n",
       "<table border=\"1\" class=\"dataframe\">\n",
       "  <thead>\n",
       "    <tr style=\"text-align: right;\">\n",
       "      <th></th>\n",
       "      <th>validity mean</th>\n",
       "      <th>efficiency mean</th>\n",
       "      <th>accuracy mean</th>\n",
       "      <th>significance_level</th>\n",
       "    </tr>\n",
       "    <tr>\n",
       "      <th>significance_level</th>\n",
       "      <th></th>\n",
       "      <th></th>\n",
       "      <th></th>\n",
       "      <th></th>\n",
       "    </tr>\n",
       "  </thead>\n",
       "  <tbody>\n",
       "    <tr>\n",
       "      <th>0.0</th>\n",
       "      <td>1.0000</td>\n",
       "      <td>0.0000</td>\n",
       "      <td>0.0000</td>\n",
       "      <td>0.0</td>\n",
       "    </tr>\n",
       "    <tr>\n",
       "      <th>0.1</th>\n",
       "      <td>0.9110</td>\n",
       "      <td>0.8954</td>\n",
       "      <td>0.9008</td>\n",
       "      <td>0.1</td>\n",
       "    </tr>\n",
       "    <tr>\n",
       "      <th>0.2</th>\n",
       "      <td>0.8198</td>\n",
       "      <td>0.9082</td>\n",
       "      <td>0.9028</td>\n",
       "      <td>0.2</td>\n",
       "    </tr>\n",
       "    <tr>\n",
       "      <th>0.3</th>\n",
       "      <td>0.7182</td>\n",
       "      <td>0.7680</td>\n",
       "      <td>0.9348</td>\n",
       "      <td>0.3</td>\n",
       "    </tr>\n",
       "    <tr>\n",
       "      <th>0.4</th>\n",
       "      <td>0.6246</td>\n",
       "      <td>0.6536</td>\n",
       "      <td>0.9548</td>\n",
       "      <td>0.4</td>\n",
       "    </tr>\n",
       "    <tr>\n",
       "      <th>0.5</th>\n",
       "      <td>0.5402</td>\n",
       "      <td>0.5636</td>\n",
       "      <td>0.9574</td>\n",
       "      <td>0.5</td>\n",
       "    </tr>\n",
       "    <tr>\n",
       "      <th>0.6</th>\n",
       "      <td>0.4190</td>\n",
       "      <td>0.4338</td>\n",
       "      <td>0.9658</td>\n",
       "      <td>0.6</td>\n",
       "    </tr>\n",
       "    <tr>\n",
       "      <th>0.7</th>\n",
       "      <td>0.3084</td>\n",
       "      <td>0.3164</td>\n",
       "      <td>0.9740</td>\n",
       "      <td>0.7</td>\n",
       "    </tr>\n",
       "    <tr>\n",
       "      <th>0.8</th>\n",
       "      <td>0.2074</td>\n",
       "      <td>0.2126</td>\n",
       "      <td>0.9742</td>\n",
       "      <td>0.8</td>\n",
       "    </tr>\n",
       "    <tr>\n",
       "      <th>0.9</th>\n",
       "      <td>0.1036</td>\n",
       "      <td>0.1080</td>\n",
       "      <td>0.9566</td>\n",
       "      <td>0.9</td>\n",
       "    </tr>\n",
       "    <tr>\n",
       "      <th>1.0</th>\n",
       "      <td>0.0020</td>\n",
       "      <td>0.0020</td>\n",
       "      <td>0.4000</td>\n",
       "      <td>1.0</td>\n",
       "    </tr>\n",
       "  </tbody>\n",
       "</table>\n",
       "</div>"
      ],
      "text/plain": [
       "                    validity mean  efficiency mean  accuracy mean  \\\n",
       "significance_level                                                  \n",
       "0.0                        1.0000           0.0000         0.0000   \n",
       "0.1                        0.9110           0.8954         0.9008   \n",
       "0.2                        0.8198           0.9082         0.9028   \n",
       "0.3                        0.7182           0.7680         0.9348   \n",
       "0.4                        0.6246           0.6536         0.9548   \n",
       "0.5                        0.5402           0.5636         0.9574   \n",
       "0.6                        0.4190           0.4338         0.9658   \n",
       "0.7                        0.3084           0.3164         0.9740   \n",
       "0.8                        0.2074           0.2126         0.9742   \n",
       "0.9                        0.1036           0.1080         0.9566   \n",
       "1.0                        0.0020           0.0020         0.4000   \n",
       "\n",
       "                    significance_level  \n",
       "significance_level                      \n",
       "0.0                                0.0  \n",
       "0.1                                0.1  \n",
       "0.2                                0.2  \n",
       "0.3                                0.3  \n",
       "0.4                                0.4  \n",
       "0.5                                0.5  \n",
       "0.6                                0.6  \n",
       "0.7                                0.7  \n",
       "0.8                                0.8  \n",
       "0.9                                0.9  \n",
       "1.0                                1.0  "
      ]
     },
     "execution_count": 32,
     "metadata": {},
     "output_type": "execute_result"
    }
   ],
   "source": [
    "cross_validator.averaged_evaluation_df_cv[[\"validity mean\", \"efficiency mean\", \"accuracy mean\", \"significance_level\"]]"
   ]
  },
  {
   "cell_type": "markdown",
   "metadata": {},
   "source": [
    "Balanced metrics, averaged (all folds) evaluations, again per significant level"
   ]
  },
  {
   "cell_type": "code",
   "execution_count": 33,
   "metadata": {},
   "outputs": [
    {
     "data": {
      "text/html": [
       "<div>\n",
       "<style scoped>\n",
       "    .dataframe tbody tr th:only-of-type {\n",
       "        vertical-align: middle;\n",
       "    }\n",
       "\n",
       "    .dataframe tbody tr th {\n",
       "        vertical-align: top;\n",
       "    }\n",
       "\n",
       "    .dataframe thead th {\n",
       "        text-align: right;\n",
       "    }\n",
       "</style>\n",
       "<table border=\"1\" class=\"dataframe\">\n",
       "  <thead>\n",
       "    <tr style=\"text-align: right;\">\n",
       "      <th></th>\n",
       "      <th>validity_bal mean</th>\n",
       "      <th>efficiency_bal mean</th>\n",
       "      <th>accuracy_bal mean</th>\n",
       "      <th>significance_level</th>\n",
       "    </tr>\n",
       "    <tr>\n",
       "      <th>significance_level</th>\n",
       "      <th></th>\n",
       "      <th></th>\n",
       "      <th></th>\n",
       "      <th></th>\n",
       "    </tr>\n",
       "  </thead>\n",
       "  <tbody>\n",
       "    <tr>\n",
       "      <th>0.0</th>\n",
       "      <td>1.0000</td>\n",
       "      <td>0.0000</td>\n",
       "      <td>0.0000</td>\n",
       "      <td>0.0</td>\n",
       "    </tr>\n",
       "    <tr>\n",
       "      <th>0.1</th>\n",
       "      <td>0.9132</td>\n",
       "      <td>0.9003</td>\n",
       "      <td>0.9036</td>\n",
       "      <td>0.1</td>\n",
       "    </tr>\n",
       "    <tr>\n",
       "      <th>0.2</th>\n",
       "      <td>0.8176</td>\n",
       "      <td>0.9038</td>\n",
       "      <td>0.9035</td>\n",
       "      <td>0.2</td>\n",
       "    </tr>\n",
       "    <tr>\n",
       "      <th>0.3</th>\n",
       "      <td>0.7104</td>\n",
       "      <td>0.7574</td>\n",
       "      <td>0.9372</td>\n",
       "      <td>0.3</td>\n",
       "    </tr>\n",
       "    <tr>\n",
       "      <th>0.4</th>\n",
       "      <td>0.6254</td>\n",
       "      <td>0.6498</td>\n",
       "      <td>0.9614</td>\n",
       "      <td>0.4</td>\n",
       "    </tr>\n",
       "    <tr>\n",
       "      <th>0.5</th>\n",
       "      <td>0.5532</td>\n",
       "      <td>0.5744</td>\n",
       "      <td>0.9620</td>\n",
       "      <td>0.5</td>\n",
       "    </tr>\n",
       "    <tr>\n",
       "      <th>0.6</th>\n",
       "      <td>0.4326</td>\n",
       "      <td>0.4450</td>\n",
       "      <td>0.9697</td>\n",
       "      <td>0.6</td>\n",
       "    </tr>\n",
       "    <tr>\n",
       "      <th>0.7</th>\n",
       "      <td>0.3187</td>\n",
       "      <td>0.3270</td>\n",
       "      <td>0.9724</td>\n",
       "      <td>0.7</td>\n",
       "    </tr>\n",
       "    <tr>\n",
       "      <th>0.8</th>\n",
       "      <td>0.2125</td>\n",
       "      <td>0.2160</td>\n",
       "      <td>0.9828</td>\n",
       "      <td>0.8</td>\n",
       "    </tr>\n",
       "    <tr>\n",
       "      <th>0.9</th>\n",
       "      <td>0.1003</td>\n",
       "      <td>0.1033</td>\n",
       "      <td>0.9725</td>\n",
       "      <td>0.9</td>\n",
       "    </tr>\n",
       "    <tr>\n",
       "      <th>1.0</th>\n",
       "      <td>0.0026</td>\n",
       "      <td>0.0026</td>\n",
       "      <td>0.2000</td>\n",
       "      <td>1.0</td>\n",
       "    </tr>\n",
       "  </tbody>\n",
       "</table>\n",
       "</div>"
      ],
      "text/plain": [
       "                    validity_bal mean  efficiency_bal mean  accuracy_bal mean  \\\n",
       "significance_level                                                              \n",
       "0.0                            1.0000               0.0000             0.0000   \n",
       "0.1                            0.9132               0.9003             0.9036   \n",
       "0.2                            0.8176               0.9038             0.9035   \n",
       "0.3                            0.7104               0.7574             0.9372   \n",
       "0.4                            0.6254               0.6498             0.9614   \n",
       "0.5                            0.5532               0.5744             0.9620   \n",
       "0.6                            0.4326               0.4450             0.9697   \n",
       "0.7                            0.3187               0.3270             0.9724   \n",
       "0.8                            0.2125               0.2160             0.9828   \n",
       "0.9                            0.1003               0.1033             0.9725   \n",
       "1.0                            0.0026               0.0026             0.2000   \n",
       "\n",
       "                    significance_level  \n",
       "significance_level                      \n",
       "0.0                                0.0  \n",
       "0.1                                0.1  \n",
       "0.2                                0.2  \n",
       "0.3                                0.3  \n",
       "0.4                                0.4  \n",
       "0.5                                0.5  \n",
       "0.6                                0.6  \n",
       "0.7                                0.7  \n",
       "0.8                                0.8  \n",
       "0.9                                0.9  \n",
       "1.0                                1.0  "
      ]
     },
     "execution_count": 33,
     "metadata": {},
     "output_type": "execute_result"
    }
   ],
   "source": [
    "cross_validator.averaged_evaluation_df_cv[[\"validity_bal mean\", \"efficiency_bal mean\", \"accuracy_bal mean\", \"significance_level\"]]"
   ]
  },
  {
   "cell_type": "markdown",
   "metadata": {},
   "source": [
    "### Analyse CV performance when predicting the holdout set"
   ]
  },
  {
   "cell_type": "markdown",
   "metadata": {},
   "source": [
    "Note the holdout set was already annotated when calling `cross_validator.cross_validate`. "
   ]
  },
  {
   "cell_type": "markdown",
   "metadata": {},
   "source": [
    "The `cross_validator` object stores the predictions in a dictionary that contains the information for the predictions within the crossvalidation and the predictions for the test (holdout) set. The predictions (values) are in the form of a list, list elements are the predicted p-values and the known labels:"
   ]
  },
  {
   "cell_type": "code",
   "execution_count": 34,
   "metadata": {},
   "outputs": [
    {
     "name": "stdout",
     "output_type": "stream",
     "text": [
      "keys:  dict_keys(['cv', 'pred_test']) \n",
      "\n",
      "p-values:  [[0.44067797 0.04589372]\n",
      " [0.40677966 0.0531401 ]\n",
      " [0.39830508 0.0531401 ]\n",
      " [0.37288136 0.0531401 ]\n",
      " [0.22033898 0.09661836]] \n",
      "\n",
      "labels:  [[0. 0. 1. ... 0. 0. 1.]\n",
      " [0. 0. 1. ... 0. 0. 1.]\n",
      " [0. 0. 1. ... 0. 0. 1.]\n",
      " [0. 0. 1. ... 0. 0. 1.]\n",
      " [0. 0. 1. ... 0. 0. 1.]]\n"
     ]
    }
   ],
   "source": [
    "print(\"keys: \", cross_validator._predictions.keys(), \"\\n\")\n",
    "print(\"p-values: \", cross_validator._predictions[\"pred_test\"][0][0][:5], \"\\n\")\n",
    "# [0]: predictions, [0]: first loop of cv, [:5]: first five p-values\n",
    "print(\"labels: \", cross_validator._predictions[\"pred_test\"][1])\n",
    "# [1]: labels"
   ]
  },
  {
   "cell_type": "markdown",
   "metadata": {},
   "source": [
    "Evaluation on the holdout set (averaged over all folds)"
   ]
  },
  {
   "cell_type": "code",
   "execution_count": 35,
   "metadata": {},
   "outputs": [
    {
     "data": {
      "text/html": [
       "<div>\n",
       "<style scoped>\n",
       "    .dataframe tbody tr th:only-of-type {\n",
       "        vertical-align: middle;\n",
       "    }\n",
       "\n",
       "    .dataframe tbody tr th {\n",
       "        vertical-align: top;\n",
       "    }\n",
       "\n",
       "    .dataframe thead th {\n",
       "        text-align: right;\n",
       "    }\n",
       "</style>\n",
       "<table border=\"1\" class=\"dataframe\">\n",
       "  <thead>\n",
       "    <tr style=\"text-align: right;\">\n",
       "      <th></th>\n",
       "      <th>validity mean</th>\n",
       "      <th>efficiency mean</th>\n",
       "      <th>accuracy mean</th>\n",
       "      <th>significance_level</th>\n",
       "    </tr>\n",
       "    <tr>\n",
       "      <th>significance_level</th>\n",
       "      <th></th>\n",
       "      <th></th>\n",
       "      <th></th>\n",
       "      <th></th>\n",
       "    </tr>\n",
       "  </thead>\n",
       "  <tbody>\n",
       "    <tr>\n",
       "      <th>0.0</th>\n",
       "      <td>1.0000</td>\n",
       "      <td>0.0000</td>\n",
       "      <td>0.0000</td>\n",
       "      <td>0.0</td>\n",
       "    </tr>\n",
       "    <tr>\n",
       "      <th>0.1</th>\n",
       "      <td>0.7846</td>\n",
       "      <td>0.6174</td>\n",
       "      <td>0.6506</td>\n",
       "      <td>0.1</td>\n",
       "    </tr>\n",
       "    <tr>\n",
       "      <th>0.2</th>\n",
       "      <td>0.4436</td>\n",
       "      <td>0.6736</td>\n",
       "      <td>0.6616</td>\n",
       "      <td>0.2</td>\n",
       "    </tr>\n",
       "    <tr>\n",
       "      <th>0.3</th>\n",
       "      <td>0.2168</td>\n",
       "      <td>0.2768</td>\n",
       "      <td>0.7832</td>\n",
       "      <td>0.3</td>\n",
       "    </tr>\n",
       "    <tr>\n",
       "      <th>0.4</th>\n",
       "      <td>0.1048</td>\n",
       "      <td>0.1308</td>\n",
       "      <td>0.7990</td>\n",
       "      <td>0.4</td>\n",
       "    </tr>\n",
       "    <tr>\n",
       "      <th>0.5</th>\n",
       "      <td>0.0452</td>\n",
       "      <td>0.0546</td>\n",
       "      <td>0.8316</td>\n",
       "      <td>0.5</td>\n",
       "    </tr>\n",
       "    <tr>\n",
       "      <th>0.6</th>\n",
       "      <td>0.0276</td>\n",
       "      <td>0.0300</td>\n",
       "      <td>0.9334</td>\n",
       "      <td>0.6</td>\n",
       "    </tr>\n",
       "    <tr>\n",
       "      <th>0.7</th>\n",
       "      <td>0.0080</td>\n",
       "      <td>0.0088</td>\n",
       "      <td>0.9500</td>\n",
       "      <td>0.7</td>\n",
       "    </tr>\n",
       "    <tr>\n",
       "      <th>0.8</th>\n",
       "      <td>0.0044</td>\n",
       "      <td>0.0044</td>\n",
       "      <td>0.6000</td>\n",
       "      <td>0.8</td>\n",
       "    </tr>\n",
       "    <tr>\n",
       "      <th>0.9</th>\n",
       "      <td>0.0000</td>\n",
       "      <td>0.0000</td>\n",
       "      <td>0.0000</td>\n",
       "      <td>0.9</td>\n",
       "    </tr>\n",
       "    <tr>\n",
       "      <th>1.0</th>\n",
       "      <td>0.0000</td>\n",
       "      <td>0.0000</td>\n",
       "      <td>0.0000</td>\n",
       "      <td>1.0</td>\n",
       "    </tr>\n",
       "  </tbody>\n",
       "</table>\n",
       "</div>"
      ],
      "text/plain": [
       "                    validity mean  efficiency mean  accuracy mean  \\\n",
       "significance_level                                                  \n",
       "0.0                        1.0000           0.0000         0.0000   \n",
       "0.1                        0.7846           0.6174         0.6506   \n",
       "0.2                        0.4436           0.6736         0.6616   \n",
       "0.3                        0.2168           0.2768         0.7832   \n",
       "0.4                        0.1048           0.1308         0.7990   \n",
       "0.5                        0.0452           0.0546         0.8316   \n",
       "0.6                        0.0276           0.0300         0.9334   \n",
       "0.7                        0.0080           0.0088         0.9500   \n",
       "0.8                        0.0044           0.0044         0.6000   \n",
       "0.9                        0.0000           0.0000         0.0000   \n",
       "1.0                        0.0000           0.0000         0.0000   \n",
       "\n",
       "                    significance_level  \n",
       "significance_level                      \n",
       "0.0                                0.0  \n",
       "0.1                                0.1  \n",
       "0.2                                0.2  \n",
       "0.3                                0.3  \n",
       "0.4                                0.4  \n",
       "0.5                                0.5  \n",
       "0.6                                0.6  \n",
       "0.7                                0.7  \n",
       "0.8                                0.8  \n",
       "0.9                                0.9  \n",
       "1.0                                1.0  "
      ]
     },
     "execution_count": 35,
     "metadata": {},
     "output_type": "execute_result"
    }
   ],
   "source": [
    "cross_validator.averaged_evaluation_df_pred_test[[\"validity mean\", \"efficiency mean\", \"accuracy mean\", \"significance_level\"]]"
   ]
  },
  {
   "cell_type": "markdown",
   "metadata": {},
   "source": [
    "### Update the calibration set within the crossvalidator I"
   ]
  },
  {
   "cell_type": "code",
   "execution_count": 36,
   "metadata": {},
   "outputs": [],
   "source": [
    "cross_validator.cross_validate_calibrate_update(X_update=X_update1, y_update=y_update1, X_test=X_holdout, y_test=y_holdout, steps=10, endpoint=endpoint)"
   ]
  },
  {
   "cell_type": "markdown",
   "metadata": {},
   "source": [
    "Evaluating the predictions on the holdout set using the update I calibration set (averaged over all folds)"
   ]
  },
  {
   "cell_type": "code",
   "execution_count": 37,
   "metadata": {},
   "outputs": [
    {
     "data": {
      "text/html": [
       "<div>\n",
       "<style scoped>\n",
       "    .dataframe tbody tr th:only-of-type {\n",
       "        vertical-align: middle;\n",
       "    }\n",
       "\n",
       "    .dataframe tbody tr th {\n",
       "        vertical-align: top;\n",
       "    }\n",
       "\n",
       "    .dataframe thead th {\n",
       "        text-align: right;\n",
       "    }\n",
       "</style>\n",
       "<table border=\"1\" class=\"dataframe\">\n",
       "  <thead>\n",
       "    <tr style=\"text-align: right;\">\n",
       "      <th></th>\n",
       "      <th>validity mean</th>\n",
       "      <th>efficiency mean</th>\n",
       "      <th>accuracy mean</th>\n",
       "      <th>significance_level</th>\n",
       "    </tr>\n",
       "    <tr>\n",
       "      <th>significance_level</th>\n",
       "      <th></th>\n",
       "      <th></th>\n",
       "      <th></th>\n",
       "      <th></th>\n",
       "    </tr>\n",
       "  </thead>\n",
       "  <tbody>\n",
       "    <tr>\n",
       "      <th>0.0</th>\n",
       "      <td>1.0000</td>\n",
       "      <td>0.0000</td>\n",
       "      <td>0.0000</td>\n",
       "      <td>0.0</td>\n",
       "    </tr>\n",
       "    <tr>\n",
       "      <th>0.1</th>\n",
       "      <td>0.8642</td>\n",
       "      <td>0.5042</td>\n",
       "      <td>0.7340</td>\n",
       "      <td>0.1</td>\n",
       "    </tr>\n",
       "    <tr>\n",
       "      <th>0.2</th>\n",
       "      <td>0.7468</td>\n",
       "      <td>0.8036</td>\n",
       "      <td>0.6860</td>\n",
       "      <td>0.2</td>\n",
       "    </tr>\n",
       "    <tr>\n",
       "      <th>0.3</th>\n",
       "      <td>0.6518</td>\n",
       "      <td>0.9682</td>\n",
       "      <td>0.6686</td>\n",
       "      <td>0.3</td>\n",
       "    </tr>\n",
       "    <tr>\n",
       "      <th>0.4</th>\n",
       "      <td>0.5500</td>\n",
       "      <td>0.8108</td>\n",
       "      <td>0.6780</td>\n",
       "      <td>0.4</td>\n",
       "    </tr>\n",
       "    <tr>\n",
       "      <th>0.5</th>\n",
       "      <td>0.4624</td>\n",
       "      <td>0.6670</td>\n",
       "      <td>0.6930</td>\n",
       "      <td>0.5</td>\n",
       "    </tr>\n",
       "    <tr>\n",
       "      <th>0.6</th>\n",
       "      <td>0.3704</td>\n",
       "      <td>0.5200</td>\n",
       "      <td>0.7128</td>\n",
       "      <td>0.6</td>\n",
       "    </tr>\n",
       "    <tr>\n",
       "      <th>0.7</th>\n",
       "      <td>0.3026</td>\n",
       "      <td>0.4006</td>\n",
       "      <td>0.7576</td>\n",
       "      <td>0.7</td>\n",
       "    </tr>\n",
       "    <tr>\n",
       "      <th>0.8</th>\n",
       "      <td>0.2080</td>\n",
       "      <td>0.2612</td>\n",
       "      <td>0.7964</td>\n",
       "      <td>0.8</td>\n",
       "    </tr>\n",
       "    <tr>\n",
       "      <th>0.9</th>\n",
       "      <td>0.0772</td>\n",
       "      <td>0.0994</td>\n",
       "      <td>0.7710</td>\n",
       "      <td>0.9</td>\n",
       "    </tr>\n",
       "    <tr>\n",
       "      <th>1.0</th>\n",
       "      <td>0.0032</td>\n",
       "      <td>0.0032</td>\n",
       "      <td>0.8000</td>\n",
       "      <td>1.0</td>\n",
       "    </tr>\n",
       "  </tbody>\n",
       "</table>\n",
       "</div>"
      ],
      "text/plain": [
       "                    validity mean  efficiency mean  accuracy mean  \\\n",
       "significance_level                                                  \n",
       "0.0                        1.0000           0.0000         0.0000   \n",
       "0.1                        0.8642           0.5042         0.7340   \n",
       "0.2                        0.7468           0.8036         0.6860   \n",
       "0.3                        0.6518           0.9682         0.6686   \n",
       "0.4                        0.5500           0.8108         0.6780   \n",
       "0.5                        0.4624           0.6670         0.6930   \n",
       "0.6                        0.3704           0.5200         0.7128   \n",
       "0.7                        0.3026           0.4006         0.7576   \n",
       "0.8                        0.2080           0.2612         0.7964   \n",
       "0.9                        0.0772           0.0994         0.7710   \n",
       "1.0                        0.0032           0.0032         0.8000   \n",
       "\n",
       "                    significance_level  \n",
       "significance_level                      \n",
       "0.0                                0.0  \n",
       "0.1                                0.1  \n",
       "0.2                                0.2  \n",
       "0.3                                0.3  \n",
       "0.4                                0.4  \n",
       "0.5                                0.5  \n",
       "0.6                                0.6  \n",
       "0.7                                0.7  \n",
       "0.8                                0.8  \n",
       "0.9                                0.9  \n",
       "1.0                                1.0  "
      ]
     },
     "execution_count": 37,
     "metadata": {},
     "output_type": "execute_result"
    }
   ],
   "source": [
    "cross_validator.averaged_evaluation_df_cal_update_1[[\"validity mean\", \"efficiency mean\", \"accuracy mean\", \"significance_level\"]]"
   ]
  },
  {
   "cell_type": "markdown",
   "metadata": {},
   "source": [
    "### Update the calibration set within the crossvalidator II"
   ]
  },
  {
   "cell_type": "code",
   "execution_count": 38,
   "metadata": {},
   "outputs": [],
   "source": [
    "\n",
    "cross_validator.cross_validate_calibrate_update(X_update=X_update2, y_update=y_update2, X_test=X_holdout, y_test=y_holdout, steps=10, endpoint=endpoint)"
   ]
  },
  {
   "cell_type": "markdown",
   "metadata": {},
   "source": [
    "Evaluating the predictions on the holdout set using the update II calibration set (averaged over all folds)"
   ]
  },
  {
   "cell_type": "code",
   "execution_count": 39,
   "metadata": {},
   "outputs": [
    {
     "data": {
      "text/html": [
       "<div>\n",
       "<style scoped>\n",
       "    .dataframe tbody tr th:only-of-type {\n",
       "        vertical-align: middle;\n",
       "    }\n",
       "\n",
       "    .dataframe tbody tr th {\n",
       "        vertical-align: top;\n",
       "    }\n",
       "\n",
       "    .dataframe thead th {\n",
       "        text-align: right;\n",
       "    }\n",
       "</style>\n",
       "<table border=\"1\" class=\"dataframe\">\n",
       "  <thead>\n",
       "    <tr style=\"text-align: right;\">\n",
       "      <th></th>\n",
       "      <th>validity mean</th>\n",
       "      <th>efficiency mean</th>\n",
       "      <th>accuracy mean</th>\n",
       "      <th>significance_level</th>\n",
       "    </tr>\n",
       "    <tr>\n",
       "      <th>significance_level</th>\n",
       "      <th></th>\n",
       "      <th></th>\n",
       "      <th></th>\n",
       "      <th></th>\n",
       "    </tr>\n",
       "  </thead>\n",
       "  <tbody>\n",
       "    <tr>\n",
       "      <th>0.0</th>\n",
       "      <td>1.0000</td>\n",
       "      <td>0.0000</td>\n",
       "      <td>0.0000</td>\n",
       "      <td>0.0</td>\n",
       "    </tr>\n",
       "    <tr>\n",
       "      <th>0.1</th>\n",
       "      <td>0.7330</td>\n",
       "      <td>0.6564</td>\n",
       "      <td>0.5934</td>\n",
       "      <td>0.1</td>\n",
       "    </tr>\n",
       "    <tr>\n",
       "      <th>0.2</th>\n",
       "      <td>0.5906</td>\n",
       "      <td>0.8982</td>\n",
       "      <td>0.5444</td>\n",
       "      <td>0.2</td>\n",
       "    </tr>\n",
       "    <tr>\n",
       "      <th>0.3</th>\n",
       "      <td>0.5002</td>\n",
       "      <td>0.8604</td>\n",
       "      <td>0.5820</td>\n",
       "      <td>0.3</td>\n",
       "    </tr>\n",
       "    <tr>\n",
       "      <th>0.4</th>\n",
       "      <td>0.4488</td>\n",
       "      <td>0.7440</td>\n",
       "      <td>0.6036</td>\n",
       "      <td>0.4</td>\n",
       "    </tr>\n",
       "    <tr>\n",
       "      <th>0.5</th>\n",
       "      <td>0.4028</td>\n",
       "      <td>0.6518</td>\n",
       "      <td>0.6190</td>\n",
       "      <td>0.5</td>\n",
       "    </tr>\n",
       "    <tr>\n",
       "      <th>0.6</th>\n",
       "      <td>0.3562</td>\n",
       "      <td>0.5578</td>\n",
       "      <td>0.6396</td>\n",
       "      <td>0.6</td>\n",
       "    </tr>\n",
       "    <tr>\n",
       "      <th>0.7</th>\n",
       "      <td>0.3076</td>\n",
       "      <td>0.4770</td>\n",
       "      <td>0.6468</td>\n",
       "      <td>0.7</td>\n",
       "    </tr>\n",
       "    <tr>\n",
       "      <th>0.8</th>\n",
       "      <td>0.2308</td>\n",
       "      <td>0.3440</td>\n",
       "      <td>0.6754</td>\n",
       "      <td>0.8</td>\n",
       "    </tr>\n",
       "    <tr>\n",
       "      <th>0.9</th>\n",
       "      <td>0.1294</td>\n",
       "      <td>0.1870</td>\n",
       "      <td>0.6964</td>\n",
       "      <td>0.9</td>\n",
       "    </tr>\n",
       "    <tr>\n",
       "      <th>1.0</th>\n",
       "      <td>0.0100</td>\n",
       "      <td>0.0122</td>\n",
       "      <td>0.6950</td>\n",
       "      <td>1.0</td>\n",
       "    </tr>\n",
       "  </tbody>\n",
       "</table>\n",
       "</div>"
      ],
      "text/plain": [
       "                    validity mean  efficiency mean  accuracy mean  \\\n",
       "significance_level                                                  \n",
       "0.0                        1.0000           0.0000         0.0000   \n",
       "0.1                        0.7330           0.6564         0.5934   \n",
       "0.2                        0.5906           0.8982         0.5444   \n",
       "0.3                        0.5002           0.8604         0.5820   \n",
       "0.4                        0.4488           0.7440         0.6036   \n",
       "0.5                        0.4028           0.6518         0.6190   \n",
       "0.6                        0.3562           0.5578         0.6396   \n",
       "0.7                        0.3076           0.4770         0.6468   \n",
       "0.8                        0.2308           0.3440         0.6754   \n",
       "0.9                        0.1294           0.1870         0.6964   \n",
       "1.0                        0.0100           0.0122         0.6950   \n",
       "\n",
       "                    significance_level  \n",
       "significance_level                      \n",
       "0.0                                0.0  \n",
       "0.1                                0.1  \n",
       "0.2                                0.2  \n",
       "0.3                                0.3  \n",
       "0.4                                0.4  \n",
       "0.5                                0.5  \n",
       "0.6                                0.6  \n",
       "0.7                                0.7  \n",
       "0.8                                0.8  \n",
       "0.9                                0.9  \n",
       "1.0                                1.0  "
      ]
     },
     "execution_count": 39,
     "metadata": {},
     "output_type": "execute_result"
    }
   ],
   "source": [
    "cross_validator.averaged_evaluation_df_cal_update_2[[\"validity mean\", \"efficiency mean\", \"accuracy mean\", \"significance_level\"]]"
   ]
  },
  {
   "cell_type": "markdown",
   "metadata": {},
   "source": [
    "## Visualisations"
   ]
  },
  {
   "cell_type": "markdown",
   "metadata": {},
   "source": [
    "### Scatter plot to compare different strategies"
   ]
  },
  {
   "cell_type": "markdown",
   "metadata": {},
   "source": [
    "To compare balanced validity, balanced efficiency and balanced accuracy for the three strategies, they are plotted in a scatter plot."
   ]
  },
  {
   "cell_type": "markdown",
   "metadata": {},
   "source": [
    "In the following cells, the strategies and evaluation measures to be plotted are defined."
   ]
  },
  {
   "cell_type": "code",
   "execution_count": 40,
   "metadata": {},
   "outputs": [],
   "source": [
    "strategies = [\"cv_original\", \"original\", \"update1\"]\n",
    "eval_df_columns = [\"validity_bal mean\", \"efficiency_bal mean\", \"accuracy_bal mean\", \"significance_level\"]"
   ]
  },
  {
   "cell_type": "code",
   "execution_count": 41,
   "metadata": {},
   "outputs": [
    {
     "name": "stdout",
     "output_type": "stream",
     "text": [
      "['validity_bal', 'efficiency_bal', 'accuracy_bal']\n"
     ]
    }
   ],
   "source": [
    "evaluation_measures = [m.split(\" \")[0] for m in eval_df_columns[:-1]]\n",
    "print(evaluation_measures)"
   ]
  },
  {
   "cell_type": "code",
   "execution_count": 46,
   "metadata": {},
   "outputs": [],
   "source": [
    "evaluation_dfs_dict = {}\n",
    "evaluation_dfs_dict[\"cv_original\"] = cross_validator.averaged_evaluation_df_cv[eval_df_columns]\n",
    "evaluation_dfs_dict[\"original\"] = cross_validator.averaged_evaluation_df_pred_test[eval_df_columns]\n",
    "evaluation_dfs_dict[\"update1\"] = cross_validator.averaged_evaluation_df_cal_update_1[eval_df_columns]\n",
    "evaluation_dfs_dict[\"update2\"] = cross_validator.averaged_evaluation_df_cal_update_2[eval_df_columns]"
   ]
  },
  {
   "cell_type": "markdown",
   "metadata": {},
   "source": [
    "Draw a scatter plot that compares balanced validity, efficiency and accuracy within the CV, and predicting the test set using the original and updated calibration set. The dashed line represents the expected validity (80%) at a significance level of 0.2."
   ]
  },
  {
   "cell_type": "code",
   "execution_count": 47,
   "metadata": {},
   "outputs": [
    {
     "data": {
      "text/plain": [
       "(<module 'matplotlib.pyplot' from '/home/andrea/anaconda2/envs/recalibration_si/lib/python3.8/site-packages/matplotlib/pyplot.py'>,\n",
       " <matplotlib.legend.Legend at 0x7ffad54c1a60>)"
      ]
     },
     "execution_count": 47,
     "metadata": {},
     "output_type": "execute_result"
    },
    {
     "data": {
      "image/png": "[encoded data removed]",
      "text/plain": [
       "<Figure size 432x288 with 1 Axes>"
      ]
     },
     "metadata": {
      "needs_background": "light"
     },
     "output_type": "display_data"
    }
   ],
   "source": [
    "draw_scatter_plot_one_endpoint(endpoint, evaluation_dfs_dict, evaluation_measures=evaluation_measures)"
   ]
  },
  {
   "cell_type": "markdown",
   "metadata": {},
   "source": [
    "### UMAP to analyse descriptor space of subsets"
   ]
  },
  {
   "cell_type": "markdown",
   "metadata": {},
   "source": [
    "A UMAP can be helpful to analyse the chemical space of the subsets. Ideally, the update and holdout sets cover a similar descriptor space.\n",
    "In the first step, we create an embedding, in a second step, this will be plotted."
   ]
  },
  {
   "cell_type": "code",
   "execution_count": 44,
   "metadata": {},
   "outputs": [
    {
     "name": "stdout",
     "output_type": "stream",
     "text": [
      "desc chembio\n"
     ]
    }
   ],
   "source": [
    "embedding, colours_numbers = create_umap_data(\n",
    "    chembl_id=endpoint, descriptors_df=data, thresholds=thresholds, n_neighbors=n_neighbors,\n",
    "    min_distances=min_distances, distance_metric=distance_metric, dataset_colours=umap_colours)"
   ]
  },
  {
   "cell_type": "code",
   "execution_count": 45,
   "metadata": {},
   "outputs": [
    {
     "name": "stdout",
     "output_type": "stream",
     "text": [
      "2111\n"
     ]
    },
    {
     "data": {
      "image/png": "[encoded data removed]",
      "text/plain": [
       "<Figure size 481.89x481.89 with 1 Axes>"
      ]
     },
     "metadata": {
      "needs_background": "light"
     },
     "output_type": "display_data"
    }
   ],
   "source": [
    "umap_plot = plot_umap(embedding, endpoint, colours_datasets=colours_numbers, umap_colours=umap_colours, n_neighbor=n_neighbors, min_distance=min_distances, distance_metric=distance_metric)"
   ]
  }
 ],
 "metadata": {
  "kernelspec": {
   "display_name": "Python 3",
   "language": "python",
   "name": "python3"
  },
  "language_info": {
   "codemirror_mode": {
    "name": "ipython",
    "version": 3
   },
   "file_extension": ".py",
   "mimetype": "text/x-python",
   "name": "python",
   "nbconvert_exporter": "python",
   "pygments_lexer": "ipython3",
   "version": "3.8.10"
  }
 },
 "nbformat": 4,
 "nbformat_minor": 4
}
